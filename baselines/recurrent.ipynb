{
 "cells": [
  {
   "cell_type": "code",
   "execution_count": 15,
   "metadata": {},
   "outputs": [
    {
     "name": "stdout",
     "output_type": "stream",
     "text": [
      "Using cuda device\n",
      "Creating environment from the given name 'CartPole-v1'\n",
      "Wrapping the env with a `Monitor` wrapper\n",
      "Wrapping the env in a DummyVecEnv.\n"
     ]
    }
   ],
   "source": [
    "import numpy as np\n",
    "\n",
    "from sb3_contrib import RecurrentPPO\n",
    "from stable_baselines3.common.evaluation import evaluate_policy\n",
    "from sb3_contrib.common.recurrent.type_aliases import RNNStates\n",
    "import gym\n",
    "import torch as th"
   ]
  },
  {
   "cell_type": "code",
   "execution_count": 131,
   "metadata": {},
   "outputs": [],
   "source": [
    "from active_critic.utils.gym_utils import make_policy_dict"
   ]
  },
  {
   "cell_type": "code",
   "execution_count": 132,
   "metadata": {},
   "outputs": [],
   "source": [
    "pd = make_policy_dict()"
   ]
  },
  {
   "cell_type": "code",
   "execution_count": 133,
   "metadata": {},
   "outputs": [
    {
     "name": "stdout",
     "output_type": "stream",
     "text": [
      "assembly\n",
      "basketball\n",
      "binpicking\n",
      "boxclose\n",
      "buttonpresstopdown\n",
      "buttonpresstopdownwall\n",
      "buttonpress\n",
      "buttonpresswall\n",
      "coffeebutton\n",
      "coffeepull\n",
      "coffeepush\n",
      "dialturn\n",
      "disassemble\n",
      "doorclose\n",
      "doorlock\n",
      "dooropen\n",
      "doorunlock\n",
      "handinsert\n",
      "drawerclose\n",
      "draweropen\n",
      "faucetopen\n",
      "faucetclose\n",
      "hammer\n",
      "handlepressside\n",
      "handlepress\n",
      "handlepullside\n",
      "handlepull\n",
      "leverpull\n",
      "pickplacewall\n",
      "pickoutofhole\n",
      "reach\n",
      "pushback\n",
      "push\n",
      "pickplace\n",
      "plateslide\n",
      "plateslideside\n",
      "plateslideback\n",
      "plateslidebackside\n",
      "pegunplugside\n",
      "soccer\n",
      "stickpush\n",
      "stickpull\n",
      "pushwall\n",
      "reachwall\n",
      "shelfplace\n",
      "sweepinto\n",
      "sweep\n",
      "windowopen\n",
      "windowclose\n"
     ]
    }
   ],
   "source": [
    "for key in pd:\n",
    "    print(key)"
   ]
  },
  {
   "cell_type": "code",
   "execution_count": 67,
   "metadata": {},
   "outputs": [],
   "source": [
    "env = gym.make(\"CartPole-v1\")"
   ]
  },
  {
   "cell_type": "code",
   "execution_count": 82,
   "metadata": {},
   "outputs": [
    {
     "name": "stdout",
     "output_type": "stream",
     "text": [
      "Using cuda device\n",
      "Creating environment from the given name 'CartPole-v1'\n",
      "Wrapping the env with a `Monitor` wrapper\n",
      "Wrapping the env in a DummyVecEnv.\n"
     ]
    }
   ],
   "source": [
    "model = RecurrentPPO(\"MlpLstmPolicy\", \"CartPole-v1\", verbose=1)"
   ]
  },
  {
   "cell_type": "code",
   "execution_count": 83,
   "metadata": {},
   "outputs": [],
   "source": [
    "lstm_stats = model._last_lstm_states"
   ]
  },
  {
   "cell_type": "code",
   "execution_count": 84,
   "metadata": {},
   "outputs": [],
   "source": [
    "rnn_states_list = [RNNStates(pi=lstm_stats[0], vf=lstm_stats[1])]"
   ]
  },
  {
   "cell_type": "code",
   "execution_count": 85,
   "metadata": {},
   "outputs": [],
   "source": [
    "obs =  th.tensor(env.reset(),device='cuda').reshape([1,-1])"
   ]
  },
  {
   "cell_type": "code",
   "execution_count": 127,
   "metadata": {},
   "outputs": [],
   "source": [
    "actions, values, log_prob, rnn_states = model.policy.forward(obs = obs, lstm_states=rnn_states_list[0], episode_starts = th.ones([1], device='cuda'), deterministic=False)"
   ]
  },
  {
   "cell_type": "code",
   "execution_count": 128,
   "metadata": {},
   "outputs": [],
   "source": [
    "ent_weight = 1e-2"
   ]
  },
  {
   "cell_type": "markdown",
   "metadata": {},
   "source": [
    "eval actions:         \n",
    "obs: th.Tensor,\n",
    "actions: th.Tensor,\n",
    "lstm_states: RNNStates,\n",
    "episode_starts: th.Tensor,\n",
    "\n",
    "-> \n",
    "values, log_prob, distribution.entropy()"
   ]
  },
  {
   "cell_type": "code",
   "execution_count": 129,
   "metadata": {},
   "outputs": [],
   "source": [
    "_, log_prob, entropy = model.policy.evaluate_actions(obs, actions, rnn_states, episode_starts = th.ones([1], device='cuda'))\n",
    "#print(f'max log: {log_prob.max()}')\n",
    "\n",
    "prob_true_act = th.exp(log_prob).mean()\n",
    "log_prob = log_prob.mean()\n",
    "entropy = entropy.mean()\n",
    "\n",
    "\n",
    "ent_loss = ent_weight * entropy\n",
    "neglogp = -log_prob\n",
    "loss = neglogp + ent_loss"
   ]
  },
  {
   "cell_type": "code",
   "execution_count": 130,
   "metadata": {},
   "outputs": [
    {
     "data": {
      "text/plain": [
       "tensor(0.7000, device='cuda:0', grad_fn=<AddBackward0>)"
      ]
     },
     "execution_count": 130,
     "metadata": {},
     "output_type": "execute_result"
    }
   ],
   "source": [
    "loss"
   ]
  },
  {
   "cell_type": "code",
   "execution_count": 22,
   "metadata": {},
   "outputs": [
    {
     "ename": "TypeError",
     "evalue": "LSTM.forward() got an unexpected keyword argument 'obs'",
     "output_type": "error",
     "traceback": [
      "\u001b[0;31m---------------------------------------------------------------------------\u001b[0m",
      "\u001b[0;31mTypeError\u001b[0m                                 Traceback (most recent call last)",
      "Cell \u001b[0;32mIn [22], line 1\u001b[0m\n\u001b[0;32m----> 1\u001b[0m model\u001b[39m.\u001b[39;49mpolicy\u001b[39m.\u001b[39;49mlstm_actor\u001b[39m.\u001b[39;49mforward(obs \u001b[39m=\u001b[39;49m env\u001b[39m.\u001b[39;49mreset(), lstm_states\u001b[39m=\u001b[39;49mlstm_stats, epsidode_starts \u001b[39m=\u001b[39;49m th\u001b[39m.\u001b[39;49mzeros([\u001b[39m1\u001b[39;49m]))\n",
      "\u001b[0;31mTypeError\u001b[0m: LSTM.forward() got an unexpected keyword argument 'obs'"
     ]
    }
   ],
   "source": [
    "model.policy.lstm_actor.forward(obs = env.reset(), lstm_states=lstm_stats, epsidode_starts = th.zeros([1]))"
   ]
  },
  {
   "cell_type": "code",
   "execution_count": 10,
   "metadata": {},
   "outputs": [],
   "source": [
    "from imitation.algorithms.bc import BC\n",
    "from active_critic.utils.gym_utils import (\n",
    "    make_vec_env,\n",
    "    make_dummy_vec_env,\n",
    "    sample_expert_transitions_rollouts,\n",
    "    make_pomdp_rollouts,\n",
    "    make_dummy_vec_env_pomdp,\n",
    "    get_avr_succ_rew_det\n",
    ")"
   ]
  },
  {
   "cell_type": "code",
   "execution_count": 11,
   "metadata": {},
   "outputs": [
    {
     "ename": "NameError",
     "evalue": "name 'sample_expert_transitions_rollouts' is not defined",
     "output_type": "error",
     "traceback": [
      "\u001b[0;31m---------------------------------------------------------------------------\u001b[0m",
      "\u001b[0;31mNameError\u001b[0m                                 Traceback (most recent call last)",
      "Cell \u001b[0;32mIn [11], line 1\u001b[0m\n\u001b[0;32m----> 1\u001b[0m transitions, rollouts \u001b[39m=\u001b[39m sample_expert_transitions_rollouts(\n\u001b[1;32m      2\u001b[0m     vec_expert\u001b[39m.\u001b[39mpredict, val_env, n_demonstrations)\n",
      "\u001b[0;31mNameError\u001b[0m: name 'sample_expert_transitions_rollouts' is not defined"
     ]
    }
   ],
   "source": [
    "env_tag = 'pickaplce'\n",
    "seq_len = 100\n",
    "n_demonstrations\n",
    "\n",
    "env, vec_expert = make_dummy_vec_env(name=env_tag, seq_len=seq_len)\n",
    "val_env, _ = make_dummy_vec_env(name=env_tag, seq_len=seq_len)\n",
    "\n",
    "transitions, rollouts = sample_expert_transitions_rollouts(\n",
    "    vec_expert.predict, val_env, n_demonstrations)"
   ]
  }
 ],
 "metadata": {
  "kernelspec": {
   "display_name": "ac",
   "language": "python",
   "name": "python3"
  },
  "language_info": {
   "codemirror_mode": {
    "name": "ipython",
    "version": 3
   },
   "file_extension": ".py",
   "mimetype": "text/x-python",
   "name": "python",
   "nbconvert_exporter": "python",
   "pygments_lexer": "ipython3",
   "version": "3.10.6"
  },
  "orig_nbformat": 4,
  "vscode": {
   "interpreter": {
    "hash": "c27e8fa6375f4d15af5a5f5541d8bb88746b588c9fe1102cfd8de011d36c10c2"
   }
  }
 },
 "nbformat": 4,
 "nbformat_minor": 2
}
