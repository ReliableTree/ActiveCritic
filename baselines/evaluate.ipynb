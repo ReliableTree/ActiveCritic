{
 "cells": [
  {
   "cell_type": "code",
   "execution_count": null,
   "metadata": {},
   "outputs": [],
   "source": [
    "from active_critic.utils.gym_utils import (\n",
    "    make_vec_env, \n",
    "    make_dummy_vec_env, \n",
    "    sample_expert_transitions_rollouts, \n",
    "    make_pomdp_rollouts, \n",
    "    make_dummy_vec_env_pomdp,\n",
    "    get_avr_succ_rew_det\n",
    ")\n",
    "import gym\n",
    "from stable_baselines3 import PPO\n",
    "import torch\n",
    "import numpy as np\n",
    "from stable_baselines3.common.vec_env import DummyVecEnv\n",
    "from imitation.algorithms import bc\n",
    "from imitation.data import rollout\n",
    "from imitation.data.wrappers import RolloutInfoWrapper\n",
    "from stable_baselines3.common.evaluation import evaluate_policy\n",
    "import warnings\n",
    "from typing import Any, Dict, Optional, Type, Union\n",
    "\n",
    "import numpy as np\n",
    "import torch as th\n",
    "from gym import spaces\n",
    "from torch.nn import functional as F\n",
    "\n",
    "from stable_baselines3.common.on_policy_algorithm import OnPolicyAlgorithm\n",
    "from stable_baselines3.common.policies import ActorCriticCnnPolicy, ActorCriticPolicy, BasePolicy, MultiInputActorCriticPolicy\n",
    "from stable_baselines3.common.type_aliases import GymEnv, MaybeCallback, Schedule\n",
    "from stable_baselines3.common.utils import explained_variance,  get_schedule_fn\n",
    "\n",
    "from torch.utils.data import DataLoader\n",
    "from imitation.algorithms.adversarial import gail \n",
    "from imitation.util.networks import RunningNorm\n",
    "from imitation.rewards.reward_nets import BasicRewardNet\n",
    "from stable_baselines3.ppo import MlpPolicy\n",
    "from active_critic.utils.tboard_graphs import TBoardGraphs\n",
    "from active_critic.model_src.transformer import PositionalEncoding\n",
    "\n",
    "import copy\n",
    "\n",
    "from active_critic.TQC.tqc import TQC\n",
    "from active_critic.TQC.tqc_policy import TQCPolicyEval\n",
    "\n",
    "def run_experiment(device):\n",
    "    pass\n",
    "device='cuda'\n",
    "lookup_freq = 1\n",
    "env, vec_expert = make_dummy_vec_env(name='pickplace', seq_len=200)\n",
    "val_env, _ = make_dummy_vec_env(name='pickplace', seq_len=200)\n",
    "\n",
    "transitions, rollouts = sample_expert_transitions_rollouts(vec_expert.predict, env, 10)\n",
    "env.envs[0].reset_count = 0\n",
    "pomdp_rollouts = make_pomdp_rollouts(rollouts, lookup_frq=lookup_freq, count_dim=10)\n",
    "pomdp_transitions = rollout.flatten_trajectories(pomdp_rollouts)\n",
    "\n",
    "pomdp_env, pomdp_vec_expert = make_dummy_vec_env_pomdp(name='pickplace', seq_len=200, lookup_freq=lookup_freq)\n",
    "policy_kwargs = {'net_arch' : [32, 32, 32]}\n",
    "tqc_learner = TQC(policy='MlpPolicy', env=pomdp_env, device=device, policy_kwargs=policy_kwargs)\n",
    "\n",
    "    "
   ]
  },
  {
   "cell_type": "code",
   "execution_count": null,
   "metadata": {},
   "outputs": [],
   "source": [
    "tqc_learner = TQC(policy='MlpPolicy', env=pomdp_env, device=device, policy_kwargs=policy_kwargs)\n",
    "\n",
    "bc_trainer = bc.BC(\n",
    "    observation_space=env.observation_space,\n",
    "    action_space=env.action_space,\n",
    "    demonstrations=pomdp_transitions,\n",
    "    device=device,\n",
    "    policy=tqc_learner.policy)\n",
    "th.save(bc_trainer.policy.state_dict(), 'test')\n",
    "policy = copy.deepcopy(bc_trainer.policy)"
   ]
  },
  {
   "cell_type": "code",
   "execution_count": 20,
   "metadata": {},
   "outputs": [],
   "source": [
    "def evaluate_learner(env_tag, logname, save_path, seq_len, n_demonstrations, bc_epochs, n_samples, device, learner:TQC=None):\n",
    "    lookup_freq = 1000\n",
    "    env, vec_expert = make_dummy_vec_env(name=env_tag, seq_len=seq_len)\n",
    "    val_env, _ = make_dummy_vec_env(name=env_tag, seq_len=seq_len)\n",
    "    transitions, rollouts = sample_expert_transitions_rollouts(vec_expert.predict, val_env, n_demonstrations)\n",
    "\n",
    "    pomdp_rollouts = make_pomdp_rollouts(rollouts, lookup_frq=lookup_freq, count_dim=10)\n",
    "    pomdp_transitions = rollout.flatten_trajectories(pomdp_rollouts)\n",
    "\n",
    "    if learner is None:\n",
    "        bc_learner = bc.BC(\n",
    "            observation_space=env.observation_space,\n",
    "            action_space=env.action_space,\n",
    "            demonstrations=pomdp_transitions,\n",
    "            device=device)\n",
    "    else:\n",
    "        bc_learner = bc.BC(\n",
    "            observation_space=env.observation_space,\n",
    "            action_space=env.action_space,\n",
    "            demonstrations=pomdp_transitions,\n",
    "            device=device,\n",
    "            policy=learner.policy)\n",
    "\n",
    "    pomdp_env_val, pomdp_vec_expert = make_dummy_vec_env_pomdp(name=env_tag, seq_len=seq_len, lookup_freq=lookup_freq)\n",
    "\n",
    "    tboard = TBoardGraphs(logname=logname + ' BC' , data_path='/data/bing/hendrik/gboard/')\n",
    "    best_succes_rate = -1\n",
    "    best_model = None\n",
    "    runs_per_epoch = 20\n",
    "    for i in range(bc_epochs):\n",
    "        bc_learner.train(n_epochs=runs_per_epoch)\n",
    "        success, rews = get_avr_succ_rew_det(env=pomdp_env_val, learner=bc_learner.policy, epsiodes=200)\n",
    "        success_rate = success.mean()\n",
    "        tboard.addValidationScalar('Reward', value=th.tensor(rews.mean()), stepid=i)\n",
    "        tboard.addValidationScalar('Success Rate', value=th.tensor(success_rate), stepid=i)\n",
    "        if success_rate > best_succes_rate:\n",
    "            best_succes_rate = success_rate\n",
    "            th.save(bc_learner.policy.state_dict(), save_path + logname + ' BC best')\n",
    "            print(save_path + logname + ' BC best')\n",
    "    \n",
    "    if learner is not None:\n",
    "\n",
    "        tboard = TBoardGraphs(logname=logname + str(' Reinforcement') , data_path='/data/bing/hendrik/gboard/')\n",
    "        learner.policy.load_state_dict(th.load(save_path + logname + ' BC best'))\n",
    "        success, rews = get_avr_succ_rew_det(env=pomdp_env_val, learner=learner.policy, epsiodes=200)\n",
    "        tboard.addValidationScalar('Reloaded Success Rate', value=th.tensor(success.mean()), stepid=0)\n",
    "        tboard.addValidationScalar('Reloaded Reward', value=th.tensor(rews.mean()), stepid=0)\n",
    "\n",
    "        tboard.addValidationScalar('Reward', value=th.tensor(rews.mean()), stepid=pomdp_env.envs[0].reset_count)\n",
    "        tboard.addValidationScalar('Success Rate', value=th.tensor(success_rate), stepid=pomdp_env.envs[0].reset_count)\n",
    "\n",
    "        while learner.env.envs[0].reset_count <= n_samples:\n",
    "            print('before learn')\n",
    "            learner.learn(2000)\n",
    "            print('after learn')\n",
    "            print(learner.env.envs[0].reset_count)\n",
    "            success, rews = get_avr_succ_rew_det(env=pomdp_env_val, learner=learner.policy, epsiodes=200)\n",
    "            success_rate = success.mean()\n",
    "            tboard.addValidationScalar('Reward', value=th.tensor(rews.mean()), stepid=pomdp_env.envs[0].reset_count)\n",
    "            tboard.addValidationScalar('Success Rate', value=th.tensor(success_rate), stepid=pomdp_env.envs[0].reset_count)"
   ]
  },
  {
   "cell_type": "code",
   "execution_count": 21,
   "metadata": {},
   "outputs": [
    {
     "name": "stderr",
     "output_type": "stream",
     "text": [
      "0batch [00:00, ?batch/s]"
     ]
    },
    {
     "name": "stdout",
     "output_type": "stream",
     "text": [
      "--------------------------------\n",
      "| batch_size        | 32       |\n",
      "| bc/               |          |\n",
      "|    batch          | 0        |\n",
      "|    ent_loss       | -0.138   |\n",
      "|    entropy        | 138      |\n",
      "|    epoch          | 0        |\n",
      "|    l2_loss        | 0        |\n",
      "|    l2_norm        | 451      |\n",
      "|    loss           | 138      |\n",
      "|    neglogp        | 138      |\n",
      "|    prob_true_act  | 0.00275  |\n",
      "|    samples_so_far | 32       |\n",
      "--------------------------------\n"
     ]
    },
    {
     "name": "stderr",
     "output_type": "stream",
     "text": [
      "482batch [00:02, 190.04batch/s]"
     ]
    },
    {
     "name": "stdout",
     "output_type": "stream",
     "text": [
      "--------------------------------\n",
      "| batch_size        | 32       |\n",
      "| bc/               |          |\n",
      "|    batch          | 500      |\n",
      "|    ent_loss       | 0.017    |\n",
      "|    entropy        | -17      |\n",
      "|    epoch          | 8        |\n",
      "|    l2_loss        | 0        |\n",
      "|    l2_norm        | 498      |\n",
      "|    loss           | -17      |\n",
      "|    neglogp        | -17      |\n",
      "|    prob_true_act  | 1.59e+11 |\n",
      "|    samples_so_far | 16032    |\n",
      "--------------------------------\n"
     ]
    },
    {
     "name": "stderr",
     "output_type": "stream",
     "text": [
      "985batch [00:05, 194.97batch/s]"
     ]
    },
    {
     "name": "stdout",
     "output_type": "stream",
     "text": [
      "--------------------------------\n",
      "| batch_size        | 32       |\n",
      "| bc/               |          |\n",
      "|    batch          | 1000     |\n",
      "|    ent_loss       | 0.0183   |\n",
      "|    entropy        | -18.3    |\n",
      "|    epoch          | 16       |\n",
      "|    l2_loss        | 0        |\n",
      "|    l2_norm        | 533      |\n",
      "|    loss           | -18.3    |\n",
      "|    neglogp        | -18.3    |\n",
      "|    prob_true_act  | 2.48e+10 |\n",
      "|    samples_so_far | 32032    |\n",
      "--------------------------------\n"
     ]
    },
    {
     "name": "stderr",
     "output_type": "stream",
     "text": [
      "1240batch [00:06, 192.41batch/s]\n"
     ]
    },
    {
     "name": "stdout",
     "output_type": "stream",
     "text": [
      "/data/bing/hendrik/Evaluate Baseline/TQC 10 BC best\n"
     ]
    },
    {
     "name": "stderr",
     "output_type": "stream",
     "text": [
      "0batch [00:00, ?batch/s]"
     ]
    },
    {
     "name": "stdout",
     "output_type": "stream",
     "text": [
      "--------------------------------\n",
      "| batch_size        | 32       |\n",
      "| bc/               |          |\n",
      "|    batch          | 0        |\n",
      "|    ent_loss       | 0.0143   |\n",
      "|    entropy        | -14.3    |\n",
      "|    epoch          | 0        |\n",
      "|    l2_loss        | 0        |\n",
      "|    l2_norm        | 548      |\n",
      "|    loss           | -14.3    |\n",
      "|    neglogp        | -14.3    |\n",
      "|    prob_true_act  | 3.91e+10 |\n",
      "|    samples_so_far | 32       |\n",
      "--------------------------------\n"
     ]
    },
    {
     "name": "stderr",
     "output_type": "stream",
     "text": [
      "500batch [00:02, 178.78batch/s]"
     ]
    },
    {
     "name": "stdout",
     "output_type": "stream",
     "text": [
      "--------------------------------\n",
      "| batch_size        | 32       |\n",
      "| bc/               |          |\n",
      "|    batch          | 500      |\n",
      "|    ent_loss       | 0.0179   |\n",
      "|    entropy        | -17.9    |\n",
      "|    epoch          | 8        |\n",
      "|    l2_loss        | 0        |\n",
      "|    l2_norm        | 571      |\n",
      "|    loss           | -17.9    |\n",
      "|    neglogp        | -17.9    |\n",
      "|    prob_true_act  | 9.87e+11 |\n",
      "|    samples_so_far | 16032    |\n",
      "--------------------------------\n"
     ]
    },
    {
     "name": "stderr",
     "output_type": "stream",
     "text": [
      "996batch [00:05, 155.09batch/s]"
     ]
    },
    {
     "name": "stdout",
     "output_type": "stream",
     "text": [
      "--------------------------------\n",
      "| batch_size        | 32       |\n",
      "| bc/               |          |\n",
      "|    batch          | 1000     |\n",
      "|    ent_loss       | 0.0202   |\n",
      "|    entropy        | -20.2    |\n",
      "|    epoch          | 16       |\n",
      "|    l2_loss        | 0        |\n",
      "|    l2_norm        | 590      |\n",
      "|    loss           | -20.2    |\n",
      "|    neglogp        | -20.2    |\n",
      "|    prob_true_act  | 6.15e+10 |\n",
      "|    samples_so_far | 32032    |\n",
      "--------------------------------\n"
     ]
    },
    {
     "name": "stderr",
     "output_type": "stream",
     "text": [
      "1240batch [00:06, 183.07batch/s]\n",
      "0batch [00:00, ?batch/s]"
     ]
    },
    {
     "name": "stdout",
     "output_type": "stream",
     "text": [
      "--------------------------------\n",
      "| batch_size        | 32       |\n",
      "| bc/               |          |\n",
      "|    batch          | 0        |\n",
      "|    ent_loss       | 0.0167   |\n",
      "|    entropy        | -16.7    |\n",
      "|    epoch          | 0        |\n",
      "|    l2_loss        | 0        |\n",
      "|    l2_norm        | 598      |\n",
      "|    loss           | -16.6    |\n",
      "|    neglogp        | -16.7    |\n",
      "|    prob_true_act  | 1.49e+10 |\n",
      "|    samples_so_far | 32       |\n",
      "--------------------------------\n"
     ]
    },
    {
     "name": "stderr",
     "output_type": "stream",
     "text": [
      "496batch [00:02, 195.40batch/s]"
     ]
    },
    {
     "name": "stdout",
     "output_type": "stream",
     "text": [
      "--------------------------------\n",
      "| batch_size        | 32       |\n",
      "| bc/               |          |\n",
      "|    batch          | 500      |\n",
      "|    ent_loss       | 0.0207   |\n",
      "|    entropy        | -20.7    |\n",
      "|    epoch          | 8        |\n",
      "|    l2_loss        | 0        |\n",
      "|    l2_norm        | 617      |\n",
      "|    loss           | -20.7    |\n",
      "|    neglogp        | -20.7    |\n",
      "|    prob_true_act  | 6.52e+10 |\n",
      "|    samples_so_far | 16032    |\n",
      "--------------------------------\n"
     ]
    },
    {
     "name": "stderr",
     "output_type": "stream",
     "text": [
      "984batch [00:05, 185.66batch/s]"
     ]
    },
    {
     "name": "stdout",
     "output_type": "stream",
     "text": [
      "--------------------------------\n",
      "| batch_size        | 32       |\n",
      "| bc/               |          |\n",
      "|    batch          | 1000     |\n",
      "|    ent_loss       | 0.0192   |\n",
      "|    entropy        | -19.2    |\n",
      "|    epoch          | 16       |\n",
      "|    l2_loss        | 0        |\n",
      "|    l2_norm        | 635      |\n",
      "|    loss           | -19.2    |\n",
      "|    neglogp        | -19.2    |\n",
      "|    prob_true_act  | 2.61e+11 |\n",
      "|    samples_so_far | 32032    |\n",
      "--------------------------------\n"
     ]
    },
    {
     "name": "stderr",
     "output_type": "stream",
     "text": [
      "1240batch [00:06, 188.46batch/s]\n",
      "0batch [00:00, ?batch/s]"
     ]
    },
    {
     "name": "stdout",
     "output_type": "stream",
     "text": [
      "--------------------------------\n",
      "| batch_size        | 32       |\n",
      "| bc/               |          |\n",
      "|    batch          | 0        |\n",
      "|    ent_loss       | 0.0165   |\n",
      "|    entropy        | -16.5    |\n",
      "|    epoch          | 0        |\n",
      "|    l2_loss        | 0        |\n",
      "|    l2_norm        | 644      |\n",
      "|    loss           | -16.4    |\n",
      "|    neglogp        | -16.5    |\n",
      "|    prob_true_act  | 3.5e+12  |\n",
      "|    samples_so_far | 32       |\n",
      "--------------------------------\n"
     ]
    },
    {
     "name": "stderr",
     "output_type": "stream",
     "text": [
      "497batch [00:02, 190.05batch/s]"
     ]
    },
    {
     "name": "stdout",
     "output_type": "stream",
     "text": [
      "--------------------------------\n",
      "| batch_size        | 32       |\n",
      "| bc/               |          |\n",
      "|    batch          | 500      |\n",
      "|    ent_loss       | 0.0191   |\n",
      "|    entropy        | -19.1    |\n",
      "|    epoch          | 8        |\n",
      "|    l2_loss        | 0        |\n",
      "|    l2_norm        | 665      |\n",
      "|    loss           | -19.1    |\n",
      "|    neglogp        | -19.1    |\n",
      "|    prob_true_act  | 7.83e+09 |\n",
      "|    samples_so_far | 16032    |\n",
      "--------------------------------\n"
     ]
    },
    {
     "name": "stderr",
     "output_type": "stream",
     "text": [
      "984batch [00:04, 200.88batch/s]"
     ]
    },
    {
     "name": "stdout",
     "output_type": "stream",
     "text": [
      "--------------------------------\n",
      "| batch_size        | 32       |\n",
      "| bc/               |          |\n",
      "|    batch          | 1000     |\n",
      "|    ent_loss       | 0.0187   |\n",
      "|    entropy        | -18.7    |\n",
      "|    epoch          | 16       |\n",
      "|    l2_loss        | 0        |\n",
      "|    l2_norm        | 684      |\n",
      "|    loss           | -18.7    |\n",
      "|    neglogp        | -18.7    |\n",
      "|    prob_true_act  | 1.58e+11 |\n",
      "|    samples_so_far | 32032    |\n",
      "--------------------------------\n"
     ]
    },
    {
     "name": "stderr",
     "output_type": "stream",
     "text": [
      "1240batch [00:06, 197.24batch/s]\n",
      "0batch [00:00, ?batch/s]"
     ]
    },
    {
     "name": "stdout",
     "output_type": "stream",
     "text": [
      "--------------------------------\n",
      "| batch_size        | 32       |\n",
      "| bc/               |          |\n",
      "|    batch          | 0        |\n",
      "|    ent_loss       | 0.0202   |\n",
      "|    entropy        | -20.2    |\n",
      "|    epoch          | 0        |\n",
      "|    l2_loss        | 0        |\n",
      "|    l2_norm        | 694      |\n",
      "|    loss           | -20.2    |\n",
      "|    neglogp        | -20.2    |\n",
      "|    prob_true_act  | 8.64e+11 |\n",
      "|    samples_so_far | 32       |\n",
      "--------------------------------\n"
     ]
    },
    {
     "name": "stderr",
     "output_type": "stream",
     "text": [
      "480batch [00:02, 199.97batch/s]"
     ]
    },
    {
     "name": "stdout",
     "output_type": "stream",
     "text": [
      "--------------------------------\n",
      "| batch_size        | 32       |\n",
      "| bc/               |          |\n",
      "|    batch          | 500      |\n",
      "|    ent_loss       | 0.0201   |\n",
      "|    entropy        | -20.1    |\n",
      "|    epoch          | 8        |\n",
      "|    l2_loss        | 0        |\n",
      "|    l2_norm        | 717      |\n",
      "|    loss           | -20.1    |\n",
      "|    neglogp        | -20.1    |\n",
      "|    prob_true_act  | 8.18e+11 |\n",
      "|    samples_so_far | 16032    |\n",
      "--------------------------------\n"
     ]
    },
    {
     "name": "stderr",
     "output_type": "stream",
     "text": [
      "988batch [00:04, 207.88batch/s]"
     ]
    },
    {
     "name": "stdout",
     "output_type": "stream",
     "text": [
      "--------------------------------\n",
      "| batch_size        | 32       |\n",
      "| bc/               |          |\n",
      "|    batch          | 1000     |\n",
      "|    ent_loss       | 0.0219   |\n",
      "|    entropy        | -21.9    |\n",
      "|    epoch          | 16       |\n",
      "|    l2_loss        | 0        |\n",
      "|    l2_norm        | 735      |\n",
      "|    loss           | -21.8    |\n",
      "|    neglogp        | -21.9    |\n",
      "|    prob_true_act  | 2.47e+11 |\n",
      "|    samples_so_far | 32032    |\n",
      "--------------------------------\n"
     ]
    },
    {
     "name": "stderr",
     "output_type": "stream",
     "text": [
      "1240batch [00:06, 201.81batch/s]\n",
      "0batch [00:00, ?batch/s]"
     ]
    },
    {
     "name": "stdout",
     "output_type": "stream",
     "text": [
      "--------------------------------\n",
      "| batch_size        | 32       |\n",
      "| bc/               |          |\n",
      "|    batch          | 0        |\n",
      "|    ent_loss       | 0.0237   |\n",
      "|    entropy        | -23.7    |\n",
      "|    epoch          | 0        |\n",
      "|    l2_loss        | 0        |\n",
      "|    l2_norm        | 744      |\n",
      "|    loss           | -23.7    |\n",
      "|    neglogp        | -23.7    |\n",
      "|    prob_true_act  | 4.12e+11 |\n",
      "|    samples_so_far | 32       |\n",
      "--------------------------------\n"
     ]
    },
    {
     "name": "stderr",
     "output_type": "stream",
     "text": [
      "485batch [00:02, 206.19batch/s]"
     ]
    },
    {
     "name": "stdout",
     "output_type": "stream",
     "text": [
      "--------------------------------\n",
      "| batch_size        | 32       |\n",
      "| bc/               |          |\n",
      "|    batch          | 500      |\n",
      "|    ent_loss       | 0.0216   |\n",
      "|    entropy        | -21.6    |\n",
      "|    epoch          | 8        |\n",
      "|    l2_loss        | 0        |\n",
      "|    l2_norm        | 761      |\n",
      "|    loss           | -21.5    |\n",
      "|    neglogp        | -21.6    |\n",
      "|    prob_true_act  | 1.55e+12 |\n",
      "|    samples_so_far | 16032    |\n",
      "--------------------------------\n"
     ]
    },
    {
     "name": "stderr",
     "output_type": "stream",
     "text": [
      "980batch [00:05, 149.41batch/s]"
     ]
    },
    {
     "name": "stdout",
     "output_type": "stream",
     "text": [
      "--------------------------------\n",
      "| batch_size        | 32       |\n",
      "| bc/               |          |\n",
      "|    batch          | 1000     |\n",
      "|    ent_loss       | 0.0218   |\n",
      "|    entropy        | -21.8    |\n",
      "|    epoch          | 16       |\n",
      "|    l2_loss        | 0        |\n",
      "|    l2_norm        | 779      |\n",
      "|    loss           | -21.8    |\n",
      "|    neglogp        | -21.8    |\n",
      "|    prob_true_act  | 5.97e+12 |\n",
      "|    samples_so_far | 32032    |\n",
      "--------------------------------\n"
     ]
    },
    {
     "name": "stderr",
     "output_type": "stream",
     "text": [
      "1240batch [00:06, 179.47batch/s]\n"
     ]
    },
    {
     "name": "stdout",
     "output_type": "stream",
     "text": [
      "/data/bing/hendrik/Evaluate Baseline/TQC 10 BC best\n"
     ]
    },
    {
     "name": "stderr",
     "output_type": "stream",
     "text": [
      "0batch [00:00, ?batch/s]"
     ]
    },
    {
     "name": "stdout",
     "output_type": "stream",
     "text": [
      "--------------------------------\n",
      "| batch_size        | 32       |\n",
      "| bc/               |          |\n",
      "|    batch          | 0        |\n",
      "|    ent_loss       | 0.0245   |\n",
      "|    entropy        | -24.5    |\n",
      "|    epoch          | 0        |\n",
      "|    l2_loss        | 0        |\n",
      "|    l2_norm        | 787      |\n",
      "|    loss           | -24.5    |\n",
      "|    neglogp        | -24.5    |\n",
      "|    prob_true_act  | 2.4e+13  |\n",
      "|    samples_so_far | 32       |\n",
      "--------------------------------\n"
     ]
    },
    {
     "name": "stderr",
     "output_type": "stream",
     "text": [
      "500batch [00:02, 200.12batch/s]"
     ]
    },
    {
     "name": "stdout",
     "output_type": "stream",
     "text": [
      "--------------------------------\n",
      "| batch_size        | 32       |\n",
      "| bc/               |          |\n",
      "|    batch          | 500      |\n",
      "|    ent_loss       | 0.0254   |\n",
      "|    entropy        | -25.4    |\n",
      "|    epoch          | 8        |\n",
      "|    l2_loss        | 0        |\n",
      "|    l2_norm        | 804      |\n",
      "|    loss           | -25.4    |\n",
      "|    neglogp        | -25.4    |\n",
      "|    prob_true_act  | 6.5e+12  |\n",
      "|    samples_so_far | 16032    |\n",
      "--------------------------------\n"
     ]
    },
    {
     "name": "stderr",
     "output_type": "stream",
     "text": [
      "993batch [00:04, 209.23batch/s]"
     ]
    },
    {
     "name": "stdout",
     "output_type": "stream",
     "text": [
      "--------------------------------\n",
      "| batch_size        | 32       |\n",
      "| bc/               |          |\n",
      "|    batch          | 1000     |\n",
      "|    ent_loss       | 0.0181   |\n",
      "|    entropy        | -18.1    |\n",
      "|    epoch          | 16       |\n",
      "|    l2_loss        | 0        |\n",
      "|    l2_norm        | 822      |\n",
      "|    loss           | -18.1    |\n",
      "|    neglogp        | -18.1    |\n",
      "|    prob_true_act  | 3.17e+13 |\n",
      "|    samples_so_far | 32032    |\n",
      "--------------------------------\n"
     ]
    },
    {
     "name": "stderr",
     "output_type": "stream",
     "text": [
      "1240batch [00:06, 203.54batch/s]\n",
      "0batch [00:00, ?batch/s]"
     ]
    },
    {
     "name": "stdout",
     "output_type": "stream",
     "text": [
      "--------------------------------\n",
      "| batch_size        | 32       |\n",
      "| bc/               |          |\n",
      "|    batch          | 0        |\n",
      "|    ent_loss       | 0.023    |\n",
      "|    entropy        | -23      |\n",
      "|    epoch          | 0        |\n",
      "|    l2_loss        | 0        |\n",
      "|    l2_norm        | 830      |\n",
      "|    loss           | -23      |\n",
      "|    neglogp        | -23      |\n",
      "|    prob_true_act  | 1.19e+13 |\n",
      "|    samples_so_far | 32       |\n",
      "--------------------------------\n"
     ]
    },
    {
     "name": "stderr",
     "output_type": "stream",
     "text": [
      "487batch [00:02, 196.01batch/s]"
     ]
    },
    {
     "name": "stdout",
     "output_type": "stream",
     "text": [
      "--------------------------------\n",
      "| batch_size        | 32       |\n",
      "| bc/               |          |\n",
      "|    batch          | 500      |\n",
      "|    ent_loss       | 0.0211   |\n",
      "|    entropy        | -21.1    |\n",
      "|    epoch          | 8        |\n",
      "|    l2_loss        | 0        |\n",
      "|    l2_norm        | 846      |\n",
      "|    loss           | -21.1    |\n",
      "|    neglogp        | -21.1    |\n",
      "|    prob_true_act  | 5.08e+13 |\n",
      "|    samples_so_far | 16032    |\n",
      "--------------------------------\n"
     ]
    },
    {
     "name": "stderr",
     "output_type": "stream",
     "text": [
      "981batch [00:05, 197.19batch/s]"
     ]
    },
    {
     "name": "stdout",
     "output_type": "stream",
     "text": [
      "--------------------------------\n",
      "| batch_size        | 32       |\n",
      "| bc/               |          |\n",
      "|    batch          | 1000     |\n",
      "|    ent_loss       | 0.024    |\n",
      "|    entropy        | -24      |\n",
      "|    epoch          | 16       |\n",
      "|    l2_loss        | 0        |\n",
      "|    l2_norm        | 861      |\n",
      "|    loss           | -24      |\n",
      "|    neglogp        | -24      |\n",
      "|    prob_true_act  | 2.57e+12 |\n",
      "|    samples_so_far | 32032    |\n",
      "--------------------------------\n"
     ]
    },
    {
     "name": "stderr",
     "output_type": "stream",
     "text": [
      "1240batch [00:06, 183.04batch/s]\n"
     ]
    },
    {
     "name": "stdout",
     "output_type": "stream",
     "text": [
      "/data/bing/hendrik/Evaluate Baseline/TQC 10 BC best\n"
     ]
    },
    {
     "name": "stderr",
     "output_type": "stream",
     "text": [
      "0batch [00:00, ?batch/s]"
     ]
    },
    {
     "name": "stdout",
     "output_type": "stream",
     "text": [
      "--------------------------------\n",
      "| batch_size        | 32       |\n",
      "| bc/               |          |\n",
      "|    batch          | 0        |\n",
      "|    ent_loss       | 0.0217   |\n",
      "|    entropy        | -21.7    |\n",
      "|    epoch          | 0        |\n",
      "|    l2_loss        | 0        |\n",
      "|    l2_norm        | 871      |\n",
      "|    loss           | -21.7    |\n",
      "|    neglogp        | -21.7    |\n",
      "|    prob_true_act  | 7.37e+11 |\n",
      "|    samples_so_far | 32       |\n",
      "--------------------------------\n"
     ]
    },
    {
     "name": "stderr",
     "output_type": "stream",
     "text": [
      "500batch [00:02, 196.41batch/s]"
     ]
    },
    {
     "name": "stdout",
     "output_type": "stream",
     "text": [
      "--------------------------------\n",
      "| batch_size        | 32       |\n",
      "| bc/               |          |\n",
      "|    batch          | 500      |\n",
      "|    ent_loss       | 0.0251   |\n",
      "|    entropy        | -25.1    |\n",
      "|    epoch          | 8        |\n",
      "|    l2_loss        | 0        |\n",
      "|    l2_norm        | 888      |\n",
      "|    loss           | -25.1    |\n",
      "|    neglogp        | -25.1    |\n",
      "|    prob_true_act  | 1.3e+14  |\n",
      "|    samples_so_far | 16032    |\n",
      "--------------------------------\n"
     ]
    },
    {
     "name": "stderr",
     "output_type": "stream",
     "text": [
      "993batch [00:05, 195.70batch/s]"
     ]
    },
    {
     "name": "stdout",
     "output_type": "stream",
     "text": [
      "--------------------------------\n",
      "| batch_size        | 32       |\n",
      "| bc/               |          |\n",
      "|    batch          | 1000     |\n",
      "|    ent_loss       | 0.0239   |\n",
      "|    entropy        | -23.9    |\n",
      "|    epoch          | 16       |\n",
      "|    l2_loss        | 0        |\n",
      "|    l2_norm        | 904      |\n",
      "|    loss           | -23.9    |\n",
      "|    neglogp        | -23.9    |\n",
      "|    prob_true_act  | 1.44e+12 |\n",
      "|    samples_so_far | 32032    |\n",
      "--------------------------------\n"
     ]
    },
    {
     "name": "stderr",
     "output_type": "stream",
     "text": [
      "1240batch [00:06, 193.38batch/s]\n",
      "0batch [00:00, ?batch/s]"
     ]
    },
    {
     "name": "stdout",
     "output_type": "stream",
     "text": [
      "--------------------------------\n",
      "| batch_size        | 32       |\n",
      "| bc/               |          |\n",
      "|    batch          | 0        |\n",
      "|    ent_loss       | 0.0231   |\n",
      "|    entropy        | -23.1    |\n",
      "|    epoch          | 0        |\n",
      "|    l2_loss        | 0        |\n",
      "|    l2_norm        | 912      |\n",
      "|    loss           | -23      |\n",
      "|    neglogp        | -23.1    |\n",
      "|    prob_true_act  | 7.21e+11 |\n",
      "|    samples_so_far | 32       |\n",
      "--------------------------------\n"
     ]
    },
    {
     "name": "stderr",
     "output_type": "stream",
     "text": [
      "500batch [00:02, 195.71batch/s]"
     ]
    },
    {
     "name": "stdout",
     "output_type": "stream",
     "text": [
      "--------------------------------\n",
      "| batch_size        | 32       |\n",
      "| bc/               |          |\n",
      "|    batch          | 500      |\n",
      "|    ent_loss       | 0.0238   |\n",
      "|    entropy        | -23.8    |\n",
      "|    epoch          | 8        |\n",
      "|    l2_loss        | 0        |\n",
      "|    l2_norm        | 928      |\n",
      "|    loss           | -23.8    |\n",
      "|    neglogp        | -23.8    |\n",
      "|    prob_true_act  | 6.79e+13 |\n",
      "|    samples_so_far | 16032    |\n",
      "--------------------------------\n"
     ]
    },
    {
     "name": "stderr",
     "output_type": "stream",
     "text": [
      "983batch [00:04, 201.01batch/s]"
     ]
    },
    {
     "name": "stdout",
     "output_type": "stream",
     "text": [
      "--------------------------------\n",
      "| batch_size        | 32       |\n",
      "| bc/               |          |\n",
      "|    batch          | 1000     |\n",
      "|    ent_loss       | 0.0206   |\n",
      "|    entropy        | -20.6    |\n",
      "|    epoch          | 16       |\n",
      "|    l2_loss        | 0        |\n",
      "|    l2_norm        | 945      |\n",
      "|    loss           | -20.6    |\n",
      "|    neglogp        | -20.6    |\n",
      "|    prob_true_act  | 7.31e+13 |\n",
      "|    samples_so_far | 32032    |\n",
      "--------------------------------\n"
     ]
    },
    {
     "name": "stderr",
     "output_type": "stream",
     "text": [
      "1240batch [00:06, 198.19batch/s]\n"
     ]
    },
    {
     "name": "stdout",
     "output_type": "stream",
     "text": [
      "/data/bing/hendrik/Evaluate Baseline/TQC 10 BC best\n"
     ]
    },
    {
     "name": "stderr",
     "output_type": "stream",
     "text": [
      "0batch [00:00, ?batch/s]"
     ]
    },
    {
     "name": "stdout",
     "output_type": "stream",
     "text": [
      "--------------------------------\n",
      "| batch_size        | 32       |\n",
      "| bc/               |          |\n",
      "|    batch          | 0        |\n",
      "|    ent_loss       | 0.0238   |\n",
      "|    entropy        | -23.8    |\n",
      "|    epoch          | 0        |\n",
      "|    l2_loss        | 0        |\n",
      "|    l2_norm        | 954      |\n",
      "|    loss           | -23.8    |\n",
      "|    neglogp        | -23.8    |\n",
      "|    prob_true_act  | 2.49e+12 |\n",
      "|    samples_so_far | 32       |\n",
      "--------------------------------\n"
     ]
    },
    {
     "name": "stderr",
     "output_type": "stream",
     "text": [
      "481batch [00:02, 200.08batch/s]"
     ]
    },
    {
     "name": "stdout",
     "output_type": "stream",
     "text": [
      "--------------------------------\n",
      "| batch_size        | 32       |\n",
      "| bc/               |          |\n",
      "|    batch          | 500      |\n",
      "|    ent_loss       | 0.024    |\n",
      "|    entropy        | -24      |\n",
      "|    epoch          | 8        |\n",
      "|    l2_loss        | 0        |\n",
      "|    l2_norm        | 972      |\n",
      "|    loss           | -23.9    |\n",
      "|    neglogp        | -24      |\n",
      "|    prob_true_act  | 4.07e+13 |\n",
      "|    samples_so_far | 16032    |\n",
      "--------------------------------\n"
     ]
    },
    {
     "name": "stderr",
     "output_type": "stream",
     "text": [
      "999batch [00:05, 200.38batch/s]"
     ]
    },
    {
     "name": "stdout",
     "output_type": "stream",
     "text": [
      "--------------------------------\n",
      "| batch_size        | 32       |\n",
      "| bc/               |          |\n",
      "|    batch          | 1000     |\n",
      "|    ent_loss       | 0.0228   |\n",
      "|    entropy        | -22.8    |\n",
      "|    epoch          | 16       |\n",
      "|    l2_loss        | 0        |\n",
      "|    l2_norm        | 990      |\n",
      "|    loss           | -22.7    |\n",
      "|    neglogp        | -22.8    |\n",
      "|    prob_true_act  | 2.21e+12 |\n",
      "|    samples_so_far | 32032    |\n",
      "--------------------------------\n"
     ]
    },
    {
     "name": "stderr",
     "output_type": "stream",
     "text": [
      "1240batch [00:06, 199.17batch/s]\n"
     ]
    },
    {
     "name": "stdout",
     "output_type": "stream",
     "text": [
      "/data/bing/hendrik/Evaluate Baseline/TQC 10 BC best\n"
     ]
    },
    {
     "name": "stderr",
     "output_type": "stream",
     "text": [
      "0batch [00:00, ?batch/s]"
     ]
    },
    {
     "name": "stdout",
     "output_type": "stream",
     "text": [
      "--------------------------------\n",
      "| batch_size        | 32       |\n",
      "| bc/               |          |\n",
      "|    batch          | 0        |\n",
      "|    ent_loss       | 0.0258   |\n",
      "|    entropy        | -25.8    |\n",
      "|    epoch          | 0        |\n",
      "|    l2_loss        | 0        |\n",
      "|    l2_norm        | 998      |\n",
      "|    loss           | -25.8    |\n",
      "|    neglogp        | -25.8    |\n",
      "|    prob_true_act  | 1.57e+12 |\n",
      "|    samples_so_far | 32       |\n",
      "--------------------------------\n"
     ]
    },
    {
     "name": "stderr",
     "output_type": "stream",
     "text": [
      "480batch [00:02, 205.26batch/s]"
     ]
    },
    {
     "name": "stdout",
     "output_type": "stream",
     "text": [
      "--------------------------------\n",
      "| batch_size        | 32       |\n",
      "| bc/               |          |\n",
      "|    batch          | 500      |\n",
      "|    ent_loss       | 0.0255   |\n",
      "|    entropy        | -25.5    |\n",
      "|    epoch          | 8        |\n",
      "|    l2_loss        | 0        |\n",
      "|    l2_norm        | 1.02e+03 |\n",
      "|    loss           | -25.5    |\n",
      "|    neglogp        | -25.5    |\n",
      "|    prob_true_act  | 1.86e+13 |\n",
      "|    samples_so_far | 16032    |\n",
      "--------------------------------\n"
     ]
    },
    {
     "name": "stderr",
     "output_type": "stream",
     "text": [
      "993batch [00:05, 192.89batch/s]"
     ]
    },
    {
     "name": "stdout",
     "output_type": "stream",
     "text": [
      "--------------------------------\n",
      "| batch_size        | 32       |\n",
      "| bc/               |          |\n",
      "|    batch          | 1000     |\n",
      "|    ent_loss       | 0.0228   |\n",
      "|    entropy        | -22.8    |\n",
      "|    epoch          | 16       |\n",
      "|    l2_loss        | 0        |\n",
      "|    l2_norm        | 1.03e+03 |\n",
      "|    loss           | -22.8    |\n",
      "|    neglogp        | -22.8    |\n",
      "|    prob_true_act  | 1.36e+12 |\n",
      "|    samples_so_far | 32032    |\n",
      "--------------------------------\n"
     ]
    },
    {
     "name": "stderr",
     "output_type": "stream",
     "text": [
      "1240batch [00:06, 197.92batch/s]\n",
      "0batch [00:00, ?batch/s]"
     ]
    },
    {
     "name": "stdout",
     "output_type": "stream",
     "text": [
      "--------------------------------\n",
      "| batch_size        | 32       |\n",
      "| bc/               |          |\n",
      "|    batch          | 0        |\n",
      "|    ent_loss       | 0.0259   |\n",
      "|    entropy        | -25.9    |\n",
      "|    epoch          | 0        |\n",
      "|    l2_loss        | 0        |\n",
      "|    l2_norm        | 1.04e+03 |\n",
      "|    loss           | -25.9    |\n",
      "|    neglogp        | -25.9    |\n",
      "|    prob_true_act  | 5.02e+16 |\n",
      "|    samples_so_far | 32       |\n",
      "--------------------------------\n"
     ]
    },
    {
     "name": "stderr",
     "output_type": "stream",
     "text": [
      "500batch [00:02, 187.98batch/s]"
     ]
    },
    {
     "name": "stdout",
     "output_type": "stream",
     "text": [
      "--------------------------------\n",
      "| batch_size        | 32       |\n",
      "| bc/               |          |\n",
      "|    batch          | 500      |\n",
      "|    ent_loss       | 0.0256   |\n",
      "|    entropy        | -25.6    |\n",
      "|    epoch          | 8        |\n",
      "|    l2_loss        | 0        |\n",
      "|    l2_norm        | 1.06e+03 |\n",
      "|    loss           | -25.6    |\n",
      "|    neglogp        | -25.6    |\n",
      "|    prob_true_act  | 8.04e+12 |\n",
      "|    samples_so_far | 16032    |\n",
      "--------------------------------\n"
     ]
    },
    {
     "name": "stderr",
     "output_type": "stream",
     "text": [
      "997batch [00:05, 200.57batch/s]"
     ]
    },
    {
     "name": "stdout",
     "output_type": "stream",
     "text": [
      "--------------------------------\n",
      "| batch_size        | 32       |\n",
      "| bc/               |          |\n",
      "|    batch          | 1000     |\n",
      "|    ent_loss       | 0.0226   |\n",
      "|    entropy        | -22.6    |\n",
      "|    epoch          | 16       |\n",
      "|    l2_loss        | 0        |\n",
      "|    l2_norm        | 1.08e+03 |\n",
      "|    loss           | -22.5    |\n",
      "|    neglogp        | -22.6    |\n",
      "|    prob_true_act  | 1.04e+12 |\n",
      "|    samples_so_far | 32032    |\n",
      "--------------------------------\n"
     ]
    },
    {
     "name": "stderr",
     "output_type": "stream",
     "text": [
      "1240batch [00:06, 194.44batch/s]\n",
      "0batch [00:00, ?batch/s]"
     ]
    },
    {
     "name": "stdout",
     "output_type": "stream",
     "text": [
      "--------------------------------\n",
      "| batch_size        | 32       |\n",
      "| bc/               |          |\n",
      "|    batch          | 0        |\n",
      "|    ent_loss       | 0.0246   |\n",
      "|    entropy        | -24.6    |\n",
      "|    epoch          | 0        |\n",
      "|    l2_loss        | 0        |\n",
      "|    l2_norm        | 1.08e+03 |\n",
      "|    loss           | -24.6    |\n",
      "|    neglogp        | -24.6    |\n",
      "|    prob_true_act  | 2.77e+14 |\n",
      "|    samples_so_far | 32       |\n",
      "--------------------------------\n"
     ]
    },
    {
     "name": "stderr",
     "output_type": "stream",
     "text": [
      "498batch [00:02, 172.96batch/s]"
     ]
    },
    {
     "name": "stdout",
     "output_type": "stream",
     "text": [
      "--------------------------------\n",
      "| batch_size        | 32       |\n",
      "| bc/               |          |\n",
      "|    batch          | 500      |\n",
      "|    ent_loss       | 0.0253   |\n",
      "|    entropy        | -25.3    |\n",
      "|    epoch          | 8        |\n",
      "|    l2_loss        | 0        |\n",
      "|    l2_norm        | 1.1e+03  |\n",
      "|    loss           | -25.3    |\n",
      "|    neglogp        | -25.3    |\n",
      "|    prob_true_act  | 3.13e+12 |\n",
      "|    samples_so_far | 16032    |\n",
      "--------------------------------\n"
     ]
    },
    {
     "name": "stderr",
     "output_type": "stream",
     "text": [
      "984batch [00:05, 195.28batch/s]"
     ]
    },
    {
     "name": "stdout",
     "output_type": "stream",
     "text": [
      "--------------------------------\n",
      "| batch_size        | 32       |\n",
      "| bc/               |          |\n",
      "|    batch          | 1000     |\n",
      "|    ent_loss       | 0.024    |\n",
      "|    entropy        | -24      |\n",
      "|    epoch          | 16       |\n",
      "|    l2_loss        | 0        |\n",
      "|    l2_norm        | 1.12e+03 |\n",
      "|    loss           | -24      |\n",
      "|    neglogp        | -24      |\n",
      "|    prob_true_act  | 8.95e+12 |\n",
      "|    samples_so_far | 32032    |\n",
      "--------------------------------\n"
     ]
    },
    {
     "name": "stderr",
     "output_type": "stream",
     "text": [
      "1240batch [00:06, 190.68batch/s]\n"
     ]
    },
    {
     "name": "stdout",
     "output_type": "stream",
     "text": [
      "/data/bing/hendrik/Evaluate Baseline/TQC 10 BC best\n"
     ]
    },
    {
     "name": "stderr",
     "output_type": "stream",
     "text": [
      "0batch [00:00, ?batch/s]"
     ]
    },
    {
     "name": "stdout",
     "output_type": "stream",
     "text": [
      "--------------------------------\n",
      "| batch_size        | 32       |\n",
      "| bc/               |          |\n",
      "|    batch          | 0        |\n",
      "|    ent_loss       | 0.0227   |\n",
      "|    entropy        | -22.7    |\n",
      "|    epoch          | 0        |\n",
      "|    l2_loss        | 0        |\n",
      "|    l2_norm        | 1.13e+03 |\n",
      "|    loss           | -22.7    |\n",
      "|    neglogp        | -22.7    |\n",
      "|    prob_true_act  | 6.62e+13 |\n",
      "|    samples_so_far | 32       |\n",
      "--------------------------------\n"
     ]
    },
    {
     "name": "stderr",
     "output_type": "stream",
     "text": [
      "491batch [00:02, 195.04batch/s]"
     ]
    },
    {
     "name": "stdout",
     "output_type": "stream",
     "text": [
      "--------------------------------\n",
      "| batch_size        | 32       |\n",
      "| bc/               |          |\n",
      "|    batch          | 500      |\n",
      "|    ent_loss       | 0.0225   |\n",
      "|    entropy        | -22.5    |\n",
      "|    epoch          | 8        |\n",
      "|    l2_loss        | 0        |\n",
      "|    l2_norm        | 1.14e+03 |\n",
      "|    loss           | -22.5    |\n",
      "|    neglogp        | -22.5    |\n",
      "|    prob_true_act  | 6.89e+13 |\n",
      "|    samples_so_far | 16032    |\n",
      "--------------------------------\n"
     ]
    },
    {
     "name": "stderr",
     "output_type": "stream",
     "text": [
      "988batch [00:05, 191.51batch/s]"
     ]
    },
    {
     "name": "stdout",
     "output_type": "stream",
     "text": [
      "--------------------------------\n",
      "| batch_size        | 32       |\n",
      "| bc/               |          |\n",
      "|    batch          | 1000     |\n",
      "|    ent_loss       | 0.0243   |\n",
      "|    entropy        | -24.3    |\n",
      "|    epoch          | 16       |\n",
      "|    l2_loss        | 0        |\n",
      "|    l2_norm        | 1.16e+03 |\n",
      "|    loss           | -24.3    |\n",
      "|    neglogp        | -24.3    |\n",
      "|    prob_true_act  | 5.38e+13 |\n",
      "|    samples_so_far | 32032    |\n",
      "--------------------------------\n"
     ]
    },
    {
     "name": "stderr",
     "output_type": "stream",
     "text": [
      "1240batch [00:06, 195.30batch/s]\n",
      "0batch [00:00, ?batch/s]"
     ]
    },
    {
     "name": "stdout",
     "output_type": "stream",
     "text": [
      "--------------------------------\n",
      "| batch_size        | 32       |\n",
      "| bc/               |          |\n",
      "|    batch          | 0        |\n",
      "|    ent_loss       | 0.0259   |\n",
      "|    entropy        | -25.9    |\n",
      "|    epoch          | 0        |\n",
      "|    l2_loss        | 0        |\n",
      "|    l2_norm        | 1.17e+03 |\n",
      "|    loss           | -25.9    |\n",
      "|    neglogp        | -25.9    |\n",
      "|    prob_true_act  | 1.78e+14 |\n",
      "|    samples_so_far | 32       |\n",
      "--------------------------------\n"
     ]
    },
    {
     "name": "stderr",
     "output_type": "stream",
     "text": [
      "482batch [00:02, 207.09batch/s]"
     ]
    },
    {
     "name": "stdout",
     "output_type": "stream",
     "text": [
      "--------------------------------\n",
      "| batch_size        | 32       |\n",
      "| bc/               |          |\n",
      "|    batch          | 500      |\n",
      "|    ent_loss       | 0.0265   |\n",
      "|    entropy        | -26.5    |\n",
      "|    epoch          | 8        |\n",
      "|    l2_loss        | 0        |\n",
      "|    l2_norm        | 1.18e+03 |\n",
      "|    loss           | -26.5    |\n",
      "|    neglogp        | -26.5    |\n",
      "|    prob_true_act  | 1.45e+14 |\n",
      "|    samples_so_far | 16032    |\n",
      "--------------------------------\n"
     ]
    },
    {
     "name": "stderr",
     "output_type": "stream",
     "text": [
      "997batch [00:05, 191.93batch/s]"
     ]
    },
    {
     "name": "stdout",
     "output_type": "stream",
     "text": [
      "--------------------------------\n",
      "| batch_size        | 32       |\n",
      "| bc/               |          |\n",
      "|    batch          | 1000     |\n",
      "|    ent_loss       | 0.0237   |\n",
      "|    entropy        | -23.7    |\n",
      "|    epoch          | 16       |\n",
      "|    l2_loss        | 0        |\n",
      "|    l2_norm        | 1.2e+03  |\n",
      "|    loss           | -23.7    |\n",
      "|    neglogp        | -23.7    |\n",
      "|    prob_true_act  | 2.15e+12 |\n",
      "|    samples_so_far | 32032    |\n",
      "--------------------------------\n"
     ]
    },
    {
     "name": "stderr",
     "output_type": "stream",
     "text": [
      "1240batch [00:06, 194.17batch/s]\n"
     ]
    },
    {
     "name": "stdout",
     "output_type": "stream",
     "text": [
      "/data/bing/hendrik/Evaluate Baseline/TQC 10 BC best\n"
     ]
    },
    {
     "name": "stderr",
     "output_type": "stream",
     "text": [
      "0batch [00:00, ?batch/s]"
     ]
    },
    {
     "name": "stdout",
     "output_type": "stream",
     "text": [
      "--------------------------------\n",
      "| batch_size        | 32       |\n",
      "| bc/               |          |\n",
      "|    batch          | 0        |\n",
      "|    ent_loss       | 0.023    |\n",
      "|    entropy        | -23      |\n",
      "|    epoch          | 0        |\n",
      "|    l2_loss        | 0        |\n",
      "|    l2_norm        | 1.21e+03 |\n",
      "|    loss           | -22.9    |\n",
      "|    neglogp        | -23      |\n",
      "|    prob_true_act  | 2.28e+12 |\n",
      "|    samples_so_far | 32       |\n",
      "--------------------------------\n"
     ]
    },
    {
     "name": "stderr",
     "output_type": "stream",
     "text": [
      "491batch [00:02, 211.40batch/s]"
     ]
    },
    {
     "name": "stdout",
     "output_type": "stream",
     "text": [
      "--------------------------------\n",
      "| batch_size        | 32       |\n",
      "| bc/               |          |\n",
      "|    batch          | 500      |\n",
      "|    ent_loss       | 0.0253   |\n",
      "|    entropy        | -25.3    |\n",
      "|    epoch          | 8        |\n",
      "|    l2_loss        | 0        |\n",
      "|    l2_norm        | 1.23e+03 |\n",
      "|    loss           | -25.3    |\n",
      "|    neglogp        | -25.3    |\n",
      "|    prob_true_act  | 1.32e+14 |\n",
      "|    samples_so_far | 16032    |\n",
      "--------------------------------\n"
     ]
    },
    {
     "name": "stderr",
     "output_type": "stream",
     "text": [
      "995batch [00:04, 192.74batch/s]"
     ]
    },
    {
     "name": "stdout",
     "output_type": "stream",
     "text": [
      "--------------------------------\n",
      "| batch_size        | 32       |\n",
      "| bc/               |          |\n",
      "|    batch          | 1000     |\n",
      "|    ent_loss       | 0.027    |\n",
      "|    entropy        | -27      |\n",
      "|    epoch          | 16       |\n",
      "|    l2_loss        | 0        |\n",
      "|    l2_norm        | 1.25e+03 |\n",
      "|    loss           | -27      |\n",
      "|    neglogp        | -27      |\n",
      "|    prob_true_act  | 4.13e+12 |\n",
      "|    samples_so_far | 32032    |\n",
      "--------------------------------\n"
     ]
    },
    {
     "name": "stderr",
     "output_type": "stream",
     "text": [
      "1240batch [00:06, 198.00batch/s]\n",
      "0batch [00:00, ?batch/s]"
     ]
    },
    {
     "name": "stdout",
     "output_type": "stream",
     "text": [
      "--------------------------------\n",
      "| batch_size        | 32       |\n",
      "| bc/               |          |\n",
      "|    batch          | 0        |\n",
      "|    ent_loss       | 0.0238   |\n",
      "|    entropy        | -23.8    |\n",
      "|    epoch          | 0        |\n",
      "|    l2_loss        | 0        |\n",
      "|    l2_norm        | 1.25e+03 |\n",
      "|    loss           | -23.8    |\n",
      "|    neglogp        | -23.8    |\n",
      "|    prob_true_act  | 8.87e+13 |\n",
      "|    samples_so_far | 32       |\n",
      "--------------------------------\n"
     ]
    },
    {
     "name": "stderr",
     "output_type": "stream",
     "text": [
      "491batch [00:05, 198.11batch/s]"
     ]
    },
    {
     "name": "stdout",
     "output_type": "stream",
     "text": [
      "--------------------------------\n",
      "| batch_size        | 32       |\n",
      "| bc/               |          |\n",
      "|    batch          | 500      |\n",
      "|    ent_loss       | 0.0221   |\n",
      "|    entropy        | -22.1    |\n",
      "|    epoch          | 8        |\n",
      "|    l2_loss        | 0        |\n",
      "|    l2_norm        | 1.27e+03 |\n",
      "|    loss           | -22      |\n",
      "|    neglogp        | -22.1    |\n",
      "|    prob_true_act  | 7.86e+11 |\n",
      "|    samples_so_far | 16032    |\n",
      "--------------------------------\n"
     ]
    },
    {
     "name": "stderr",
     "output_type": "stream",
     "text": [
      "995batch [00:08, 208.00batch/s]"
     ]
    },
    {
     "name": "stdout",
     "output_type": "stream",
     "text": [
      "--------------------------------\n",
      "| batch_size        | 32       |\n",
      "| bc/               |          |\n",
      "|    batch          | 1000     |\n",
      "|    ent_loss       | 0.0268   |\n",
      "|    entropy        | -26.8    |\n",
      "|    epoch          | 16       |\n",
      "|    l2_loss        | 0        |\n",
      "|    l2_norm        | 1.29e+03 |\n",
      "|    loss           | -26.8    |\n",
      "|    neglogp        | -26.8    |\n",
      "|    prob_true_act  | 4.2e+12  |\n",
      "|    samples_so_far | 32032    |\n",
      "--------------------------------\n"
     ]
    },
    {
     "name": "stderr",
     "output_type": "stream",
     "text": [
      "1240batch [00:09, 130.49batch/s]\n"
     ]
    },
    {
     "name": "stdout",
     "output_type": "stream",
     "text": [
      "/data/bing/hendrik/Evaluate Baseline/TQC 10 BC best\n"
     ]
    },
    {
     "name": "stderr",
     "output_type": "stream",
     "text": [
      "0batch [00:00, ?batch/s]"
     ]
    },
    {
     "name": "stdout",
     "output_type": "stream",
     "text": [
      "--------------------------------\n",
      "| batch_size        | 32       |\n",
      "| bc/               |          |\n",
      "|    batch          | 0        |\n",
      "|    ent_loss       | 0.0254   |\n",
      "|    entropy        | -25.4    |\n",
      "|    epoch          | 0        |\n",
      "|    l2_loss        | 0        |\n",
      "|    l2_norm        | 1.29e+03 |\n",
      "|    loss           | -25.4    |\n",
      "|    neglogp        | -25.4    |\n",
      "|    prob_true_act  | 3.58e+12 |\n",
      "|    samples_so_far | 32       |\n",
      "--------------------------------\n"
     ]
    },
    {
     "name": "stderr",
     "output_type": "stream",
     "text": [
      "495batch [00:02, 206.86batch/s]"
     ]
    },
    {
     "name": "stdout",
     "output_type": "stream",
     "text": [
      "--------------------------------\n",
      "| batch_size        | 32       |\n",
      "| bc/               |          |\n",
      "|    batch          | 500      |\n",
      "|    ent_loss       | 0.0244   |\n",
      "|    entropy        | -24.4    |\n",
      "|    epoch          | 8        |\n",
      "|    l2_loss        | 0        |\n",
      "|    l2_norm        | 1.31e+03 |\n",
      "|    loss           | -24.4    |\n",
      "|    neglogp        | -24.4    |\n",
      "|    prob_true_act  | 3.52e+14 |\n",
      "|    samples_so_far | 16032    |\n",
      "--------------------------------\n"
     ]
    },
    {
     "name": "stderr",
     "output_type": "stream",
     "text": [
      "999batch [00:05, 201.92batch/s]"
     ]
    },
    {
     "name": "stdout",
     "output_type": "stream",
     "text": [
      "--------------------------------\n",
      "| batch_size        | 32       |\n",
      "| bc/               |          |\n",
      "|    batch          | 1000     |\n",
      "|    ent_loss       | 0.0271   |\n",
      "|    entropy        | -27.1    |\n",
      "|    epoch          | 16       |\n",
      "|    l2_loss        | 0        |\n",
      "|    l2_norm        | 1.32e+03 |\n",
      "|    loss           | -27.1    |\n",
      "|    neglogp        | -27.1    |\n",
      "|    prob_true_act  | 7.72e+13 |\n",
      "|    samples_so_far | 32032    |\n",
      "--------------------------------\n"
     ]
    },
    {
     "name": "stderr",
     "output_type": "stream",
     "text": [
      "1240batch [00:06, 198.76batch/s]\n",
      "0batch [00:00, ?batch/s]"
     ]
    },
    {
     "name": "stdout",
     "output_type": "stream",
     "text": [
      "--------------------------------\n",
      "| batch_size        | 32       |\n",
      "| bc/               |          |\n",
      "|    batch          | 0        |\n",
      "|    ent_loss       | 0.0247   |\n",
      "|    entropy        | -24.7    |\n",
      "|    epoch          | 0        |\n",
      "|    l2_loss        | 0        |\n",
      "|    l2_norm        | 1.33e+03 |\n",
      "|    loss           | -24.7    |\n",
      "|    neglogp        | -24.7    |\n",
      "|    prob_true_act  | 4.91e+13 |\n",
      "|    samples_so_far | 32       |\n",
      "--------------------------------\n"
     ]
    },
    {
     "name": "stderr",
     "output_type": "stream",
     "text": [
      "488batch [00:02, 181.00batch/s]"
     ]
    },
    {
     "name": "stdout",
     "output_type": "stream",
     "text": [
      "--------------------------------\n",
      "| batch_size        | 32       |\n",
      "| bc/               |          |\n",
      "|    batch          | 500      |\n",
      "|    ent_loss       | 0.0234   |\n",
      "|    entropy        | -23.4    |\n",
      "|    epoch          | 8        |\n",
      "|    l2_loss        | 0        |\n",
      "|    l2_norm        | 1.35e+03 |\n",
      "|    loss           | -23.4    |\n",
      "|    neglogp        | -23.4    |\n",
      "|    prob_true_act  | 2.38e+12 |\n",
      "|    samples_so_far | 16032    |\n",
      "--------------------------------\n"
     ]
    },
    {
     "name": "stderr",
     "output_type": "stream",
     "text": [
      "986batch [00:05, 188.86batch/s]"
     ]
    },
    {
     "name": "stdout",
     "output_type": "stream",
     "text": [
      "--------------------------------\n",
      "| batch_size        | 32       |\n",
      "| bc/               |          |\n",
      "|    batch          | 1000     |\n",
      "|    ent_loss       | 0.0255   |\n",
      "|    entropy        | -25.5    |\n",
      "|    epoch          | 16       |\n",
      "|    l2_loss        | 0        |\n",
      "|    l2_norm        | 1.36e+03 |\n",
      "|    loss           | -25.5    |\n",
      "|    neglogp        | -25.5    |\n",
      "|    prob_true_act  | 6.53e+12 |\n",
      "|    samples_so_far | 32032    |\n",
      "--------------------------------\n"
     ]
    },
    {
     "name": "stderr",
     "output_type": "stream",
     "text": [
      "1240batch [00:06, 178.51batch/s]\n"
     ]
    },
    {
     "name": "stdout",
     "output_type": "stream",
     "text": [
      "/data/bing/hendrik/Evaluate Baseline/TQC 10 BC best\n",
      "before learn\n",
      "after learn\n",
      "10\n",
      "before learn\n",
      "after learn\n",
      "20\n",
      "before learn\n",
      "after learn\n",
      "30\n"
     ]
    },
    {
     "ename": "KeyboardInterrupt",
     "evalue": "",
     "output_type": "error",
     "traceback": [
      "\u001b[0;31m---------------------------------------------------------------------------\u001b[0m",
      "\u001b[0;31mKeyboardInterrupt\u001b[0m                         Traceback (most recent call last)",
      "Cell \u001b[0;32mIn [21], line 6\u001b[0m\n\u001b[1;32m      4\u001b[0m pomdp_env, pomdp_vec_expert \u001b[39m=\u001b[39m make_dummy_vec_env_pomdp(name\u001b[39m=\u001b[39menv_tag, seq_len\u001b[39m=\u001b[39mseq_len, lookup_freq\u001b[39m=\u001b[39mlookup_freq)\n\u001b[1;32m      5\u001b[0m tqc_learner \u001b[39m=\u001b[39m TQC(policy\u001b[39m=\u001b[39m\u001b[39m'\u001b[39m\u001b[39mMlpPolicy\u001b[39m\u001b[39m'\u001b[39m, env\u001b[39m=\u001b[39mpomdp_env, device\u001b[39m=\u001b[39mdevice)\n\u001b[0;32m----> 6\u001b[0m evaluate_learner(env_tag, \u001b[39m'\u001b[39;49m\u001b[39mTQC 10\u001b[39;49m\u001b[39m'\u001b[39;49m, save_path\u001b[39m=\u001b[39;49m\u001b[39m'\u001b[39;49m\u001b[39m/data/bing/hendrik/Evaluate Baseline/\u001b[39;49m\u001b[39m'\u001b[39;49m, seq_len\u001b[39m=\u001b[39;49mseq_len, n_demonstrations\u001b[39m=\u001b[39;49m\u001b[39m10\u001b[39;49m, bc_epochs\u001b[39m=\u001b[39;49m\u001b[39m400\u001b[39;49m, n_samples\u001b[39m=\u001b[39;49m\u001b[39m400\u001b[39;49m, device\u001b[39m=\u001b[39;49m\u001b[39m'\u001b[39;49m\u001b[39mcuda\u001b[39;49m\u001b[39m'\u001b[39;49m, learner\u001b[39m=\u001b[39;49mtqc_learner)\n",
      "Cell \u001b[0;32mIn [20], line 53\u001b[0m, in \u001b[0;36mevaluate_learner\u001b[0;34m(env_tag, logname, save_path, seq_len, n_demonstrations, bc_epochs, n_samples, device, learner)\u001b[0m\n\u001b[1;32m     51\u001b[0m \u001b[39mprint\u001b[39m(\u001b[39m'\u001b[39m\u001b[39mafter learn\u001b[39m\u001b[39m'\u001b[39m)\n\u001b[1;32m     52\u001b[0m \u001b[39mprint\u001b[39m(learner\u001b[39m.\u001b[39menv\u001b[39m.\u001b[39menvs[\u001b[39m0\u001b[39m]\u001b[39m.\u001b[39mreset_count)\n\u001b[0;32m---> 53\u001b[0m success, rews \u001b[39m=\u001b[39m get_avr_succ_rew_det(env\u001b[39m=\u001b[39;49mpomdp_env_val, learner\u001b[39m=\u001b[39;49mlearner\u001b[39m.\u001b[39;49mpolicy, epsiodes\u001b[39m=\u001b[39;49m\u001b[39m200\u001b[39;49m)\n\u001b[1;32m     54\u001b[0m success_rate \u001b[39m=\u001b[39m success\u001b[39m.\u001b[39mmean()\n\u001b[1;32m     55\u001b[0m tboard\u001b[39m.\u001b[39maddValidationScalar(\u001b[39m'\u001b[39m\u001b[39mReward\u001b[39m\u001b[39m'\u001b[39m, value\u001b[39m=\u001b[39mth\u001b[39m.\u001b[39mtensor(rews\u001b[39m.\u001b[39mmean()), stepid\u001b[39m=\u001b[39mpomdp_env\u001b[39m.\u001b[39menvs[\u001b[39m0\u001b[39m]\u001b[39m.\u001b[39mreset_count)\n",
      "File \u001b[0;32m~/Documents/master_project/Code/active_critic/src/active_critic/utils/gym_utils.py:401\u001b[0m, in \u001b[0;36mget_avr_succ_rew_det\u001b[0;34m(env, learner, epsiodes)\u001b[0m\n\u001b[1;32m    399\u001b[0m done \u001b[39m=\u001b[39m \u001b[39mFalse\u001b[39;00m\n\u001b[1;32m    400\u001b[0m \u001b[39mwhile\u001b[39;00m \u001b[39mnot\u001b[39;00m done:\n\u001b[0;32m--> 401\u001b[0m     action, _ \u001b[39m=\u001b[39m learner\u001b[39m.\u001b[39;49mpredict(obs, deterministic\u001b[39m=\u001b[39;49m\u001b[39mTrue\u001b[39;49;00m)\n\u001b[1;32m    402\u001b[0m     obs, rew, done, info \u001b[39m=\u001b[39m env\u001b[39m.\u001b[39mstep(action)\n\u001b[1;32m    403\u001b[0m     rews\u001b[39m.\u001b[39mappend(rew)\n",
      "File \u001b[0;32m~/anaconda3/envs/ac/lib/python3.10/site-packages/stable_baselines3/common/policies.py:363\u001b[0m, in \u001b[0;36mBasePolicy.predict\u001b[0;34m(self, observation, state, episode_start, deterministic)\u001b[0m\n\u001b[1;32m    360\u001b[0m observation, vectorized_env \u001b[39m=\u001b[39m \u001b[39mself\u001b[39m\u001b[39m.\u001b[39mobs_to_tensor(observation)\n\u001b[1;32m    362\u001b[0m \u001b[39mwith\u001b[39;00m th\u001b[39m.\u001b[39mno_grad():\n\u001b[0;32m--> 363\u001b[0m     actions \u001b[39m=\u001b[39m \u001b[39mself\u001b[39;49m\u001b[39m.\u001b[39;49m_predict(observation, deterministic\u001b[39m=\u001b[39;49mdeterministic)\n\u001b[1;32m    364\u001b[0m \u001b[39m# Convert to numpy, and reshape to the original action shape\u001b[39;00m\n\u001b[1;32m    365\u001b[0m actions \u001b[39m=\u001b[39m actions\u001b[39m.\u001b[39mcpu()\u001b[39m.\u001b[39mnumpy()\u001b[39m.\u001b[39mreshape((\u001b[39m-\u001b[39m\u001b[39m1\u001b[39m,) \u001b[39m+\u001b[39m \u001b[39mself\u001b[39m\u001b[39m.\u001b[39maction_space\u001b[39m.\u001b[39mshape)\n",
      "File \u001b[0;32m~/Documents/master_project/Code/active_critic/src/active_critic/TQC/tqc_policy.py:486\u001b[0m, in \u001b[0;36mTQCPolicyEval._predict\u001b[0;34m(self, observation, deterministic)\u001b[0m\n\u001b[1;32m    485\u001b[0m \u001b[39mdef\u001b[39;00m \u001b[39m_predict\u001b[39m(\u001b[39mself\u001b[39m, observation: th\u001b[39m.\u001b[39mTensor, deterministic: \u001b[39mbool\u001b[39m \u001b[39m=\u001b[39m \u001b[39mFalse\u001b[39;00m) \u001b[39m-\u001b[39m\u001b[39m>\u001b[39m th\u001b[39m.\u001b[39mTensor:\n\u001b[0;32m--> 486\u001b[0m     \u001b[39mreturn\u001b[39;00m \u001b[39mself\u001b[39;49m\u001b[39m.\u001b[39;49mactor(observation, deterministic)\n",
      "File \u001b[0;32m~/anaconda3/envs/ac/lib/python3.10/site-packages/torch/nn/modules/module.py:1194\u001b[0m, in \u001b[0;36mModule._call_impl\u001b[0;34m(self, *input, **kwargs)\u001b[0m\n\u001b[1;32m   1190\u001b[0m \u001b[39m# If we don't have any hooks, we want to skip the rest of the logic in\u001b[39;00m\n\u001b[1;32m   1191\u001b[0m \u001b[39m# this function, and just call forward.\u001b[39;00m\n\u001b[1;32m   1192\u001b[0m \u001b[39mif\u001b[39;00m \u001b[39mnot\u001b[39;00m (\u001b[39mself\u001b[39m\u001b[39m.\u001b[39m_backward_hooks \u001b[39mor\u001b[39;00m \u001b[39mself\u001b[39m\u001b[39m.\u001b[39m_forward_hooks \u001b[39mor\u001b[39;00m \u001b[39mself\u001b[39m\u001b[39m.\u001b[39m_forward_pre_hooks \u001b[39mor\u001b[39;00m _global_backward_hooks\n\u001b[1;32m   1193\u001b[0m         \u001b[39mor\u001b[39;00m _global_forward_hooks \u001b[39mor\u001b[39;00m _global_forward_pre_hooks):\n\u001b[0;32m-> 1194\u001b[0m     \u001b[39mreturn\u001b[39;00m forward_call(\u001b[39m*\u001b[39;49m\u001b[39minput\u001b[39;49m, \u001b[39m*\u001b[39;49m\u001b[39m*\u001b[39;49mkwargs)\n\u001b[1;32m   1195\u001b[0m \u001b[39m# Do not call functions when jit is used\u001b[39;00m\n\u001b[1;32m   1196\u001b[0m full_backward_hooks, non_full_backward_hooks \u001b[39m=\u001b[39m [], []\n",
      "File \u001b[0;32m~/Documents/master_project/Code/active_critic/src/active_critic/TQC/tqc_policy.py:240\u001b[0m, in \u001b[0;36mActor.forward\u001b[0;34m(self, obs, deterministic)\u001b[0m\n\u001b[1;32m    238\u001b[0m mean_actions, log_std, kwargs \u001b[39m=\u001b[39m \u001b[39mself\u001b[39m\u001b[39m.\u001b[39mget_action_dist_params(obs)\n\u001b[1;32m    239\u001b[0m \u001b[39m# Note: the action is squashed\u001b[39;00m\n\u001b[0;32m--> 240\u001b[0m \u001b[39mreturn\u001b[39;00m \u001b[39mself\u001b[39;49m\u001b[39m.\u001b[39;49maction_dist\u001b[39m.\u001b[39;49mactions_from_params(mean_actions, log_std, deterministic\u001b[39m=\u001b[39;49mdeterministic, \u001b[39m*\u001b[39;49m\u001b[39m*\u001b[39;49mkwargs)\n",
      "File \u001b[0;32m~/anaconda3/envs/ac/lib/python3.10/site-packages/stable_baselines3/common/distributions.py:179\u001b[0m, in \u001b[0;36mDiagGaussianDistribution.actions_from_params\u001b[0;34m(self, mean_actions, log_std, deterministic)\u001b[0m\n\u001b[1;32m    177\u001b[0m \u001b[39mdef\u001b[39;00m \u001b[39mactions_from_params\u001b[39m(\u001b[39mself\u001b[39m, mean_actions: th\u001b[39m.\u001b[39mTensor, log_std: th\u001b[39m.\u001b[39mTensor, deterministic: \u001b[39mbool\u001b[39m \u001b[39m=\u001b[39m \u001b[39mFalse\u001b[39;00m) \u001b[39m-\u001b[39m\u001b[39m>\u001b[39m th\u001b[39m.\u001b[39mTensor:\n\u001b[1;32m    178\u001b[0m     \u001b[39m# Update the proba distribution\u001b[39;00m\n\u001b[0;32m--> 179\u001b[0m     \u001b[39mself\u001b[39;49m\u001b[39m.\u001b[39;49mproba_distribution(mean_actions, log_std)\n\u001b[1;32m    180\u001b[0m     \u001b[39mreturn\u001b[39;00m \u001b[39mself\u001b[39m\u001b[39m.\u001b[39mget_actions(deterministic\u001b[39m=\u001b[39mdeterministic)\n",
      "File \u001b[0;32m~/anaconda3/envs/ac/lib/python3.10/site-packages/stable_baselines3/common/distributions.py:211\u001b[0m, in \u001b[0;36mSquashedDiagGaussianDistribution.proba_distribution\u001b[0;34m(self, mean_actions, log_std)\u001b[0m\n\u001b[1;32m    210\u001b[0m \u001b[39mdef\u001b[39;00m \u001b[39mproba_distribution\u001b[39m(\u001b[39mself\u001b[39m, mean_actions: th\u001b[39m.\u001b[39mTensor, log_std: th\u001b[39m.\u001b[39mTensor) \u001b[39m-\u001b[39m\u001b[39m>\u001b[39m \u001b[39m\"\u001b[39m\u001b[39mSquashedDiagGaussianDistribution\u001b[39m\u001b[39m\"\u001b[39m:\n\u001b[0;32m--> 211\u001b[0m     \u001b[39msuper\u001b[39;49m()\u001b[39m.\u001b[39;49mproba_distribution(mean_actions, log_std)\n\u001b[1;32m    212\u001b[0m     \u001b[39mreturn\u001b[39;00m \u001b[39mself\u001b[39m\n",
      "File \u001b[0;32m~/anaconda3/envs/ac/lib/python3.10/site-packages/stable_baselines3/common/distributions.py:153\u001b[0m, in \u001b[0;36mDiagGaussianDistribution.proba_distribution\u001b[0;34m(self, mean_actions, log_std)\u001b[0m\n\u001b[1;32m    145\u001b[0m \u001b[39m\"\"\"\u001b[39;00m\n\u001b[1;32m    146\u001b[0m \u001b[39mCreate the distribution given its parameters (mean, std)\u001b[39;00m\n\u001b[1;32m    147\u001b[0m \n\u001b[0;32m   (...)\u001b[0m\n\u001b[1;32m    150\u001b[0m \u001b[39m:return:\u001b[39;00m\n\u001b[1;32m    151\u001b[0m \u001b[39m\"\"\"\u001b[39;00m\n\u001b[1;32m    152\u001b[0m action_std \u001b[39m=\u001b[39m th\u001b[39m.\u001b[39mones_like(mean_actions) \u001b[39m*\u001b[39m log_std\u001b[39m.\u001b[39mexp()\n\u001b[0;32m--> 153\u001b[0m \u001b[39mself\u001b[39m\u001b[39m.\u001b[39mdistribution \u001b[39m=\u001b[39m Normal(mean_actions, action_std)\n\u001b[1;32m    154\u001b[0m \u001b[39mreturn\u001b[39;00m \u001b[39mself\u001b[39m\n",
      "File \u001b[0;32m~/anaconda3/envs/ac/lib/python3.10/site-packages/torch/distributions/normal.py:56\u001b[0m, in \u001b[0;36mNormal.__init__\u001b[0;34m(self, loc, scale, validate_args)\u001b[0m\n\u001b[1;32m     54\u001b[0m \u001b[39melse\u001b[39;00m:\n\u001b[1;32m     55\u001b[0m     batch_shape \u001b[39m=\u001b[39m \u001b[39mself\u001b[39m\u001b[39m.\u001b[39mloc\u001b[39m.\u001b[39msize()\n\u001b[0;32m---> 56\u001b[0m \u001b[39msuper\u001b[39;49m(Normal, \u001b[39mself\u001b[39;49m)\u001b[39m.\u001b[39;49m\u001b[39m__init__\u001b[39;49m(batch_shape, validate_args\u001b[39m=\u001b[39;49mvalidate_args)\n",
      "File \u001b[0;32m~/anaconda3/envs/ac/lib/python3.10/site-packages/torch/distributions/distribution.py:55\u001b[0m, in \u001b[0;36mDistribution.__init__\u001b[0;34m(self, batch_shape, event_shape, validate_args)\u001b[0m\n\u001b[1;32m     53\u001b[0m         value \u001b[39m=\u001b[39m \u001b[39mgetattr\u001b[39m(\u001b[39mself\u001b[39m, param)\n\u001b[1;32m     54\u001b[0m         valid \u001b[39m=\u001b[39m constraint\u001b[39m.\u001b[39mcheck(value)\n\u001b[0;32m---> 55\u001b[0m         \u001b[39mif\u001b[39;00m \u001b[39mnot\u001b[39;00m valid\u001b[39m.\u001b[39;49mall():\n\u001b[1;32m     56\u001b[0m             \u001b[39mraise\u001b[39;00m \u001b[39mValueError\u001b[39;00m(\n\u001b[1;32m     57\u001b[0m                 \u001b[39mf\u001b[39m\u001b[39m\"\u001b[39m\u001b[39mExpected parameter \u001b[39m\u001b[39m{\u001b[39;00mparam\u001b[39m}\u001b[39;00m\u001b[39m \u001b[39m\u001b[39m\"\u001b[39m\n\u001b[1;32m     58\u001b[0m                 \u001b[39mf\u001b[39m\u001b[39m\"\u001b[39m\u001b[39m(\u001b[39m\u001b[39m{\u001b[39;00m\u001b[39mtype\u001b[39m(value)\u001b[39m.\u001b[39m\u001b[39m__name__\u001b[39m\u001b[39m}\u001b[39;00m\u001b[39m of shape \u001b[39m\u001b[39m{\u001b[39;00m\u001b[39mtuple\u001b[39m(value\u001b[39m.\u001b[39mshape)\u001b[39m}\u001b[39;00m\u001b[39m) \u001b[39m\u001b[39m\"\u001b[39m\n\u001b[0;32m   (...)\u001b[0m\n\u001b[1;32m     61\u001b[0m                 \u001b[39mf\u001b[39m\u001b[39m\"\u001b[39m\u001b[39mbut found invalid values:\u001b[39m\u001b[39m\\n\u001b[39;00m\u001b[39m{\u001b[39;00mvalue\u001b[39m}\u001b[39;00m\u001b[39m\"\u001b[39m\n\u001b[1;32m     62\u001b[0m             )\n\u001b[1;32m     63\u001b[0m \u001b[39msuper\u001b[39m(Distribution, \u001b[39mself\u001b[39m)\u001b[39m.\u001b[39m\u001b[39m__init__\u001b[39m()\n",
      "\u001b[0;31mKeyboardInterrupt\u001b[0m: "
     ]
    },
    {
     "data": {
      "image/png": "[encoded data removed]",
      "text/plain": [
       "<Figure size 640x480 with 4 Axes>"
      ]
     },
     "metadata": {},
     "output_type": "display_data"
    },
    {
     "data": {
      "image/png": "[encoded data removed]",
      "text/plain": [
       "<Figure size 640x480 with 4 Axes>"
      ]
     },
     "metadata": {},
     "output_type": "display_data"
    }
   ],
   "source": [
    "device = 'cuda'\n",
    "env_tag = 'pickplace'\n",
    "seq_len = 200\n",
    "pomdp_env, pomdp_vec_expert = make_dummy_vec_env_pomdp(name=env_tag, seq_len=seq_len, lookup_freq=lookup_freq)\n",
    "tqc_learner = TQC(policy='MlpPolicy', env=pomdp_env, device=device)\n",
    "evaluate_learner(env_tag, 'TQC 10', save_path='/data/bing/hendrik/Evaluate Baseline/', seq_len=seq_len, n_demonstrations=10, bc_epochs=400, n_samples=400, device='cuda', learner=tqc_learner)"
   ]
  },
  {
   "cell_type": "code",
   "execution_count": null,
   "metadata": {},
   "outputs": [],
   "source": []
  }
 ],
 "metadata": {
  "kernelspec": {
   "display_name": "ac",
   "language": "python",
   "name": "python3"
  },
  "language_info": {
   "codemirror_mode": {
    "name": "ipython",
    "version": 3
   },
   "file_extension": ".py",
   "mimetype": "text/x-python",
   "name": "python",
   "nbconvert_exporter": "python",
   "pygments_lexer": "ipython3",
   "version": "3.10.6 (main, Oct  7 2022, 20:19:58) [GCC 11.2.0]"
  },
  "orig_nbformat": 4,
  "vscode": {
   "interpreter": {
    "hash": "c27e8fa6375f4d15af5a5f5541d8bb88746b588c9fe1102cfd8de011d36c10c2"
   }
  }
 },
 "nbformat": 4,
 "nbformat_minor": 2
}
