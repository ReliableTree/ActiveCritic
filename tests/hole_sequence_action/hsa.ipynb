{
 "cells": [
  {
   "cell_type": "code",
   "execution_count": 1,
   "metadata": {},
   "outputs": [
    {
     "name": "stderr",
     "output_type": "stream",
     "text": [
      "/home/hendrik/anaconda3/envs/ac/lib/python3.10/site-packages/tqdm/auto.py:22: TqdmWarning: IProgress not found. Please update jupyter and ipywidgets. See https://ipywidgets.readthedocs.io/en/stable/user_install.html\n",
      "  from .autonotebook import tqdm as notebook_tqdm\n"
     ]
    }
   ],
   "source": [
    "import torch as th\n",
    "import torch.nn as nn\n",
    "from active_critic.model_src.state_model import StateModel, StateModelArgs\n",
    "from active_critic.model_src.whole_sequence_model import WholeSequenceModel, WholeSequenceModelArgs\n",
    "from active_critic.model_src.transformer import TransformerModel, ModelSetup\n",
    "from active_critic.utils.pytorch_utils import generate_square_subsequent_mask, build_tf_horizon_mask\n",
    "from typing import Union"
   ]
  },
  {
   "cell_type": "code",
   "execution_count": 2,
   "metadata": {},
   "outputs": [],
   "source": [
    "a = th.tensor([1,2,3.], requires_grad=True)\n",
    "a = a.clamp(1.5,2.5)"
   ]
  },
  {
   "cell_type": "code",
   "execution_count": 3,
   "metadata": {},
   "outputs": [
    {
     "data": {
      "text/plain": [
       "tensor([1.5000, 2.0000, 2.5000], grad_fn=<ClampBackward1>)"
      ]
     },
     "execution_count": 3,
     "metadata": {},
     "output_type": "execute_result"
    }
   ],
   "source": [
    "a"
   ]
  },
  {
   "cell_type": "code",
   "execution_count": 4,
   "metadata": {},
   "outputs": [],
   "source": [
    "def build_seq(\n",
    "    embeddings:th.Tensor,\n",
    "    actions:th.Tensor,\n",
    "    seq_len:int,\n",
    "    goal_state:th.Tensor, \n",
    "    goal_emb_acts:th.Tensor, \n",
    "    tf_mask:th.Tensor,\n",
    "    actor:StateModel, \n",
    "    predictor: Union[WholeSequenceModel, StateModel] ):\n",
    "    init_embedding = embeddings.detach().clone()\n",
    "    for i in range(seq_len - 1):\n",
    "        embeddings = embeddings.detach()\n",
    "        if actions is None or actions.shape[1] == i:\n",
    "            actions = actor.forward(embeddings)\n",
    "        act_emb = th.cat((actions[:,:i+1], embeddings), dim=-1)\n",
    "        next_embedings = predictor.forward(inputs=act_emb, tf_mask=tf_mask[:i+1, :i+1])\n",
    "        embeddings = th.cat((init_embedding.clone(), next_embedings), dim=1)\n",
    "    if actions.shape[1] == seq_len - 1:\n",
    "        actions = th.cat((actions, actor.forward(embeddings[:,-1:])), dim=1)\n",
    "    return embeddings, actions\n"
   ]
  },
  {
   "cell_type": "code",
   "execution_count": 5,
   "metadata": {},
   "outputs": [],
   "source": [
    "batch_size = 3\n",
    "embedding_size = 20\n",
    "action_dim = 10\n",
    "layers = 2\n",
    "seq_len = 1\n",
    "ac_seq_len = 4\n",
    "\n",
    "ms = ModelSetup()\n",
    "ms.d_hid=20\n",
    "ms.d_model = 20\n",
    "ms.d_output=embedding_size\n",
    "ms.device='cpu'\n",
    "ms.dropout=0\n",
    "ms.nhead=1\n",
    "ms.nlayers=2\n",
    "ms.seq_len = ac_seq_len+1\n",
    "\n",
    "wsma = WholeSequenceModelArgs()\n",
    "wsma.model_setup = ms\n",
    "wsma.optimizer_class = th.optim.Adam\n",
    "wsma.lr = 1e-3\n",
    "wsma.name = 'test'\n",
    "\n",
    "predictor = WholeSequenceModel(args=wsma)\n",
    "\n",
    "sma = StateModelArgs()\n",
    "sma.arch = [10,action_dim]\n",
    "sma.device = 'cpu'\n",
    "sma.lr = 1e-3\n",
    "action_model = StateModel(args=sma)\n",
    "\n",
    "zero_actions = th.zeros([batch_size, ac_seq_len+1, action_dim], dtype=th.float32, requires_grad=True)\n",
    "\n",
    "init_embeddng = th.ones([batch_size, 1, embedding_size], requires_grad=True, dtype=th.float32)\n",
    "konstant_embedding = th.ones([batch_size, ac_seq_len+1, embedding_size])\n",
    "goal_embeddng = th.zeros([batch_size, embedding_size], requires_grad=True, dtype=th.float32)\n",
    "goal_emb_act = th.cat((th.zeros_like(konstant_embedding[:,-1]), th.zeros_like(zero_actions[:,-1])), dim=1)\n",
    "tf_mask = generate_square_subsequent_mask(ac_seq_len+1)\n"
   ]
  },
  {
   "cell_type": "code",
   "execution_count": 6,
   "metadata": {},
   "outputs": [
    {
     "data": {
      "text/plain": [
       "tensor([[0., -inf, -inf, -inf],\n",
       "        [0., 0., -inf, -inf],\n",
       "        [0., 0., 0., -inf],\n",
       "        [0., 0., 0., 0.]])"
      ]
     },
     "execution_count": 6,
     "metadata": {},
     "output_type": "execute_result"
    }
   ],
   "source": [
    "build_tf_horizon_mask(4, 4, 'cpu')"
   ]
  },
  {
   "cell_type": "code",
   "execution_count": 98,
   "metadata": {},
   "outputs": [],
   "source": [
    "new_embeddings, new_actions = build_seq(actor=action_model, predictor=predictor, seq_len=ac_seq_len, embeddings=init_embeddng, tf_mask=tf_mask, actions=None, goal_state=None, goal_emb_acts=None)"
   ]
  },
  {
   "cell_type": "code",
   "execution_count": 100,
   "metadata": {},
   "outputs": [
    {
     "data": {
      "text/plain": [
       "torch.Size([3, 4, 20])"
      ]
     },
     "execution_count": 100,
     "metadata": {},
     "output_type": "execute_result"
    }
   ],
   "source": [
    "new_embeddings.shape"
   ]
  },
  {
   "cell_type": "code",
   "execution_count": null,
   "metadata": {},
   "outputs": [],
   "source": [
    "params_list = []\n",
    "params_list += list(action_model.parameters())\n",
    "params_list+= list(predictor.parameters())\n",
    "\n",
    "optimizer = th.optim.Adam(params_list, lr=1e-3)"
   ]
  },
  {
   "cell_type": "code",
   "execution_count": null,
   "metadata": {},
   "outputs": [],
   "source": [
    "tf_mask = generate_square_subsequent_mask(ac_seq_len+1)\n",
    "for i in range(200):\n",
    "    embeddings, const_actions = build_seq(actor=action_model, predictor=predictor, seq_len=ac_seq_len, embeddings=init_embeddng, tf_mask=tf_mask)\n",
    "    optimizer.zero_grad()\n",
    "    emb_loss = ((th.cat((embeddings[:,-1], const_actions[:,-1]), dim=1) - goal_emb_act)**2).mean()\n",
    "    emb_loss.backward()\n",
    "    optimizer.step()\n",
    "\n",
    "    embeddings, actions = build_seq(actor=action_model, predictor=predictor, seq_len=ac_seq_len, embeddings=init_embeddng, tf_mask=tf_mask, actions=zero_actions)\n",
    "    optimizer.zero_grad()\n",
    "    konst_loss = ((embeddings - konstant_embedding)**2).mean()\n",
    "    konst_loss.backward()\n",
    "    optimizer.step()\n",
    "    if i % 10 == 0:\n",
    "        print('______________________')\n",
    "        print(f'kl: {konst_loss}')\n",
    "        print(f'el: {emb_loss}')\n"
   ]
  },
  {
   "cell_type": "code",
   "execution_count": null,
   "metadata": {},
   "outputs": [],
   "source": [
    "embeddings, actions = build_seq(actor=action_model, predictor=predictor, seq_len=ac_seq_len, embeddings=init_embeddng, tf_mask=tf_mask, actions=zero_actions)\n"
   ]
  },
  {
   "cell_type": "code",
   "execution_count": null,
   "metadata": {},
   "outputs": [],
   "source": [
    "zero_actions = th.zeros([batch_size, ac_seq_len+1, action_dim], dtype=th.float32, requires_grad=True)\n",
    "act_opt = th.optim.Adam([zero_actions], lr=1e-2)\n",
    "\n",
    "for i in range(1000):\n",
    "    embeddings, actions = build_seq(actor=action_model, predictor=predictor, seq_len=ac_seq_len, embeddings=init_embeddng, tf_mask=tf_mask, actions=zero_actions)\n",
    "    act_opt.zero_grad()\n",
    "    act_loss = ((th.cat((embeddings[:,-1], actions[:,-1]), dim=1) - goal_emb_act)**2).mean()\n",
    "    act_loss.backward()\n",
    "    act_opt.step()\n",
    "    if i % 10 == 0:\n",
    "        print(act_loss)"
   ]
  },
  {
   "cell_type": "code",
   "execution_count": 84,
   "metadata": {},
   "outputs": [
    {
     "data": {
      "text/plain": [
       "tensor([[[ 0.5164,  0.6334,  0.1692,  0.4370,  0.2631, -0.8581,  0.0290,\n",
       "          -0.0294,  0.1332,  0.0104],\n",
       "         [ 0.4611,  1.1811, -0.9004,  0.3003,  0.1788, -1.0660,  0.1180,\n",
       "           0.0105, -0.7085, -0.1959],\n",
       "         [ 0.4386,  1.2712, -0.9857,  0.1112,  0.4578, -1.5414,  0.4657,\n",
       "          -0.1728, -1.0671, -0.3941],\n",
       "         [-0.1232,  0.2503,  0.8597,  0.1416,  0.7080, -0.5630, -0.1443,\n",
       "          -0.4430,  0.4682, -0.4535],\n",
       "         [ 0.0407, -0.0156,  0.0124, -0.0049,  0.0053, -0.0305, -0.0894,\n",
       "          -0.0148, -0.0085,  0.0436]],\n",
       "\n",
       "        [[ 0.5164,  0.6334,  0.1692,  0.4370,  0.2631, -0.8581,  0.0290,\n",
       "          -0.0294,  0.1332,  0.0104],\n",
       "         [ 0.4611,  1.1811, -0.9004,  0.3003,  0.1788, -1.0660,  0.1180,\n",
       "           0.0105, -0.7085, -0.1959],\n",
       "         [ 0.4386,  1.2712, -0.9857,  0.1112,  0.4578, -1.5414,  0.4657,\n",
       "          -0.1728, -1.0671, -0.3941],\n",
       "         [-0.1232,  0.2503,  0.8597,  0.1416,  0.7080, -0.5630, -0.1443,\n",
       "          -0.4430,  0.4682, -0.4535],\n",
       "         [ 0.0407, -0.0156,  0.0124, -0.0049,  0.0053, -0.0305, -0.0894,\n",
       "          -0.0148, -0.0085,  0.0436]],\n",
       "\n",
       "        [[ 0.5164,  0.6334,  0.1692,  0.4370,  0.2631, -0.8581,  0.0290,\n",
       "          -0.0294,  0.1332,  0.0104],\n",
       "         [ 0.4611,  1.1811, -0.9004,  0.3003,  0.1788, -1.0660,  0.1180,\n",
       "           0.0105, -0.7085, -0.1959],\n",
       "         [ 0.4386,  1.2712, -0.9857,  0.1112,  0.4578, -1.5414,  0.4657,\n",
       "          -0.1728, -1.0671, -0.3941],\n",
       "         [-0.1232,  0.2503,  0.8597,  0.1416,  0.7080, -0.5630, -0.1443,\n",
       "          -0.4430,  0.4682, -0.4535],\n",
       "         [ 0.0407, -0.0156,  0.0124, -0.0049,  0.0053, -0.0305, -0.0894,\n",
       "          -0.0148, -0.0085,  0.0436]]], grad_fn=<SubBackward0>)"
      ]
     },
     "execution_count": 84,
     "metadata": {},
     "output_type": "execute_result"
    }
   ],
   "source": [
    "zero_actions - const_actions"
   ]
  },
  {
   "cell_type": "code",
   "execution_count": null,
   "metadata": {},
   "outputs": [],
   "source": []
  }
 ],
 "metadata": {
  "kernelspec": {
   "display_name": "Python 3.10.6 ('ac')",
   "language": "python",
   "name": "python3"
  },
  "language_info": {
   "codemirror_mode": {
    "name": "ipython",
    "version": 3
   },
   "file_extension": ".py",
   "mimetype": "text/x-python",
   "name": "python",
   "nbconvert_exporter": "python",
   "pygments_lexer": "ipython3",
   "version": "3.10.6"
  },
  "orig_nbformat": 4,
  "vscode": {
   "interpreter": {
    "hash": "c27e8fa6375f4d15af5a5f5541d8bb88746b588c9fe1102cfd8de011d36c10c2"
   }
  }
 },
 "nbformat": 4,
 "nbformat_minor": 2
}
