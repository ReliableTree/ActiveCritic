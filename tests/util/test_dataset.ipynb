{
 "cells": [
  {
   "cell_type": "code",
   "execution_count": 1,
   "metadata": {},
   "outputs": [
    {
     "name": "stderr",
     "output_type": "stream",
     "text": [
      "/home/hendrik/anaconda3/envs/tfTest/lib/python3.9/site-packages/tqdm/auto.py:22: TqdmWarning: IProgress not found. Please update jupyter and ipywidgets. See https://ipywidgets.readthedocs.io/en/stable/user_install.html\n",
      "  from .autonotebook import tqdm as notebook_tqdm\n"
     ]
    }
   ],
   "source": [
    "import torch as th\n",
    "from ActiveCritic.utils.dataset import DatasetAC"
   ]
  },
  {
   "cell_type": "code",
   "execution_count": 6,
   "metadata": {},
   "outputs": [],
   "source": [
    "dataset = DatasetAC(device='cuda')"
   ]
  },
  {
   "cell_type": "code",
   "execution_count": 7,
   "metadata": {},
   "outputs": [],
   "source": [
    "batch_size = 5\n",
    "seq_len = 5\n",
    "action_dim = 3\n",
    "obs_dim = 4\n",
    "\n",
    "inpt = th.ones(size=[batch_size, seq_len, obs_dim+action_dim])\n",
    "label = th.ones(size=[batch_size, seq_len, action_dim])\n",
    "label[:2, -2:] = 0\n",
    "reward = th.ones(size=[batch_size, seq_len], dtype=th.bool)\n",
    "reward[:2, -2:] = 0"
   ]
  },
  {
   "cell_type": "code",
   "execution_count": 8,
   "metadata": {},
   "outputs": [
    {
     "name": "stdout",
     "output_type": "stream",
     "text": [
      "torch.Size([5, 5, 7])\n"
     ]
    }
   ],
   "source": [
    "print(inpt.shape)"
   ]
  },
  {
   "cell_type": "code",
   "execution_count": 9,
   "metadata": {},
   "outputs": [],
   "source": [
    "dataset.set_data(inpt=inpt, label=label, reward=reward)"
   ]
  },
  {
   "cell_type": "code",
   "execution_count": 17,
   "metadata": {},
   "outputs": [
    {
     "data": {
      "text/plain": [
       "True"
      ]
     },
     "execution_count": 17,
     "metadata": {},
     "output_type": "execute_result"
    }
   ],
   "source": [
    "th.equal(dataset.success, reward[:,-1] == 1)"
   ]
  },
  {
   "cell_type": "code",
   "execution_count": 11,
   "metadata": {},
   "outputs": [],
   "source": [
    "dataset.onyl_positiv = True\n",
    "inpt, label, rew = dataset.__getitem__(index=0)"
   ]
  },
  {
   "cell_type": "code",
   "execution_count": 12,
   "metadata": {},
   "outputs": [
    {
     "data": {
      "text/plain": [
       "torch.Size([5])"
      ]
     },
     "execution_count": 12,
     "metadata": {},
     "output_type": "execute_result"
    }
   ],
   "source": [
    "rew.shape"
   ]
  },
  {
   "cell_type": "code",
   "execution_count": 13,
   "metadata": {},
   "outputs": [
    {
     "data": {
      "text/plain": [
       "tensor([False, False,  True,  True,  True], device='cuda:0')"
      ]
     },
     "execution_count": 13,
     "metadata": {},
     "output_type": "execute_result"
    }
   ],
   "source": [
    "dataset.reward[:,-1]"
   ]
  },
  {
   "cell_type": "code",
   "execution_count": 14,
   "metadata": {},
   "outputs": [],
   "source": [
    "loader = th.utils.data.DataLoader(dataset=dataset, batch_size=32)"
   ]
  },
  {
   "cell_type": "code",
   "execution_count": 15,
   "metadata": {},
   "outputs": [],
   "source": [
    "dataset.onyl_positiv = True\n",
    "\n",
    "for data in loader:\n",
    "    inpt, label, reward = data\n",
    "    assert list(inpt.shape) == [batch_size-2, seq_len, action_dim+obs_dim]\n",
    "    assert list(label.shape) == [batch_size-2, seq_len, action_dim]\n",
    "    assert list(reward.shape) == [batch_size-2, seq_len]\n",
    "    assert th.all(label == 1)"
   ]
  },
  {
   "cell_type": "code",
   "execution_count": 16,
   "metadata": {},
   "outputs": [],
   "source": [
    "dataset.onyl_positiv = False\n",
    "\n",
    "for data in loader:\n",
    "    inpt, label, reward = data\n",
    "    assert list(inpt.shape) == [batch_size, seq_len, action_dim+obs_dim]\n",
    "    assert list(label.shape) == [batch_size, seq_len, action_dim]\n",
    "    assert list(reward.shape) == [batch_size, seq_len]\n"
   ]
  },
  {
   "cell_type": "code",
   "execution_count": 18,
   "metadata": {},
   "outputs": [],
   "source": [
    "dataset.add_data(inpt=inpt, label=label, reward=reward)"
   ]
  },
  {
   "cell_type": "code",
   "execution_count": 19,
   "metadata": {},
   "outputs": [],
   "source": [
    "dataset.onyl_positiv = True\n",
    "\n",
    "for data in loader:\n",
    "    inpt, label, reward = data\n",
    "    assert list(inpt.shape) == [2*(batch_size-2), seq_len, action_dim+obs_dim]\n",
    "    assert list(label.shape) == [2*(batch_size-2), seq_len, action_dim]\n",
    "    assert list(reward.shape) == [2*(batch_size-2), seq_len]\n",
    "    assert th.all(label == 1)"
   ]
  },
  {
   "cell_type": "code",
   "execution_count": 20,
   "metadata": {},
   "outputs": [],
   "source": [
    "dataset.onyl_positiv = False\n",
    "\n",
    "for data in loader:\n",
    "    inpt, label, reward = data\n",
    "    assert list(inpt.shape) == [2*batch_size, seq_len, action_dim+obs_dim]\n",
    "    assert list(label.shape) == [2*batch_size, seq_len, action_dim]\n",
    "    assert list(reward.shape) == [2*batch_size, seq_len]"
   ]
  },
  {
   "cell_type": "code",
   "execution_count": null,
   "metadata": {},
   "outputs": [],
   "source": []
  }
 ],
 "metadata": {
  "kernelspec": {
   "display_name": "Python 3.9.12 ('tfTest')",
   "language": "python",
   "name": "python3"
  },
  "language_info": {
   "codemirror_mode": {
    "name": "ipython",
    "version": 3
   },
   "file_extension": ".py",
   "mimetype": "text/x-python",
   "name": "python",
   "nbconvert_exporter": "python",
   "pygments_lexer": "ipython3",
   "version": "3.9.12"
  },
  "orig_nbformat": 4,
  "vscode": {
   "interpreter": {
    "hash": "bee90e249730b85f00f3915f0cf4f21bc0729131dcc7008c941068256fd0d344"
   }
  }
 },
 "nbformat": 4,
 "nbformat_minor": 2
}
