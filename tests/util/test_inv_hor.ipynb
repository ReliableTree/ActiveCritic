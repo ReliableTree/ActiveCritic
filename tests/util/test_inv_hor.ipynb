{
 "cells": [
  {
   "cell_type": "code",
   "execution_count": 1,
   "metadata": {},
   "outputs": [],
   "source": [
    "import torch as th\n",
    "from active_critic.utils.pytorch_utils import make_inf_seq"
   ]
  },
  {
   "cell_type": "code",
   "execution_count": 26,
   "metadata": {},
   "outputs": [],
   "source": [
    "obs_len = 6\n",
    "batch_size = 2\n",
    "dim = 1\n",
    "seq_len = 3\n",
    "inp_seq = th.arange(obs_len).reshape([1,obs_len,1]).repeat([batch_size,1,dim])\n",
    "\n",
    "inf_seq = make_inf_seq(inp_seq,seq_len)\n",
    "assert list(inf_seq.shape) == [batch_size*(obs_len-seq_len+int(seq_len/2)+1), seq_len, dim]"
   ]
  },
  {
   "cell_type": "code",
   "execution_count": 27,
   "metadata": {},
   "outputs": [],
   "source": [
    "obs_len = 7\n",
    "batch_size = 2\n",
    "dim = 1\n",
    "seq_len = 3\n",
    "inp_seq = th.arange(obs_len).reshape([1,obs_len,1]).repeat([batch_size,1,dim])\n",
    "\n",
    "inf_seq = make_inf_seq(inp_seq, seq_len)\n",
    "assert list(inf_seq.shape) == [batch_size*(obs_len-seq_len+int(seq_len/2)+1), seq_len, dim]"
   ]
  },
  {
   "cell_type": "code",
   "execution_count": 28,
   "metadata": {},
   "outputs": [],
   "source": [
    "obs_len = 7\n",
    "batch_size = 2\n",
    "dim = 1\n",
    "seq_len = 4\n",
    "inp_seq = th.arange(obs_len).reshape([1,obs_len,1]).repeat([batch_size,1,dim])\n",
    "\n",
    "inf_seq = make_inf_seq(inp_seq, seq_len)\n",
    "assert list(inf_seq.shape) == [batch_size*(obs_len-seq_len+int(seq_len/2)+1), seq_len, dim]"
   ]
  },
  {
   "cell_type": "code",
   "execution_count": null,
   "metadata": {},
   "outputs": [],
   "source": []
  }
 ],
 "metadata": {
  "kernelspec": {
   "display_name": "Python 3.10.6 ('ac')",
   "language": "python",
   "name": "python3"
  },
  "language_info": {
   "codemirror_mode": {
    "name": "ipython",
    "version": 3
   },
   "file_extension": ".py",
   "mimetype": "text/x-python",
   "name": "python",
   "nbconvert_exporter": "python",
   "pygments_lexer": "ipython3",
   "version": "3.10.6"
  },
  "orig_nbformat": 4,
  "vscode": {
   "interpreter": {
    "hash": "c27e8fa6375f4d15af5a5f5541d8bb88746b588c9fe1102cfd8de011d36c10c2"
   }
  }
 },
 "nbformat": 4,
 "nbformat_minor": 2
}
