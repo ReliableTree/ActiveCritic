{
 "cells": [
  {
   "cell_type": "code",
   "execution_count": 1,
   "metadata": {},
   "outputs": [
    {
     "name": "stderr",
     "output_type": "stream",
     "text": [
      "/home/hendrik/anaconda3/envs/ac/lib/python3.10/site-packages/tqdm/auto.py:22: TqdmWarning: IProgress not found. Please update jupyter and ipywidgets. See https://ipywidgets.readthedocs.io/en/stable/user_install.html\n",
      "  from .autonotebook import tqdm as notebook_tqdm\n"
     ]
    }
   ],
   "source": [
    "import torch as th"
   ]
  },
  {
   "cell_type": "code",
   "execution_count": 32,
   "metadata": {},
   "outputs": [],
   "source": [
    "inp_seq = th.arange(6).reshape([1,6,1]).repeat([2,1,1])"
   ]
  },
  {
   "cell_type": "code",
   "execution_count": 33,
   "metadata": {},
   "outputs": [],
   "source": [
    "def make_inf_seq(obs:th.Tensor, seq_len:th.Tensor):\n",
    "    start_seq = th.zeros([obs.shape[0], int(seq_len/2), obs.shape[-1]], device= obs.device)\n",
    "    whole_seq = th.cat((start_seq, obs), dim=1)\n",
    "    result = whole_seq[:,0:seq_len]\n",
    "    for i in range(len(obs[0]) - seq_len + int(seq_len/2)):\n",
    "        result = th.cat((result, whole_seq[:,i+1:seq_len+i+1]), dim=0)\n",
    "    return result"
   ]
  },
  {
   "cell_type": "code",
   "execution_count": 34,
   "metadata": {},
   "outputs": [
    {
     "data": {
      "text/plain": [
       "tensor([[[0.],\n",
       "         [0.],\n",
       "         [1.]],\n",
       "\n",
       "        [[0.],\n",
       "         [0.],\n",
       "         [1.]],\n",
       "\n",
       "        [[0.],\n",
       "         [1.],\n",
       "         [2.]],\n",
       "\n",
       "        [[0.],\n",
       "         [1.],\n",
       "         [2.]],\n",
       "\n",
       "        [[1.],\n",
       "         [2.],\n",
       "         [3.]],\n",
       "\n",
       "        [[1.],\n",
       "         [2.],\n",
       "         [3.]],\n",
       "\n",
       "        [[2.],\n",
       "         [3.],\n",
       "         [4.]],\n",
       "\n",
       "        [[2.],\n",
       "         [3.],\n",
       "         [4.]],\n",
       "\n",
       "        [[3.],\n",
       "         [4.],\n",
       "         [5.]],\n",
       "\n",
       "        [[3.],\n",
       "         [4.],\n",
       "         [5.]]])"
      ]
     },
     "execution_count": 34,
     "metadata": {},
     "output_type": "execute_result"
    }
   ],
   "source": [
    "make_inf_seq(inp_seq, 3)"
   ]
  },
  {
   "cell_type": "code",
   "execution_count": null,
   "metadata": {},
   "outputs": [],
   "source": []
  }
 ],
 "metadata": {
  "kernelspec": {
   "display_name": "Python 3.10.6 ('ac')",
   "language": "python",
   "name": "python3"
  },
  "language_info": {
   "codemirror_mode": {
    "name": "ipython",
    "version": 3
   },
   "file_extension": ".py",
   "mimetype": "text/x-python",
   "name": "python",
   "nbconvert_exporter": "python",
   "pygments_lexer": "ipython3",
   "version": "3.10.6"
  },
  "orig_nbformat": 4,
  "vscode": {
   "interpreter": {
    "hash": "c27e8fa6375f4d15af5a5f5541d8bb88746b588c9fe1102cfd8de011d36c10c2"
   }
  }
 },
 "nbformat": 4,
 "nbformat_minor": 2
}
