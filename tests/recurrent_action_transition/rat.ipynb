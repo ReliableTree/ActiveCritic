{
 "cells": [
  {
   "cell_type": "code",
   "execution_count": 76,
   "metadata": {},
   "outputs": [],
   "source": [
    "import torch as th\n",
    "import torch.nn as nn\n",
    "from active_critic.model_src.state_model import StateModel, StateModelArgs"
   ]
  },
  {
   "cell_type": "code",
   "execution_count": 77,
   "metadata": {},
   "outputs": [],
   "source": [
    "def build_sequence(rnn_predictor:th.nn.GRU, action_model:StateModel, embedding:th.Tensor, seq_len:int, actions=None):\n",
    "    embeddings = embedding.unsqueeze(0)\n",
    "    if actions is None:\n",
    "        action = action_model.forward(inpt=embedding.transpose(0,1).reshape(embedding.shape[1], -1)).unsqueeze(0)\n",
    "        actions = action.unsqueeze(0)\n",
    "    for i in range(seq_len):\n",
    "        _, embedding = rnn_predictor(actions[i], embedding)\n",
    "        embeddings = th.cat((embeddings, embedding.unsqueeze(0)), dim=0)\n",
    "        if len(actions) == i + 1:\n",
    "            action = action_model.forward(inpt=embedding.transpose(0,1).reshape(embedding.shape[1], -1)).unsqueeze(0)\n",
    "            actions = th.cat((actions, action.unsqueeze(0)), dim=0)\n",
    "    return embeddings, actions"
   ]
  },
  {
   "cell_type": "code",
   "execution_count": 78,
   "metadata": {},
   "outputs": [],
   "source": [
    "batch_size = 3\n",
    "embedding_size = 20\n",
    "action_dim = 10\n",
    "layers = 2\n",
    "seq_len = 1\n",
    "ac_seq_len = 4\n",
    "\n",
    "\n",
    "rnn = nn.GRU(action_dim, embedding_size, layers)\n",
    "\n",
    "sma = StateModelArgs()\n",
    "sma.arch = [10,action_dim]\n",
    "sma.device = 'cpu'\n",
    "sma.lr = 1e-3\n",
    "action_model = StateModel(args=sma)\n",
    "zero_actions = th.zeros([ac_seq_len + 1, 1, batch_size, action_dim], dtype=th.float32)\n",
    "\n",
    "init_embeddng = th.ones([layers, batch_size, embedding_size], requires_grad=True, dtype=th.float32)\n",
    "konstant_embedding = th.ones([ac_seq_len+1, layers, batch_size, embedding_size])\n",
    "goal_embeddng = th.zeros([layers, batch_size, embedding_size], requires_grad=True, dtype=th.float32)\n",
    "\n",
    "embeddings, actions = build_sequence(rnn_predictor=rnn, action_model=action_model, embedding=init_embeddng, seq_len=ac_seq_len, actions=zero_actions)"
   ]
  },
  {
   "cell_type": "code",
   "execution_count": 79,
   "metadata": {},
   "outputs": [],
   "source": [
    "class SuperModel(nn.Module):\n",
    "    def __init__(self, action_model, prediction_model) -> None:\n",
    "        super().__init__()\n",
    "        self.actor = action_model\n",
    "        self.predictor = prediction_model\n",
    "sm = SuperModel(action_model=action_model, prediction_model=rnn)"
   ]
  },
  {
   "cell_type": "code",
   "execution_count": 81,
   "metadata": {},
   "outputs": [
    {
     "name": "stdout",
     "output_type": "stream",
     "text": [
      "______________________\n",
      "kl: 0.057582270354032516\n",
      "el: 0.018223732709884644\n",
      "______________________\n",
      "kl: 0.023938482627272606\n",
      "el: 0.009393999353051186\n",
      "______________________\n",
      "kl: 0.01228262111544609\n",
      "el: 0.006575061473995447\n",
      "______________________\n",
      "kl: 0.008100227452814579\n",
      "el: 0.0036845074500888586\n",
      "______________________\n",
      "kl: 0.00581239303573966\n",
      "el: 0.0020863250829279423\n",
      "______________________\n",
      "kl: 0.004309098236262798\n",
      "el: 0.0012225396931171417\n",
      "______________________\n",
      "kl: 0.003308013780042529\n",
      "el: 0.0007025115774013102\n",
      "______________________\n",
      "kl: 0.0026115956716239452\n",
      "el: 0.0003985613875556737\n",
      "______________________\n",
      "kl: 0.002111358568072319\n",
      "el: 0.0002234279818367213\n",
      "______________________\n",
      "kl: 0.0017417585477232933\n",
      "el: 0.00012453195813577622\n"
     ]
    }
   ],
   "source": [
    "optimizer = th.optim.Adam(sm.parameters(), lr=1e-3)\n",
    "for i in range(100):\n",
    "    embeddings, actions = build_sequence(rnn_predictor=sm.predictor, action_model=sm.actor, embedding=init_embeddng, seq_len=ac_seq_len)\n",
    "    optimizer.zero_grad()\n",
    "    emb_loss = ((embeddings[-1] - goal_embeddng)**2).mean()\n",
    "    emb_loss.backward()\n",
    "    optimizer.step()\n",
    "\n",
    "    embeddings, actions = build_sequence(rnn_predictor=rnn, action_model=action_model, embedding=init_embeddng, seq_len=ac_seq_len, actions=zero_actions)\n",
    "    optimizer.zero_grad()\n",
    "    konst_loss = ((embeddings - konstant_embedding)**2).mean()\n",
    "    konst_loss.backward()\n",
    "    optimizer.step()\n",
    "    if i % 10 == 0:\n",
    "        print('______________________')\n",
    "        print(f'kl: {konst_loss}')\n",
    "        print(f'el: {emb_loss}')\n"
   ]
  },
  {
   "cell_type": "code",
   "execution_count": 68,
   "metadata": {},
   "outputs": [],
   "source": [
    "embeddings, actions = build_sequence(rnn_predictor=sm.predictor, action_model=sm.actor, embedding=init_embeddng, seq_len=ac_seq_len)\n"
   ]
  },
  {
   "cell_type": "code",
   "execution_count": 70,
   "metadata": {},
   "outputs": [
    {
     "data": {
      "text/plain": [
       "tensor([[[0.0031, 0.0030, 0.0022, 0.0030, 0.0017, 0.0039, 0.0044, 0.0009,\n",
       "          0.0061, 0.0050, 0.0030, 0.0046, 0.0042, 0.0028, 0.0036, 0.0030,\n",
       "          0.0060, 0.0021, 0.0034, 0.0041],\n",
       "         [0.0031, 0.0030, 0.0022, 0.0030, 0.0017, 0.0039, 0.0044, 0.0009,\n",
       "          0.0061, 0.0050, 0.0030, 0.0046, 0.0042, 0.0028, 0.0036, 0.0030,\n",
       "          0.0060, 0.0021, 0.0034, 0.0041],\n",
       "         [0.0031, 0.0030, 0.0022, 0.0030, 0.0017, 0.0039, 0.0044, 0.0009,\n",
       "          0.0061, 0.0050, 0.0030, 0.0046, 0.0042, 0.0028, 0.0036, 0.0030,\n",
       "          0.0060, 0.0021, 0.0034, 0.0041]],\n",
       "\n",
       "        [[0.0028, 0.0075, 0.0073, 0.0049, 0.0088, 0.0068, 0.0065, 0.0082,\n",
       "          0.0075, 0.0073, 0.0051, 0.0032, 0.0037, 0.0052, 0.0057, 0.0067,\n",
       "          0.0082, 0.0034, 0.0088, 0.0086],\n",
       "         [0.0028, 0.0075, 0.0073, 0.0049, 0.0088, 0.0068, 0.0065, 0.0082,\n",
       "          0.0075, 0.0073, 0.0051, 0.0032, 0.0037, 0.0052, 0.0057, 0.0067,\n",
       "          0.0082, 0.0034, 0.0088, 0.0086],\n",
       "         [0.0028, 0.0075, 0.0073, 0.0049, 0.0088, 0.0068, 0.0065, 0.0082,\n",
       "          0.0075, 0.0073, 0.0051, 0.0032, 0.0037, 0.0052, 0.0057, 0.0067,\n",
       "          0.0082, 0.0034, 0.0088, 0.0086]]], grad_fn=<SelectBackward0>)"
      ]
     },
     "execution_count": 70,
     "metadata": {},
     "output_type": "execute_result"
    }
   ],
   "source": [
    "embeddings[-1]"
   ]
  },
  {
   "cell_type": "code",
   "execution_count": 75,
   "metadata": {},
   "outputs": [
    {
     "data": {
      "text/plain": [
       "tensor([[[-0.1383, -0.5198,  0.4141, -0.0764, -0.4537, -0.3518, -0.6914,\n",
       "          -0.0708, -0.5698, -0.4783],\n",
       "         [-0.1383, -0.5198,  0.4141, -0.0764, -0.4537, -0.3518, -0.6914,\n",
       "          -0.0708, -0.5698, -0.4783],\n",
       "         [-0.1383, -0.5198,  0.4141, -0.0764, -0.4537, -0.3518, -0.6914,\n",
       "          -0.0708, -0.5698, -0.4783]]], grad_fn=<SubBackward0>)"
      ]
     },
     "execution_count": 75,
     "metadata": {},
     "output_type": "execute_result"
    }
   ],
   "source": [
    "actions[1] - actions[2]"
   ]
  },
  {
   "cell_type": "code",
   "execution_count": null,
   "metadata": {},
   "outputs": [],
   "source": []
  }
 ],
 "metadata": {
  "kernelspec": {
   "display_name": "Python 3.10.6 ('ac')",
   "language": "python",
   "name": "python3"
  },
  "language_info": {
   "codemirror_mode": {
    "name": "ipython",
    "version": 3
   },
   "file_extension": ".py",
   "mimetype": "text/x-python",
   "name": "python",
   "nbconvert_exporter": "python",
   "pygments_lexer": "ipython3",
   "version": "3.10.6"
  },
  "orig_nbformat": 4,
  "vscode": {
   "interpreter": {
    "hash": "55d3bc2b8c4272bbea65d85e1c1c189fa11db70743df9511061edc4d7dc4f3cd"
   }
  }
 },
 "nbformat": 4,
 "nbformat_minor": 2
}
