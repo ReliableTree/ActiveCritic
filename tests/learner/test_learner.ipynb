{
 "cells": [
  {
   "cell_type": "code",
   "execution_count": 1,
   "metadata": {},
   "outputs": [
    {
     "name": "stderr",
     "output_type": "stream",
     "text": [
      "/home/hendrik/anaconda3/envs/tfTest/lib/python3.9/site-packages/tqdm/auto.py:22: TqdmWarning: IProgress not found. Please update jupyter and ipywidgets. See https://ipywidgets.readthedocs.io/en/stable/user_install.html\n",
      "  from .autonotebook import tqdm as notebook_tqdm\n",
      "2022-10-10 17:43:30.105152: I tensorflow/stream_executor/platform/default/dso_loader.cc:49] Successfully opened dynamic library libcudart.so.10.1\n",
      "/home/hendrik/anaconda3/envs/tfTest/lib/python3.9/site-packages/gym/spaces/box.py:73: UserWarning: \u001b[33mWARN: Box bound precision lowered by casting to float32\u001b[0m\n",
      "  logger.warn(\n"
     ]
    },
    {
     "data": {
      "text/plain": [
       "<torch._C.Generator at 0x7f9e74eab9b0>"
      ]
     },
     "execution_count": 1,
     "metadata": {},
     "output_type": "execute_result"
    }
   ],
   "source": [
    "import torch as th\n",
    "from active_critic.learner.active_critic_learner import ActiveCriticLearner, ACLScores\n",
    "from active_critic.learner.active_critic_args import ActiveCriticLearnerArgs\n",
    "from active_critic.policy.active_critic_policy import ActiveCriticPolicy\n",
    "from active_critic.utils.test_utils import setup_ac_reach\n",
    "from active_critic.utils.gym_utils import make_dummy_vec_env, parse_sampled_transitions, sample_expert_transitions, DummyExtractor, new_epoch_reach, sample_new_episode\n",
    "from active_critic.utils.pytorch_utils import make_part_obs_data\n",
    "from active_critic.utils.dataset import DatasetAC\n",
    "from stable_baselines3.common.policies import BasePolicy\n",
    "from stable_baselines3.common.torch_layers import BaseFeaturesExtractor\n",
    "from active_critic.utils.dataset import DatasetAC\n",
    "from gym import Env\n",
    "th.manual_seed(0)"
   ]
  },
  {
   "cell_type": "code",
   "execution_count": 2,
   "metadata": {},
   "outputs": [
    {
     "name": "stderr",
     "output_type": "stream",
     "text": [
      "2022-10-10 17:43:31.890552: I tensorflow/compiler/jit/xla_cpu_device.cc:41] Not creating XLA devices, tf_xla_enable_xla_devices not set\n",
      "2022-10-10 17:43:31.890650: I tensorflow/stream_executor/platform/default/dso_loader.cc:49] Successfully opened dynamic library libcuda.so.1\n",
      "2022-10-10 17:43:31.890743: I tensorflow/stream_executor/cuda/cuda_gpu_executor.cc:941] successful NUMA node read from SysFS had negative value (-1), but there must be at least one NUMA node, so returning NUMA node zero\n",
      "2022-10-10 17:43:31.890865: I tensorflow/core/common_runtime/gpu/gpu_device.cc:1720] Found device 0 with properties: \n",
      "pciBusID: 0000:09:00.0 name: NVIDIA GeForce GTX 1080 computeCapability: 6.1\n",
      "coreClock: 1.7335GHz coreCount: 20 deviceMemorySize: 7.92GiB deviceMemoryBandwidth: 298.32GiB/s\n",
      "2022-10-10 17:43:31.890902: I tensorflow/stream_executor/platform/default/dso_loader.cc:49] Successfully opened dynamic library libcudart.so.10.1\n",
      "2022-10-10 17:43:31.890936: I tensorflow/stream_executor/platform/default/dso_loader.cc:49] Successfully opened dynamic library libcublas.so.10\n",
      "2022-10-10 17:43:31.890953: I tensorflow/stream_executor/platform/default/dso_loader.cc:49] Successfully opened dynamic library libcublasLt.so.10\n",
      "2022-10-10 17:43:31.891919: I tensorflow/stream_executor/platform/default/dso_loader.cc:49] Successfully opened dynamic library libcufft.so.10\n",
      "2022-10-10 17:43:31.892077: I tensorflow/stream_executor/platform/default/dso_loader.cc:49] Successfully opened dynamic library libcurand.so.10\n",
      "2022-10-10 17:43:31.892889: I tensorflow/stream_executor/platform/default/dso_loader.cc:49] Successfully opened dynamic library libcusolver.so.10\n",
      "2022-10-10 17:43:31.893446: I tensorflow/stream_executor/platform/default/dso_loader.cc:49] Successfully opened dynamic library libcusparse.so.10\n",
      "2022-10-10 17:43:31.895503: I tensorflow/stream_executor/platform/default/dso_loader.cc:49] Successfully opened dynamic library libcudnn.so.7\n",
      "2022-10-10 17:43:31.895571: I tensorflow/stream_executor/cuda/cuda_gpu_executor.cc:941] successful NUMA node read from SysFS had negative value (-1), but there must be at least one NUMA node, so returning NUMA node zero\n",
      "2022-10-10 17:43:31.895714: I tensorflow/stream_executor/cuda/cuda_gpu_executor.cc:941] successful NUMA node read from SysFS had negative value (-1), but there must be at least one NUMA node, so returning NUMA node zero\n",
      "2022-10-10 17:43:31.895801: I tensorflow/core/common_runtime/gpu/gpu_device.cc:1862] Adding visible gpu devices: 0\n",
      "2022-10-10 17:43:31.896107: I tensorflow/core/platform/cpu_feature_guard.cc:142] This TensorFlow binary is optimized with oneAPI Deep Neural Network Library (oneDNN) to use the following CPU instructions in performance-critical operations:  SSE4.1 SSE4.2 AVX AVX2 FMA\n",
      "To enable them in other operations, rebuild TensorFlow with the appropriate compiler flags.\n",
      "2022-10-10 17:43:31.896550: I tensorflow/compiler/jit/xla_gpu_device.cc:99] Not creating XLA devices, tf_xla_enable_xla_devices not set\n",
      "2022-10-10 17:43:31.896596: I tensorflow/stream_executor/cuda/cuda_gpu_executor.cc:941] successful NUMA node read from SysFS had negative value (-1), but there must be at least one NUMA node, so returning NUMA node zero\n",
      "2022-10-10 17:43:31.896696: I tensorflow/core/common_runtime/gpu/gpu_device.cc:1720] Found device 0 with properties: \n",
      "pciBusID: 0000:09:00.0 name: NVIDIA GeForce GTX 1080 computeCapability: 6.1\n",
      "coreClock: 1.7335GHz coreCount: 20 deviceMemorySize: 7.92GiB deviceMemoryBandwidth: 298.32GiB/s\n",
      "2022-10-10 17:43:31.896720: I tensorflow/stream_executor/platform/default/dso_loader.cc:49] Successfully opened dynamic library libcudart.so.10.1\n",
      "2022-10-10 17:43:31.896727: I tensorflow/stream_executor/platform/default/dso_loader.cc:49] Successfully opened dynamic library libcublas.so.10\n",
      "2022-10-10 17:43:31.896733: I tensorflow/stream_executor/platform/default/dso_loader.cc:49] Successfully opened dynamic library libcublasLt.so.10\n",
      "2022-10-10 17:43:31.896745: I tensorflow/stream_executor/platform/default/dso_loader.cc:49] Successfully opened dynamic library libcufft.so.10\n",
      "2022-10-10 17:43:31.896757: I tensorflow/stream_executor/platform/default/dso_loader.cc:49] Successfully opened dynamic library libcurand.so.10\n",
      "2022-10-10 17:43:31.896768: I tensorflow/stream_executor/platform/default/dso_loader.cc:49] Successfully opened dynamic library libcusolver.so.10\n",
      "2022-10-10 17:43:31.896780: I tensorflow/stream_executor/platform/default/dso_loader.cc:49] Successfully opened dynamic library libcusparse.so.10\n",
      "2022-10-10 17:43:31.896791: I tensorflow/stream_executor/platform/default/dso_loader.cc:49] Successfully opened dynamic library libcudnn.so.7\n",
      "2022-10-10 17:43:31.896818: I tensorflow/stream_executor/cuda/cuda_gpu_executor.cc:941] successful NUMA node read from SysFS had negative value (-1), but there must be at least one NUMA node, so returning NUMA node zero\n",
      "2022-10-10 17:43:31.896925: I tensorflow/stream_executor/cuda/cuda_gpu_executor.cc:941] successful NUMA node read from SysFS had negative value (-1), but there must be at least one NUMA node, so returning NUMA node zero\n",
      "2022-10-10 17:43:31.897009: I tensorflow/core/common_runtime/gpu/gpu_device.cc:1862] Adding visible gpu devices: 0\n",
      "2022-10-10 17:43:31.897034: I tensorflow/stream_executor/platform/default/dso_loader.cc:49] Successfully opened dynamic library libcudart.so.10.1\n",
      "2022-10-10 17:43:32.164312: I tensorflow/core/common_runtime/gpu/gpu_device.cc:1261] Device interconnect StreamExecutor with strength 1 edge matrix:\n",
      "2022-10-10 17:43:32.164337: I tensorflow/core/common_runtime/gpu/gpu_device.cc:1267]      0 \n",
      "2022-10-10 17:43:32.164341: I tensorflow/core/common_runtime/gpu/gpu_device.cc:1280] 0:   N \n",
      "2022-10-10 17:43:32.164460: I tensorflow/stream_executor/cuda/cuda_gpu_executor.cc:941] successful NUMA node read from SysFS had negative value (-1), but there must be at least one NUMA node, so returning NUMA node zero\n",
      "2022-10-10 17:43:32.164749: I tensorflow/stream_executor/cuda/cuda_gpu_executor.cc:941] successful NUMA node read from SysFS had negative value (-1), but there must be at least one NUMA node, so returning NUMA node zero\n",
      "2022-10-10 17:43:32.164866: I tensorflow/stream_executor/cuda/cuda_gpu_executor.cc:941] successful NUMA node read from SysFS had negative value (-1), but there must be at least one NUMA node, so returning NUMA node zero\n",
      "2022-10-10 17:43:32.164966: I tensorflow/core/common_runtime/gpu/gpu_device.cc:1406] Created TensorFlow device (/job:localhost/replica:0/task:0/device:GPU:0 with 6012 MB memory) -> physical GPU (device: 0, name: NVIDIA GeForce GTX 1080, pci bus id: 0000:09:00.0, compute capability: 6.1)\n"
     ]
    },
    {
     "name": "stdout",
     "output_type": "stream",
     "text": [
      "1 Physical GPUs, 1 Logical GPUs\n",
      "log dir: /home/hendrik/Documents/master_project/LokalData/TransformerImitationLearning/gboard/test_acl/train/\n"
     ]
    },
    {
     "name": "stderr",
     "output_type": "stream",
     "text": [
      "/home/hendrik/Documents/master_project/Code/active_critic/metaworld/metaworld/policies/policy.py:41: UserWarning: Constant(s) may be too high. Environments clip response to [-1, 1]\n",
      "  warnings.warn('Constant(s) may be too high. Environments clip response to [-1, 1]')\n"
     ]
    },
    {
     "name": "stdout",
     "output_type": "stream",
     "text": [
      "Sampling expert transitions. 2\n"
     ]
    },
    {
     "data": {
      "image/png": "[encoded data removed]",
      "text/plain": [
       "<Figure size 432x288 with 9 Axes>"
      ]
     },
     "metadata": {
      "needs_background": "light"
     },
     "output_type": "display_data"
    }
   ],
   "source": [
    "device = 'cuda'\n",
    "acla = ActiveCriticLearnerArgs()\n",
    "acla.data_path = '/home/hendrik/Documents/master_project/LokalData/TransformerImitationLearning/'\n",
    "acla.device = device\n",
    "acla.extractor = DummyExtractor()\n",
    "acla.imitation_phase = False\n",
    "acla.logname = 'test_acl'\n",
    "acla.tboard = True\n",
    "acla.batch_size = 32\n",
    "acla.validation_episodes = 5\n",
    "acla.val_every = 100\n",
    "seq_len = 100\n",
    "epsiodes = 2\n",
    "ac, acps, env = setup_ac_reach(seq_len=seq_len)\n",
    "acl = ActiveCriticLearner(ac_policy=ac, env=env, network_args_obj=acla)\n",
    "env, expert = make_dummy_vec_env(name='reach', seq_len=seq_len)\n",
    "transitions = sample_expert_transitions(policy=expert.predict, env=env, episodes=epsiodes)\n",
    "exp_actions, exp_observations, exp_rewards = parse_sampled_transitions(transitions=transitions, new_epoch=new_epoch_reach, extractor=DummyExtractor(), device=device)\n",
    "assert th.all(exp_rewards[:,-1]==1), 'Expert cant solve Environment.'"
   ]
  },
  {
   "cell_type": "code",
   "execution_count": 3,
   "metadata": {},
   "outputs": [
    {
     "name": "stdout",
     "output_type": "stream",
     "text": [
      "1 Physical GPUs, 1 Logical GPUs\n",
      "log dir: /home/hendrik/Documents/master_project/LokalData/TransformerImitationLearning/gboard/test_acl/train/\n",
      "Sampling expert transitions. 2\n"
     ]
    },
    {
     "data": {
      "image/png": "[encoded data removed]",
      "text/plain": [
       "<Figure size 432x288 with 9 Axes>"
      ]
     },
     "metadata": {
      "needs_background": "light"
     },
     "output_type": "display_data"
    }
   ],
   "source": [
    "device = 'cuda'\n",
    "acla = ActiveCriticLearnerArgs()\n",
    "acla.data_path = '/home/hendrik/Documents/master_project/LokalData/TransformerImitationLearning/'\n",
    "acla.device = device\n",
    "acla.extractor = DummyExtractor()\n",
    "acla.imitation_phase = True\n",
    "acla.logname = 'test_acl'\n",
    "acla.tboard = True\n",
    "acla.batch_size = 32\n",
    "acla.val_every = 100\n",
    "acla.validation_episodes = 5\n",
    "seq_len = 5\n",
    "epsiodes = 2\n",
    "ac, acps, env = setup_ac_reach(seq_len=seq_len)\n",
    "acl = ActiveCriticLearner(ac_policy=ac, env=env, network_args_obj=acla)\n",
    "env, expert = make_dummy_vec_env(name='reach', seq_len=seq_len)\n",
    "transitions = sample_expert_transitions(policy=expert.predict, env=env, episodes=epsiodes)\n",
    "exp_actions, exp_observations, exp_rewards = parse_sampled_transitions(transitions=transitions, new_epoch=new_epoch_reach, extractor=DummyExtractor(), device=device)\n",
    "\n",
    "part_acts, part_obsv, part_rews = make_part_obs_data(actions=exp_actions, observations=exp_observations, rewards=exp_rewards)\n",
    "\n",
    "for i in range(seq_len*epsiodes):\n",
    "    org_index = int(i/seq_len)\n",
    "    part_obs = th.clone(exp_observations[org_index])\n",
    "    part_obs[i%seq_len + 1 :] = 0\n",
    "    assert th.equal(part_acts[i], exp_actions[org_index]), 'make_part_obs_data corrupted'\n",
    "    assert th.equal(part_obsv[i], part_obs), 'make_part_obs_data corrupted'\n",
    "    "
   ]
  },
  {
   "cell_type": "code",
   "execution_count": 4,
   "metadata": {},
   "outputs": [],
   "source": [
    "acl_scores = ACLScores()\n",
    "acl_scores.update_min_score(acl_scores.mean_actor, 0)\n",
    "assert acl_scores.mean_actor == [0]"
   ]
  },
  {
   "cell_type": "code",
   "execution_count": null,
   "metadata": {},
   "outputs": [],
   "source": []
  },
  {
   "cell_type": "code",
   "execution_count": 5,
   "metadata": {},
   "outputs": [
    {
     "name": "stdout",
     "output_type": "stream",
     "text": [
      "Sampling expert transitions. 1\n"
     ]
    }
   ],
   "source": [
    "actions, observations, rewards, expected_rewards_before, expected_rewards_after = sample_new_episode(\n",
    "    policy=ac,\n",
    "    env=env,\n",
    "    episodes=1,)\n",
    "assert list(actions.shape) == [1, seq_len, env.action_space.shape[0]]\n",
    "assert list(observations.shape) == [1, seq_len, env.observation_space.shape[0]]\n",
    "assert list(rewards.shape) == [1, seq_len, 1]\n",
    "assert list(expected_rewards_after.shape) == [1, seq_len, 1]"
   ]
  },
  {
   "cell_type": "code",
   "execution_count": 6,
   "metadata": {},
   "outputs": [],
   "source": [
    "imitation_data = DatasetAC(device='cuda')\n",
    "imitation_data.onyl_positiv = False\n",
    "imitation_data.add_data(obsv=part_obsv, actions=part_acts, reward=part_rews)\n",
    "assert len(imitation_data) == epsiodes * seq_len\n",
    "assert list(imitation_data.actions.shape) == [epsiodes * seq_len, seq_len, env.action_space.shape[0]]\n",
    "assert list(imitation_data.obsv.shape) == [epsiodes * seq_len, seq_len, env.observation_space.shape[0]]\n",
    "assert list(imitation_data.reward.shape) == [epsiodes * seq_len, seq_len, 1]\n",
    "imitation_data.onyl_positiv = True\n",
    "assert len(imitation_data) == 0"
   ]
  },
  {
   "cell_type": "code",
   "execution_count": 7,
   "metadata": {},
   "outputs": [],
   "source": [
    "imitation_data.onyl_positiv = False\n",
    "dataloader = th.utils.data.DataLoader(imitation_data, batch_size=2*len(imitation_data))\n",
    "for data in dataloader:\n",
    "    dobsv, dact, drews = data\n",
    "assert th.equal(dact, part_acts)\n",
    "assert th.equal(dobsv, part_obsv)\n",
    "assert th.equal(drews, part_rews)"
   ]
  },
  {
   "cell_type": "code",
   "execution_count": 8,
   "metadata": {},
   "outputs": [],
   "source": [
    "imitation_data.add_data(obsv=part_obsv, actions=part_acts, reward=part_rews)\n",
    "imitation_data.onyl_positiv = False\n",
    "dataloader = th.utils.data.DataLoader(imitation_data, batch_size=2*len(imitation_data))\n",
    "for data in dataloader:\n",
    "    dobsv, dact, drews = data\n",
    "assert list(dobsv.shape) == [2*epsiodes * seq_len, seq_len, env.observation_space.shape[0]]\n",
    "assert list(dact.shape) == [2*epsiodes * seq_len, seq_len, env.action_space.shape[0]]\n",
    "assert list(drews.shape) == [2*epsiodes * seq_len, seq_len, 1]\n"
   ]
  },
  {
   "cell_type": "code",
   "execution_count": 9,
   "metadata": {},
   "outputs": [],
   "source": [
    "acl.setDatasets(train_data=imitation_data)"
   ]
  },
  {
   "cell_type": "code",
   "execution_count": 10,
   "metadata": {},
   "outputs": [
    {
     "data": {
      "text/plain": [
       "'cuda'"
      ]
     },
     "execution_count": 10,
     "metadata": {},
     "output_type": "execute_result"
    }
   ],
   "source": [
    "acl.policy.args_obj.device"
   ]
  },
  {
   "cell_type": "code",
   "execution_count": 15,
   "metadata": {},
   "outputs": [
    {
     "name": "stdout",
     "output_type": "stream",
     "text": [
      "Sampling expert transitions. 5\n",
      "Sampling expert transitions. 5\n",
      "Sampling expert transitions. 5\n",
      "Sampling expert transitions. 5\n",
      "Sampling expert transitions. 5\n",
      "Sampling expert transitions. 5\n",
      "Sampling expert transitions. 5\n",
      "Sampling expert transitions. 5\n"
     ]
    }
   ],
   "source": [
    "acl.train(epochs=800)\n",
    "assert acl.scores.mean_actor[0] < 1e-3\n",
    "assert acl.scores.mean_critic[0] < 1e-3"
   ]
  },
  {
   "cell_type": "code",
   "execution_count": 16,
   "metadata": {},
   "outputs": [
    {
     "data": {
      "text/plain": [
       "tensor(7.6284e-05, device='cuda:0')"
      ]
     },
     "execution_count": 16,
     "metadata": {},
     "output_type": "execute_result"
    }
   ],
   "source": [
    "acl.scores.mean_critic[0]"
   ]
  },
  {
   "cell_type": "code",
   "execution_count": null,
   "metadata": {},
   "outputs": [],
   "source": [
    "def make_acl():\n",
    "        device = 'cuda'\n",
    "        acla = ActiveCriticLearnerArgs()\n",
    "        acla.data_path = '/home/hendrik/Documents/master_project/LokalData/TransformerImitationLearning/'\n",
    "        acla.device = device\n",
    "        acla.extractor = DummyExtractor()\n",
    "        acla.imitation_phase = False\n",
    "        acla.logname = 'test_acl'\n",
    "        acla.tboard = False\n",
    "        acla.batch_size = 32\n",
    "        seq_len = 5\n",
    "        epsiodes = 2\n",
    "        ac, acps, env = setup_ac_reach(seq_len=seq_len)\n",
    "        acl = ActiveCriticLearner(ac_policy=ac, env=env, network_args_obj=acla)\n",
    "        env, expert = make_dummy_vec_env(name='reach', seq_len=seq_len)\n",
    "        return acl, env, expert, seq_len, epsiodes, device"
   ]
  },
  {
   "cell_type": "code",
   "execution_count": null,
   "metadata": {},
   "outputs": [
    {
     "name": "stdout",
     "output_type": "stream",
     "text": [
      "Sampling expert transitions. 1\n"
     ]
    },
    {
     "ename": "ValueError",
     "evalue": "too many values to unpack (expected 4)",
     "output_type": "error",
     "traceback": [
      "\u001b[0;31m---------------------------------------------------------------------------\u001b[0m",
      "\u001b[0;31mValueError\u001b[0m                                Traceback (most recent call last)",
      "\u001b[1;32m/home/hendrik/Documents/master_project/Code/active_critic/tests/learner/test_learner.ipynb Cell 15\u001b[0m in \u001b[0;36m<cell line: 3>\u001b[0;34m()\u001b[0m\n\u001b[1;32m      <a href='vscode-notebook-cell:/home/hendrik/Documents/master_project/Code/active_critic/tests/learner/test_learner.ipynb#X16sZmlsZQ%3D%3D?line=0'>1</a>\u001b[0m acl, env, expert, seq_len, epsiodes, device \u001b[39m=\u001b[39m make_acl()\n\u001b[0;32m----> <a href='vscode-notebook-cell:/home/hendrik/Documents/master_project/Code/active_critic/tests/learner/test_learner.ipynb#X16sZmlsZQ%3D%3D?line=2'>3</a>\u001b[0m acl\u001b[39m.\u001b[39;49madd_training_data()\n\u001b[1;32m      <a href='vscode-notebook-cell:/home/hendrik/Documents/master_project/Code/active_critic/tests/learner/test_learner.ipynb#X16sZmlsZQ%3D%3D?line=3'>4</a>\u001b[0m lenght_after \u001b[39m=\u001b[39m \u001b[39m0\u001b[39m\n\u001b[1;32m      <a href='vscode-notebook-cell:/home/hendrik/Documents/master_project/Code/active_critic/tests/learner/test_learner.ipynb#X16sZmlsZQ%3D%3D?line=4'>5</a>\u001b[0m \u001b[39mfor\u001b[39;00m data \u001b[39min\u001b[39;00m acl\u001b[39m.\u001b[39mtrain_loader:\n",
      "File \u001b[0;32m~/Documents/master_project/Code/active_critic/src/active_critic/learner/active_critic_learner.py:95\u001b[0m, in \u001b[0;36mActiveCriticLearner.add_training_data\u001b[0;34m(self)\u001b[0m\n\u001b[1;32m     94\u001b[0m \u001b[39mdef\u001b[39;00m \u001b[39madd_training_data\u001b[39m(\u001b[39mself\u001b[39m):\n\u001b[0;32m---> 95\u001b[0m     actions, observations, rewards, expected_rewards \u001b[39m=\u001b[39m sample_new_episode(\n\u001b[1;32m     96\u001b[0m         policy\u001b[39m=\u001b[39m\u001b[39mself\u001b[39m\u001b[39m.\u001b[39mpolicy,\n\u001b[1;32m     97\u001b[0m         env\u001b[39m=\u001b[39m\u001b[39mself\u001b[39m\u001b[39m.\u001b[39menv,\n\u001b[1;32m     98\u001b[0m         episodes\u001b[39m=\u001b[39m\u001b[39m1\u001b[39m)\n\u001b[1;32m     99\u001b[0m     \u001b[39mself\u001b[39m\u001b[39m.\u001b[39madd_data(\n\u001b[1;32m    100\u001b[0m         actions\u001b[39m=\u001b[39mactions,\n\u001b[1;32m    101\u001b[0m         observations\u001b[39m=\u001b[39mobservations,\n\u001b[1;32m    102\u001b[0m         rewards\u001b[39m=\u001b[39mrewards\n\u001b[1;32m    103\u001b[0m     )\n",
      "\u001b[0;31mValueError\u001b[0m: too many values to unpack (expected 4)"
     ]
    }
   ],
   "source": [
    "acl, env, expert, seq_len, epsiodes, device = make_acl()\n",
    "\n",
    "acl.add_training_data()\n",
    "lenght_after = 0\n",
    "for data in acl.train_loader:\n",
    "    obsv, actions, reward = data\n",
    "    lenght_after += len(obsv)\n",
    "assert lenght_after == acl.policy.args_obj.epoch_len"
   ]
  },
  {
   "cell_type": "code",
   "execution_count": null,
   "metadata": {},
   "outputs": [],
   "source": []
  }
 ],
 "metadata": {
  "kernelspec": {
   "display_name": "Python 3.9.12 ('tfTest')",
   "language": "python",
   "name": "python3"
  },
  "language_info": {
   "codemirror_mode": {
    "name": "ipython",
    "version": 3
   },
   "file_extension": ".py",
   "mimetype": "text/x-python",
   "name": "python",
   "nbconvert_exporter": "python",
   "pygments_lexer": "ipython3",
   "version": "3.9.12"
  },
  "orig_nbformat": 4,
  "vscode": {
   "interpreter": {
    "hash": "bee90e249730b85f00f3915f0cf4f21bc0729131dcc7008c941068256fd0d344"
   }
  }
 },
 "nbformat": 4,
 "nbformat_minor": 2
}
