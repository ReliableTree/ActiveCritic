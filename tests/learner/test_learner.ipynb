{
 "cells": [
  {
   "cell_type": "code",
   "execution_count": null,
   "metadata": {},
   "outputs": [],
   "source": [
    "import torch as th\n",
    "from ActiveCritic.learner.active_critic_learner import ActiveCriticLearner\n",
    "from ActiveCritic.learner.active_critic_args import ActiveCriticLearnerArgs\n",
    "from ActiveCritic.tests.test_utils.utils import setup_ac_reach\n",
    "from ActiveCritic.utils.gym_utils import make_dummy_vec_env, parse_sampled_transitions, sample_expert_transitions, DummyExtractor, new_epoch_reach\n",
    "from ActiveCritic.utils.pytorch_utils import make_part_obs_data\n",
    "from ActiveCritic.utils.dataset import DatasetAC"
   ]
  },
  {
   "cell_type": "code",
   "execution_count": null,
   "metadata": {},
   "outputs": [],
   "source": [
    "device = 'cpu'"
   ]
  },
  {
   "cell_type": "code",
   "execution_count": null,
   "metadata": {},
   "outputs": [],
   "source": [
    "ac, acps, env = setup_ac_reach()"
   ]
  },
  {
   "cell_type": "code",
   "execution_count": null,
   "metadata": {},
   "outputs": [],
   "source": [
    "acla = ActiveCriticLearnerArgs()\n",
    "acla.data_path = '/home/hendrik/Documents/master_project/LokalData/TransformerImitationLearning/'\n",
    "acla.device = device\n",
    "acla.extractor = DummyExtractor()\n",
    "acla.imitation_phase = False\n",
    "acla.logname = 'test_acl'\n",
    "acla.tboard = False"
   ]
  },
  {
   "cell_type": "code",
   "execution_count": null,
   "metadata": {},
   "outputs": [],
   "source": [
    "acl = ActiveCriticLearner(ac_policy=ac, env=env, network_args_obj=acla)"
   ]
  },
  {
   "cell_type": "code",
   "execution_count": 55,
   "metadata": {},
   "outputs": [
    {
     "name": "stdout",
     "output_type": "stream",
     "text": [
      "Sampling expert transitions. 2\n"
     ]
    }
   ],
   "source": [
    "epsiodes = 2\n",
    "seq_len = 5\n",
    "env, expert = make_dummy_vec_env(name='reach', seq_len=seq_len)\n",
    "transitions = sample_expert_transitions(policy=expert.predict, env=env, episodes=epsiodes)\n",
    "actions, observations, rewards = parse_sampled_transitions(transitions=transitions, new_epoch=new_epoch_reach, extractor=DummyExtractor())"
   ]
  },
  {
   "cell_type": "code",
   "execution_count": 57,
   "metadata": {},
   "outputs": [],
   "source": [
    "acts, obsv, rews = make_part_obs_data(actions=actions, observations=observations, rewards=rewards)"
   ]
  },
  {
   "cell_type": "code",
   "execution_count": 59,
   "metadata": {},
   "outputs": [],
   "source": [
    "assert list(acts.shape) == [epsiodes*seq_len, seq_len, env.action_space.shape[0]]\n",
    "assert list(obsv.shape) == [epsiodes*seq_len, seq_len, env.observation_space.shape[0]]\n",
    "assert list(rews.shape) == [epsiodes*seq_len, seq_len]"
   ]
  },
  {
   "cell_type": "code",
   "execution_count": 60,
   "metadata": {},
   "outputs": [],
   "source": [
    "for i in range(seq_len*epsiodes):\n",
    "    assert th.equal(acts[i], actions[int(i/seq_len)])"
   ]
  },
  {
   "cell_type": "code",
   "execution_count": 66,
   "metadata": {},
   "outputs": [],
   "source": [
    "for i in range(seq_len*epsiodes):\n",
    "    org_index = int(i/seq_len)\n",
    "    part_obs = th.clone(observations[org_index])\n",
    "    part_obs[i%seq_len + 1 :] = 0\n",
    "    assert th.equal(obsv[i], part_obs)\n",
    "    assert th.equal(acts[i], actions[org_index])\n"
   ]
  },
  {
   "cell_type": "code",
   "execution_count": 65,
   "metadata": {},
   "outputs": [
    {
     "data": {
      "text/plain": [
       "tensor([[0.1411, 0.1430, 0.1467, 0.1523, 0.1597],\n",
       "        [0.1411, 0.1430, 0.1467, 0.1523, 0.1597],\n",
       "        [0.1411, 0.1430, 0.1467, 0.1523, 0.1597],\n",
       "        [0.1411, 0.1430, 0.1467, 0.1523, 0.1597],\n",
       "        [0.1411, 0.1430, 0.1467, 0.1523, 0.1597],\n",
       "        [0.1350, 0.1376, 0.1425, 0.1497, 0.1591],\n",
       "        [0.1350, 0.1376, 0.1425, 0.1497, 0.1591],\n",
       "        [0.1350, 0.1376, 0.1425, 0.1497, 0.1591],\n",
       "        [0.1350, 0.1376, 0.1425, 0.1497, 0.1591],\n",
       "        [0.1350, 0.1376, 0.1425, 0.1497, 0.1591]])"
      ]
     },
     "execution_count": 65,
     "metadata": {},
     "output_type": "execute_result"
    }
   ],
   "source": []
  },
  {
   "cell_type": "code",
   "execution_count": null,
   "metadata": {},
   "outputs": [],
   "source": []
  }
 ],
 "metadata": {
  "kernelspec": {
   "display_name": "Python 3.9.12 ('tfTest')",
   "language": "python",
   "name": "python3"
  },
  "language_info": {
   "codemirror_mode": {
    "name": "ipython",
    "version": 3
   },
   "file_extension": ".py",
   "mimetype": "text/x-python",
   "name": "python",
   "nbconvert_exporter": "python",
   "pygments_lexer": "ipython3",
   "version": "3.9.12"
  },
  "orig_nbformat": 4,
  "vscode": {
   "interpreter": {
    "hash": "bee90e249730b85f00f3915f0cf4f21bc0729131dcc7008c941068256fd0d344"
   }
  }
 },
 "nbformat": 4,
 "nbformat_minor": 2
}
