{
 "cells": [
  {
   "cell_type": "code",
   "execution_count": 1,
   "metadata": {},
   "outputs": [
    {
     "name": "stderr",
     "output_type": "stream",
     "text": [
      "/home/hendrik/anaconda3/envs/tfTest/lib/python3.9/site-packages/tqdm/auto.py:22: TqdmWarning: IProgress not found. Please update jupyter and ipywidgets. See https://ipywidgets.readthedocs.io/en/stable/user_install.html\n",
      "  from .autonotebook import tqdm as notebook_tqdm\n"
     ]
    }
   ],
   "source": [
    "import torch as th"
   ]
  },
  {
   "cell_type": "code",
   "execution_count": 8,
   "metadata": {},
   "outputs": [],
   "source": [
    "def make_policy_obs_action(seq_len, ntoken, d_out, diff_ele, device = 'cuda'):\n",
    "    o1 = th.zeros([1, seq_len, ntoken], dtype=th.float, device=device)\n",
    "    o2 = th.zeros_like(o1)\n",
    "    o2[0, diff_ele] = 1\n",
    "\n",
    "    a1 = th.zeros(1, seq_len, d_out, dtype=th.float, device=device)\n",
    "    a2 = th.zeros_like(a1)\n",
    "    a2[:, diff_ele:] = 1\n",
    "    o = th.cat((o1, o2), dim=0)\n",
    "    a = th.cat((a1, a2), dim=0)\n",
    "    \n",
    "    return o, a\n"
   ]
  },
  {
   "cell_type": "code",
   "execution_count": 9,
   "metadata": {},
   "outputs": [],
   "source": [
    "observations, actions = make_policy_obs_action(3, 2, 1, 1, 'cuda')"
   ]
  },
  {
   "cell_type": "code",
   "execution_count": 18,
   "metadata": {},
   "outputs": [],
   "source": [
    "from ActiveCritic.utils.pytorch_utils import make_partially_observed_seq\n",
    "import numpy as np\n",
    "import gym\n",
    "import torch as th\n",
    "seq_len = 3\n",
    "d_out = 2\n",
    "d_in = 3\n",
    "acts_array_low = [0]*d_out\n",
    "acts_array_high = [1]*d_out\n",
    "\n",
    "obs = th.ones([2, 1, d_in], dtype=th.float, device='cuda')"
   ]
  },
  {
   "cell_type": "code",
   "execution_count": 19,
   "metadata": {},
   "outputs": [
    {
     "name": "stderr",
     "output_type": "stream",
     "text": [
      "/home/hendrik/anaconda3/envs/tfTest/lib/python3.9/site-packages/gym/spaces/box.py:73: UserWarning: \u001b[33mWARN: Box bound precision lowered by casting to float64\u001b[0m\n",
      "  logger.warn(\n"
     ]
    }
   ],
   "source": [
    "action_space = gym.spaces.box.Box(\n",
    "    np.array(acts_array_low), np.array(acts_array_high), (d_out,), float)\n",
    "\n",
    "pos = make_partially_observed_seq(obs=obs, acts=None, seq_len=seq_len, act_space=action_space)\n",
    "expected_shape = list(obs.shape)\n",
    "expected_shape[1] = seq_len\n",
    "expected_shape[2] += action_space.shape[0]\n",
    "assert list(pos.shape) == expected_shape, f'Output shape is not as expected. Expected: {expected_shape}, but got {pos.shape}'\n",
    "assert th.all(pos[:,:,obs.shape[-1]:] == 0), 'No action input, but some action fields are not zero.'\n",
    "assert th.equal(pos[:,:obs.shape[1], :obs.shape[2]], obs), 'Observation not correctly inserted into sequence.'"
   ]
  },
  {
   "cell_type": "code",
   "execution_count": 23,
   "metadata": {},
   "outputs": [],
   "source": [
    "current_obs_len = 2\n",
    "obs = th.ones([2, current_obs_len, d_in], dtype=th.float, device='cuda')\n",
    "acts = 2*th.ones([2, current_obs_len-1, d_out], dtype=th.float, device='cuda')\n",
    "pos = make_partially_observed_seq(obs=obs, acts=acts, seq_len=seq_len, act_space=action_space)"
   ]
  },
  {
   "cell_type": "code",
   "execution_count": 30,
   "metadata": {},
   "outputs": [],
   "source": [
    "expected_shape = list(obs.shape)\n",
    "expected_shape[1] = seq_len\n",
    "expected_shape[2] += action_space.shape[0]\n",
    "assert list(pos.shape) == expected_shape, f'Output shape is not as expected. Expected: {expected_shape}, but got {pos.shape}'\n",
    "assert th.all(pos[:,acts.shape[1],obs.shape[-1]:] == 0), 'Action that werent input are displayed.'\n",
    "assert th.equal(pos[:,:obs.shape[1], :obs.shape[2]], obs), 'Observation not correctly inserted into sequence.'\n",
    "assert th.equal(pos[:,:acts.shape[1], obs.shape[2]:], acts), 'Not all actions have been inserted correctly.'"
   ]
  },
  {
   "cell_type": "code",
   "execution_count": null,
   "metadata": {},
   "outputs": [],
   "source": []
  }
 ],
 "metadata": {
  "kernelspec": {
   "display_name": "Python 3.9.12 ('tfTest')",
   "language": "python",
   "name": "python3"
  },
  "language_info": {
   "codemirror_mode": {
    "name": "ipython",
    "version": 3
   },
   "file_extension": ".py",
   "mimetype": "text/x-python",
   "name": "python",
   "nbconvert_exporter": "python",
   "pygments_lexer": "ipython3",
   "version": "3.9.12"
  },
  "orig_nbformat": 4,
  "vscode": {
   "interpreter": {
    "hash": "bee90e249730b85f00f3915f0cf4f21bc0729131dcc7008c941068256fd0d344"
   }
  }
 },
 "nbformat": 4,
 "nbformat_minor": 2
}
