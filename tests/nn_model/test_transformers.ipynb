{
 "cells": [
  {
   "cell_type": "code",
   "execution_count": 1,
   "metadata": {},
   "outputs": [
    {
     "name": "stderr",
     "output_type": "stream",
     "text": [
      "/home/hendrik/anaconda3/envs/ac/lib/python3.10/site-packages/tqdm/auto.py:22: TqdmWarning: IProgress not found. Please update jupyter and ipywidgets. See https://ipywidgets.readthedocs.io/en/stable/user_install.html\n",
      "  from .autonotebook import tqdm as notebook_tqdm\n",
      "/home/hendrik/anaconda3/envs/ac/lib/python3.10/site-packages/gym/spaces/box.py:73: UserWarning: \u001b[33mWARN: Box bound precision lowered by casting to float32\u001b[0m\n",
      "  logger.warn(\n"
     ]
    }
   ],
   "source": [
    "import unittest\n",
    "from active_critic.model_src.transformer import ModelSetup, TransformerModel, generate_square_subsequent_mask\n",
    "import torch as th\n",
    "from active_critic.utils.pytorch_utils import calcMSE\n",
    "from active_critic.utils.test_utils import make_seq_encoding_data, make_mask_data, make_critic_data\n",
    "\n",
    "\n",
    "class TestTransformerModel(unittest.TestCase):\n",
    "    def test_seq_encoding(self):\n",
    "\n",
    "        ms = ModelSetup()\n",
    "        seq_len = 6\n",
    "        batch_size = 4\n",
    "        ntoken = 1\n",
    "        d_output = 1\n",
    "        ms.d_output = d_output\n",
    "        ms.nhead = 1\n",
    "        ms.d_hid = 10\n",
    "        ms.d_model = 10\n",
    "        ms.nlayers = 2\n",
    "        ms.seq_len = seq_len\n",
    "        ms.dropout = 0\n",
    "        ms.ntoken = 1\n",
    "        ms.device = 'cuda'\n",
    "\n",
    "        inpt_seq, outpt_seq = make_seq_encoding_data(batch_size=batch_size, seq_len=seq_len, ntoken=ntoken, d_out=d_output)\n",
    "\n",
    "        model = TransformerModel(model_setup=ms).to('cuda')\n",
    "        with th.no_grad():\n",
    "            model.forward(inpt_seq)\n",
    "        optimizer = th.optim.Adam(params=model.parameters(), lr=1e-3)\n",
    "        loss = 1\n",
    "        \n",
    "        for i in range(3000):\n",
    "            result = model.forward(inpt_seq)\n",
    "            loss = calcMSE(result, outpt_seq)\n",
    "            optimizer.zero_grad()\n",
    "            loss.backward()\n",
    "            optimizer.step()\n",
    "        self.assertTrue(loss < 1e-2, 'Could not converge to sequence. Maybe the positional encoding is wrong?')\n",
    "\n",
    "    def test_mask(self):\n",
    "        ms = ModelSetup()\n",
    "        seq_len = 6\n",
    "        batch_size = 4\n",
    "        ntoken = 1\n",
    "        d_output = 1\n",
    "        ms.d_output = d_output\n",
    "        ms.nhead = 1\n",
    "        ms.d_hid = 10\n",
    "        ms.d_model = 10\n",
    "        ms.nlayers = 2\n",
    "        ms.seq_len = seq_len\n",
    "        ms.dropout = 0\n",
    "        ms.ntoken = 1\n",
    "        ms.lr = None\n",
    "        ms.device = 'cuda'\n",
    "\n",
    "\n",
    "        inpt_seq, outpt_seq, mask = make_mask_data(batch_size=batch_size, seq_len=seq_len, ntoken=ntoken)\n",
    "        model = TransformerModel(model_setup=ms).to('cuda')\n",
    "        with th.no_grad():\n",
    "            model.forward(inpt_seq)\n",
    "        optimizer = th.optim.Adam(params=model.parameters(), lr=1e-3)\n",
    "        loss = 0\n",
    "        for i in range(2000):\n",
    "            result = model.forward(inpt_seq, mask=mask)\n",
    "            loss = calcMSE(result, outpt_seq)\n",
    "            optimizer.zero_grad()\n",
    "            loss.backward()\n",
    "            optimizer.step()\n",
    "        self.assertTrue(loss > 1e-1, 'Converged to masked knowledge.')"
   ]
  },
  {
   "cell_type": "code",
   "execution_count": 9,
   "metadata": {},
   "outputs": [],
   "source": [
    "def test_seq_encoding(self):\n",
    "\n",
    "    ms = ModelSetup()\n",
    "    seq_len = 6\n",
    "    batch_size = 4\n",
    "    ntoken = 1\n",
    "    d_output = 1\n",
    "    ms.d_output = d_output\n",
    "    ms.nhead = 1\n",
    "    ms.d_hid = 12\n",
    "    ms.d_model = 12\n",
    "    ms.nlayers = 2\n",
    "    ms.seq_len = seq_len\n",
    "    ms.dropout = 0\n",
    "    ms.ntoken = 1\n",
    "    ms.device = 'cuda'\n",
    "\n",
    "    inpt_seq, outpt_seq = make_seq_encoding_data(batch_size=batch_size, seq_len=seq_len, ntoken=ntoken, d_out=d_output)\n",
    "\n",
    "    model = TransformerModel(model_setup=ms).to('cuda')\n",
    "    with th.no_grad():\n",
    "        model.forward(inpt_seq, offset=0)\n",
    "    optimizer = th.optim.Adam(params=model.parameters(), lr=1e-3)\n",
    "    loss = 1\n",
    "    \n",
    "    for i in range(3000):\n",
    "        result = model.forward(inpt_seq, offset=5)\n",
    "        loss = calcMSE(result, outpt_seq)\n",
    "        optimizer.zero_grad()\n",
    "        loss.backward()\n",
    "        optimizer.step()\n",
    "    print(loss)\n",
    "    assert loss < 1e-2, 'Could not converge to sequence. Maybe the positional encoding is wrong?'"
   ]
  },
  {
   "cell_type": "code",
   "execution_count": 10,
   "metadata": {},
   "outputs": [
    {
     "name": "stdout",
     "output_type": "stream",
     "text": [
      "tensor(4.8364e-15, device='cuda:0', grad_fn=<MeanBackward0>)\n"
     ]
    }
   ],
   "source": [
    "test_seq_encoding(0)"
   ]
  },
  {
   "cell_type": "code",
   "execution_count": 4,
   "metadata": {},
   "outputs": [],
   "source": [
    "seq_len = 6\n",
    "d_model = 12"
   ]
  },
  {
   "cell_type": "code",
   "execution_count": 5,
   "metadata": {},
   "outputs": [],
   "source": [
    "embedding = th.nn.Embedding(num_embeddings=seq_len, embedding_dim=int(d_model/2))"
   ]
  },
  {
   "cell_type": "code",
   "execution_count": 6,
   "metadata": {},
   "outputs": [],
   "source": [
    "inpt = th.arange(seq_len)\n",
    "outpt = embedding.forward(inpt)"
   ]
  },
  {
   "cell_type": "code",
   "execution_count": 7,
   "metadata": {},
   "outputs": [
    {
     "data": {
      "text/plain": [
       "torch.Size([6, 6])"
      ]
     },
     "execution_count": 7,
     "metadata": {},
     "output_type": "execute_result"
    }
   ],
   "source": [
    "outpt.shape"
   ]
  },
  {
   "cell_type": "code",
   "execution_count": 8,
   "metadata": {},
   "outputs": [
    {
     "data": {
      "text/plain": [
       "torch.Size([6])"
      ]
     },
     "execution_count": 8,
     "metadata": {},
     "output_type": "execute_result"
    }
   ],
   "source": [
    "inpt.shape"
   ]
  },
  {
   "cell_type": "code",
   "execution_count": null,
   "metadata": {},
   "outputs": [],
   "source": []
  }
 ],
 "metadata": {
  "kernelspec": {
   "display_name": "Python 3.10.6 ('ac')",
   "language": "python",
   "name": "python3"
  },
  "language_info": {
   "codemirror_mode": {
    "name": "ipython",
    "version": 3
   },
   "file_extension": ".py",
   "mimetype": "text/x-python",
   "name": "python",
   "nbconvert_exporter": "python",
   "pygments_lexer": "ipython3",
   "version": "3.10.6"
  },
  "vscode": {
   "interpreter": {
    "hash": "c27e8fa6375f4d15af5a5f5541d8bb88746b588c9fe1102cfd8de011d36c10c2"
   }
  }
 },
 "nbformat": 4,
 "nbformat_minor": 2
}
