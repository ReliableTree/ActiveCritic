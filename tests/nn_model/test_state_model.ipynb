{
 "cells": [
  {
   "cell_type": "code",
   "execution_count": 1,
   "metadata": {},
   "outputs": [],
   "source": [
    "import torch as th\n",
    "from active_critic.model_src.state_model import *"
   ]
  },
  {
   "cell_type": "code",
   "execution_count": 24,
   "metadata": {},
   "outputs": [],
   "source": [
    "def make_smargs():\n",
    "    output_dim = 2\n",
    "    smargs = StateModelArgs()\n",
    "    smargs.arch = [100, 100, output_dim]\n",
    "    smargs.device = 'cpu'\n",
    "    smargs.lr = 1e-2\n",
    "    return smargs, output_dim\n",
    "\n",
    "def make_sm_data(output_dim:int):\n",
    "    batch_size = 2\n",
    "    seq_len = 5\n",
    "    inpt_dim = 3\n",
    "    inpt = th.rand([batch_size, seq_len, inpt_dim])\n",
    "    label = th.rand([batch_size, seq_len, output_dim])\n",
    "    return inpt, label, batch_size, seq_len, inpt_dim\n",
    "\n",
    "smargs, output_dim = make_smargs()\n",
    "inpt, label, batch_size, seq_len, inpt_dim = make_sm_data(output_dim=output_dim)\n",
    "\n",
    "sm = StateModel(args=smargs)"
   ]
  },
  {
   "cell_type": "code",
   "execution_count": 25,
   "metadata": {},
   "outputs": [],
   "source": [
    "th.manual_seed(0)\n",
    "output = sm.forward(inpt)"
   ]
  },
  {
   "cell_type": "code",
   "execution_count": 26,
   "metadata": {},
   "outputs": [],
   "source": [
    "output.shape\n",
    "expected_size = [batch_size, seq_len, output_dim]\n",
    "assert list(output.shape) == expected_size"
   ]
  },
  {
   "cell_type": "code",
   "execution_count": 27,
   "metadata": {},
   "outputs": [],
   "source": [
    "for i in range(1000):\n",
    "    loss_dict = sm.optimizer_step(inpt=inpt, label=label)"
   ]
  },
  {
   "cell_type": "code",
   "execution_count": 29,
   "metadata": {},
   "outputs": [],
   "source": [
    "assert loss_dict['Loss '] < 1e-5"
   ]
  },
  {
   "cell_type": "code",
   "execution_count": 30,
   "metadata": {},
   "outputs": [],
   "source": [
    "sm.reset()\n",
    "loss_dict = sm.optimizer_step(inpt=inpt, label=label)"
   ]
  },
  {
   "cell_type": "code",
   "execution_count": 33,
   "metadata": {},
   "outputs": [],
   "source": [
    "assert loss_dict['Loss '] > 1e-2\n",
    "for i in range(1000):\n",
    "    loss_dict = sm.optimizer_step(inpt=inpt, label=label)\n",
    "assert loss_dict['Loss '] < 1e-5\n"
   ]
  },
  {
   "cell_type": "code",
   "execution_count": null,
   "metadata": {},
   "outputs": [],
   "source": []
  }
 ],
 "metadata": {
  "kernelspec": {
   "display_name": "Python 3.10.6 ('ac')",
   "language": "python",
   "name": "python3"
  },
  "language_info": {
   "codemirror_mode": {
    "name": "ipython",
    "version": 3
   },
   "file_extension": ".py",
   "mimetype": "text/x-python",
   "name": "python",
   "nbconvert_exporter": "python",
   "pygments_lexer": "ipython3",
   "version": "3.10.6"
  },
  "orig_nbformat": 4,
  "vscode": {
   "interpreter": {
    "hash": "55d3bc2b8c4272bbea65d85e1c1c189fa11db70743df9511061edc4d7dc4f3cd"
   }
  }
 },
 "nbformat": 4,
 "nbformat_minor": 2
}
