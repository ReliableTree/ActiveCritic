{
 "cells": [
  {
   "cell_type": "code",
   "execution_count": 25,
   "metadata": {},
   "outputs": [],
   "source": [
    "from active_critic.utils.gym_utils import sample_expert_transitions\n",
    "import torch as th\n",
    "from stable_baselines3.common.vec_env import DummyVecEnv, SubprocVecEnv\n",
    "import gym\n",
    "from imitation.data.wrappers import RolloutInfoWrapper\n",
    "from stable_baselines3.common.policies import BaseModel\n",
    "from typing import Any, Dict, List, Optional, Tuple, Type, TypeVar, Union\n",
    "from stable_baselines3.common.torch_layers import BaseFeaturesExtractor\n",
    "import torch.nn as nn\n",
    "from active_critic.utils.gym_utils import DummyExtractor\n",
    "import numpy as np\n",
    "from active_critic.utils.gym_utils import make_policy_dict\n",
    "from metaworld.envs import ALL_V2_ENVIRONMENTS_GOAL_OBSERVABLE\n",
    "from gym.wrappers import TimeLimit\n",
    "from active_critic.utils.pytorch_utils import detokenize, tokenize, calcMSE\n",
    "from stable_baselines3 import SAC\n",
    "from active_critic.utils.tboard_graphs import TBoardGraphs\n",
    "import stable_baselines3\n",
    "import random\n",
    "import copy\n",
    "\n",
    "from stable_baselines3.common.torch_layers import FlattenExtractor\n",
    "class TestExtractor(FlattenExtractor):\n",
    "    def __init__(self, observation_space) -> None:\n",
    "        super().__init__(observation_space)\n",
    "        self._features_dim = observation_space.shape[0]\n",
    "        self.embedd = False\n",
    "        self.emitter = None\n",
    "\n",
    "    def forward(self, observations):\n",
    "        ext_obsv = super().forward(observations)\n",
    "        result = th.zeros([*ext_obsv.shape[:-1], self._features_dim], device=ext_obsv.device, dtype=ext_obsv.dtype)\n",
    "\n",
    "        if self.embedd and (observations.flatten()[-1] == 0):\n",
    "            embedding = self.emitter(result)\n",
    "        else:\n",
    "            embedding = ext_obsv\n",
    "            \n",
    "            \n",
    "        if len(observations.shape) == 1:\n",
    "            result[:embedding.shape[0]] = embedding\n",
    "        else:\n",
    "            result[:, :embedding.shape[1]] = embedding\n",
    "        return result\n",
    "\n",
    "def quantize(inpt, minimum, maximum, nquants):\n",
    "    return inpt\n",
    "    '''scale = maximum - minimum\n",
    "    rec_inpt = ((inpt - minimum) / scale)*(nquants-1)\n",
    "    rounded = th.round(rec_inpt)\n",
    "    result = (rounded / (nquants - 1))*scale\n",
    "    return result'''\n",
    "\n",
    "\n",
    "class MDPData(th.utils.data.Dataset):\n",
    "    def __init__(self, device) -> None:\n",
    "        super().__init__()\n",
    "        self.obsv = None\n",
    "        self.action = None\n",
    "        self.reward = None\n",
    "        self.done = None\n",
    "        self.device = device\n",
    "\n",
    "    def add_step(self, obsv:th.Tensor, action:th.Tensor, reward:th.Tensor, done:th.Tensor):\n",
    "        if self.obsv is None:\n",
    "            self.obsv = obsv.reshape([1, -1]).to(self.device)\n",
    "        else:\n",
    "            self.obsv = th.cat((self.obsv, obsv.to(self.device).reshape([1, -1])), dim=0)\n",
    "\n",
    "        if self.action is None:\n",
    "            self.action = action.to(self.device).reshape([1, -1])\n",
    "        else:\n",
    "            self.action = th.cat((self.action, action.to(self.device).reshape([1, -1])), dim=0)\n",
    "\n",
    "        if self.reward is None:\n",
    "            self.reward = reward.to(self.device).reshape([1, -1])\n",
    "        else:\n",
    "            self.reward = th.cat((self.reward, reward.to(self.device).reshape([1, -1])), dim=0)\n",
    "\n",
    "        if self.done is None:\n",
    "            self.done = done.to(self.device).reshape([1])\n",
    "        else:\n",
    "            self.done = th.cat((self.done, done.to(self.device).reshape([-1])), dim=0)\n",
    "\n",
    "    def __len__(self):\n",
    "        return len(self.obsv)\n",
    "\n",
    "    def __getitem__(self, index):\n",
    "        done = self.done[index]\n",
    "\n",
    "        if done:\n",
    "            return self.obsv[index], th.zeros_like(self.obsv[index]), self.action[index], th.zeros_like(self.action[index]), self.reward[index], th.zeros_like(self.reward[index]), done\n",
    "        else:\n",
    "            return self.obsv[index], self.obsv[index+1], self.action[index], self.action[index+1], self.reward[index], self.reward[index+1], done\n",
    "\n",
    "class MLP(nn.Module):\n",
    "    def __init__(self, input_size, hidden_sizes, output_size, quantisation=0, activation=nn.ReLU(), dropout=0, use_batch_norm=False):\n",
    "        super(MLP, self).__init__()\n",
    "        \n",
    "        # create a sequential container to hold the layers\n",
    "        self.layers = nn.Sequential()\n",
    "        \n",
    "        # create the input layer\n",
    "        self.layers.add_module(\"input\", nn.Linear(input_size, hidden_sizes[0]))\n",
    "        \n",
    "        # create the hidden layers\n",
    "        for i, size in enumerate(hidden_sizes[1:]):\n",
    "            self.layers.add_module(f\"hidden_{i+1}\", nn.Linear(hidden_sizes[i], size))\n",
    "            if use_batch_norm:\n",
    "                self.layers.add_module(f\"batch_norm_{i+1}\", nn.BatchNorm1d(size))\n",
    "            self.layers.add_module(f\"activation_{i+1}\", activation)\n",
    "            if dropout > 0:\n",
    "                self.layers.add_module(f\"dropout_{i+1}\", nn.Dropout(dropout))\n",
    "        \n",
    "        # create the output layer\n",
    "        self.layers.add_module(\"output\", nn.Linear(hidden_sizes[-1], output_size))\n",
    "        self.quantisation = quantisation\n",
    "    \n",
    "    def forward(self, x):\n",
    "        x_shape = x.shape\n",
    "        quantized = len(x_shape) == 4\n",
    "        if quantized: #quantized input\n",
    "            x = x.reshape([x.shape[0], x.shape[1], -1])\n",
    "        # forward pass through the layers\n",
    "\n",
    "        result = self.layers(x)\n",
    "        if self.quantisation != 0:\n",
    "            result = result.reshape([x_shape[0], x_shape[1], -1, self.quantisation])\n",
    "        return result\n",
    "\n",
    "class MDPLearner(nn.Module):\n",
    "    def __init__(\n",
    "        self, \n",
    "        embbed_size, \n",
    "        ntokens_obsv, \n",
    "        ntokens_act, \n",
    "        observation_space, \n",
    "        action_space, \n",
    "        min_obsv,\n",
    "        max_obsv,\n",
    "        min_action,\n",
    "        max_action,\n",
    "        embedding_decimals:int,  \n",
    "        device:str, \n",
    "        max_batch_size = 64) -> None:\n",
    "\n",
    "        \n",
    "        super().__init__()\n",
    "        obsv_size = observation_space.shape[0]\n",
    "        action_size = action_space.shape[0]\n",
    "\n",
    "        hidden_size = 128\n",
    "\n",
    "        self.emitter = MLP(input_size=obsv_size, hidden_sizes=[hidden_size, hidden_size, hidden_size], output_size=embbed_size, quantisation=0).to(device)\n",
    "        self.predictor = MLP(input_size=(embbed_size+action_size), hidden_sizes=[hidden_size, hidden_size, hidden_size], output_size=embbed_size, quantisation=0).to(device)\n",
    "        self.reward_model = MLP(input_size=(embbed_size+action_size), hidden_sizes=[hidden_size, hidden_size, hidden_size], output_size=1, quantisation=0).to(device)\n",
    "        \n",
    "        self.optimizer = th.optim.Adam(params=list(self.emitter.parameters()) + list(self.predictor.parameters())+ list(self.reward_model.parameters()), lr=1e-4)\n",
    "        self.scheduler = th.optim.lr_scheduler.StepLR(optimizer=self.optimizer, step_size=300000/32, gamma=0.95)\n",
    "        self.obs_minimum = min_obsv.to(device)\n",
    "        self.obs_maximum = max_obsv.to(device)\n",
    "        self.action_minimum = min_action.to(device)\n",
    "        self.action_maximum = max_action.to(device)\n",
    "        self.ntokens_obsv = ntokens_obsv\n",
    "        self.ntokens_act = ntokens_act\n",
    "        self.embbed_size = embbed_size\n",
    "\n",
    "        self.embedding_decimals = embedding_decimals\n",
    "\n",
    "        self.obs_minimum = self.obs_minimum.reshape([1,1,-1]).repeat([max_batch_size, 1, 1]).to(device)\n",
    "        self.obs_maximum = self.obs_maximum.reshape([1,1,-1]).repeat([max_batch_size, 1, 1]).to(device)\n",
    "        self.action_minimum = self.action_minimum.reshape([1,1,-1]).repeat([max_batch_size, 1, 1]).to(device)\n",
    "        self.action_maximum = self.action_maximum.reshape([1,1,-1]).repeat([max_batch_size, 1, 1]).to(device)\n",
    "\n",
    "        self.device = device\n",
    "\n",
    "    def qemb_qact_f_obsv(self, obsvs, actions):\n",
    "        batch_size = actions.shape[0]\n",
    "        qobsvs = quantize(obsvs, minimum=self.obs_minimum[:batch_size], maximum=self.obs_maximum[:batch_size], nquants=self.ntokens_act)\n",
    "        embeddings = self.emitter.forward(qobsvs)\n",
    "        return self.get_q_emb_q_act(embeddings=embeddings, actions=actions)\n",
    "\n",
    "    def get_q_emb_q_act(self, embeddings, actions):\n",
    "        batch_size = actions.shape[0]\n",
    "        qactions = quantize(actions, minimum=self.action_minimum[:batch_size], maximum=self.action_maximum[:batch_size], nquants=self.ntokens_act)\n",
    "        #qembeddings = th.round(embeddings, decimals=self.embedding_decimals)\n",
    "        qembeddings = embeddings\n",
    "        emb_act = th.cat((qembeddings, qactions), dim=2)\n",
    "        return emb_act, qembeddings\n",
    "\n",
    "\n",
    "    def learn_step(self, obsvs:th.Tensor, n_obsvs:th.Tensor, actions:th.Tensor, n_actions:th.Tensor, rewards:th.Tensor, n_rewards:th.Tensor, dones:th.Tensor):\n",
    "        #Inputs are step wise, so seq_len = 1\n",
    "        obsvs = obsvs.unsqueeze(1)\n",
    "        n_obsvs = n_obsvs.unsqueeze(1)\n",
    "        actions = actions.unsqueeze(1)\n",
    "        n_actions = n_actions.unsqueeze(1)\n",
    "        rewards = rewards.unsqueeze(1)\n",
    "        n_rewards = n_rewards.unsqueeze(1)\n",
    "\n",
    "        #Reshape the maximum and minimum according to batch size\n",
    "\n",
    "        nd_n_actions = n_actions[~dones]\n",
    "        nd_n_observations = n_obsvs[~dones]\n",
    "        nd_nrewards = n_rewards[~dones]\n",
    "\n",
    "        '''print(f'actions: {actions.shape}')\n",
    "        print(f'obsvs: {obsvs.shape}')\n",
    "        print(f'rewards: {rewards.shape}')\n",
    "        print(f'actions: {actions.shape}')\n",
    "        print(f'nd_n_actions: {nd_n_actions.shape}')\n",
    "        print(f'nd_n_observations: {nd_n_observations.shape}')\n",
    "        print(f'nd_nrewards: {nd_nrewards.shape}')\n",
    "        print(f'dones: {dones.shape}')'''\n",
    "\n",
    "\n",
    "        rew1_loss, emb_act1, embeddings1, expected_rewards1 = self.step_reward_model(actions=actions, observations=obsvs, rewards=rewards, do_print=False)\n",
    "        rew2_loss, emb_act2, q_embeddings2, expected_rewards2 = self.step_reward_model(actions=nd_n_actions, observations=nd_n_observations, rewards=nd_nrewards, do_print=False)\n",
    "        \n",
    "        nd_emb_act1 = emb_act1[~dones]\n",
    "\n",
    "        pred_loss, pred_n_embeddings = self.step_predictor(emb_act=nd_emb_act1, n_embeddings=q_embeddings2)\n",
    "\n",
    "        pred_rew2_loss, _, _, _ = self.step_predictive_reward_model(actions=nd_n_actions, embeddings=pred_n_embeddings, rewards=nd_nrewards, do_print=False)\n",
    "\n",
    "\n",
    "        loss = rew1_loss + rew2_loss + pred_loss + pred_rew2_loss\n",
    "\n",
    "\n",
    "        self.optimizer.zero_grad()\n",
    "        loss.backward()\n",
    "        self.optimizer.step()\n",
    "        self.scheduler.step()\n",
    "\n",
    "        #q_pred_embeddings2 = th.round(pred_n_embeddings, decimals=self.embedding_decimals)\n",
    "        q_pred_embeddings2 = pred_n_embeddings\n",
    "        return rew1_loss.detach(), rew2_loss.detach(), pred_loss.detach(), q_embeddings2.detach(), q_pred_embeddings2.detach(), pred_rew2_loss.detach()\n",
    "\n",
    "    def step_reward_model(self, actions:th.Tensor, observations:th.Tensor, rewards:th.Tensor, do_print:bool):\n",
    "        emb_act, qembeddings = self.qemb_qact_f_obsv(obsvs=observations, actions=actions)\n",
    "        expected_rewards = self.reward_model.forward(emb_act)\n",
    "\n",
    "        loss = calcMSE(expected_rewards, rewards)\n",
    "        return loss, emb_act, qembeddings, expected_rewards\n",
    "\n",
    "    def step_predictive_reward_model(self, actions:th.Tensor, embeddings:th.Tensor, rewards:th.Tensor, do_print:bool):\n",
    "        emb_act, qembeddings = self.get_q_emb_q_act(embeddings=embeddings, actions=actions)\n",
    "        expected_rewards = self.reward_model.forward(emb_act)\n",
    "\n",
    "        loss = calcMSE(expected_rewards, rewards)\n",
    "        return loss, emb_act, qembeddings, expected_rewards\n",
    "\n",
    "    def step_predictor(self, emb_act:th.Tensor, n_embeddings:th.Tensor):\n",
    "\n",
    "        pred_n_embeddings = self.predictor(emb_act)\n",
    "        pred_loss = calcMSE(pred_n_embeddings, n_embeddings)\n",
    "\n",
    "        pred_loss = pred_loss.sum() * 100\n",
    "        return pred_loss, pred_n_embeddings\n",
    "\n",
    "    def predict_step_embedding(self, embeddings, actions):\n",
    "        q_emb_q_act, _ = self.get_q_emb_q_act(embeddings=embeddings, actions=actions)\n",
    "\n",
    "        pred_n_embeddings = self.predictor(q_emb_q_act)\n",
    "        #q_pred_n_embeddings = th.round(pred_n_embeddings, decimals=self.embedding_decimals)\n",
    "        q_pred_n_embeddings = pred_n_embeddings\n",
    "        return q_pred_n_embeddings, q_emb_q_act\n",
    "\n",
    "    def pred_n_steps(self, obsv, actions):\n",
    "        rewards = []\n",
    "        embeddings = []\n",
    "        steps = actions.shape[1]\n",
    "\n",
    "        obsv = obsv.unsqueeze(1)\n",
    "\n",
    "\n",
    "        q_emb_q_act, qembeddings = self.qemb_qact_f_obsv(obsvs=obsv, actions=actions[:, :1])\n",
    "        for i in range(steps):\n",
    "            emb_act, qembeddings = self.get_q_emb_q_act(embeddings=qembeddings, actions=actions[:, i:i+1])\n",
    "            pred_reward = self.reward_model(emb_act)\n",
    "            rewards.append(pred_reward)\n",
    "\n",
    "            q_pred_n_embeddings, _  = self.predict_step_embedding(embeddings=qembeddings, actions=actions[:, i:i+1])\n",
    "            embeddings.append(q_pred_n_embeddings.detach())\n",
    "            qembeddings = q_pred_n_embeddings.detach()\n",
    "\n",
    "        return rewards, embeddings\n",
    "\n",
    "    def pred_rewards(self, obsvs, actions):\n",
    "        self.eval()\n",
    "        q_emb_q_act, qembeddings = self.qemb_qact_f_obsv(obsvs=obsvs, actions=actions)\n",
    "        rewards = self.reward_model.forward(q_emb_q_act)\n",
    "        return rewards\n",
    "\n",
    "    def pred_step(self, embeddings, actions):\n",
    "        embeddings = self.reshape(embeddings)\n",
    "        actions = self.reshape(actions)\n",
    "        n_embedding, currten_emb_act = self.predict_step_embedding(embeddings=embeddings, actions=actions)\n",
    "        rewards = self.reward_model(currten_emb_act)\n",
    "        info = {}\n",
    "        #definitely a hack\n",
    "        dones = rewards == 10\n",
    "\n",
    "        #n_embedding = th.round(n_embedding, decimals=self.embedding_decimals)\n",
    "\n",
    "        return n_embedding.detach(), rewards.detach(), dones.detach(), info\n",
    "\n",
    "    def reshape(self, inpt):\n",
    "        if len(inpt.shape) == 1:\n",
    "            return inpt.reshape([1,1,-1])\n",
    "        elif len(inpt.shape) == 2:\n",
    "            return inpt.reshape([inpt.shape[0], 1, -1])\n",
    "        else:\n",
    "            return inpt\n",
    "\n",
    "    def learn(self, max_steps, rew1_thr, rew2_thr, embedd_thr, dataloader:th.utils.data.DataLoader, tboard:TBoardGraphs):\n",
    "        self.train()\n",
    "        steps = 0\n",
    "        l2_rew1 = float('inf')\n",
    "        l2_rew2 = float('inf')\n",
    "        n_equal_embedding = float('inf')\n",
    "        \n",
    "        while (steps <= max_steps) and ((l2_rew1 > rew1_thr) or (l2_rew2 > rew2_thr) or (n_equal_embedding > embedd_thr)):\n",
    "\n",
    "            r1l = 0\n",
    "            r2l = 0\n",
    "            pr2l = 0\n",
    "            el2 = 0\n",
    "            nem = 0\n",
    "            iteration_counter = 0\n",
    "            for obsv, nobsv, action, naction, reward, nreward, done in dataloader:\n",
    "                rew1_loss, rew2_loss, pred_loss, q_embeddings2, q_pred_embeddings2, pred_rew2_loss = self.learn_step(\n",
    "                    obsvs=obsv, \n",
    "                    n_obsvs=nobsv, \n",
    "                    actions=action, \n",
    "                    n_actions=naction, \n",
    "                    rewards=reward,\n",
    "                    n_rewards=nreward,\n",
    "                    dones=done)\n",
    "                steps += obsv.shape[0]\n",
    "                iteration_counter+= 1\n",
    "                r1l = r1l + rew1_loss\n",
    "                r2l = r2l + rew2_loss\n",
    "                el2 = el2 + pred_loss\n",
    "                pr2l = pr2l + pred_rew2_loss\n",
    "\n",
    "                nee = (q_embeddings2 != q_pred_embeddings2).sum()\n",
    "                nem = nem + nee\n",
    "                \n",
    "\n",
    "            l2_rew1 = r1l / iteration_counter\n",
    "            l2_rew2 = r2l / iteration_counter\n",
    "            el2 = el2 / iteration_counter\n",
    "            pr2l = pr2l / iteration_counter\n",
    "            n_equal_embedding = nem\n",
    "            tboard.addTrainScalar('l2_rew1', value=l2_rew1.to('cpu'), stepid=steps)\n",
    "            tboard.addTrainScalar('l2_rew2', value=l2_rew2.to('cpu'), stepid=steps)\n",
    "            tboard.addTrainScalar('pr2l', value=pr2l.to('cpu'), stepid=steps)\n",
    "            tboard.addTrainScalar('pred_loss', value=el2.to('cpu'), stepid=steps)\n",
    "            tboard.addTrainScalar('lr', value=th.tensor(self.optimizer.state_dict()['param_groups'][0]['lr']), stepid=steps)\n",
    "            tboard.addTrainScalar('n_equal_embedding', n_equal_embedding.to('cpu'), stepid=steps)\n",
    "        \n",
    "class QuantzedMDP(gym.Wrapper):\n",
    "    def __init__(self, env: gym.Env, ntokens_obsv, ntokens_act, obsv_low, obsv_high, action_low, action_high, device, mdpLearner:MDPLearner) -> None:\n",
    "        super().__init__(env)\n",
    "        self.ntokens_obsv= ntokens_obsv\n",
    "        self.ntokens_act = ntokens_act\n",
    "\n",
    "        lowq = self.observation_space.low\n",
    "        lowq = np.append(lowq, 0)\n",
    "        highq = self.observation_space.low\n",
    "        highq = np.append(highq, 1)\n",
    "\n",
    "        observation_space = gym.spaces.Box(low=lowq, high=highq)\n",
    "        self.observation_space = observation_space\n",
    "\n",
    "        min_obsv = self.observation_space.low\n",
    "        min_obsv = np.maximum(min_obsv, obsv_low)\n",
    "        self.min_obsv = th.tensor(min_obsv)\n",
    "        max_obsv = self.observation_space.high\n",
    "        max_obsv = np.minimum(max_obsv, obsv_high)\n",
    "        self.max_obsv = th.tensor(max_obsv)\n",
    "\n",
    "        min_action = self.action_space.low\n",
    "        min_action = np.maximum(min_action, action_low)\n",
    "        self.min_action = th.tensor(min_action)\n",
    "        max_action = self.action_space.high\n",
    "        max_action = np.minimum(max_action, action_high)\n",
    "        self.max_action = th.tensor(max_action)\n",
    "\n",
    "        self.max_recoreded_obsv = -float(\"inf\")\n",
    "        self.min_recoreded_obsv = float(\"inf\")\n",
    "\n",
    "        self.replay_data = MDPData(device)\n",
    "\n",
    "        self.current_obsv = None\n",
    "        self.first_observations = []\n",
    "\n",
    "        self.predict_MDP = False\n",
    "\n",
    "        self.mdpLearner = mdpLearner        \n",
    "\n",
    "    def quantize(self, inpt, min, max, ntokens):\n",
    "        return inpt\n",
    "        '''th_inpt = th.tensor(inpt).reshape([1,1,-1])\n",
    "        th_inpt = tokenize(inpt=th_inpt, minimum=min, maximum=max, ntokens=ntokens)\n",
    "        th_inpt = detokenize(inpt=th_inpt, minimum=min, maximum=max, ntokens=ntokens)\n",
    "        return th_inpt.numpy().squeeze()'''\n",
    "\n",
    "    def reset(self) -> Any:\n",
    "\n",
    "        if self.predict_MDP:\n",
    "            #HACK!!!\n",
    "            _ = super().reset()\n",
    "\n",
    "            obsv = np.copy(random.choice(self.first_observations))\n",
    "            current_embedding = self.mdpLearner.emitter(th.tensor(obsv, dtype=th.float, device=self.mdpLearner.device)).squeeze()\n",
    "            self.current_embedding = current_embedding\n",
    "\n",
    "            obsv = th.zeros([*obsv.shape], device=self.mdpLearner.device, dtype=th.float).squeeze()\n",
    "            obsv[:self.current_embedding.shape[0]] = current_embedding\n",
    "            #obsv = self.quantize(inpt=obsv, min=self.min_obsv, max=self.max_obsv, ntokens=self.ntokens_obsv)\n",
    "            obsv[-1] = 1\n",
    "            obsv = obsv.detach().to('cpu').numpy()\n",
    "\n",
    "        else:\n",
    "            obsv = super().reset()\n",
    "            #obsv = self.quantize(inpt=obsv, min=self.min_obsv, max=self.max_obsv, ntokens=self.ntokens_obsv)\n",
    "            obsv = np.append(obsv, 0)\n",
    "            self.current_obsv = obsv\n",
    "            self.first_observations.append(obsv)\n",
    "\n",
    "        return obsv\n",
    "\n",
    "    def step(self, action):\n",
    "        q_act = self.quantize(inpt=action, min=self.min_action, max=self.max_action, ntokens=self.ntokens_act)\n",
    "\n",
    "        if self.predict_MDP:\n",
    "            #just to check for other done criteria. Will change this later:\n",
    "            _, _, outer_dones, _ = super().step(np.array([0,0,0,0]))\n",
    "            obsv = th.zeros([self.observation_space.shape[0]], dtype=th.float, device=self.mdpLearner.device)\n",
    "            q_act = th.tensor(q_act, dtype=th.float, device=self.mdpLearner.device)\n",
    "            emb_obsv, reward, dones, info  = self.mdpLearner.pred_step(embeddings=self.current_embedding, actions=q_act)\n",
    "            #HACK!\n",
    "            dones = outer_dones\n",
    "            obsv[:emb_obsv.shape[-1]] = emb_obsv.squeeze()\n",
    "            self.current_embedding = emb_obsv.squeeze()\n",
    "            obsv = obsv.detach().to('cpu').numpy()\n",
    "            reward = float(reward.detach().to('cpu').numpy())\n",
    "\n",
    "        else:\n",
    "            obsv, reward, dones, info = super().step(q_act)\n",
    "            obsv = np.append(obsv, 0)\n",
    "            \n",
    "            self.replay_data.add_step(th.tensor(self.current_obsv, dtype=th.float), th.tensor(q_act, dtype=th.float), th.tensor(reward, dtype=th.float), th.tensor(dones, dtype=th.bool))\n",
    "            self.current_obsv = obsv\n",
    "        \n",
    "        return obsv, reward, dones, info\n",
    "\n",
    "    def learn(self, max_steps: int, rew1_thr: float, rew2_thr: float, embedd_thr: float, dataloader: Any, tboard: TBoardGraphs):\n",
    "        self.mdpLearner.learn(max_steps=max_steps, rew1_thr=rew1_thr, rew2_thr=rew2_thr, embedd_thr=embedd_thr, dataloader=dataloader, tboard=tboard)\n",
    "\n",
    "    def set_predictive_mode(self, predict:bool, sac:SAC):\n",
    "        if predict:\n",
    "            sac.policy.actor.features_extractor.embedd = False\n",
    "            sac.policy.actor.features_extractor.embedd = False\n",
    "            sac.policy.actor.features_extractor.embedd = False\n",
    "            self.predict_MDP = True\n",
    "        else:\n",
    "            sac.policy.actor.features_extractor.emitter = self.mdpLearner.emitter\n",
    "            sac.policy.actor.features_extractor.embedd = True\n",
    "            sac.policy.critic.features_extractor.emitter = self.mdpLearner.emitter\n",
    "            sac.policy.actor.features_extractor.embedd = True\n",
    "            sac.policy.critic_target.features_extractor.emitter = self.mdpLearner.emitter\n",
    "            sac.policy.actor.features_extractor.embedd = True\n",
    "            self.predict_MDP = False\n",
    "\n",
    "def gradient_max(input):\n",
    "    max_indices = th.max(input, dim=-1)[1]\n",
    "    one_hot = th.nn.functional.one_hot(max_indices, num_classes=input.shape[-1])\n",
    "    with th.no_grad():\n",
    "        input -= input\n",
    "        input += one_hot\n",
    "    return input\n",
    "\n",
    "def make_mdp_data(env:QuantzedMDP, device:str):\n",
    "    batch_size = 2\n",
    "    seq_len = 4\n",
    "    actions_size = env.action_space.shape[0]\n",
    "    observation_size = env.observation_space.shape[0]\n",
    "\n",
    "    observations = th.ones([batch_size, seq_len, observation_size], dtype=th.float, device=device)\n",
    "    observations[0, 1:] = 0\n",
    "    observations[0, -1] = 1\n",
    "\n",
    "    actions = th.ones([batch_size, seq_len, actions_size], dtype=th.float, device=device)\n",
    "    actions[0] = 0\n",
    "    actions[0, -2] = 1\n",
    "\n",
    "    rewards = th.ones([batch_size, seq_len, 1], dtype=th.float, device=device)\n",
    "    rewards[1] = 0\n",
    "    rewards[0,0] = 1\n",
    "    rewards[0, 1:] = 2\n",
    "    rewards[0, -2] = 3\n",
    "    rewards[0, -1] = 1\n",
    "\n",
    "    dones = th.zeros([batch_size, seq_len], dtype=bool, device=device)\n",
    "    dones[:, -1] = 1\n",
    "\n",
    "    n_observations = th.zeros_like(observations)\n",
    "    n_observations[:, :-1] = observations[:, 1:]\n",
    "\n",
    "    n_rewards = th.zeros_like(rewards)\n",
    "    n_rewards[:, :-1] = rewards[:, 1:]\n",
    "\n",
    "    n_actions = th.zeros_like(actions)\n",
    "    n_actions[:, :-1] = actions[:, 1:]\n",
    "\n",
    "    return observations, n_observations, actions, n_actions, rewards, n_rewards, dones\n",
    "\n",
    "def init_policy(model:SAC):\n",
    "    for module in model.policy.critic.qf0:\n",
    "        model.policy.init_weights(module)\n",
    "    for module in model.policy.critic.qf1:\n",
    "        model.policy.init_weights(module)\n",
    "\n",
    "    for module in model.policy.critic_target.qf0:\n",
    "        model.policy.init_weights(module)\n",
    "    for module in model.policy.critic_target.qf1:\n",
    "        model.policy.init_weights(module)\n",
    "    for module in model.policy.actor.latent_pi:\n",
    "        model.policy.init_weights(module)\n",
    "    model.policy.init_weights(model.policy.actor.mu)\n",
    "\n",
    "def test_policy(model, env, iterations):\n",
    "    rews = []\n",
    "    for i in range(iterations):\n",
    "        obs = env.reset()\n",
    "        while True:\n",
    "            action, _states = model.predict(obs, deterministic=True)\n",
    "            obs, reward, done, info = env.step(action)\n",
    "            if type(reward) is not float:\n",
    "                rews.append(reward.detach().cpu().numpy())\n",
    "            else:\n",
    "                rews.append(reward)\n",
    "\n",
    "\n",
    "            #env.render()\n",
    "            if done:\n",
    "                break\n",
    "    rews = np.array(rews)\n",
    "    return rews\n",
    "\n",
    "def test_policy_initial_state(model, envs, obsvs):\n",
    "    rews = []\n",
    "    for i in range(len(envs)):\n",
    "        obs = obsvs[i]\n",
    "        while True:\n",
    "            action, _states = model.predict(obs, deterministic=True)\n",
    "            obs, reward, done, info = envs[i].step(action)\n",
    "            if type(reward) is not float:\n",
    "                rews.append(reward.detach().cpu().numpy())\n",
    "            else:\n",
    "                rews.append(reward)\n",
    "\n",
    "\n",
    "            #env.render()\n",
    "            if done:\n",
    "                break\n",
    "    rews = np.array(rews)\n",
    "    return rews\n",
    "\n",
    "\n",
    "def test_gradient_steps_SAC(model:SAC, tboard:TBoardGraphs, env):\n",
    "    gradient_stepsize = model.replay_buffer.pos\n",
    "    gradient_steps = gradient_stepsize\n",
    "    for i in range(20):\n",
    "        print(i)\n",
    "        init_policy(model=model)\n",
    "        model.train(gradient_steps=gradient_steps, batch_size=model.batch_size)\n",
    "        print('_______________')\n",
    "        rews = test_policy(model=model, env=env)\n",
    "        rews = th.tensor(rews.mean())\n",
    "        tboard.addValidationScalar(name='Rewards', value=rews, stepid=gradient_steps)\n",
    "        gradient_steps += gradient_stepsize\n",
    "        \n",
    "def test_SAC(env, eval_env, eval_epochs, iterations, path, logname, device, model = None):\n",
    "    tb = TBoardGraphs(logname=logname, data_path=path)\n",
    "\n",
    "    if model is None:\n",
    "        pkwarg = dict(net_arch=[512, 512, 512])\n",
    "        pkwarg = dict(features_extractor_class=TestExtractor)\n",
    "        model = SAC(\"MlpPolicy\", env=env, verbose=1, policy_kwargs=pkwarg, device=device)\n",
    "\n",
    "    pmdp = env.predict_MDP\n",
    "    #env.set_predictive_mode(predict=False, sac=model)\n",
    "\n",
    "    for iteration in range(iterations):\n",
    "        rews = []\n",
    "        for eval_run in range(eval_epochs):\n",
    "            obs = eval_env.reset()\n",
    "            while True:\n",
    "                action, _states = model.predict(obs, deterministic=True)\n",
    "                obs, reward, done, info = eval_env.step(action)\n",
    "                rews.append(reward)\n",
    "                #env.render()\n",
    "                if done:\n",
    "                    break\n",
    "        rews_np = np.array(rews)\n",
    "        tb.addValidationScalar(name='Average Reward', value=th.tensor(rews_np.mean()), stepid=iteration)\n",
    "        #env.set_predictive_mode(predict=pmdp, sac=model)\n",
    "\n",
    "        model.learn(total_timesteps=100*10, log_interval=1000)\n",
    "        model.save(logname)\n",
    "    return model\n",
    "\n",
    "def createGraphs(tboard, trjs:list([th.tensor]), trj_names:list([str]), plot_name:str, step):\n",
    "    np_trjs = []\n",
    "    trj_colors = ['forestgreen', 'orange', 'pink']\n",
    "    for trj in trjs:\n",
    "        np_trjs.append(trj.detach().cpu().numpy())\n",
    "    tboard.plot_graph(trjs=np_trjs, trj_names=trj_names, trj_colors=trj_colors, plot_name=plot_name, step=step)"
   ]
  },
  {
   "cell_type": "code",
   "execution_count": 4,
   "metadata": {},
   "outputs": [
    {
     "name": "stderr",
     "output_type": "stream",
     "text": [
      "/home/hendrik/anaconda3/envs/ac/lib/python3.10/site-packages/gym/spaces/box.py:73: UserWarning: \u001b[33mWARN: Box bound precision lowered by casting to float32\u001b[0m\n",
      "  logger.warn(\n"
     ]
    }
   ],
   "source": [
    "seq_len = 100\n",
    "env_id = 'reach'\n",
    "policy_dict = make_policy_dict()\n",
    "device = 'cuda'\n",
    "max_episode_steps = seq_len\n",
    "env = ALL_V2_ENVIRONMENTS_GOAL_OBSERVABLE[policy_dict[env_id][1]]()\n",
    "env._freeze_rand_vec = False\n",
    "env = TimeLimit(env=env, max_episode_steps=max_episode_steps)\n",
    "\n",
    "lowq = env.observation_space.low\n",
    "lowq = np.append(lowq, 0)\n",
    "highq = env.observation_space.low\n",
    "highq = np.append(highq, 1)\n",
    "\n",
    "observation_space = gym.spaces.Box(low=lowq, high=highq)\n",
    "\n",
    "min_obsv = observation_space.low\n",
    "min_obsv = np.maximum(min_obsv, -1)\n",
    "min_obsv = th.tensor(min_obsv)\n",
    "max_obsv = observation_space.high\n",
    "max_obsv = np.minimum(max_obsv, 1)\n",
    "max_obsv = th.tensor(max_obsv)\n",
    "\n",
    "action_minimum = th.tensor(np.maximum(env.action_space.low, -1))\n",
    "action_maximum = th.tensor(np.minimum(env.action_space.high, 1))"
   ]
  },
  {
   "cell_type": "code",
   "execution_count": 5,
   "metadata": {},
   "outputs": [],
   "source": [
    "mdp_learner = MDPLearner(\n",
    "    embbed_size=20,\n",
    "    ntokens_obsv=1000,\n",
    "    ntokens_act=1000,\n",
    "    observation_space=observation_space,\n",
    "    action_space=env.action_space,\n",
    "    min_obsv=min_obsv,\n",
    "    max_obsv=max_obsv,\n",
    "    min_action=action_minimum,\n",
    "    max_action=action_maximum,\n",
    "    embedding_decimals=1,\n",
    "    device=device\n",
    ")"
   ]
  },
  {
   "cell_type": "code",
   "execution_count": 6,
   "metadata": {},
   "outputs": [],
   "source": [
    "qenv= QuantzedMDP(env=env, ntokens_obsv=1000, ntokens_act=1000, obsv_low=-1, obsv_high=1, action_low=-1, action_high=1, device=device, mdpLearner=mdp_learner)\n",
    "qenv_eval= QuantzedMDP(env=env, ntokens_obsv=1000, ntokens_act=1000, obsv_low=-1, obsv_high=1, action_low=-1, action_high=1, device=device, mdpLearner=mdp_learner)"
   ]
  },
  {
   "cell_type": "code",
   "execution_count": 7,
   "metadata": {},
   "outputs": [
    {
     "name": "stdout",
     "output_type": "stream",
     "text": [
      "Using cuda device\n",
      "Wrapping the env with a `Monitor` wrapper\n",
      "Wrapping the env in a DummyVecEnv.\n"
     ]
    }
   ],
   "source": [
    "pkwarg = dict(features_extractor_class=TestExtractor)\n",
    "model_env = SAC(\"MlpPolicy\", qenv, verbose=1, policy_kwargs=pkwarg)"
   ]
  },
  {
   "cell_type": "code",
   "execution_count": 8,
   "metadata": {},
   "outputs": [
    {
     "name": "stderr",
     "output_type": "stream",
     "text": [
      "2022-12-30 17:46:21.660128: I tensorflow/core/platform/cpu_feature_guard.cc:193] This TensorFlow binary is optimized with oneAPI Deep Neural Network Library (oneDNN) to use the following CPU instructions in performance-critical operations:  AVX2 FMA\n",
      "To enable them in other operations, rebuild TensorFlow with the appropriate compiler flags.\n"
     ]
    },
    {
     "name": "stdout",
     "output_type": "stream",
     "text": [
      "Using cuda device\n",
      "Wrapping the env with a `Monitor` wrapper\n",
      "Wrapping the env in a DummyVecEnv.\n"
     ]
    },
    {
     "data": {
      "image/png": "[encoded data removed]",
      "text/plain": [
       "<Figure size 640x480 with 4 Axes>"
      ]
     },
     "metadata": {},
     "output_type": "display_data"
    }
   ],
   "source": [
    "model = test_SAC(env=qenv, eval_env=qenv_eval, eval_epochs=20, iterations=10, logname='reach 10', path='/data/bing/hendrik/', model=None, device=device)"
   ]
  },
  {
   "cell_type": "code",
   "execution_count": 9,
   "metadata": {},
   "outputs": [],
   "source": [
    "rews = test_policy(model=model, env=qenv_eval, iterations=20)"
   ]
  },
  {
   "cell_type": "code",
   "execution_count": 10,
   "metadata": {},
   "outputs": [
    {
     "data": {
      "text/plain": [
       "2.208592864421423"
      ]
     },
     "execution_count": 10,
     "metadata": {},
     "output_type": "execute_result"
    }
   ],
   "source": [
    "rews.mean()"
   ]
  },
  {
   "cell_type": "code",
   "execution_count": 14,
   "metadata": {},
   "outputs": [
    {
     "name": "stderr",
     "output_type": "stream",
     "text": [
      "/home/hendrik/anaconda3/envs/ac/lib/python3.10/site-packages/stable_baselines3/common/save_util.py:276: UserWarning: Path '/data/bing/hendrik' does not exist. Will create it.\n",
      "  warnings.warn(f\"Path '{path.parent}' does not exist. Will create it.\")\n"
     ]
    }
   ],
   "source": [
    "model.save_replay_buffer('/data/bing/hendrik/reach10rpl')"
   ]
  },
  {
   "cell_type": "code",
   "execution_count": 15,
   "metadata": {},
   "outputs": [
    {
     "data": {
      "image/png": "[encoded data removed]",
      "text/plain": [
       "<Figure size 640x480 with 4 Axes>"
      ]
     },
     "metadata": {},
     "output_type": "display_data"
    }
   ],
   "source": [
    "tb = TBoardGraphs(logname='mdp test reach 10', data_path='/data/bing/hendrik/')"
   ]
  },
  {
   "cell_type": "code",
   "execution_count": 16,
   "metadata": {},
   "outputs": [],
   "source": [
    "dataloader = th.utils.data.DataLoader(dataset=qenv.replay_data, batch_size=32)"
   ]
  },
  {
   "cell_type": "code",
   "execution_count": 17,
   "metadata": {},
   "outputs": [],
   "source": [
    "mdp_learner.learn(max_steps=1e7, rew1_thr=1, rew2_thr=1, embedd_thr=0, tboard=tb, dataloader=dataloader)"
   ]
  },
  {
   "cell_type": "code",
   "execution_count": 21,
   "metadata": {},
   "outputs": [],
   "source": [
    "th.save(mdp_learner, '/data/bing/hendrik/mdp_learner_reach')"
   ]
  },
  {
   "cell_type": "code",
   "execution_count": 22,
   "metadata": {},
   "outputs": [],
   "source": [
    "n_mdp = th.load('/data/bing/hendrik/mdp_learner_reach')"
   ]
  },
  {
   "cell_type": "code",
   "execution_count": 26,
   "metadata": {},
   "outputs": [],
   "source": [
    "def compare_prediction_and_simulation(qenv, tb, step):\n",
    "    eval_qenv_1 = copy.deepcopy(qenv)\n",
    "    eval_qenv_2 = copy.deepcopy(qenv)\n",
    "    qenv.set_predictive_mode(predict=True, sac=model)\n",
    "\n",
    "    qenv.replay_data = MDPData(device=device)\n",
    "    eval_qenv_1.replay_data = MDPData(device=device)\n",
    "    eval_qenv_2.replay_data = MDPData(device=device)\n",
    "\n",
    "    obsv = eval_qenv_1.reset()\n",
    "    init_obsv = np.copy(obsv)\n",
    "    qenv.first_observations = [np.copy(obsv)]\n",
    "\n",
    "    virtual_obsv = qenv.reset()\n",
    "    actions = []\n",
    "    rewards = []\n",
    "    done = False\n",
    "    while not done:\n",
    "        action, _ = model.predict(virtual_obsv)\n",
    "        actions.append(action)\n",
    "        virtual_obsv, rew, done, info = qenv.step(action)\n",
    "        rewards.append(rew)\n",
    "        \n",
    "    eval_qenv_1.set_predictive_mode(False, model)\n",
    "    \n",
    "    sim_rew = []\n",
    "    done = False\n",
    "    i = 0\n",
    "    while not done:\n",
    "        obsv, rew, done, info = qenv_eval.step(actions[i])\n",
    "        sim_rew.append(rew)\n",
    "        i += 1\n",
    "\n",
    "    eval_qenv_2.set_predictive_mode(False, model)\n",
    "\n",
    "    sim_rew_in_the_loop = []\n",
    "    actions_in_the_loop = []\n",
    "    done = False\n",
    "    obsv = init_obsv\n",
    "    while not done:\n",
    "        action, _ = model.predict(obsv)\n",
    "        obsv, rew, done, info = eval_qenv_2.step(action)\n",
    "        sim_rew_in_the_loop.append(rew)\n",
    "        actions_in_the_loop.append(action)\n",
    "\n",
    "    predicted_rewards = th.tensor(np.array(rewards)).reshape([-1, 1])\n",
    "    actual_rewards = th.tensor(np.array(sim_rew)).reshape([-1, 1])\n",
    "    in_the_loop_rewards = th.tensor(np.array(sim_rew_in_the_loop)).reshape([-1, 1])\n",
    "    actions = th.tensor(np.array(actions)).reshape([-1, 1])\n",
    "    actions_in_the_loop = th.tensor(np.array(actions_in_the_loop)).reshape([-1, 1])\n",
    "\n",
    "    createGraphs(tb, trjs=[actions, actions_in_the_loop], trj_names=['actions', 'actions_in_the_loop'], plot_name='Actions', step=step)\n",
    "    createGraphs(tb, trjs=[predicted_rewards, actual_rewards, in_the_loop_rewards], trj_names=['predicted_rewards', 'actual_rewards', 'in_the_loop_rewards'], plot_name='Rewards', step=step)"
   ]
  },
  {
   "cell_type": "code",
   "execution_count": 27,
   "metadata": {},
   "outputs": [
    {
     "data": {
      "text/plain": [
       "True"
      ]
     },
     "execution_count": 27,
     "metadata": {},
     "output_type": "execute_result"
    }
   ],
   "source": [
    "list(mdp_learner.parameters()) == list(qenv.mdpLearner.parameters())"
   ]
  },
  {
   "cell_type": "code",
   "execution_count": null,
   "metadata": {},
   "outputs": [],
   "source": [
    "qenv.replay_data.obsv.shape"
   ]
  },
  {
   "cell_type": "code",
   "execution_count": null,
   "metadata": {},
   "outputs": [],
   "source": [
    "qenv.set_predictive_mode(predict=True, sac=model)"
   ]
  },
  {
   "cell_type": "code",
   "execution_count": null,
   "metadata": {},
   "outputs": [],
   "source": [
    "qenv_eval.mdpLearner = qenv.mdpLearner"
   ]
  },
  {
   "cell_type": "code",
   "execution_count": null,
   "metadata": {},
   "outputs": [],
   "source": [
    "qenv_eval.predict_MDP = True"
   ]
  },
  {
   "cell_type": "code",
   "execution_count": null,
   "metadata": {},
   "outputs": [],
   "source": [
    "qenv_eval.first_observations = qenv.first_observations"
   ]
  },
  {
   "cell_type": "code",
   "execution_count": null,
   "metadata": {},
   "outputs": [],
   "source": [
    "#qenv.set_predictive_mode(predict=False, sac=model)"
   ]
  },
  {
   "cell_type": "code",
   "execution_count": null,
   "metadata": {},
   "outputs": [],
   "source": [
    "init_policy(model=model)\n",
    "#model.train(gradient_steps=10)"
   ]
  },
  {
   "cell_type": "code",
   "execution_count": null,
   "metadata": {},
   "outputs": [],
   "source": [
    "import copy"
   ]
  },
  {
   "cell_type": "code",
   "execution_count": null,
   "metadata": {},
   "outputs": [],
   "source": [
    "init_replay_buffer = copy.deepcopy(model.replay_buffer)"
   ]
  },
  {
   "cell_type": "code",
   "execution_count": null,
   "metadata": {},
   "outputs": [],
   "source": [
    "init_model_params = model.get_parameters()"
   ]
  },
  {
   "cell_type": "code",
   "execution_count": null,
   "metadata": {},
   "outputs": [],
   "source": [
    "init_replay_buffer.pos"
   ]
  },
  {
   "cell_type": "code",
   "execution_count": null,
   "metadata": {},
   "outputs": [],
   "source": [
    "new_obsv = qenv.reset()"
   ]
  },
  {
   "cell_type": "code",
   "execution_count": null,
   "metadata": {},
   "outputs": [],
   "source": [
    "my_list = qenv.first_observations[:]"
   ]
  },
  {
   "cell_type": "code",
   "execution_count": null,
   "metadata": {},
   "outputs": [],
   "source": [
    "qenv_eval.first_observations = [new_obsv]"
   ]
  },
  {
   "cell_type": "code",
   "execution_count": null,
   "metadata": {},
   "outputs": [],
   "source": [
    "qenv.first_observations = [new_obsv]"
   ]
  },
  {
   "cell_type": "code",
   "execution_count": null,
   "metadata": {},
   "outputs": [],
   "source": [
    "qenv.set_predictive_mode(predict=True, sac=model)"
   ]
  },
  {
   "cell_type": "code",
   "execution_count": null,
   "metadata": {},
   "outputs": [],
   "source": [
    "qenv_eval.predict_MDP = True"
   ]
  },
  {
   "cell_type": "code",
   "execution_count": null,
   "metadata": {},
   "outputs": [],
   "source": [
    "model.replay_buffer = init_replay_buffer"
   ]
  },
  {
   "cell_type": "code",
   "execution_count": null,
   "metadata": {},
   "outputs": [],
   "source": [
    "model.train(gradient_steps=10000)"
   ]
  },
  {
   "cell_type": "code",
   "execution_count": null,
   "metadata": {},
   "outputs": [],
   "source": [
    "qenv_eval.mdpLearner = qenv.mdpLearner"
   ]
  },
  {
   "cell_type": "code",
   "execution_count": null,
   "metadata": {},
   "outputs": [],
   "source": [
    "init_policy(model=model)\n"
   ]
  },
  {
   "cell_type": "code",
   "execution_count": null,
   "metadata": {},
   "outputs": [],
   "source": [
    "qenv_eval.predict_MDP = False"
   ]
  },
  {
   "cell_type": "code",
   "execution_count": null,
   "metadata": {},
   "outputs": [],
   "source": [
    "env"
   ]
  },
  {
   "cell_type": "code",
   "execution_count": null,
   "metadata": {},
   "outputs": [],
   "source": [
    "rews = test_policy(model=model, env=qenv_eval, iterations=40)"
   ]
  },
  {
   "cell_type": "code",
   "execution_count": null,
   "metadata": {},
   "outputs": [],
   "source": [
    "rews.mean()"
   ]
  },
  {
   "cell_type": "code",
   "execution_count": null,
   "metadata": {},
   "outputs": [],
   "source": [
    "qenv_eval.predict_MDP"
   ]
  },
  {
   "cell_type": "code",
   "execution_count": null,
   "metadata": {},
   "outputs": [],
   "source": [
    "qenv.predict_MDP"
   ]
  },
  {
   "cell_type": "code",
   "execution_count": 288,
   "metadata": {},
   "outputs": [],
   "source": [
    "qenv_eval.set_predictive_mode(predict=True, sac=model)\n",
    "qenv_eval.mdpLearner = qenv.mdpLearner\n",
    "qenv.set_predictive_mode(predict=True, sac=model)"
   ]
  },
  {
   "cell_type": "code",
   "execution_count": null,
   "metadata": {},
   "outputs": [],
   "source": [
    "model = None"
   ]
  },
  {
   "cell_type": "code",
   "execution_count": 246,
   "metadata": {},
   "outputs": [
    {
     "name": "stdout",
     "output_type": "stream",
     "text": [
      "Using cuda device\n",
      "Wrapping the env with a `Monitor` wrapper\n",
      "Wrapping the env in a DummyVecEnv.\n"
     ]
    },
    {
     "data": {
      "image/png": "[encoded data removed]",
      "text/plain": [
       "<Figure size 640x480 with 4 Axes>"
      ]
     },
     "metadata": {},
     "output_type": "display_data"
    }
   ],
   "source": [
    "model = test_SAC(env=qenv, eval_env=qenv_eval, eval_epochs=20, iterations=1, logname='reach 1 predicted', path='/data/bing/hendrik/', model=None, device=device)"
   ]
  },
  {
   "cell_type": "code",
   "execution_count": 247,
   "metadata": {},
   "outputs": [],
   "source": [
    "init_policy(model)\n",
    "model.replay_buffer = init_replay_buffer"
   ]
  },
  {
   "cell_type": "code",
   "execution_count": 230,
   "metadata": {},
   "outputs": [],
   "source": [
    "init_replay_buffer = copy.deepcopy(model.replay_buffer)"
   ]
  },
  {
   "cell_type": "code",
   "execution_count": 248,
   "metadata": {},
   "outputs": [
    {
     "data": {
      "text/plain": [
       "10000"
      ]
     },
     "execution_count": 248,
     "metadata": {},
     "output_type": "execute_result"
    }
   ],
   "source": [
    "model.replay_buffer.pos"
   ]
  },
  {
   "cell_type": "code",
   "execution_count": 286,
   "metadata": {},
   "outputs": [
    {
     "name": "stdout",
     "output_type": "stream",
     "text": [
      "Using cuda device\n",
      "Wrapping the env with a `Monitor` wrapper\n",
      "Wrapping the env in a DummyVecEnv.\n"
     ]
    },
    {
     "data": {
      "image/png": "[encoded data removed]",
      "text/plain": [
       "<Figure size 640x480 with 4 Axes>"
      ]
     },
     "metadata": {},
     "output_type": "display_data"
    }
   ],
   "source": [
    "model = test_SAC(env=qenv, eval_env=qenv_eval, eval_epochs=20, iterations=1, logname=\n",
    "'reach 1 predicted', path='/data/bing/hendrik/', model=None, device=device)"
   ]
  },
  {
   "cell_type": "code",
   "execution_count": 287,
   "metadata": {},
   "outputs": [],
   "source": [
    "model.replay_buffer = init_replay_buffer"
   ]
  },
  {
   "cell_type": "code",
   "execution_count": 285,
   "metadata": {},
   "outputs": [
    {
     "data": {
      "text/plain": [
       "10000"
      ]
     },
     "execution_count": 285,
     "metadata": {},
     "output_type": "execute_result"
    }
   ],
   "source": [
    "model.replay_buffer.pos"
   ]
  },
  {
   "cell_type": "code",
   "execution_count": 289,
   "metadata": {},
   "outputs": [
    {
     "data": {
      "image/png": "[encoded data removed]",
      "text/plain": [
       "<Figure size 640x480 with 4 Axes>"
      ]
     },
     "metadata": {},
     "output_type": "display_data"
    }
   ],
   "source": [
    "model = test_SAC(env=qenv, eval_env=qenv_eval, eval_epochs=20, iterations=5, logname='reach 1 predicted', path='/data/bing/hendrik/', model=model, device=device)"
   ]
  },
  {
   "cell_type": "code",
   "execution_count": 290,
   "metadata": {},
   "outputs": [],
   "source": [
    "init_policy(model=model)"
   ]
  },
  {
   "cell_type": "code",
   "execution_count": 291,
   "metadata": {},
   "outputs": [
    {
     "data": {
      "text/plain": [
       "15000"
      ]
     },
     "execution_count": 291,
     "metadata": {},
     "output_type": "execute_result"
    }
   ],
   "source": [
    "model.replay_buffer.pos"
   ]
  },
  {
   "cell_type": "code",
   "execution_count": 292,
   "metadata": {},
   "outputs": [],
   "source": [
    "model.train(gradient_steps=15000)"
   ]
  },
  {
   "cell_type": "code",
   "execution_count": 293,
   "metadata": {},
   "outputs": [],
   "source": [
    "qenv_eval.set_predictive_mode(predict=False, sac=model)\n",
    "qenv_eval.mdpLearner = qenv.mdpLearner\n",
    "qenv.set_predictive_mode(predict=False, sac=model)"
   ]
  },
  {
   "cell_type": "code",
   "execution_count": 294,
   "metadata": {},
   "outputs": [],
   "source": [
    "rews = test_policy(model=model, env=qenv_eval, iterations=160)"
   ]
  },
  {
   "cell_type": "code",
   "execution_count": 295,
   "metadata": {},
   "outputs": [
    {
     "data": {
      "text/plain": [
       "1.0543705041394849"
      ]
     },
     "execution_count": 295,
     "metadata": {},
     "output_type": "execute_result"
    }
   ],
   "source": [
    "rews.mean()"
   ]
  },
  {
   "cell_type": "code",
   "execution_count": null,
   "metadata": {},
   "outputs": [],
   "source": [
    "rews = test_policy_initial_state(model=model, envs=[qenv], obsvs=[new_obsv])"
   ]
  },
  {
   "cell_type": "code",
   "execution_count": null,
   "metadata": {},
   "outputs": [],
   "source": [
    "rews.mean()"
   ]
  },
  {
   "cell_type": "code",
   "execution_count": null,
   "metadata": {},
   "outputs": [],
   "source": [
    "#init_policy(model=model)\n",
    "rews = test_policy(model=model, env=qenv_eval, iterations=20)"
   ]
  },
  {
   "cell_type": "code",
   "execution_count": null,
   "metadata": {},
   "outputs": [],
   "source": [
    "rews.mean()"
   ]
  },
  {
   "cell_type": "code",
   "execution_count": null,
   "metadata": {},
   "outputs": [],
   "source": [
    "qenv_eval.predict_MDP = False"
   ]
  },
  {
   "cell_type": "code",
   "execution_count": null,
   "metadata": {},
   "outputs": [],
   "source": [
    "rews = []\n",
    "obs = qenv_eval.reset()\n",
    "while True:\n",
    "    action, _states = model.predict(obs, deterministic=True)\n",
    "    obs, reward, done, info = qenv_eval.step(action)\n",
    "    rews.append(reward)\n",
    "    #env.render()\n",
    "    if done:\n",
    "        break\n",
    "rews = np.array(rews)"
   ]
  },
  {
   "cell_type": "code",
   "execution_count": null,
   "metadata": {},
   "outputs": [],
   "source": [
    "def createGraphs(tboard, trjs:list([th.tensor]), trj_names:list([str]), plot_name:str, step):\n",
    "    np_trjs = []\n",
    "    trj_colors = ['forestgreen', 'orange', 'pink']\n",
    "    for trj in trjs:\n",
    "        np_trjs.append(trj.detach().cpu().numpy())\n",
    "    tboard.plot_graph(trjs=np_trjs, trj_names=trj_names, trj_colors=trj_colors, plot_name=plot_name, step=step)"
   ]
  },
  {
   "cell_type": "code",
   "execution_count": null,
   "metadata": {},
   "outputs": [],
   "source": [
    "qenv_eval.replay_data.obsv.shape"
   ]
  },
  {
   "cell_type": "code",
   "execution_count": null,
   "metadata": {},
   "outputs": [],
   "source": [
    "pred_rews = mdp_learner.pred_rewards(obsvs=qenv.replay_data.obsv[-100:].unsqueeze(1), actions=qenv.replay_data.action[-100:].unsqueeze(1))"
   ]
  },
  {
   "cell_type": "code",
   "execution_count": null,
   "metadata": {},
   "outputs": [],
   "source": [
    "pred_rews = th.tensor(pred_rews.reshape(-1, 1)).to('cpu')"
   ]
  },
  {
   "cell_type": "code",
   "execution_count": null,
   "metadata": {},
   "outputs": [],
   "source": [
    "rews = th.tensor(rews.reshape(-1, 1)).to('cpu')"
   ]
  },
  {
   "cell_type": "code",
   "execution_count": null,
   "metadata": {},
   "outputs": [],
   "source": [
    "((pred_rews-rews)**2).mean()"
   ]
  },
  {
   "cell_type": "code",
   "execution_count": null,
   "metadata": {},
   "outputs": [],
   "source": [
    "qenv.replay_data.action[-100:]"
   ]
  },
  {
   "cell_type": "code",
   "execution_count": 202,
   "metadata": {},
   "outputs": [
    {
     "data": {
      "text/plain": [
       "tensor([[1.2655],\n",
       "        [1.2755],\n",
       "        [1.2950],\n",
       "        [1.3213],\n",
       "        [1.3521],\n",
       "        [1.3851],\n",
       "        [1.4192],\n",
       "        [1.4537],\n",
       "        [1.4884],\n",
       "        [1.5233],\n",
       "        [1.5584],\n",
       "        [1.5939],\n",
       "        [1.6298],\n",
       "        [1.6659],\n",
       "        [1.7021],\n",
       "        [1.7382],\n",
       "        [1.7738],\n",
       "        [1.8086],\n",
       "        [1.8421],\n",
       "        [1.8740],\n",
       "        [1.9038],\n",
       "        [1.9313],\n",
       "        [1.9561],\n",
       "        [1.9778],\n",
       "        [1.9963],\n",
       "        [2.0113],\n",
       "        [2.0226],\n",
       "        [2.0302],\n",
       "        [2.0340],\n",
       "        [2.0336],\n",
       "        [2.0245],\n",
       "        [2.0105],\n",
       "        [1.9942],\n",
       "        [1.9761],\n",
       "        [1.9562],\n",
       "        [1.9343],\n",
       "        [1.9101],\n",
       "        [1.8836],\n",
       "        [1.8549],\n",
       "        [1.8241],\n",
       "        [1.7913],\n",
       "        [1.7569],\n",
       "        [1.7209],\n",
       "        [1.6838],\n",
       "        [1.6456],\n",
       "        [1.6086],\n",
       "        [1.5723],\n",
       "        [1.5355],\n",
       "        [1.4982],\n",
       "        [1.4605],\n",
       "        [1.4226],\n",
       "        [1.3847],\n",
       "        [1.3469],\n",
       "        [1.3094],\n",
       "        [1.2723],\n",
       "        [1.2358],\n",
       "        [1.1999],\n",
       "        [1.1647],\n",
       "        [1.1300],\n",
       "        [1.0955],\n",
       "        [1.0617],\n",
       "        [1.0290],\n",
       "        [0.9973],\n",
       "        [0.9667],\n",
       "        [0.9372],\n",
       "        [0.9088],\n",
       "        [0.8814],\n",
       "        [0.8553],\n",
       "        [0.8311],\n",
       "        [0.8094],\n",
       "        [0.7901],\n",
       "        [0.7731],\n",
       "        [0.7580],\n",
       "        [0.7443],\n",
       "        [0.7318],\n",
       "        [0.7201],\n",
       "        [0.7092],\n",
       "        [0.6987],\n",
       "        [0.6886],\n",
       "        [0.6789],\n",
       "        [0.6695],\n",
       "        [0.6604],\n",
       "        [0.6515],\n",
       "        [0.6429],\n",
       "        [0.6345],\n",
       "        [0.6263],\n",
       "        [0.6183],\n",
       "        [0.6106],\n",
       "        [0.6030],\n",
       "        [0.5957],\n",
       "        [0.5885],\n",
       "        [0.5816],\n",
       "        [0.5748],\n",
       "        [0.5681],\n",
       "        [0.5616],\n",
       "        [0.5553],\n",
       "        [0.5491],\n",
       "        [0.5431],\n",
       "        [0.5372],\n",
       "        [0.5314]], dtype=torch.float64)"
      ]
     },
     "execution_count": 202,
     "metadata": {},
     "output_type": "execute_result"
    }
   ],
   "source": [
    "rews"
   ]
  },
  {
   "cell_type": "code",
   "execution_count": 203,
   "metadata": {},
   "outputs": [
    {
     "data": {
      "text/plain": [
       "tensor([[1.4093],\n",
       "        [1.4490],\n",
       "        [1.4783],\n",
       "        [1.5178],\n",
       "        [1.5989],\n",
       "        [1.6837],\n",
       "        [1.7890],\n",
       "        [1.8794],\n",
       "        [1.9390],\n",
       "        [2.0052],\n",
       "        [2.0534],\n",
       "        [2.1593],\n",
       "        [2.2537],\n",
       "        [2.3528],\n",
       "        [2.4690],\n",
       "        [2.6230],\n",
       "        [2.8742],\n",
       "        [3.2728],\n",
       "        [3.8120],\n",
       "        [4.4159],\n",
       "        [4.9472],\n",
       "        [5.3694],\n",
       "        [5.7589],\n",
       "        [6.0158],\n",
       "        [6.2233],\n",
       "        [6.7996],\n",
       "        [7.4619],\n",
       "        [8.0096],\n",
       "        [8.4005],\n",
       "        [8.7366],\n",
       "        [8.9052],\n",
       "        [8.8712],\n",
       "        [8.9705],\n",
       "        [8.9309],\n",
       "        [8.9255],\n",
       "        [8.7922],\n",
       "        [8.5894],\n",
       "        [8.4039],\n",
       "        [8.1800],\n",
       "        [7.9904],\n",
       "        [7.7483],\n",
       "        [7.5908],\n",
       "        [7.4158],\n",
       "        [7.2644],\n",
       "        [7.1505],\n",
       "        [7.0587],\n",
       "        [6.9750],\n",
       "        [6.9328],\n",
       "        [6.8655],\n",
       "        [6.8003],\n",
       "        [6.6959],\n",
       "        [6.5635],\n",
       "        [6.4225],\n",
       "        [6.2903],\n",
       "        [6.1762],\n",
       "        [6.0872],\n",
       "        [6.0162],\n",
       "        [5.9433],\n",
       "        [5.8623],\n",
       "        [5.8025],\n",
       "        [5.7315],\n",
       "        [5.6536],\n",
       "        [5.5811],\n",
       "        [5.5498],\n",
       "        [5.5429],\n",
       "        [5.5324],\n",
       "        [5.5199],\n",
       "        [5.5143],\n",
       "        [5.5052],\n",
       "        [5.5119],\n",
       "        [5.5208],\n",
       "        [5.5768],\n",
       "        [5.6818],\n",
       "        [5.7926],\n",
       "        [5.9302],\n",
       "        [6.0760],\n",
       "        [6.2430],\n",
       "        [6.3773],\n",
       "        [6.5135],\n",
       "        [6.5897],\n",
       "        [6.6499],\n",
       "        [6.6514],\n",
       "        [6.6951],\n",
       "        [6.6949],\n",
       "        [6.7461],\n",
       "        [6.8122],\n",
       "        [6.8518],\n",
       "        [6.9024],\n",
       "        [6.9388],\n",
       "        [6.9406],\n",
       "        [6.8855],\n",
       "        [6.7920],\n",
       "        [6.6483],\n",
       "        [6.5022],\n",
       "        [6.3095],\n",
       "        [6.1464],\n",
       "        [5.9779],\n",
       "        [5.8020],\n",
       "        [5.7113],\n",
       "        [5.6249]])"
      ]
     },
     "execution_count": 203,
     "metadata": {},
     "output_type": "execute_result"
    }
   ],
   "source": [
    "pred_rews"
   ]
  },
  {
   "cell_type": "code",
   "execution_count": null,
   "metadata": {},
   "outputs": [],
   "source": [
    "pred_rews.shape"
   ]
  },
  {
   "cell_type": "code",
   "execution_count": 204,
   "metadata": {},
   "outputs": [],
   "source": [
    "createGraphs(tboard=tb, trjs=[rews, pred_rews], trj_names=['rews', 'pred_rews'], step=0, plot_name='Rewards')"
   ]
  },
  {
   "cell_type": "code",
   "execution_count": null,
   "metadata": {},
   "outputs": [],
   "source": [
    "model.replay_buffer.pos"
   ]
  },
  {
   "cell_type": "code",
   "execution_count": null,
   "metadata": {},
   "outputs": [],
   "source": [
    "model.total_gradient_steps"
   ]
  },
  {
   "cell_type": "code",
   "execution_count": null,
   "metadata": {},
   "outputs": [],
   "source": []
  },
  {
   "cell_type": "code",
   "execution_count": null,
   "metadata": {},
   "outputs": [],
   "source": [
    "tb = TBoardGraphs(logname='SAC reach test gradient steps', data_path='/data/bing/hendrik/')"
   ]
  },
  {
   "cell_type": "code",
   "execution_count": null,
   "metadata": {},
   "outputs": [],
   "source": [
    "test_gradient_steps_SAC(model=model, tboard=tb, env=qenv_eval)"
   ]
  },
  {
   "cell_type": "code",
   "execution_count": null,
   "metadata": {},
   "outputs": [],
   "source": [
    "model.train(gradient_steps=model.total_gradient_steps, batch_size=model.batch_size)"
   ]
  },
  {
   "cell_type": "code",
   "execution_count": null,
   "metadata": {},
   "outputs": [],
   "source": [
    "rews = []\n",
    "eval_epochs = 20\n",
    "env = qenv\n",
    "for eval_run in range(eval_epochs):\n",
    "    obs = env.reset()\n",
    "    while True:\n",
    "        action, _states = model.predict(obs, deterministic=True)\n",
    "        obs, reward, done, info = env.step(action)\n",
    "        rews.append(reward)\n",
    "        #env.render()\n",
    "        if done:\n",
    "            break\n",
    "rews_np = np.array(rews)"
   ]
  },
  {
   "cell_type": "code",
   "execution_count": null,
   "metadata": {},
   "outputs": [],
   "source": []
  }
 ],
 "metadata": {
  "kernelspec": {
   "display_name": "Python 3.10.6 ('ac')",
   "language": "python",
   "name": "python3"
  },
  "language_info": {
   "codemirror_mode": {
    "name": "ipython",
    "version": 3
   },
   "file_extension": ".py",
   "mimetype": "text/x-python",
   "name": "python",
   "nbconvert_exporter": "python",
   "pygments_lexer": "ipython3",
   "version": "3.10.6"
  },
  "orig_nbformat": 4,
  "vscode": {
   "interpreter": {
    "hash": "c27e8fa6375f4d15af5a5f5541d8bb88746b588c9fe1102cfd8de011d36c10c2"
   }
  }
 },
 "nbformat": 4,
 "nbformat_minor": 2
}
