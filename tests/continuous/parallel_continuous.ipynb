{
 "cells": [
  {
   "cell_type": "code",
   "execution_count": null,
   "metadata": {},
   "outputs": [],
   "source": [
    "from active_critic.utils.gym_utils import sample_expert_transitions\n",
    "import torch as th\n",
    "from stable_baselines3.common.vec_env import DummyVecEnv, SubprocVecEnv\n",
    "import gym\n",
    "from imitation.data.wrappers import RolloutInfoWrapper\n",
    "from stable_baselines3.common.policies import BaseModel\n",
    "from typing import Any, Dict, List, Optional, Tuple, Type, TypeVar, Union\n",
    "from stable_baselines3.common.torch_layers import BaseFeaturesExtractor\n",
    "import torch.nn as nn\n",
    "from active_critic.utils.gym_utils import DummyExtractor\n",
    "import numpy as np\n",
    "from active_critic.utils.gym_utils import make_policy_dict\n",
    "from metaworld.envs import ALL_V2_ENVIRONMENTS_GOAL_OBSERVABLE\n",
    "from gym.wrappers import TimeLimit\n",
    "from active_critic.utils.pytorch_utils import detokenize, tokenize, calcMSE\n",
    "from stable_baselines3 import SAC\n",
    "from active_critic.utils.tboard_graphs import TBoardGraphs\n",
    "import stable_baselines3\n"
   ]
  },
  {
   "cell_type": "code",
   "execution_count": null,
   "metadata": {},
   "outputs": [],
   "source": [
    "class TestExtractor(stable_baselines3.common.torch_layers.FlattenExtractor):\n",
    "    def __init__(self, observation_space) -> None:\n",
    "        super().__init__(observation_space)\n",
    "        self._features_dim = observation_space.shape[0]\n",
    "        self.switch = True\n",
    "\n",
    "    def forward(self, observations):\n",
    "        ext_obsv = super().forward(observations)\n",
    "        if self.switch:\n",
    "            ext_obsv = th.flip(ext_obsv, dims=[-1])\n",
    "        return ext_obsv"
   ]
  },
  {
   "cell_type": "code",
   "execution_count": null,
   "metadata": {},
   "outputs": [],
   "source": [
    "seq_len = 100\n",
    "env_id = 'reach'\n",
    "policy_dict = make_policy_dict()\n",
    "max_episode_steps = seq_len\n",
    "env = ALL_V2_ENVIRONMENTS_GOAL_OBSERVABLE[policy_dict[env_id][1]]()\n",
    "env._freeze_rand_vec = False\n",
    "env = TimeLimit(env=env, max_episode_steps=max_episode_steps)"
   ]
  },
  {
   "cell_type": "code",
   "execution_count": null,
   "metadata": {},
   "outputs": [],
   "source": [
    "class MDPData(th.utils.data.Dataset):\n",
    "    def __init__(self) -> None:\n",
    "        super().__init__()\n",
    "        self.obsv = None\n",
    "        self.action = None\n",
    "        self.reward = None\n",
    "        self.done = None\n",
    "\n",
    "    def add_step(self, obsv:th.Tensor, action:th.Tensor, reward:th.Tensor, done:th.Tensor):\n",
    "        if self.obsv is None:\n",
    "            self.obsv = obsv.reshape([1, -1])\n",
    "        else:\n",
    "            self.obsv = th.cat((self.obsv, obsv.reshape([1, -1])), dim=0)\n",
    "\n",
    "        if self.action is None:\n",
    "            self.action = action.reshape([1, -1])\n",
    "        else:\n",
    "            self.action = th.cat((self.action, action.reshape([1, -1])), dim=0)\n",
    "\n",
    "        if self.reward is None:\n",
    "            self.reward = reward.reshape([1, -1])\n",
    "        else:\n",
    "            self.reward = th.cat((self.reward, reward.reshape([1, -1])), dim=0)\n",
    "\n",
    "        if self.done is None:\n",
    "            self.done = done.reshape([1, -1])\n",
    "        else:\n",
    "            self.done = th.cat((self.done, done.reshape([1, -1])), dim=0)\n",
    "\n",
    "    def __len__(self):\n",
    "        return len(self.obsv)\n",
    "\n",
    "    def __getitem__(self, index):\n",
    "        done = self.done[index]\n",
    "\n",
    "        if done:\n",
    "            return self.obsv[index], th.zeros_like(self.obsv[index]), self.action[index], th.zeros_like(self.action[index]), self.reward[index], th.zeros_like(self.reward[index]), done\n",
    "        else:\n",
    "            return self.obsv[index], self.obsv[index+1], self.action[index], self.action[index+1], self.reward[index], self.reward[index+1], done\n"
   ]
  },
  {
   "cell_type": "code",
   "execution_count": null,
   "metadata": {},
   "outputs": [],
   "source": [
    "class MLP(nn.Module):\n",
    "    def __init__(self, input_size, hidden_sizes, output_size, quantisation=0, activation=nn.ReLU(), dropout=0, use_batch_norm=False):\n",
    "        super(MLP, self).__init__()\n",
    "        \n",
    "        # create a sequential container to hold the layers\n",
    "        self.layers = nn.Sequential()\n",
    "        \n",
    "        # create the input layer\n",
    "        self.layers.add_module(\"input\", nn.Linear(input_size, hidden_sizes[0]))\n",
    "        \n",
    "        # create the hidden layers\n",
    "        for i, size in enumerate(hidden_sizes[1:]):\n",
    "            self.layers.add_module(f\"hidden_{i+1}\", nn.Linear(hidden_sizes[i], size))\n",
    "            if use_batch_norm:\n",
    "                self.layers.add_module(f\"batch_norm_{i+1}\", nn.BatchNorm1d(size))\n",
    "            self.layers.add_module(f\"activation_{i+1}\", activation)\n",
    "            if dropout > 0:\n",
    "                self.layers.add_module(f\"dropout_{i+1}\", nn.Dropout(dropout))\n",
    "        \n",
    "        # create the output layer\n",
    "        self.layers.add_module(\"output\", nn.Linear(hidden_sizes[-1], output_size))\n",
    "        self.quantisation = quantisation\n",
    "    \n",
    "    def forward(self, x):\n",
    "        x_shape = x.shape\n",
    "        quantized = len(x_shape) == 4\n",
    "        if quantized: #quantized input\n",
    "            x = x.reshape([x.shape[0], x.shape[1], -1])\n",
    "        # forward pass through the layers\n",
    "\n",
    "        result = self.layers(x)\n",
    "        if self.quantisation != 0:\n",
    "            result = result.reshape([x_shape[0], x_shape[1], -1, self.quantisation])\n",
    "        return result\n",
    "        "
   ]
  },
  {
   "cell_type": "code",
   "execution_count": null,
   "metadata": {},
   "outputs": [],
   "source": [
    "def dist_sm(input, label, scale):\n",
    "    sm = th.nn.Softmax(dim=-1)\n",
    "    prob_input = sm(input)\n",
    "    dist = th.arange(input.shape[-1], device=input.device).reshape([1,1,1,-1]).repeat([input.shape[0], input.shape[1],input.shape[2], 1])\n",
    "    arg_label = th.argmax(label, dim=-1)\n",
    "    arg_dist = dist - arg_label[:, :,:, None]\n",
    "    arg_dist = arg_dist**2\n",
    "    arg_dist = arg_dist * scale[None, None,:, None]\n",
    "    arg_dist = arg_dist * prob_input\n",
    "    return arg_dist"
   ]
  },
  {
   "cell_type": "code",
   "execution_count": null,
   "metadata": {},
   "outputs": [],
   "source": [
    "inpt = th.rand([2,3,4,5], requires_grad=True)\n",
    "label = th.zeros_like(inpt)\n",
    "label[:, :, :, 0] = 1\n",
    "scale = th.ones([4])\n",
    "loss = dist_sm(input=inpt, label=label, scale=scale)"
   ]
  },
  {
   "cell_type": "code",
   "execution_count": null,
   "metadata": {},
   "outputs": [],
   "source": [
    "def gradient_max(input):\n",
    "    max_indices = th.max(input, dim=-1)[1]\n",
    "    one_hot = th.nn.functional.one_hot(max_indices, num_classes=input.shape[-1])\n",
    "    with th.no_grad():\n",
    "        input -= input\n",
    "        input += one_hot\n",
    "    return input"
   ]
  },
  {
   "cell_type": "code",
   "execution_count": null,
   "metadata": {},
   "outputs": [],
   "source": [
    "class QuantzedMDP(gym.Wrapper):\n",
    "    def __init__(self, env: gym.Env, ntokens_obsv, ntokens_act, obsv_low, obsv_high, action_low, action_high, batch_size) -> None:\n",
    "        super().__init__(env)\n",
    "        self.ntokens_obsv= ntokens_obsv\n",
    "        self.ntokens_act = ntokens_act\n",
    "\n",
    "        min_obsv = self.observation_space.low\n",
    "        min_obsv = np.maximum(min_obsv, obsv_low)\n",
    "        self.min_obsv = th.tensor(min_obsv)\n",
    "        max_obsv = self.observation_space.high\n",
    "        max_obsv = np.minimum(max_obsv, obsv_high)\n",
    "        self.max_obsv = th.tensor(max_obsv)\n",
    "\n",
    "        min_action = self.action_space.low\n",
    "        min_action = np.maximum(min_action, action_low)\n",
    "        self.min_action = th.tensor(min_action)\n",
    "        max_action = self.action_space.high\n",
    "        max_action = np.minimum(max_action, action_high)\n",
    "        self.max_action = th.tensor(max_action)\n",
    "\n",
    "        self.max_recoreded_obsv = -float(\"inf\")\n",
    "        self.min_recoreded_obsv = float(\"inf\")\n",
    "\n",
    "        self.replay_data = MDPData()\n",
    "\n",
    "        self.current_obsv = None\n",
    "\n",
    "        \n",
    "\n",
    "    def quantize(self, inpt, min, max, ntokens):\n",
    "        th_inpt = th.tensor(inpt).reshape([1,1,-1])\n",
    "        th_inpt = tokenize(inpt=th_inpt, minimum=min, maximum=max, ntokens=ntokens)\n",
    "        th_inpt = detokenize(inpt=th_inpt, minimum=min, maximum=max, ntokens=ntokens)\n",
    "        return th_inpt.numpy().squeeze()\n",
    "\n",
    "    def reset(self) -> Any:\n",
    "        obsv = super().reset()\n",
    "        if max(obsv) > self.max_recoreded_obsv:\n",
    "            self.max_recoreded_obsv = max(obsv)\n",
    "\n",
    "        if min(obsv) < self.min_recoreded_obsv:\n",
    "            self.min_recoreded_obsv = min(obsv)\n",
    "\n",
    "        q_obsv = self.quantize(inpt=obsv, min=self.min_obsv, max=self.max_obsv, ntokens=self.ntokens_obsv)\n",
    "        self.current_obsv = q_obsv\n",
    "        return q_obsv\n",
    "\n",
    "    def step(self, action):\n",
    "        q_act = self.quantize(inpt=action, min=self.min_action, max=self.max_action, ntokens=self.ntokens_act)\n",
    "        obsv, reward, dones, info = super().step(q_act)\n",
    "        if max(obsv) > self.max_recoreded_obsv:\n",
    "            self.max_recoreded_obsv = max(obsv)\n",
    "            \n",
    "        if min(obsv) < self.min_recoreded_obsv:\n",
    "            self.min_recoreded_obsv = min(obsv)\n",
    "            \n",
    "        q_obsv = self.quantize(inpt=obsv, min=self.min_obsv, max=self.max_obsv, ntokens=self.ntokens_obsv)\n",
    "        self.replay_data.add_step(th.tensor(self.current_obsv), th.tensor(q_act), th.tensor(reward), th.tensor(dones))\n",
    "        self.current_obsv = q_obsv\n",
    "\n",
    "        return q_obsv, reward, dones, info\n",
    "\n",
    "    def learn(self):\n",
    "        pass\n"
   ]
  },
  {
   "cell_type": "code",
   "execution_count": null,
   "metadata": {},
   "outputs": [],
   "source": [
    "def quantize(inpt, minimum, maximum, nquants):\n",
    "    scale = maximum - minimum\n",
    "    rec_inpt = ((inpt - minimum) / scale)*(nquants-1)\n",
    "    rounded = th.round(rec_inpt)\n",
    "    result = (rounded / (nquants - 1))*scale\n",
    "    return result"
   ]
  },
  {
   "cell_type": "code",
   "execution_count": null,
   "metadata": {},
   "outputs": [],
   "source": [
    "a = th.tensor([0.1, 0.01, 0.001], requires_grad=True)\n",
    "th.round(a, decimals=2)"
   ]
  },
  {
   "cell_type": "code",
   "execution_count": 159,
   "metadata": {},
   "outputs": [],
   "source": [
    "class MDPLearner(nn.Module):\n",
    "    def __init__(self, embbed_size, env:QuantzedMDP, embedding_decimals:int,  device:str, max_batch_size = 64) -> None:\n",
    "        super().__init__()\n",
    "        ntokens_obsv = env.ntokens_obsv\n",
    "        ntokens_act = env.ntokens_act\n",
    "        obsv_size = env.observation_space.shape[0]\n",
    "        action_size = env.action_space.shape[0]\n",
    "\n",
    "        self.emitter = MLP(input_size=obsv_size, hidden_sizes=[256, 256], output_size=embbed_size, quantisation=0).to(device)\n",
    "        self.predictor = MLP(input_size=(embbed_size+action_size), hidden_sizes=[256, 256], output_size=embbed_size, quantisation=0).to(device)\n",
    "        self.reward_model = MLP(input_size=(embbed_size+action_size), hidden_sizes=[256, 256], output_size=1, quantisation=0).to(device)\n",
    "        \n",
    "        self.optimizer = th.optim.Adam(params=list(self.emitter.parameters()) + list(self.predictor.parameters())+ list(self.reward_model.parameters()), lr=1e-3)\n",
    "        self.env = env\n",
    "        self.obs_minimum = env.min_obsv.to(device)\n",
    "        self.obs_maximum = env.max_obsv.to(device)\n",
    "        self.action_minimum = env.min_action.to(device)\n",
    "        self.action_maximum = env.max_action.to(device)\n",
    "        self.ntokens_obsv = ntokens_obsv\n",
    "        self.ntokens_act = ntokens_act\n",
    "        self.embbed_size = embbed_size\n",
    "\n",
    "        self.embedding_decimals = embedding_decimals\n",
    "\n",
    "        self.obs_minimum = self.obs_minimum.reshape([1,1,-1]).repeat([max_batch_size, 1, 1]).to(device)\n",
    "        self.obs_maximum = self.obs_maximum.reshape([1,1,-1]).repeat([max_batch_size, 1, 1]).to(device)\n",
    "        self.action_minimum = self.action_minimum.reshape([1,1,-1]).repeat([max_batch_size, 1, 1]).to(device)\n",
    "        self.action_maximum = self.action_maximum.reshape([1,1,-1]).repeat([max_batch_size, 1, 1]).to(device)\n",
    "\n",
    "    def qemb_qact_f_obsv(self, obsvs, actions):\n",
    "        batch_size = actions.shape[0]\n",
    "        qobsvs = quantize(obsvs, minimum=self.obs_minimum[:batch_size], maximum=self.obs_maximum[:batch_size], nquants=self.ntokens_act)\n",
    "        embeddings = self.emitter.forward(qobsvs)\n",
    "        return self.get_q_emb_q_act(embeddings=embeddings, actions=actions)\n",
    "\n",
    "    def get_q_emb_q_act(self, embeddings, actions):\n",
    "        batch_size = actions.shape[0]\n",
    "        qactions = quantize(actions, minimum=self.action_minimum[:batch_size], maximum=self.action_maximum[:batch_size], nquants=self.ntokens_act)\n",
    "        qembeddings = th.round(embeddings, decimals=self.embedding_decimals)\n",
    "        emb_act = th.cat((qembeddings, qactions), dim=2)\n",
    "        return emb_act, qembeddings\n",
    "\n",
    "\n",
    "    def step(self, obsvs:th.Tensor, n_obsvs:th.Tensor, actions:th.Tensor, n_actions:th.Tensor, rewards:th.Tensor, n_rewards:th.Tensor, dones:th.Tensor):\n",
    "        #Inputs are step wise, so seq_len = 1\n",
    "        obsvs = obsvs.unsqueeze(1)\n",
    "        n_obsvs = n_obsvs.unsqueeze(1)\n",
    "        actions = actions.unsqueeze(1)\n",
    "        n_actions = n_actions.unsqueeze(1)\n",
    "        rewards = rewards.unsqueeze(1)\n",
    "        n_rewards = n_rewards.unsqueeze(1)\n",
    "        batch_size = obsvs.shape[0]\n",
    "\n",
    "        #Reshape the maximum and minimum according to batch size\n",
    "\n",
    "        nd_n_actions = n_actions[~dones]\n",
    "        nd_n_observations = n_obsvs[~dones]\n",
    "        nd_nrewards = n_rewards[~dones]\n",
    "\n",
    "        rew1_loss, emb_act1, embeddings1, expected_rewards1 = self.step_reward_model(actions=actions, observations=obsvs, rewards=rewards, do_print=False)\n",
    "        rew2_loss, emb_act2, q_embeddings2, expected_rewards2 = self.step_reward_model(actions=nd_n_actions, observations=nd_n_observations, rewards=nd_nrewards, do_print=False)\n",
    "\n",
    "        nd_emb_act1 = emb_act1[~dones]\n",
    "\n",
    "        pred_loss, pred_n_embeddings = self.step_predictor(emb_act=nd_emb_act1, n_embeddings=q_embeddings2)\n",
    "        loss = rew1_loss + rew2_loss + pred_loss\n",
    "\n",
    "\n",
    "        self.optimizer.zero_grad()\n",
    "        loss.backward()\n",
    "        self.optimizer.step()\n",
    "\n",
    "        q_pred_embeddings2 = th.round(pred_n_embeddings, decimals=self.embedding_decimals)\n",
    "\n",
    "        return rew1_loss, rew2_loss, pred_loss, q_embeddings2, q_pred_embeddings2, expected_rewards2, nd_nrewards\n",
    "\n",
    "    def step_reward_model(self, actions:th.Tensor, observations:th.Tensor, rewards:th.Tensor, do_print:bool):\n",
    "        emb_act, qembeddings = self.qemb_qact_f_obsv(obsvs=observations, actions=actions)\n",
    "        expected_rewards = self.reward_model.forward(emb_act)\n",
    "\n",
    "        loss = calcMSE(expected_rewards, rewards)\n",
    "        return loss, emb_act, qembeddings, expected_rewards\n",
    "\n",
    "    def step_predictor(self, emb_act:th.Tensor, n_embeddings:th.Tensor):\n",
    "\n",
    "        pred_n_embeddings = self.predictor(emb_act)\n",
    "        pred_loss = calcMSE(pred_n_embeddings, n_embeddings)\n",
    "\n",
    "        pred_loss = pred_loss.mean()\n",
    "        return pred_loss, pred_n_embeddings\n",
    "\n",
    "    def predict_step(self, embeddings, actions):\n",
    "        q_emb_q_act, _ = self.get_q_emb_q_act(embeddings=embeddings, actions=actions)\n",
    "\n",
    "        pred_n_embeddings = self.predictor(q_emb_q_act)\n",
    "        q_pred_n_embeddings = th.round(pred_n_embeddings, decimals=self.embedding_decimals)\n",
    "        return q_pred_n_embeddings\n",
    "\n",
    "    def pred_n_steps(self, obsv, actions):\n",
    "        rewards = []\n",
    "        embeddings = []\n",
    "        steps = actions.shape[1]\n",
    "\n",
    "        obsv = obsv.unsqueeze(1)\n",
    "\n",
    "\n",
    "        q_emb_q_act, qembeddings = self.qemb_qact_f_obsv(obsvs=obsv, actions=actions[:, :1])\n",
    "        for i in range(steps):\n",
    "            print(f'qembeddings.shape: {qembeddings.shape}')\n",
    "            emb_act, qembeddings = self.get_q_emb_q_act(embeddings=qembeddings, actions=actions[:, i:i+1])\n",
    "            pred_reward = self.reward_model(emb_act)\n",
    "            rewards.append(pred_reward)\n",
    "\n",
    "            q_pred_n_embeddings  = self.predict_step(embeddings=qembeddings, actions=actions[:, i:i+1])\n",
    "            embeddings.append(q_pred_n_embeddings.detach())\n",
    "            qembeddings = q_pred_n_embeddings.detach()\n",
    "\n",
    "        return rewards, embeddings\n",
    "\n",
    "\n",
    "    def learn(self):\n",
    "        #while max_n_embeddings != max_pred_n_embeddings and rew1, rew2 too high.\n",
    "        #for obsvs:th.Tensor, n_obsvs:th.Tensor, actions:th.Tensor, n_actions:th.Tensor, rewards:th.Tensor, n_rewards:th.Tensor, dones:th.Tensor in Loader:\n",
    "        ##step\n",
    "        ##Write tboard\n",
    "        pass\n"
   ]
  },
  {
   "cell_type": "code",
   "execution_count": 160,
   "metadata": {},
   "outputs": [],
   "source": [
    "#Run Learn\n",
    "#Predict episode with act actions\n",
    "# Predict episode with sampled actions \n",
    "# Extractor model with emitter"
   ]
  },
  {
   "cell_type": "code",
   "execution_count": 161,
   "metadata": {},
   "outputs": [],
   "source": [
    "qenv= QuantzedMDP(env=env, ntokens_obsv=10, ntokens_act=10, obsv_low=-1, obsv_high=1, action_low=-1, action_high=1, batch_size=32)\n",
    "qenv_eval= QuantzedMDP(env=env, ntokens_obsv=10, ntokens_act=10, obsv_low=-1, obsv_high=1, action_low=-1, action_high=1, batch_size=32)"
   ]
  },
  {
   "cell_type": "code",
   "execution_count": 162,
   "metadata": {},
   "outputs": [],
   "source": [
    "device = 'cpu'\n",
    "\n",
    "mdp_learner = MDPLearner(embbed_size=2, env=qenv, device=device, embedding_decimals=1)\n"
   ]
  },
  {
   "cell_type": "code",
   "execution_count": 163,
   "metadata": {},
   "outputs": [],
   "source": [
    "mdp_learner.emitter.layers.input.weight.grad"
   ]
  },
  {
   "cell_type": "code",
   "execution_count": 164,
   "metadata": {},
   "outputs": [],
   "source": [
    "def make_mdp_data(env:QuantzedMDP, device:str):\n",
    "    batch_size = 2\n",
    "    seq_len = 4\n",
    "    actions_size = env.action_space.shape[0]\n",
    "    observation_size = env.observation_space.shape[0]\n",
    "\n",
    "    observations = th.ones([batch_size, seq_len, observation_size], dtype=th.float, device=device)\n",
    "    observations[0, 1:] = 0\n",
    "    observations[0, -1] = 1\n",
    "\n",
    "    actions = th.ones([batch_size, seq_len, actions_size], dtype=th.float, device=device)\n",
    "    actions[0] = 0\n",
    "    actions[0, -2] = 1\n",
    "\n",
    "    rewards = th.ones([batch_size, seq_len, 1], dtype=th.float, device=device)\n",
    "    rewards[1] = 0\n",
    "    rewards[0,0] = 1\n",
    "    rewards[0, 1:] = 2\n",
    "    rewards[0, -2] = 3\n",
    "    rewards[0, -1] = 1\n",
    "\n",
    "    dones = th.zeros([batch_size, seq_len], dtype=bool, device=device)\n",
    "    dones[:, -1] = 1\n",
    "\n",
    "    n_observations = th.zeros_like(observations)\n",
    "    n_observations[:, :-1] = observations[:, 1:]\n",
    "\n",
    "    n_rewards = th.zeros_like(rewards)\n",
    "    n_rewards[:, :-1] = rewards[:, 1:]\n",
    "\n",
    "    n_actions = th.zeros_like(actions)\n",
    "    n_actions[:, :-1] = actions[:, 1:]\n",
    "\n",
    "    return observations, n_observations, actions, n_actions, rewards, n_rewards, dones"
   ]
  },
  {
   "cell_type": "code",
   "execution_count": 165,
   "metadata": {},
   "outputs": [],
   "source": [
    "batch_size = 2\n",
    "device = 'cuda'\n",
    "embedding_decimals = 1\n",
    "\n",
    "mdp_learner = MDPLearner(embbed_size=2, env=qenv, device=device, embedding_decimals=embedding_decimals)"
   ]
  },
  {
   "cell_type": "code",
   "execution_count": 175,
   "metadata": {},
   "outputs": [],
   "source": [
    "observations, n_observations, actions, n_actions, rewards, n_rewards, dones = make_mdp_data(env=qenv, device=device)\n",
    "\n",
    "observations = observations.reshape([-1, observations.shape[-1]])\n",
    "n_observations = n_observations.reshape([-1, n_observations.shape[-1]])\n",
    "actions = actions.reshape([-1, actions.shape[-1]])\n",
    "n_actions = n_actions.reshape([-1, n_actions.shape[-1]])\n",
    "rewards = rewards.reshape([-1, rewards.shape[-1]])\n",
    "n_rewards = n_rewards.reshape([-1, n_rewards.shape[-1]])\n",
    "dones = dones.reshape([-1])"
   ]
  },
  {
   "cell_type": "code",
   "execution_count": 176,
   "metadata": {},
   "outputs": [
    {
     "name": "stdout",
     "output_type": "stream",
     "text": [
      "rew1_loss: 1.7761249542236328\n",
      "rew2_loss: 2.217298746109009\n",
      "pred_loss: 0.1067882776260376\n",
      "exprew2: tensor([[[0.0299]],\n",
      "\n",
      "        [[0.0854]],\n",
      "\n",
      "        [[0.0544]],\n",
      "\n",
      "        [[0.1054]],\n",
      "\n",
      "        [[0.1054]],\n",
      "\n",
      "        [[0.1054]]], device='cuda:0', grad_fn=<ViewBackward0>)\n",
      "rew2: tensor([[[2.]],\n",
      "\n",
      "        [[3.]],\n",
      "\n",
      "        [[1.]],\n",
      "\n",
      "        [[0.]],\n",
      "\n",
      "        [[0.]],\n",
      "\n",
      "        [[0.]]], device='cuda:0')\n",
      "tensor(25, device='cuda:0')\n",
      "______________________\n",
      "rew1_loss: 2.7639324162720413e-10\n",
      "rew2_loss: 2.82977030696685e-10\n",
      "pred_loss: 1.7965525955787598e-08\n",
      "exprew2: tensor([[[ 2.0000e+00]],\n",
      "\n",
      "        [[ 3.0000e+00]],\n",
      "\n",
      "        [[ 9.9999e-01]],\n",
      "\n",
      "        [[-2.1890e-05]],\n",
      "\n",
      "        [[-2.1890e-05]],\n",
      "\n",
      "        [[-2.1890e-05]]], device='cuda:0', grad_fn=<ViewBackward0>)\n",
      "rew2: tensor([[[2.]],\n",
      "\n",
      "        [[3.]],\n",
      "\n",
      "        [[1.]],\n",
      "\n",
      "        [[0.]],\n",
      "\n",
      "        [[0.]],\n",
      "\n",
      "        [[0.]]], device='cuda:0')\n",
      "tensor(0, device='cuda:0')\n",
      "______________________\n",
      "rew1_loss: 7.691625114603085e-13\n",
      "rew2_loss: 8.023212086025189e-13\n",
      "pred_loss: 5.35025268533218e-09\n",
      "exprew2: tensor([[[ 2.0000e+00]],\n",
      "\n",
      "        [[ 3.0000e+00]],\n",
      "\n",
      "        [[ 1.0000e+00]],\n",
      "\n",
      "        [[-1.1325e-06]],\n",
      "\n",
      "        [[-1.1325e-06]],\n",
      "\n",
      "        [[-1.1325e-06]]], device='cuda:0', grad_fn=<ViewBackward0>)\n",
      "rew2: tensor([[[2.]],\n",
      "\n",
      "        [[3.]],\n",
      "\n",
      "        [[1.]],\n",
      "\n",
      "        [[0.]],\n",
      "\n",
      "        [[0.]],\n",
      "\n",
      "        [[0.]]], device='cuda:0')\n",
      "tensor(0, device='cuda:0')\n",
      "______________________\n"
     ]
    }
   ],
   "source": [
    "batch_size = 2\n",
    "\n",
    "mdp_learner = MDPLearner(embbed_size=5, env=qenv, device=device, embedding_decimals=embedding_decimals)\n",
    "mdp_learner.obs_minimum = th.zeros_like(mdp_learner.obs_minimum, device=device)\n",
    "mdp_learner.obs_maximum = th.ones_like(mdp_learner.obs_minimum, device=device)\n",
    "\n",
    "\n",
    "for i in range(1000):\n",
    "    rew1_loss, rew2_loss, pred_loss, q_embeddings2, q_pred_embeddings2, exprew2, rew2 = mdp_learner.step(obsvs=observations, n_obsvs=n_observations, actions=actions, n_actions=n_actions, rewards=rewards, n_rewards=n_rewards, dones=dones)\n",
    "    if i % 499 == 0:\n",
    "        print(f'rew1_loss: {rew1_loss}')\n",
    "        print(f'rew2_loss: {rew2_loss}')\n",
    "        print(f'pred_loss: {pred_loss}')\n",
    "        print(f'exprew2: {exprew2}')\n",
    "        print(f'rew2: {rew2}')\n",
    "        print(((q_embeddings2 != q_pred_embeddings2)**2).sum())\n",
    "        print('______________________')"
   ]
  },
  {
   "cell_type": "code",
   "execution_count": 150,
   "metadata": {},
   "outputs": [
    {
     "data": {
      "text/plain": [
       "(tensor(0.5890, device='cuda:0', grad_fn=<MeanBackward0>),\n",
       " tensor([[[0.1000, 0.0000, 0.1000, 0.0000, 0.0000, 0.8889, 0.8889, 0.8889,\n",
       "           0.8889]]], device='cuda:0', grad_fn=<CatBackward0>),\n",
       " tensor([[[0.1000, 0.0000, 0.1000, 0.0000, 0.0000]]], device='cuda:0',\n",
       "        grad_fn=<RoundBackward1>),\n",
       " tensor([[[0.2325]]], device='cuda:0', grad_fn=<ViewBackward0>))"
      ]
     },
     "execution_count": 150,
     "metadata": {},
     "output_type": "execute_result"
    }
   ],
   "source": [
    "mdp_learner.step_reward_model(actions=actions[:1, :1], observations=observations[:1, :1], rewards=rewards[:1, :1], do_print=True)"
   ]
  },
  {
   "cell_type": "code",
   "execution_count": 185,
   "metadata": {},
   "outputs": [
    {
     "name": "stderr",
     "output_type": "stream",
     "text": [
      "/home/hendrik/anaconda3/envs/ac/lib/python3.10/site-packages/gym/spaces/box.py:73: UserWarning: \u001b[33mWARN: Box bound precision lowered by casting to float32\u001b[0m\n",
      "  logger.warn(\n"
     ]
    }
   ],
   "source": [
    "observations, n_observations, actions, n_actions, rewards, n_rewards, dones = make_mdp_data(env=qenv, device=device)"
   ]
  },
  {
   "cell_type": "code",
   "execution_count": 180,
   "metadata": {},
   "outputs": [
    {
     "data": {
      "text/plain": [
       "torch.Size([2, 4, 4])"
      ]
     },
     "execution_count": 180,
     "metadata": {},
     "output_type": "execute_result"
    }
   ],
   "source": [
    "actions.shape"
   ]
  },
  {
   "cell_type": "code",
   "execution_count": 181,
   "metadata": {},
   "outputs": [
    {
     "data": {
      "text/plain": [
       "torch.Size([2, 4, 39])"
      ]
     },
     "execution_count": 181,
     "metadata": {},
     "output_type": "execute_result"
    }
   ],
   "source": [
    "observations.shape"
   ]
  },
  {
   "cell_type": "code",
   "execution_count": 182,
   "metadata": {},
   "outputs": [
    {
     "data": {
      "text/plain": [
       "torch.Size([1, 4, 4])"
      ]
     },
     "execution_count": 182,
     "metadata": {},
     "output_type": "execute_result"
    }
   ],
   "source": [
    "actions[:1].shape"
   ]
  },
  {
   "cell_type": "code",
   "execution_count": 189,
   "metadata": {},
   "outputs": [
    {
     "name": "stdout",
     "output_type": "stream",
     "text": [
      "qembeddings.shape: torch.Size([1, 1, 5])\n",
      "qembeddings.shape: torch.Size([1, 1, 5])\n",
      "qembeddings.shape: torch.Size([1, 1, 5])\n",
      "qembeddings.shape: torch.Size([1, 1, 5])\n"
     ]
    }
   ],
   "source": [
    "new_rewards, embeddings = mdp_learner.pred_n_steps(obsv=observations[1:2,:1], actions=actions[1:2])"
   ]
  },
  {
   "cell_type": "code",
   "execution_count": 190,
   "metadata": {},
   "outputs": [
    {
     "data": {
      "text/plain": [
       "tensor([[[1.],\n",
       "         [2.],\n",
       "         [3.],\n",
       "         [1.]],\n",
       "\n",
       "        [[0.],\n",
       "         [0.],\n",
       "         [0.],\n",
       "         [0.]]], device='cuda:0')"
      ]
     },
     "execution_count": 190,
     "metadata": {},
     "output_type": "execute_result"
    }
   ],
   "source": [
    "rewards"
   ]
  },
  {
   "cell_type": "code",
   "execution_count": 191,
   "metadata": {},
   "outputs": [
    {
     "data": {
      "text/plain": [
       "[tensor([[[-1.6093e-06]]], device='cuda:0', grad_fn=<ViewBackward0>),\n",
       " tensor([[[-1.6093e-06]]], device='cuda:0', grad_fn=<ViewBackward0>),\n",
       " tensor([[[-1.6093e-06]]], device='cuda:0', grad_fn=<ViewBackward0>),\n",
       " tensor([[[-1.6093e-06]]], device='cuda:0', grad_fn=<ViewBackward0>)]"
      ]
     },
     "execution_count": 191,
     "metadata": {},
     "output_type": "execute_result"
    }
   ],
   "source": [
    "new_rewards"
   ]
  },
  {
   "cell_type": "code",
   "execution_count": null,
   "metadata": {},
   "outputs": [],
   "source": [
    "observations.shape"
   ]
  },
  {
   "cell_type": "code",
   "execution_count": null,
   "metadata": {},
   "outputs": [],
   "source": [
    "def test_SAC(env, eval_env, eval_epochs, iterations, path, logname, model = None):\n",
    "    tb = TBoardGraphs(logname=logname, data_path=path)\n",
    "\n",
    "    if model is None:\n",
    "        pkwarg = dict(net_arch=[512, 512, 512])\n",
    "        pkwarg = dict(features_extractor_class=TestExtractor)\n",
    "        model = SAC(\"MlpPolicy\", env=env, verbose=1, policy_kwargs=pkwarg)\n",
    "\n",
    "    for iteration in range(iterations):\n",
    "        rews = []\n",
    "        for eval_run in range(eval_epochs):\n",
    "            obs = env.reset()\n",
    "            while True:\n",
    "                action, _states = model.predict(obs, deterministic=True)\n",
    "                obs, reward, done, info = env.step(action)\n",
    "                rews.append(reward)\n",
    "                #env.render()\n",
    "                if done:\n",
    "                    break\n",
    "        rews_np = np.array(rews)\n",
    "        tb.addValidationScalar(name='Average Reward', value=th.tensor(rews_np.mean()), stepid=iteration)\n",
    "        model.learn(total_timesteps=100*1, log_interval=1000)\n",
    "        model.save(logname)\n",
    "    return model\n"
   ]
  },
  {
   "cell_type": "code",
   "execution_count": null,
   "metadata": {},
   "outputs": [],
   "source": [
    "pkwarg = dict(features_extractor_class=TestExtractor)\n",
    "model_env = SAC(\"MlpPolicy\", env, verbose=1, policy_kwargs=pkwarg)"
   ]
  },
  {
   "cell_type": "code",
   "execution_count": null,
   "metadata": {},
   "outputs": [],
   "source": [
    "model = test_SAC(env=qenv, eval_env=qenv_eval, eval_epochs=0, iterations=1, logname='Test', path='/data/bing/hendrik/', model=None)"
   ]
  },
  {
   "cell_type": "code",
   "execution_count": null,
   "metadata": {},
   "outputs": [],
   "source": [
    "qenv.replay_data.__getitem__(index=0)"
   ]
  },
  {
   "cell_type": "code",
   "execution_count": null,
   "metadata": {},
   "outputs": [],
   "source": [
    "model.replay_buffer.actions[1]"
   ]
  },
  {
   "cell_type": "code",
   "execution_count": null,
   "metadata": {},
   "outputs": [],
   "source": [
    "model.replay_buffer.rewards[99]"
   ]
  },
  {
   "cell_type": "code",
   "execution_count": null,
   "metadata": {},
   "outputs": [],
   "source": [
    "qenv.replay_data.done[0]"
   ]
  },
  {
   "cell_type": "code",
   "execution_count": null,
   "metadata": {},
   "outputs": [],
   "source": [
    "model = SAC.load('Reach Quantized Switched Reinit')"
   ]
  },
  {
   "cell_type": "code",
   "execution_count": null,
   "metadata": {},
   "outputs": [],
   "source": [
    "model.policy.actor.features_extractor.switch = False"
   ]
  },
  {
   "cell_type": "code",
   "execution_count": null,
   "metadata": {},
   "outputs": [],
   "source": [
    "model.policy.critic_target.features_extractor.switch = False"
   ]
  },
  {
   "cell_type": "code",
   "execution_count": null,
   "metadata": {},
   "outputs": [],
   "source": [
    "model.policy.critic.features_extractor.switch = False"
   ]
  },
  {
   "cell_type": "code",
   "execution_count": null,
   "metadata": {},
   "outputs": [],
   "source": [
    "def init_policy(model:SAC):\n",
    "    for module in model.policy.critic.qf0:\n",
    "        model.policy.init_weights(module)\n",
    "    for module in model.policy.critic.qf1:\n",
    "        model.policy.init_weights(module)\n",
    "\n",
    "    for module in model.policy.critic_target.qf0:\n",
    "        model.policy.init_weights(module)\n",
    "    for module in model.policy.critic_target.qf1:\n",
    "        model.policy.init_weights(module)\n",
    "    for module in model.policy.actor.latent_pi:\n",
    "        model.policy.init_weights(module)\n",
    "    model.policy.init_weights(model.policy.actor.mu)"
   ]
  },
  {
   "cell_type": "code",
   "execution_count": null,
   "metadata": {},
   "outputs": [],
   "source": [
    "model.batch_size"
   ]
  },
  {
   "cell_type": "code",
   "execution_count": null,
   "metadata": {},
   "outputs": [],
   "source": [
    "model.train(gradient_steps=model.total_gradient_steps, batch_size=model.batch_size)"
   ]
  },
  {
   "cell_type": "code",
   "execution_count": null,
   "metadata": {},
   "outputs": [],
   "source": [
    "rews = []\n",
    "eval_epochs = 20\n",
    "env = qenv\n",
    "for eval_run in range(eval_epochs):\n",
    "    obs = env.reset()\n",
    "    while True:\n",
    "        action, _states = model.predict(obs, deterministic=True)\n",
    "        obs, reward, done, info = env.step(action)\n",
    "        rews.append(reward)\n",
    "        #env.render()\n",
    "        if done:\n",
    "            break\n",
    "rews_np = np.array(rews)"
   ]
  },
  {
   "cell_type": "code",
   "execution_count": null,
   "metadata": {},
   "outputs": [],
   "source": [
    "rews_np.mean()"
   ]
  },
  {
   "cell_type": "code",
   "execution_count": null,
   "metadata": {},
   "outputs": [],
   "source": [
    "rews_np.mean()\n"
   ]
  },
  {
   "cell_type": "code",
   "execution_count": null,
   "metadata": {},
   "outputs": [],
   "source": [
    "rews_np.mean()"
   ]
  },
  {
   "cell_type": "code",
   "execution_count": null,
   "metadata": {},
   "outputs": [],
   "source": []
  }
 ],
 "metadata": {
  "kernelspec": {
   "display_name": "Python 3.10.6 ('ac')",
   "language": "python",
   "name": "python3"
  },
  "language_info": {
   "codemirror_mode": {
    "name": "ipython",
    "version": 3
   },
   "file_extension": ".py",
   "mimetype": "text/x-python",
   "name": "python",
   "nbconvert_exporter": "python",
   "pygments_lexer": "ipython3",
   "version": "3.10.6"
  },
  "orig_nbformat": 4,
  "vscode": {
   "interpreter": {
    "hash": "c27e8fa6375f4d15af5a5f5541d8bb88746b588c9fe1102cfd8de011d36c10c2"
   }
  }
 },
 "nbformat": 4,
 "nbformat_minor": 2
}
