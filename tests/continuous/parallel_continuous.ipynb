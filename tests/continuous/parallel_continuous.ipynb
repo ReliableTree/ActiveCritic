{
 "cells": [
  {
   "cell_type": "code",
   "execution_count": null,
   "metadata": {},
   "outputs": [],
   "source": [
    "from active_critic.utils.gym_utils import sample_expert_transitions\n",
    "import torch as th\n",
    "from stable_baselines3.common.vec_env import DummyVecEnv, SubprocVecEnv\n",
    "import gym\n",
    "from imitation.data.wrappers import RolloutInfoWrapper\n",
    "from stable_baselines3.common.policies import BaseModel\n",
    "from typing import Any, Dict, List, Optional, Tuple, Type, TypeVar, Union\n",
    "from stable_baselines3.common.torch_layers import BaseFeaturesExtractor\n",
    "import torch.nn as nn\n",
    "from active_critic.utils.gym_utils import DummyExtractor\n",
    "import numpy as np\n",
    "from active_critic.utils.gym_utils import make_policy_dict\n",
    "from metaworld.envs import ALL_V2_ENVIRONMENTS_GOAL_OBSERVABLE\n",
    "from gym.wrappers import TimeLimit\n",
    "from active_critic.utils.pytorch_utils import detokenize, tokenize, calcMSE\n",
    "from stable_baselines3 import SAC\n",
    "from active_critic.utils.tboard_graphs import TBoardGraphs\n",
    "import stable_baselines3\n",
    "import random\n",
    "\n",
    "from stable_baselines3.common.torch_layers import FlattenExtractor"
   ]
  },
  {
   "cell_type": "code",
   "execution_count": null,
   "metadata": {},
   "outputs": [],
   "source": [
    "class TestExtractor(FlattenExtractor):\n",
    "    def __init__(self, observation_space) -> None:\n",
    "        super().__init__(observation_space)\n",
    "        self._features_dim = observation_space.shape[0]\n",
    "        self.embedd = False\n",
    "        self.emitter = None\n",
    "\n",
    "    def forward(self, observations):\n",
    "        ext_obsv = super().forward(observations)\n",
    "        result = th.zeros([*ext_obsv.shape[:-1], self._features_dim], device=ext_obsv.device, dtype=ext_obsv.dtype)\n",
    "\n",
    "        if self.embedd and (observations.flatten()[-1] == 0):\n",
    "            embedding = self.emitter(result)\n",
    "        else:\n",
    "            embedding = ext_obsv\n",
    "            \n",
    "            \n",
    "        if len(observations.shape) == 1:\n",
    "            result[:embedding.shape[0]] = embedding\n",
    "        else:\n",
    "            result[:, :embedding.shape[1]] = embedding\n",
    "        return result"
   ]
  },
  {
   "cell_type": "code",
   "execution_count": null,
   "metadata": {},
   "outputs": [],
   "source": [
    "def quantize(inpt, minimum, maximum, nquants):\n",
    "    return inpt\n",
    "    '''scale = maximum - minimum\n",
    "    rec_inpt = ((inpt - minimum) / scale)*(nquants-1)\n",
    "    rounded = th.round(rec_inpt)\n",
    "    result = (rounded / (nquants - 1))*scale\n",
    "    return result'''\n",
    "\n",
    "\n",
    "class MDPData(th.utils.data.Dataset):\n",
    "    def __init__(self, device) -> None:\n",
    "        super().__init__()\n",
    "        self.obsv = None\n",
    "        self.action = None\n",
    "        self.reward = None\n",
    "        self.done = None\n",
    "        self.device = device\n",
    "\n",
    "    def add_step(self, obsv:th.Tensor, action:th.Tensor, reward:th.Tensor, done:th.Tensor):\n",
    "        if self.obsv is None:\n",
    "            self.obsv = obsv.reshape([1, -1]).to(self.device)\n",
    "        else:\n",
    "            self.obsv = th.cat((self.obsv, obsv.to(self.device).reshape([1, -1])), dim=0)\n",
    "\n",
    "        if self.action is None:\n",
    "            self.action = action.to(self.device).reshape([1, -1])\n",
    "        else:\n",
    "            self.action = th.cat((self.action, action.to(self.device).reshape([1, -1])), dim=0)\n",
    "\n",
    "        if self.reward is None:\n",
    "            self.reward = reward.to(self.device).reshape([1, -1])\n",
    "        else:\n",
    "            self.reward = th.cat((self.reward, reward.to(self.device).reshape([1, -1])), dim=0)\n",
    "\n",
    "        if self.done is None:\n",
    "            self.done = done.to(self.device).reshape([1])\n",
    "        else:\n",
    "            self.done = th.cat((self.done, done.to(self.device).reshape([-1])), dim=0)\n",
    "\n",
    "    def __len__(self):\n",
    "        return len(self.obsv)\n",
    "\n",
    "    def __getitem__(self, index):\n",
    "        done = self.done[index]\n",
    "\n",
    "        if done:\n",
    "            return self.obsv[index], th.zeros_like(self.obsv[index]), self.action[index], th.zeros_like(self.action[index]), self.reward[index], th.zeros_like(self.reward[index]), done\n",
    "        else:\n",
    "            return self.obsv[index], self.obsv[index+1], self.action[index], self.action[index+1], self.reward[index], self.reward[index+1], done\n",
    "\n",
    "class MLP(nn.Module):\n",
    "    def __init__(self, input_size, hidden_sizes, output_size, quantisation=0, activation=nn.ReLU(), dropout=0, use_batch_norm=False):\n",
    "        super(MLP, self).__init__()\n",
    "        \n",
    "        # create a sequential container to hold the layers\n",
    "        self.layers = nn.Sequential()\n",
    "        \n",
    "        # create the input layer\n",
    "        self.layers.add_module(\"input\", nn.Linear(input_size, hidden_sizes[0]))\n",
    "        \n",
    "        # create the hidden layers\n",
    "        for i, size in enumerate(hidden_sizes[1:]):\n",
    "            self.layers.add_module(f\"hidden_{i+1}\", nn.Linear(hidden_sizes[i], size))\n",
    "            if use_batch_norm:\n",
    "                self.layers.add_module(f\"batch_norm_{i+1}\", nn.BatchNorm1d(size))\n",
    "            self.layers.add_module(f\"activation_{i+1}\", activation)\n",
    "            if dropout > 0:\n",
    "                self.layers.add_module(f\"dropout_{i+1}\", nn.Dropout(dropout))\n",
    "        \n",
    "        # create the output layer\n",
    "        self.layers.add_module(\"output\", nn.Linear(hidden_sizes[-1], output_size))\n",
    "        self.quantisation = quantisation\n",
    "    \n",
    "    def forward(self, x):\n",
    "        x_shape = x.shape\n",
    "        quantized = len(x_shape) == 4\n",
    "        if quantized: #quantized input\n",
    "            x = x.reshape([x.shape[0], x.shape[1], -1])\n",
    "        # forward pass through the layers\n",
    "\n",
    "        result = self.layers(x)\n",
    "        if self.quantisation != 0:\n",
    "            result = result.reshape([x_shape[0], x_shape[1], -1, self.quantisation])\n",
    "        return result\n",
    "\n",
    "class MDPLearner(nn.Module):\n",
    "    def __init__(\n",
    "        self, \n",
    "        embbed_size, \n",
    "        ntokens_obsv, \n",
    "        ntokens_act, \n",
    "        observation_space, \n",
    "        action_space, \n",
    "        min_obsv,\n",
    "        max_obsv,\n",
    "        min_action,\n",
    "        max_action,\n",
    "        embedding_decimals:int,  \n",
    "        device:str, \n",
    "        max_batch_size = 64) -> None:\n",
    "\n",
    "        \n",
    "        super().__init__()\n",
    "        obsv_size = observation_space.shape[0]\n",
    "        action_size = action_space.shape[0]\n",
    "\n",
    "        hidden_size = 128\n",
    "\n",
    "        self.emitter = MLP(input_size=obsv_size, hidden_sizes=[hidden_size, hidden_size, hidden_size], output_size=embbed_size, quantisation=0).to(device)\n",
    "        self.predictor = MLP(input_size=(embbed_size+action_size), hidden_sizes=[hidden_size, hidden_size, hidden_size], output_size=embbed_size, quantisation=0).to(device)\n",
    "        self.reward_model = MLP(input_size=(embbed_size+action_size), hidden_sizes=[hidden_size, hidden_size, hidden_size], output_size=1, quantisation=0).to(device)\n",
    "        \n",
    "        self.optimizer = th.optim.Adam(params=list(self.emitter.parameters()) + list(self.predictor.parameters())+ list(self.reward_model.parameters()), lr=1e-4)\n",
    "        self.scheduler = th.optim.lr_scheduler.StepLR(optimizer=self.optimizer, step_size=300000/32, gamma=0.95)\n",
    "        self.obs_minimum = min_obsv.to(device)\n",
    "        self.obs_maximum = max_obsv.to(device)\n",
    "        self.action_minimum = min_action.to(device)\n",
    "        self.action_maximum = max_action.to(device)\n",
    "        self.ntokens_obsv = ntokens_obsv\n",
    "        self.ntokens_act = ntokens_act\n",
    "        self.embbed_size = embbed_size\n",
    "\n",
    "        self.embedding_decimals = embedding_decimals\n",
    "\n",
    "        self.obs_minimum = self.obs_minimum.reshape([1,1,-1]).repeat([max_batch_size, 1, 1]).to(device)\n",
    "        self.obs_maximum = self.obs_maximum.reshape([1,1,-1]).repeat([max_batch_size, 1, 1]).to(device)\n",
    "        self.action_minimum = self.action_minimum.reshape([1,1,-1]).repeat([max_batch_size, 1, 1]).to(device)\n",
    "        self.action_maximum = self.action_maximum.reshape([1,1,-1]).repeat([max_batch_size, 1, 1]).to(device)\n",
    "\n",
    "        self.device = device\n",
    "\n",
    "    def qemb_qact_f_obsv(self, obsvs, actions):\n",
    "        batch_size = actions.shape[0]\n",
    "        qobsvs = quantize(obsvs, minimum=self.obs_minimum[:batch_size], maximum=self.obs_maximum[:batch_size], nquants=self.ntokens_act)\n",
    "        embeddings = self.emitter.forward(qobsvs)\n",
    "        return self.get_q_emb_q_act(embeddings=embeddings, actions=actions)\n",
    "\n",
    "    def get_q_emb_q_act(self, embeddings, actions):\n",
    "        batch_size = actions.shape[0]\n",
    "        qactions = quantize(actions, minimum=self.action_minimum[:batch_size], maximum=self.action_maximum[:batch_size], nquants=self.ntokens_act)\n",
    "        #qembeddings = th.round(embeddings, decimals=self.embedding_decimals)\n",
    "        qembeddings = embeddings\n",
    "        emb_act = th.cat((qembeddings, qactions), dim=2)\n",
    "        return emb_act, qembeddings\n",
    "\n",
    "\n",
    "    def learn_step(self, obsvs:th.Tensor, n_obsvs:th.Tensor, actions:th.Tensor, n_actions:th.Tensor, rewards:th.Tensor, n_rewards:th.Tensor, dones:th.Tensor):\n",
    "        #Inputs are step wise, so seq_len = 1\n",
    "        obsvs = obsvs.unsqueeze(1)\n",
    "        n_obsvs = n_obsvs.unsqueeze(1)\n",
    "        actions = actions.unsqueeze(1)\n",
    "        n_actions = n_actions.unsqueeze(1)\n",
    "        rewards = rewards.unsqueeze(1)\n",
    "        n_rewards = n_rewards.unsqueeze(1)\n",
    "\n",
    "        #Reshape the maximum and minimum according to batch size\n",
    "\n",
    "        nd_n_actions = n_actions[~dones]\n",
    "        nd_n_observations = n_obsvs[~dones]\n",
    "        nd_nrewards = n_rewards[~dones]\n",
    "\n",
    "        rew1_loss, emb_act1, embeddings1, expected_rewards1 = self.step_reward_model(actions=actions, observations=obsvs, rewards=rewards, do_print=False)\n",
    "        rew2_loss, emb_act2, q_embeddings2, expected_rewards2 = self.step_reward_model(actions=nd_n_actions, observations=nd_n_observations, rewards=nd_nrewards, do_print=False)\n",
    "\n",
    "        nd_emb_act1 = emb_act1[~dones]\n",
    "\n",
    "        pred_loss, pred_n_embeddings = self.step_predictor(emb_act=nd_emb_act1, n_embeddings=q_embeddings2)\n",
    "        loss = rew1_loss + rew2_loss + pred_loss\n",
    "\n",
    "\n",
    "        self.optimizer.zero_grad()\n",
    "        loss.backward()\n",
    "        self.optimizer.step()\n",
    "        self.scheduler.step()\n",
    "\n",
    "        #q_pred_embeddings2 = th.round(pred_n_embeddings, decimals=self.embedding_decimals)\n",
    "        q_pred_embeddings2 = pred_n_embeddings\n",
    "        return rew1_loss.detach(), rew2_loss.detach(), pred_loss.detach(), q_embeddings2.detach(), q_pred_embeddings2.detach()\n",
    "\n",
    "    def step_reward_model(self, actions:th.Tensor, observations:th.Tensor, rewards:th.Tensor, do_print:bool):\n",
    "        emb_act, qembeddings = self.qemb_qact_f_obsv(obsvs=observations, actions=actions)\n",
    "        expected_rewards = self.reward_model.forward(emb_act)\n",
    "\n",
    "        loss = calcMSE(expected_rewards, rewards)\n",
    "        return loss, emb_act, qembeddings, expected_rewards\n",
    "\n",
    "    def step_predictor(self, emb_act:th.Tensor, n_embeddings:th.Tensor):\n",
    "\n",
    "        pred_n_embeddings = self.predictor(emb_act)\n",
    "        pred_loss = calcMSE(pred_n_embeddings, n_embeddings)\n",
    "\n",
    "        pred_loss = pred_loss.mean()\n",
    "        return pred_loss, pred_n_embeddings\n",
    "\n",
    "    def predict_step_embedding(self, embeddings, actions):\n",
    "        q_emb_q_act, _ = self.get_q_emb_q_act(embeddings=embeddings, actions=actions)\n",
    "\n",
    "        pred_n_embeddings = self.predictor(q_emb_q_act)\n",
    "        #q_pred_n_embeddings = th.round(pred_n_embeddings, decimals=self.embedding_decimals)\n",
    "        q_pred_n_embeddings = pred_n_embeddings\n",
    "        return q_pred_n_embeddings, q_emb_q_act\n",
    "\n",
    "    def pred_n_steps(self, obsv, actions):\n",
    "        rewards = []\n",
    "        embeddings = []\n",
    "        steps = actions.shape[1]\n",
    "\n",
    "        obsv = obsv.unsqueeze(1)\n",
    "\n",
    "\n",
    "        q_emb_q_act, qembeddings = self.qemb_qact_f_obsv(obsvs=obsv, actions=actions[:, :1])\n",
    "        for i in range(steps):\n",
    "            emb_act, qembeddings = self.get_q_emb_q_act(embeddings=qembeddings, actions=actions[:, i:i+1])\n",
    "            pred_reward = self.reward_model(emb_act)\n",
    "            rewards.append(pred_reward)\n",
    "\n",
    "            q_pred_n_embeddings, _  = self.predict_step_embedding(embeddings=qembeddings, actions=actions[:, i:i+1])\n",
    "            embeddings.append(q_pred_n_embeddings.detach())\n",
    "            qembeddings = q_pred_n_embeddings.detach()\n",
    "\n",
    "        return rewards, embeddings\n",
    "\n",
    "    def pred_rewards(self, obsvs, actions):\n",
    "        self.eval()\n",
    "        q_emb_q_act, qembeddings = self.qemb_qact_f_obsv(obsvs=obsvs, actions=actions)\n",
    "        rewards = self.reward_model.forward(q_emb_q_act)\n",
    "        return rewards\n",
    "\n",
    "    def pred_step(self, embeddings, actions):\n",
    "        embeddings = self.reshape(embeddings)\n",
    "        actions = self.reshape(actions)\n",
    "        n_embedding, currten_emb_act = self.predict_step_embedding(embeddings=embeddings, actions=actions)\n",
    "        rewards = self.reward_model(currten_emb_act)\n",
    "        info = {}\n",
    "        #definitely a hack\n",
    "        dones = rewards == 10\n",
    "\n",
    "        return n_embedding.detach(), rewards.detach(), dones.detach(), info\n",
    "\n",
    "    def reshape(self, inpt):\n",
    "        if len(inpt.shape) == 1:\n",
    "            return inpt.reshape([1,1,-1])\n",
    "        elif len(inpt.shape) == 2:\n",
    "            return inpt.reshape([inpt.shape[0], 1, -1])\n",
    "        else:\n",
    "            return inpt\n",
    "\n",
    "    def learn(self, max_steps, rew1_thr, rew2_thr, embedd_thr, dataloader:th.utils.data.DataLoader, tboard:TBoardGraphs):\n",
    "        self.train()\n",
    "        steps = 0\n",
    "        l2_rew1 = float('inf')\n",
    "        l2_rew2 = float('inf')\n",
    "        n_equal_embedding = float('inf')\n",
    "        \n",
    "        while (steps <= max_steps) and ((l2_rew1 > rew1_thr) or (l2_rew2 > rew2_thr) or (n_equal_embedding > embedd_thr)):\n",
    "\n",
    "            r1l = 0\n",
    "            r2l = 0\n",
    "            el2 = 0\n",
    "            nem = 0\n",
    "            iteration_counter = 0\n",
    "            for obsv, nobsv, action, naction, reward, nreward, done in dataloader:\n",
    "                rew1_loss, rew2_loss, pred_loss, q_embeddings2, q_pred_embeddings2 = self.learn_step(\n",
    "                    obsvs=obsv, \n",
    "                    n_obsvs=nobsv, \n",
    "                    actions=action, \n",
    "                    n_actions=naction, \n",
    "                    rewards=reward,\n",
    "                    n_rewards=nreward,\n",
    "                    dones=done)\n",
    "                steps += obsv.shape[0]\n",
    "                iteration_counter+= 1\n",
    "                r1l = r1l + rew1_loss\n",
    "                r2l = r2l + rew2_loss\n",
    "                el2 = el2 + pred_loss\n",
    "\n",
    "                nee = (q_embeddings2 != q_pred_embeddings2).sum()\n",
    "                nem = nem + nee\n",
    "                \n",
    "\n",
    "            l2_rew1 = r1l / iteration_counter\n",
    "            l2_rew2 = r2l / iteration_counter\n",
    "            el2 = el2 / iteration_counter\n",
    "            n_equal_embedding = nem\n",
    "            tboard.addTrainScalar('l2_rew1', value=l2_rew1.to('cpu'), stepid=steps)\n",
    "            tboard.addTrainScalar('l2_rew2', value=l2_rew2.to('cpu'), stepid=steps)\n",
    "            tboard.addTrainScalar('pred_loss', value=el2.to('cpu'), stepid=steps)\n",
    "            tboard.addTrainScalar('lr', value=th.tensor(self.optimizer.state_dict()['param_groups'][0]['lr']), stepid=steps)\n",
    "            #tboard.addTrainScalar('n_equal_embedding', n_equal_embedding.to('cpu'), stepid=steps)\n",
    "        \n",
    "class QuantzedMDP(gym.Wrapper):\n",
    "    def __init__(self, env: gym.Env, ntokens_obsv, ntokens_act, obsv_low, obsv_high, action_low, action_high, device, mdpLearner:MDPLearner) -> None:\n",
    "        super().__init__(env)\n",
    "        self.ntokens_obsv= ntokens_obsv\n",
    "        self.ntokens_act = ntokens_act\n",
    "\n",
    "        lowq = self.observation_space.low\n",
    "        lowq = np.append(lowq, 0)\n",
    "        highq = self.observation_space.low\n",
    "        highq = np.append(highq, 1)\n",
    "\n",
    "        observation_space = gym.spaces.Box(low=lowq, high=highq)\n",
    "        self.observation_space = observation_space\n",
    "\n",
    "        min_obsv = self.observation_space.low\n",
    "        min_obsv = np.maximum(min_obsv, obsv_low)\n",
    "        self.min_obsv = th.tensor(min_obsv)\n",
    "        max_obsv = self.observation_space.high\n",
    "        max_obsv = np.minimum(max_obsv, obsv_high)\n",
    "        self.max_obsv = th.tensor(max_obsv)\n",
    "\n",
    "        min_action = self.action_space.low\n",
    "        min_action = np.maximum(min_action, action_low)\n",
    "        self.min_action = th.tensor(min_action)\n",
    "        max_action = self.action_space.high\n",
    "        max_action = np.minimum(max_action, action_high)\n",
    "        self.max_action = th.tensor(max_action)\n",
    "\n",
    "        self.max_recoreded_obsv = -float(\"inf\")\n",
    "        self.min_recoreded_obsv = float(\"inf\")\n",
    "\n",
    "        self.replay_data = MDPData(device)\n",
    "\n",
    "        self.current_obsv = None\n",
    "        self.first_observations = []\n",
    "\n",
    "        self.predict_MDP = False\n",
    "\n",
    "        self.mdpLearner = mdpLearner        \n",
    "\n",
    "    def quantize(self, inpt, min, max, ntokens):\n",
    "        return inpt\n",
    "        '''th_inpt = th.tensor(inpt).reshape([1,1,-1])\n",
    "        th_inpt = tokenize(inpt=th_inpt, minimum=min, maximum=max, ntokens=ntokens)\n",
    "        th_inpt = detokenize(inpt=th_inpt, minimum=min, maximum=max, ntokens=ntokens)\n",
    "        return th_inpt.numpy().squeeze()'''\n",
    "\n",
    "    def reset(self) -> Any:\n",
    "\n",
    "        if self.predict_MDP:\n",
    "            #HACK!!!\n",
    "            _ = super().reset()\n",
    "\n",
    "            obsv = np.copy(random.choice(self.first_observations))\n",
    "            current_embedding = self.mdpLearner.emitter(th.tensor(obsv, dtype=th.float, device=self.mdpLearner.device)).squeeze()\n",
    "            self.current_embedding = current_embedding\n",
    "\n",
    "            obsv = th.zeros([*obsv.shape], device=self.mdpLearner.device, dtype=th.float).squeeze()\n",
    "            obsv[:self.current_embedding.shape[0]] = current_embedding\n",
    "            #obsv = self.quantize(inpt=obsv, min=self.min_obsv, max=self.max_obsv, ntokens=self.ntokens_obsv)\n",
    "            obsv[-1] = 1\n",
    "            obsv = obsv.detach().to('cpu').numpy()\n",
    "\n",
    "        else:\n",
    "            obsv = super().reset()\n",
    "            #obsv = self.quantize(inpt=obsv, min=self.min_obsv, max=self.max_obsv, ntokens=self.ntokens_obsv)\n",
    "            obsv = np.append(obsv, 0)\n",
    "            self.current_obsv = obsv\n",
    "            self.first_observations.append(obsv)\n",
    "\n",
    "        return obsv\n",
    "\n",
    "    def step(self, action):\n",
    "        q_act = self.quantize(inpt=action, min=self.min_action, max=self.max_action, ntokens=self.ntokens_act)\n",
    "\n",
    "        if self.predict_MDP:\n",
    "            #just to check for other done criteria. Will change this later:\n",
    "            _, _, outer_dones, _ = super().step(np.array([0,0,0,0]))\n",
    "            obsv = th.zeros([self.observation_space.shape[0]], dtype=th.float, device=self.mdpLearner.device)\n",
    "            q_act = th.tensor(q_act, dtype=th.float, device=self.mdpLearner.device)\n",
    "            emb_obsv, reward, dones, info  = self.mdpLearner.pred_step(embeddings=self.current_embedding, actions=q_act)\n",
    "            #HACK!\n",
    "            dones = outer_dones\n",
    "            obsv[:emb_obsv.shape[-1]] = emb_obsv.squeeze()\n",
    "            self.current_embedding = emb_obsv.squeeze()\n",
    "            obsv = obsv.detach().to('cpu').numpy()\n",
    "            reward = float(reward.detach().to('cpu').numpy())\n",
    "\n",
    "        else:\n",
    "            obsv, reward, dones, info = super().step(q_act)\n",
    "            obsv = np.append(obsv, 0)\n",
    "            \n",
    "            self.replay_data.add_step(th.tensor(self.current_obsv, dtype=th.float), th.tensor(q_act, dtype=th.float), th.tensor(reward, dtype=th.float), th.tensor(dones, dtype=th.bool))\n",
    "            self.current_obsv = obsv\n",
    "        \n",
    "        return obsv, reward, dones, info\n",
    "\n",
    "    def learn(self, max_steps: int, rew1_thr: float, rew2_thr: float, embedd_thr: float, dataloader: Any, tboard: TBoardGraphs):\n",
    "        self.mdpLearner.learn(max_steps=max_steps, rew1_thr=rew1_thr, rew2_thr=rew2_thr, embedd_thr=embedd_thr, dataloader=dataloader, tboard=tboard)\n",
    "\n",
    "    def set_predictive_mode(self, predict:bool, sac:SAC):\n",
    "        if predict:\n",
    "            sac.policy.actor.features_extractor.embedd = False\n",
    "            sac.policy.actor.features_extractor.embedd = False\n",
    "            sac.policy.actor.features_extractor.embedd = False\n",
    "            self.predict_MDP = True\n",
    "        else:\n",
    "            sac.policy.actor.features_extractor.emitter = self.mdpLearner.emitter\n",
    "            sac.policy.actor.features_extractor.embedd = True\n",
    "            sac.policy.critic.features_extractor.emitter = self.mdpLearner.emitter\n",
    "            sac.policy.actor.features_extractor.embedd = True\n",
    "            sac.policy.critic_target.features_extractor.emitter = self.mdpLearner.emitter\n",
    "            sac.policy.actor.features_extractor.embedd = True\n",
    "            self.predict_MDP = False\n",
    "\n",
    "\n"
   ]
  },
  {
   "cell_type": "code",
   "execution_count": null,
   "metadata": {},
   "outputs": [],
   "source": [
    "def gradient_max(input):\n",
    "    max_indices = th.max(input, dim=-1)[1]\n",
    "    one_hot = th.nn.functional.one_hot(max_indices, num_classes=input.shape[-1])\n",
    "    with th.no_grad():\n",
    "        input -= input\n",
    "        input += one_hot\n",
    "    return input"
   ]
  },
  {
   "cell_type": "code",
   "execution_count": null,
   "metadata": {},
   "outputs": [],
   "source": [
    "def make_mdp_data(env:QuantzedMDP, device:str):\n",
    "    batch_size = 2\n",
    "    seq_len = 4\n",
    "    actions_size = env.action_space.shape[0]\n",
    "    observation_size = env.observation_space.shape[0]\n",
    "\n",
    "    observations = th.ones([batch_size, seq_len, observation_size], dtype=th.float, device=device)\n",
    "    observations[0, 1:] = 0\n",
    "    observations[0, -1] = 1\n",
    "\n",
    "    actions = th.ones([batch_size, seq_len, actions_size], dtype=th.float, device=device)\n",
    "    actions[0] = 0\n",
    "    actions[0, -2] = 1\n",
    "\n",
    "    rewards = th.ones([batch_size, seq_len, 1], dtype=th.float, device=device)\n",
    "    rewards[1] = 0\n",
    "    rewards[0,0] = 1\n",
    "    rewards[0, 1:] = 2\n",
    "    rewards[0, -2] = 3\n",
    "    rewards[0, -1] = 1\n",
    "\n",
    "    dones = th.zeros([batch_size, seq_len], dtype=bool, device=device)\n",
    "    dones[:, -1] = 1\n",
    "\n",
    "    n_observations = th.zeros_like(observations)\n",
    "    n_observations[:, :-1] = observations[:, 1:]\n",
    "\n",
    "    n_rewards = th.zeros_like(rewards)\n",
    "    n_rewards[:, :-1] = rewards[:, 1:]\n",
    "\n",
    "    n_actions = th.zeros_like(actions)\n",
    "    n_actions[:, :-1] = actions[:, 1:]\n",
    "\n",
    "    return observations, n_observations, actions, n_actions, rewards, n_rewards, dones"
   ]
  },
  {
   "cell_type": "code",
   "execution_count": null,
   "metadata": {},
   "outputs": [],
   "source": [
    "def init_policy(model:SAC):\n",
    "    for module in model.policy.critic.qf0:\n",
    "        model.policy.init_weights(module)\n",
    "    for module in model.policy.critic.qf1:\n",
    "        model.policy.init_weights(module)\n",
    "\n",
    "    for module in model.policy.critic_target.qf0:\n",
    "        model.policy.init_weights(module)\n",
    "    for module in model.policy.critic_target.qf1:\n",
    "        model.policy.init_weights(module)\n",
    "    for module in model.policy.actor.latent_pi:\n",
    "        model.policy.init_weights(module)\n",
    "    model.policy.init_weights(model.policy.actor.mu)\n",
    "\n",
    "def test_policy(model, env, iterations):\n",
    "    rews = []\n",
    "    for i in range(iterations):\n",
    "        obs = env.reset()\n",
    "        while True:\n",
    "            action, _states = model.predict(obs, deterministic=True)\n",
    "            obs, reward, done, info = env.step(action)\n",
    "            if type(reward) is not float:\n",
    "                rews.append(reward.detach().cpu().numpy())\n",
    "            else:\n",
    "                rews.append(reward)\n",
    "\n",
    "\n",
    "            #env.render()\n",
    "            if done:\n",
    "                break\n",
    "    rews = np.array(rews)\n",
    "    return rews\n",
    "\n",
    "def test_gradient_steps_SAC(model:SAC, tboard:TBoardGraphs, env):\n",
    "    gradient_stepsize = model.replay_buffer.pos\n",
    "    gradient_steps = gradient_stepsize\n",
    "    for i in range(20):\n",
    "        print(i)\n",
    "        init_policy(model=model)\n",
    "        model.train(gradient_steps=gradient_steps, batch_size=model.batch_size)\n",
    "        print('_______________')\n",
    "        rews = test_policy(model=model, env=env)\n",
    "        rews = th.tensor(rews.mean())\n",
    "        tboard.addValidationScalar(name='Rewards', value=rews, stepid=gradient_steps)\n",
    "        gradient_steps += gradient_stepsize\n",
    "        \n"
   ]
  },
  {
   "cell_type": "code",
   "execution_count": null,
   "metadata": {},
   "outputs": [],
   "source": [
    "def test_SAC(env, eval_env, eval_epochs, iterations, path, logname, device, model = None):\n",
    "    tb = TBoardGraphs(logname=logname, data_path=path)\n",
    "\n",
    "    if model is None:\n",
    "        pkwarg = dict(net_arch=[512, 512, 512])\n",
    "        pkwarg = dict(features_extractor_class=TestExtractor)\n",
    "        model = SAC(\"MlpPolicy\", env=env, verbose=1, policy_kwargs=pkwarg, device=device)\n",
    "\n",
    "    for iteration in range(iterations):\n",
    "        rews = []\n",
    "        for eval_run in range(eval_epochs):\n",
    "            obs = eval_env.reset()\n",
    "            while True:\n",
    "                action, _states = model.predict(obs, deterministic=True)\n",
    "                obs, reward, done, info = eval_env.step(action)\n",
    "                rews.append(reward)\n",
    "                #env.render()\n",
    "                if done:\n",
    "                    break\n",
    "        rews_np = np.array(rews)\n",
    "        tb.addValidationScalar(name='Average Reward', value=th.tensor(rews_np.mean()), stepid=iteration)\n",
    "        model.learn(total_timesteps=100*10, log_interval=1000)\n",
    "        model.save(logname)\n",
    "    return model\n"
   ]
  },
  {
   "cell_type": "code",
   "execution_count": null,
   "metadata": {},
   "outputs": [],
   "source": [
    "seq_len = 100\n",
    "env_id = 'reach'\n",
    "policy_dict = make_policy_dict()\n",
    "device = 'cuda'\n",
    "max_episode_steps = seq_len\n",
    "env = ALL_V2_ENVIRONMENTS_GOAL_OBSERVABLE[policy_dict[env_id][1]]()\n",
    "env._freeze_rand_vec = False\n",
    "env = TimeLimit(env=env, max_episode_steps=max_episode_steps)"
   ]
  },
  {
   "cell_type": "code",
   "execution_count": null,
   "metadata": {},
   "outputs": [],
   "source": [
    "lowq = env.observation_space.low\n",
    "lowq = np.append(lowq, 0)\n",
    "highq = env.observation_space.low\n",
    "highq = np.append(highq, 1)\n",
    "\n",
    "observation_space = gym.spaces.Box(low=lowq, high=highq)\n",
    "\n",
    "min_obsv = observation_space.low\n",
    "min_obsv = np.maximum(min_obsv, -1)\n",
    "min_obsv = th.tensor(min_obsv)\n",
    "max_obsv = observation_space.high\n",
    "max_obsv = np.minimum(max_obsv, 1)\n",
    "max_obsv = th.tensor(max_obsv)"
   ]
  },
  {
   "cell_type": "code",
   "execution_count": null,
   "metadata": {},
   "outputs": [],
   "source": [
    "action_minimum = th.tensor(np.maximum(env.action_space.low, -1))\n",
    "action_maximum = th.tensor(np.minimum(env.action_space.high, 1))"
   ]
  },
  {
   "cell_type": "code",
   "execution_count": null,
   "metadata": {},
   "outputs": [],
   "source": [
    "mdp_learner = MDPLearner(\n",
    "    embbed_size=20,\n",
    "    ntokens_obsv=1000,\n",
    "    ntokens_act=1000,\n",
    "    observation_space=observation_space,\n",
    "    action_space=env.action_space,\n",
    "    min_obsv=min_obsv,\n",
    "    max_obsv=max_obsv,\n",
    "    min_action=action_minimum,\n",
    "    max_action=action_maximum,\n",
    "    embedding_decimals=1,\n",
    "    device=device\n",
    ")"
   ]
  },
  {
   "cell_type": "code",
   "execution_count": null,
   "metadata": {},
   "outputs": [],
   "source": [
    "qenv= QuantzedMDP(env=env, ntokens_obsv=1000, ntokens_act=1000, obsv_low=-1, obsv_high=1, action_low=-1, action_high=1, device=device, mdpLearner=mdp_learner)\n",
    "qenv_eval= QuantzedMDP(env=env, ntokens_obsv=1000, ntokens_act=1000, obsv_low=-1, obsv_high=1, action_low=-1, action_high=1, device=device, mdpLearner=mdp_learner)"
   ]
  },
  {
   "cell_type": "code",
   "execution_count": null,
   "metadata": {},
   "outputs": [],
   "source": [
    "pkwarg = dict(features_extractor_class=TestExtractor)\n",
    "model_env = SAC(\"MlpPolicy\", qenv, verbose=1, policy_kwargs=pkwarg)"
   ]
  },
  {
   "cell_type": "code",
   "execution_count": null,
   "metadata": {},
   "outputs": [],
   "source": [
    "model = test_SAC(env=qenv, eval_env=qenv_eval, eval_epochs=20, iterations=10, logname='reach 10', path='/data/bing/hendrik/', model=None, device=device)"
   ]
  },
  {
   "cell_type": "code",
   "execution_count": null,
   "metadata": {},
   "outputs": [],
   "source": [
    "qenv.replay_data.obsv.shape"
   ]
  },
  {
   "cell_type": "code",
   "execution_count": null,
   "metadata": {},
   "outputs": [],
   "source": [
    "len(qenv.replay_data)"
   ]
  },
  {
   "cell_type": "code",
   "execution_count": null,
   "metadata": {},
   "outputs": [],
   "source": [
    "rews = test_policy(model=model, env=qenv_eval, iterations=20)"
   ]
  },
  {
   "cell_type": "code",
   "execution_count": null,
   "metadata": {},
   "outputs": [],
   "source": [
    "rews.mean()"
   ]
  },
  {
   "cell_type": "code",
   "execution_count": null,
   "metadata": {},
   "outputs": [],
   "source": [
    "tb = TBoardGraphs(logname='mdp test reach', data_path='/data/bing/hendrik/')"
   ]
  },
  {
   "cell_type": "code",
   "execution_count": null,
   "metadata": {},
   "outputs": [],
   "source": [
    "#mdp_learner = MDPLearner(embbed_size=20, env=qenv, device=device, embedding_decimals=0, max_batch_size=100)"
   ]
  },
  {
   "cell_type": "code",
   "execution_count": null,
   "metadata": {},
   "outputs": [],
   "source": [
    "dataloader = th.utils.data.DataLoader(dataset=qenv.replay_data, batch_size=1)"
   ]
  },
  {
   "cell_type": "code",
   "execution_count": null,
   "metadata": {},
   "outputs": [],
   "source": [
    "mdp_learner.learn(max_steps=1e7, rew1_thr=1, rew2_thr=1, embedd_thr=0, tboard=tb, dataloader=dataloader)"
   ]
  },
  {
   "cell_type": "code",
   "execution_count": null,
   "metadata": {},
   "outputs": [],
   "source": [
    "qenv.replay_data.obsv.shape\n"
   ]
  },
  {
   "cell_type": "code",
   "execution_count": null,
   "metadata": {},
   "outputs": [],
   "source": [
    "qenv.set_predictive_mode(predict=True, sac=model)"
   ]
  },
  {
   "cell_type": "code",
   "execution_count": null,
   "metadata": {},
   "outputs": [],
   "source": [
    "#qenv.set_predictive_mode(predict=False, sac=model)"
   ]
  },
  {
   "cell_type": "code",
   "execution_count": null,
   "metadata": {},
   "outputs": [],
   "source": [
    "init_policy(model=model)\n",
    "#model.train(gradient_steps=10)"
   ]
  },
  {
   "cell_type": "code",
   "execution_count": null,
   "metadata": {},
   "outputs": [],
   "source": [
    "model = test_SAC(env=qenv, eval_env=qenv_eval, eval_epochs=20, iterations=20, logname='reach 20 predicted', path='/data/bing/hendrik/', model=None, device=device)"
   ]
  },
  {
   "cell_type": "code",
   "execution_count": null,
   "metadata": {},
   "outputs": [],
   "source": [
    "qenv.set_predictive_mode(predict=False, sac=model)"
   ]
  },
  {
   "cell_type": "code",
   "execution_count": null,
   "metadata": {},
   "outputs": [],
   "source": [
    "#init_policy(model=model)\n",
    "rews = test_policy(model=model, env=qenv_eval, iterations=20)"
   ]
  },
  {
   "cell_type": "code",
   "execution_count": null,
   "metadata": {},
   "outputs": [],
   "source": [
    "qenv.replay_data.obsv.shape"
   ]
  },
  {
   "cell_type": "code",
   "execution_count": null,
   "metadata": {},
   "outputs": [],
   "source": [
    "rews.mean()"
   ]
  },
  {
   "cell_type": "code",
   "execution_count": null,
   "metadata": {},
   "outputs": [],
   "source": [
    "obsv = qenv.reset()"
   ]
  },
  {
   "cell_type": "code",
   "execution_count": null,
   "metadata": {},
   "outputs": [],
   "source": [
    "obsv, rew, dones, info = qenv.step(np.array([0,0,0,0]))"
   ]
  },
  {
   "cell_type": "code",
   "execution_count": null,
   "metadata": {},
   "outputs": [],
   "source": [
    "qenv.observation_space.shape"
   ]
  },
  {
   "cell_type": "code",
   "execution_count": null,
   "metadata": {},
   "outputs": [],
   "source": [
    "obsv"
   ]
  },
  {
   "cell_type": "code",
   "execution_count": null,
   "metadata": {},
   "outputs": [],
   "source": [
    "model.policy.actor.features_extractor.forward(observations=th.tensor(obsv.reshape([1,-1]), device='cuda', dtype=th.float))"
   ]
  },
  {
   "cell_type": "code",
   "execution_count": null,
   "metadata": {},
   "outputs": [],
   "source": [
    "qenv.set_predictive_mode(predict=True, sac=model)\n"
   ]
  },
  {
   "cell_type": "code",
   "execution_count": null,
   "metadata": {},
   "outputs": [],
   "source": [
    "model.learn(total_timesteps=100*1, log_interval=1000)"
   ]
  },
  {
   "cell_type": "code",
   "execution_count": null,
   "metadata": {},
   "outputs": [],
   "source": [
    "model.replay_buffer.observations.shape"
   ]
  },
  {
   "cell_type": "code",
   "execution_count": null,
   "metadata": {},
   "outputs": [],
   "source": [
    "qenv.predict_MDP"
   ]
  },
  {
   "cell_type": "code",
   "execution_count": null,
   "metadata": {},
   "outputs": [],
   "source": [
    "len(qenv.first_observations)"
   ]
  },
  {
   "cell_type": "code",
   "execution_count": null,
   "metadata": {},
   "outputs": [],
   "source": [
    "f_obsv = qenv.reset()"
   ]
  },
  {
   "cell_type": "code",
   "execution_count": null,
   "metadata": {},
   "outputs": [],
   "source": [
    "f_obsv.shape"
   ]
  },
  {
   "cell_type": "code",
   "execution_count": null,
   "metadata": {},
   "outputs": [],
   "source": [
    "#qenv_eval= QuantzedMDP(env=env, ntokens_obsv=1000, ntokens_act=1000, obsv_low=-1, obsv_high=1, action_low=-1, action_high=1, device=device)"
   ]
  },
  {
   "cell_type": "code",
   "execution_count": null,
   "metadata": {},
   "outputs": [],
   "source": [
    "rews = []\n",
    "while True:\n",
    "    action, _states = model.predict(obs, deterministic=True)\n",
    "    obs, reward, done, info = qenv_eval.step(action)\n",
    "    rews.append(reward)\n",
    "    #env.render()\n",
    "    if done:\n",
    "        break\n",
    "rews = np.array(rews)"
   ]
  },
  {
   "cell_type": "code",
   "execution_count": null,
   "metadata": {},
   "outputs": [],
   "source": [
    "def createGraphs(tboard, trjs:list([th.tensor]), trj_names:list([str]), plot_name:str, step):\n",
    "    np_trjs = []\n",
    "    trj_colors = ['forestgreen', 'orange', 'pink']\n",
    "    for trj in trjs:\n",
    "        np_trjs.append(trj.detach().cpu().numpy())\n",
    "    tboard.plot_graph(trjs=np_trjs, trj_names=trj_names, trj_colors=trj_colors, plot_name=plot_name, step=step)"
   ]
  },
  {
   "cell_type": "code",
   "execution_count": null,
   "metadata": {},
   "outputs": [],
   "source": [
    "qenv_eval.replay_data.obsv.shape"
   ]
  },
  {
   "cell_type": "code",
   "execution_count": null,
   "metadata": {},
   "outputs": [],
   "source": [
    "pred_rews = mdp_learner.pred_rewards(obsvs=qenv_eval.replay_data.obsv[:100].unsqueeze(1), actions=qenv_eval.replay_data.action[:100].unsqueeze(1))"
   ]
  },
  {
   "cell_type": "code",
   "execution_count": null,
   "metadata": {},
   "outputs": [],
   "source": [
    "pred_rews = th.tensor(pred_rews.reshape(-1, 1)).to('cpu')"
   ]
  },
  {
   "cell_type": "code",
   "execution_count": null,
   "metadata": {},
   "outputs": [],
   "source": [
    "pred_rews"
   ]
  },
  {
   "cell_type": "code",
   "execution_count": null,
   "metadata": {},
   "outputs": [],
   "source": [
    "#rews = qenv.replay_data.reward[:100]"
   ]
  },
  {
   "cell_type": "code",
   "execution_count": null,
   "metadata": {},
   "outputs": [],
   "source": [
    "rews = th.tensor(rews.reshape(-1, 1)).to('cpu')"
   ]
  },
  {
   "cell_type": "code",
   "execution_count": null,
   "metadata": {},
   "outputs": [],
   "source": [
    "((pred_rews-rews)**2).mean()"
   ]
  },
  {
   "cell_type": "code",
   "execution_count": null,
   "metadata": {},
   "outputs": [],
   "source": [
    "createGraphs(tboard=tb, trjs=[rews, pred_rews], trj_names=['rews', 'pred_rews'], step=0, plot_name='Rewards')"
   ]
  },
  {
   "cell_type": "code",
   "execution_count": null,
   "metadata": {},
   "outputs": [],
   "source": [
    "model.replay_buffer.pos"
   ]
  },
  {
   "cell_type": "code",
   "execution_count": null,
   "metadata": {},
   "outputs": [],
   "source": [
    "model.total_gradient_steps"
   ]
  },
  {
   "cell_type": "code",
   "execution_count": null,
   "metadata": {},
   "outputs": [],
   "source": []
  },
  {
   "cell_type": "code",
   "execution_count": null,
   "metadata": {},
   "outputs": [],
   "source": [
    "tb = TBoardGraphs(logname='SAC reach test gradient steps', data_path='/data/bing/hendrik/')"
   ]
  },
  {
   "cell_type": "code",
   "execution_count": null,
   "metadata": {},
   "outputs": [],
   "source": [
    "test_gradient_steps_SAC(model=model, tboard=tb, env=qenv_eval)"
   ]
  },
  {
   "cell_type": "code",
   "execution_count": null,
   "metadata": {},
   "outputs": [],
   "source": [
    "model.train(gradient_steps=model.total_gradient_steps, batch_size=model.batch_size)"
   ]
  },
  {
   "cell_type": "code",
   "execution_count": null,
   "metadata": {},
   "outputs": [],
   "source": [
    "rews = []\n",
    "eval_epochs = 20\n",
    "env = qenv\n",
    "for eval_run in range(eval_epochs):\n",
    "    obs = env.reset()\n",
    "    while True:\n",
    "        action, _states = model.predict(obs, deterministic=True)\n",
    "        obs, reward, done, info = env.step(action)\n",
    "        rews.append(reward)\n",
    "        #env.render()\n",
    "        if done:\n",
    "            break\n",
    "rews_np = np.array(rews)"
   ]
  },
  {
   "cell_type": "code",
   "execution_count": null,
   "metadata": {},
   "outputs": [],
   "source": []
  }
 ],
 "metadata": {
  "kernelspec": {
   "display_name": "Python 3.10.6 ('ac')",
   "language": "python",
   "name": "python3"
  },
  "language_info": {
   "codemirror_mode": {
    "name": "ipython",
    "version": 3
   },
   "file_extension": ".py",
   "mimetype": "text/x-python",
   "name": "python",
   "nbconvert_exporter": "python",
   "pygments_lexer": "ipython3",
   "version": "3.10.6"
  },
  "orig_nbformat": 4,
  "vscode": {
   "interpreter": {
    "hash": "c27e8fa6375f4d15af5a5f5541d8bb88746b588c9fe1102cfd8de011d36c10c2"
   }
  }
 },
 "nbformat": 4,
 "nbformat_minor": 2
}
