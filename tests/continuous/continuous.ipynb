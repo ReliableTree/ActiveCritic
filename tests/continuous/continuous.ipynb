{
 "cells": [
  {
   "cell_type": "code",
   "execution_count": null,
   "metadata": {},
   "outputs": [],
   "source": [
    "from active_critic.utils.gym_utils import sample_expert_transitions\n",
    "import torch as th\n",
    "from stable_baselines3.common.vec_env import DummyVecEnv, SubprocVecEnv\n",
    "import gym\n",
    "from imitation.data.wrappers import RolloutInfoWrapper\n",
    "from stable_baselines3.common.policies import BaseModel\n",
    "from typing import Any, Dict, List, Optional, Tuple, Type, TypeVar, Union\n",
    "from stable_baselines3.common.torch_layers import BaseFeaturesExtractor\n",
    "import torch.nn as nn\n",
    "from active_critic.utils.gym_utils import DummyExtractor\n",
    "import numpy as np\n",
    "from active_critic.utils.gym_utils import make_policy_dict\n",
    "from metaworld.envs import ALL_V2_ENVIRONMENTS_GOAL_OBSERVABLE\n",
    "from gym.wrappers import TimeLimit\n",
    "from active_critic.utils.pytorch_utils import detokenize, tokenize\n",
    "from stable_baselines3 import SAC\n",
    "from active_critic.utils.tboard_graphs import TBoardGraphs\n"
   ]
  },
  {
   "cell_type": "code",
   "execution_count": null,
   "metadata": {},
   "outputs": [],
   "source": [
    "seq_len = 100\n",
    "env_id = 'push'\n",
    "policy_dict = make_policy_dict()\n",
    "max_episode_steps = seq_len\n",
    "env = ALL_V2_ENVIRONMENTS_GOAL_OBSERVABLE[policy_dict[env_id][1]]()\n",
    "env._freeze_rand_vec = False\n",
    "env = TimeLimit(env=env, max_episode_steps=max_episode_steps)"
   ]
  },
  {
   "cell_type": "code",
   "execution_count": null,
   "metadata": {},
   "outputs": [],
   "source": [
    "obsv_low = env.observation_space.low"
   ]
  },
  {
   "cell_type": "code",
   "execution_count": null,
   "metadata": {},
   "outputs": [],
   "source": [
    "obsv_low\n",
    "minimum = -10\n",
    "obsv_low = np.maximum(obsv_low, minimum)"
   ]
  },
  {
   "cell_type": "code",
   "execution_count": null,
   "metadata": {},
   "outputs": [],
   "source": [
    "obsv_low"
   ]
  },
  {
   "cell_type": "code",
   "execution_count": null,
   "metadata": {},
   "outputs": [],
   "source": [
    "class QuantzedMDP(gym.Wrapper):\n",
    "    def __init__(self, env: gym.Env, ntokens_obsv, ntokens_act, obsv_low, obsv_high, action_low, action_high) -> None:\n",
    "        super().__init__(env)\n",
    "        self.ntokens_obsv= ntokens_obsv\n",
    "        self.ntokens_act = ntokens_act\n",
    "\n",
    "        min_obsv = self.observation_space.low\n",
    "        min_obsv = np.maximum(min_obsv, obsv_low)\n",
    "        self.min_obsv = th.tensor(min_obsv)\n",
    "        max_obsv = self.observation_space.high\n",
    "        max_obsv = np.minimum(max_obsv, obsv_high)\n",
    "        self.max_obsv = th.tensor(max_obsv)\n",
    "\n",
    "        min_action = self.action_space.low\n",
    "        min_action = np.maximum(min_action, action_low)\n",
    "        self.min_action = th.tensor(min_action)\n",
    "        max_action = self.action_space.high\n",
    "        max_action = np.minimum(max_action, action_high)\n",
    "        self.max_action = th.tensor(max_action)\n",
    "\n",
    "        self.max_recoreded_obsv = -float(\"inf\")\n",
    "        self.min_recoreded_obsv = float(\"inf\")\n",
    "\n",
    "    def quantize(self, inpt, min, max, ntokens):\n",
    "        th_inpt = th.tensor(inpt).reshape([1,1,-1])\n",
    "        th_inpt = tokenize(inpt=th_inpt, minimum=min, maximum=max, ntokens=self.ntokens_obsv)\n",
    "        th_inpt = detokenize(inpt=th_inpt, minimum=min, maximum=max, ntokens=self.ntokens_obsv)\n",
    "        return th_inpt.numpy().squeeze()\n",
    "\n",
    "    def reset(self) -> Any:\n",
    "        obsv = super().reset()\n",
    "        if max(obsv) > self.max_recoreded_obsv:\n",
    "            print(f'new_max = {max(obsv)}')\n",
    "            self.max_recoreded_obsv = max(obsv)\n",
    "\n",
    "        if min(obsv) < self.min_recoreded_obsv:\n",
    "            print(f'new_min = {min(obsv)}')\n",
    "            self.min_recoreded_obsv = min(obsv)\n",
    "\n",
    "        q_obsv = self.quantize(inpt=obsv, min=self.min_obsv, max=self.max_obsv, ntokens=self.ntokens_obsv)\n",
    "        return q_obsv\n",
    "\n",
    "    def step(self, action):\n",
    "        q_act = self.quantize(inpt=action, min=self.min_action, max=self.max_action, ntokens=self.ntokens_act)\n",
    "        obsv, reward, dones, info = super().step(q_act)\n",
    "        if max(obsv) > self.max_recoreded_obsv:\n",
    "            print(f'new_max = {max(obsv)}')\n",
    "            self.max_recoreded_obsv = max(obsv)\n",
    "            \n",
    "        if min(obsv) < self.min_recoreded_obsv:\n",
    "            print(f'new_min = {min(obsv)}')\n",
    "            self.min_recoreded_obsv = min(obsv)\n",
    "            \n",
    "        q_obsv = self.quantize(inpt=obsv, min=self.min_obsv, max=self.max_obsv, ntokens=self.ntokens_obsv)\n",
    "        return q_obsv, reward, dones, info"
   ]
  },
  {
   "cell_type": "code",
   "execution_count": null,
   "metadata": {},
   "outputs": [],
   "source": [
    "qenv= QuantzedMDP(env=env, ntokens_obsv=100, ntokens_act=100, obsv_low=-2, obsv_high=2, action_low=-10, action_high=10)"
   ]
  },
  {
   "cell_type": "code",
   "execution_count": null,
   "metadata": {},
   "outputs": [],
   "source": []
  },
  {
   "cell_type": "code",
   "execution_count": null,
   "metadata": {},
   "outputs": [],
   "source": [
    "class MDPLearner(gym.Env): #Wrapper?\n",
    "    def __init__(self) -> None:\n",
    "        super().__init__()\n",
    "        #obsv space\n",
    "        #action space\n",
    "\n",
    "    def emit(self, obsv):\n",
    "        pass\n",
    "        #emitter forward\n",
    "\n",
    "    def predict_emb(self, embedding, action):\n",
    "        pass\n",
    "        #predicter forward\n",
    "\n",
    "    def pred_rew(self, embedding):\n",
    "        pass\n",
    "        #reward_predictor forward\n",
    "\n",
    "    def learn(self, obsvs1, obsvs2, reward1, reward2, actions):\n",
    "        pass\n",
    "        #emit(obsv1) -> reward1*\n",
    "        #emit(obsv1) -> actions -> predictions -> reward2*\n",
    "        #emit(obsv2) -> reward2**\n",
    "        #L1 = emit(obsv1) - emit(obsv2)\n",
    "        #L2 = reward1* - reward1\n",
    "        #L2 = reward2* - reward2\n",
    "        #L3 = reward2 ** - reward2\n",
    "\n",
    "    def step(self, action):\n",
    "        pass\n",
    "        #obsv = self.env.step(action)\n",
    "        #return self.emit(obsv)\n",
    "\n",
    "    def reset(self):\n",
    "        pass\n",
    "        #self.env.reset()"
   ]
  },
  {
   "cell_type": "code",
   "execution_count": null,
   "metadata": {},
   "outputs": [],
   "source": [
    "def test_SAC(env, eval_epochs, iterations, path, logname):\n",
    "    tb = TBoardGraphs(logname=logname, data_path=path)\n",
    "    pkwarg = dict(net_arch=[512, 512, 512])\n",
    "    model = SAC(\"MlpPolicy\", env, verbose=1)\n",
    "    for iteration in range(iterations):\n",
    "        rews = []\n",
    "        for eval_run in range(eval_epochs):\n",
    "            obs = env.reset()\n",
    "            while True:\n",
    "                action, _states = model.predict(obs, deterministic=True)\n",
    "                obs, reward, done, info = env.step(action)\n",
    "                rews.append(reward)\n",
    "                #env.render()\n",
    "                if done:\n",
    "                    break\n",
    "        rews_np = np.array(rews)\n",
    "        tb.addValidationScalar(name='Average Reward', value=th.tensor(rews_np.mean()), stepid=iteration)\n",
    "        model.learn(total_timesteps=100*10, log_interval=1000)\n",
    "    model.save(logname)\n"
   ]
  },
  {
   "cell_type": "code",
   "execution_count": null,
   "metadata": {},
   "outputs": [],
   "source": [
    "test_SAC(env=env, eval_epochs=20, iterations=10000, logname='Push Continuous Big', path='/data/bing/hendrik/')"
   ]
  },
  {
   "cell_type": "code",
   "execution_count": null,
   "metadata": {},
   "outputs": [],
   "source": [
    "import gym\n",
    "import numpy as np\n",
    "\n",
    "\n",
    "#env = gym.make(\"Hopper-v3\")\n",
    "\n",
    "model_push = SAC(\"MlpPolicy\", env, verbose=1)\n",
    "eval_epochs = 10\n",
    "for i in range(100):\n",
    "  all_rewards = []\n",
    "  for j in eval_epochs:\n",
    "    obs = env.reset()\n",
    "    rews = []\n",
    "    while True:\n",
    "        action, _states = model_push.predict(obs, deterministic=True)\n",
    "        obs, reward, done, info = env.step(action)\n",
    "        rews.append(reward)\n",
    "        #env.render()\n",
    "        if done:\n",
    "          break\n",
    "  rews_np = np.array(rews)\n",
    "\n",
    "  model_push.learn(total_timesteps=100*100, log_interval=4, tb_log_name='SAC Continuous', eval_log_path='/data/bing/hendrik/')\n",
    "  \n",
    "\n",
    "\n",
    "model_push.save(\"sac_push_cont\")\n",
    "\n",
    "model = SAC.load(\"sac_push\")\n",
    "\n",
    "'''while True:\n",
    "    action, _states = model.predict(obs, deterministic=True)\n",
    "    obs, reward, done, info = env.step(action)\n",
    "    env.render()\n",
    "    if done:\n",
    "      obs = env.reset()'''"
   ]
  },
  {
   "cell_type": "code",
   "execution_count": null,
   "metadata": {},
   "outputs": [],
   "source": [
    "import gym\n",
    "import numpy as np\n",
    "\n",
    "from stable_baselines3 import SAC\n",
    "\n",
    "#env = gym.make(\"Hopper-v3\")\n",
    "\n",
    "model_push = SAC(\"MlpPolicy\", qw, verbose=1)\n",
    "model_push.learn(total_timesteps=100*100, log_interval=4)\n",
    "model_push.save(\"sac_push_q\")\n",
    "\n",
    "model = SAC.load(\"sac_push_q\")"
   ]
  },
  {
   "cell_type": "code",
   "execution_count": null,
   "metadata": {},
   "outputs": [],
   "source": [
    "env.reset()"
   ]
  },
  {
   "cell_type": "code",
   "execution_count": null,
   "metadata": {},
   "outputs": [],
   "source": [
    "env = gym.make(\"Hopper-v2\")\n"
   ]
  },
  {
   "cell_type": "code",
   "execution_count": null,
   "metadata": {},
   "outputs": [],
   "source": []
  },
  {
   "cell_type": "code",
   "execution_count": null,
   "metadata": {},
   "outputs": [],
   "source": [
    "rews_np"
   ]
  },
  {
   "cell_type": "code",
   "execution_count": null,
   "metadata": {},
   "outputs": [],
   "source": [
    "rews_np[-1]"
   ]
  },
  {
   "cell_type": "code",
   "execution_count": null,
   "metadata": {},
   "outputs": [],
   "source": [
    "(rews_np[1:] - rews_np[:-1]).max()"
   ]
  },
  {
   "cell_type": "code",
   "execution_count": null,
   "metadata": {},
   "outputs": [],
   "source": [
    "def make_env(env):\n",
    "    def _init():\n",
    "        env._freeze_rand_vec = False\n",
    "        #rce = ResetCounterWrapper(env)\n",
    "        riw = RolloutInfoWrapper(env)\n",
    "        return riw\n",
    "    return _init"
   ]
  },
  {
   "cell_type": "code",
   "execution_count": null,
   "metadata": {},
   "outputs": [],
   "source": [
    "def make_vec_env_gym(env, num_cpu, seq_len):\n",
    "    env = SubprocVecEnv([make_env(env) for i in range(num_cpu)])\n",
    "    return env"
   ]
  },
  {
   "cell_type": "code",
   "execution_count": null,
   "metadata": {},
   "outputs": [],
   "source": [
    "vec_env = make_vec_env_gym(gym.make('Hopper-v3'), 3, 3)"
   ]
  },
  {
   "cell_type": "code",
   "execution_count": null,
   "metadata": {},
   "outputs": [],
   "source": [
    "obsv = vec_env.reset()"
   ]
  },
  {
   "cell_type": "code",
   "execution_count": null,
   "metadata": {},
   "outputs": [],
   "source": [
    "class DummyGymPolicy(BaseModel):\n",
    "    def __init__(self, observation_space: gym.spaces.Space, action_space: gym.spaces.Space, features_extractor_class: Type[BaseFeaturesExtractor] = ..., features_extractor_kwargs: Optional[Dict[str, Any]] = None, features_extractor: Optional[nn.Module] = None, normalize_images: bool = True, optimizer_class: Type[th.optim.Optimizer] = th.optim.Adam, optimizer_kwargs: Optional[Dict[str, Any]] = None):\n",
    "        super().__init__(observation_space, action_space, features_extractor_class, features_extractor_kwargs, features_extractor, normalize_images, optimizer_class, optimizer_kwargs)\n",
    "\n",
    "    def predict(\n",
    "        self,\n",
    "        observation: Union[th.Tensor, Dict[str, th.Tensor]],\n",
    "        state: Optional[Tuple[np.ndarray, ...]] = None,\n",
    "        episode_start: Optional[np.ndarray] = None,\n",
    "        deterministic: bool = False,\n",
    "    ) -> th.Tensor:\n",
    "\n",
    "        result = np.array([[0,0,0]]*observation.shape[0])\n",
    "        result[episode_start] = 1\n",
    "        return result\n"
   ]
  },
  {
   "cell_type": "code",
   "execution_count": null,
   "metadata": {},
   "outputs": [],
   "source": [
    "epsisode_start = np.array([True, True, False])\n",
    "dgp = DummyGymPolicy(vec_env.observation_space, vec_env.action_space, features_extractor=DummyExtractor())"
   ]
  },
  {
   "cell_type": "code",
   "execution_count": null,
   "metadata": {},
   "outputs": [],
   "source": [
    "actions = dgp.predict(observation=obsv, episode_start=epsisode_start)"
   ]
  },
  {
   "cell_type": "code",
   "execution_count": null,
   "metadata": {},
   "outputs": [],
   "source": [
    "transitions = sample_expert_transitions(policy=dgp.predict, env=vec_env, episodes=10)"
   ]
  },
  {
   "cell_type": "code",
   "execution_count": null,
   "metadata": {},
   "outputs": [],
   "source": [
    "tf = 0\n",
    "for i, transition in enumerate(transitions):\n",
    "    if transition['dones']:\n",
    "        tf += 1"
   ]
  },
  {
   "cell_type": "code",
   "execution_count": null,
   "metadata": {},
   "outputs": [],
   "source": [
    "tf"
   ]
  },
  {
   "cell_type": "code",
   "execution_count": null,
   "metadata": {},
   "outputs": [],
   "source": [
    "ttf = 0\n",
    "for act in transitions:\n",
    "    if act['acts'][0] == 1:\n",
    "        ttf+=1\n",
    "ttf"
   ]
  },
  {
   "cell_type": "code",
   "execution_count": null,
   "metadata": {},
   "outputs": [],
   "source": [
    "for k in transitions[21]['infos']['rollout']:\n",
    "    print(k)"
   ]
  },
  {
   "cell_type": "code",
   "execution_count": null,
   "metadata": {},
   "outputs": [],
   "source": [
    "obsv.shape"
   ]
  },
  {
   "cell_type": "code",
   "execution_count": null,
   "metadata": {},
   "outputs": [],
   "source": [
    "from active_critic.model_src.transformer import *\n",
    "import torch as th"
   ]
  },
  {
   "cell_type": "code",
   "execution_count": null,
   "metadata": {},
   "outputs": [],
   "source": [
    "seq_len = 6\n",
    "batch_size = 2\n",
    "dim = 3\n",
    "\n",
    "tms = ModelSetup()\n",
    "tms.d_hid = 12\n",
    "tms.d_model = 12\n",
    "tms.d_output = 2\n",
    "tms.device = 'cuda'\n",
    "tms.nhead = 1\n",
    "tms.nlayers = 2\n",
    "tms.seq_len = seq_len\n",
    "\n",
    "tm = TransformerModel(model_setup=tms)"
   ]
  },
  {
   "cell_type": "code",
   "execution_count": null,
   "metadata": {},
   "outputs": [],
   "source": [
    "inpt = th.ones([batch_size, seq_len, dim], device='cuda')"
   ]
  },
  {
   "cell_type": "code",
   "execution_count": null,
   "metadata": {},
   "outputs": [],
   "source": [
    "result = tm.forward(inpt, offset=0)"
   ]
  },
  {
   "cell_type": "code",
   "execution_count": null,
   "metadata": {},
   "outputs": [],
   "source": [
    "result.shape"
   ]
  },
  {
   "cell_type": "code",
   "execution_count": null,
   "metadata": {},
   "outputs": [],
   "source": []
  }
 ],
 "metadata": {
  "kernelspec": {
   "display_name": "ac",
   "language": "python",
   "name": "python3"
  },
  "language_info": {
   "codemirror_mode": {
    "name": "ipython",
    "version": 3
   },
   "file_extension": ".py",
   "mimetype": "text/x-python",
   "name": "python",
   "nbconvert_exporter": "python",
   "pygments_lexer": "ipython3",
   "version": "3.10.6 (main, Oct 24 2022, 16:07:47) [GCC 11.2.0]"
  },
  "orig_nbformat": 4,
  "vscode": {
   "interpreter": {
    "hash": "55d3bc2b8c4272bbea65d85e1c1c189fa11db70743df9511061edc4d7dc4f3cd"
   }
  }
 },
 "nbformat": 4,
 "nbformat_minor": 2
}
