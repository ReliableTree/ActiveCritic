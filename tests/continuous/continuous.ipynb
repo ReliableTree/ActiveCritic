{
 "cells": [
  {
   "cell_type": "code",
   "execution_count": 1,
   "metadata": {},
   "outputs": [],
   "source": [
    "from active_critic.utils.gym_utils import sample_expert_transitions\n",
    "import torch as th\n",
    "from stable_baselines3.common.vec_env import DummyVecEnv, SubprocVecEnv\n",
    "import gym\n",
    "from imitation.data.wrappers import RolloutInfoWrapper\n"
   ]
  },
  {
   "cell_type": "code",
   "execution_count": null,
   "metadata": {},
   "outputs": [],
   "source": [
    "def make_env(env):\n",
    "    def _init():\n",
    "        env._freeze_rand_vec = False\n",
    "        #rce = ResetCounterWrapper(env)\n",
    "        riw = RolloutInfoWrapper(env)\n",
    "        return riw\n",
    "    return _init"
   ]
  },
  {
   "cell_type": "code",
   "execution_count": null,
   "metadata": {},
   "outputs": [],
   "source": [
    "def make_vec_env_gym(env, num_cpu, seq_len):\n",
    "    env = SubprocVecEnv([make_env(env) for i in range(num_cpu)])\n",
    "    vec_expert = ImitationLearningWrapper(\n",
    "        policy=policy_dict[env_id][0], env=env)\n",
    "    return env, vec_expert"
   ]
  },
  {
   "cell_type": "code",
   "execution_count": 10,
   "metadata": {},
   "outputs": [],
   "source": [
    "env = gym.make('Hopper-v3')"
   ]
  },
  {
   "cell_type": "code",
   "execution_count": 1,
   "metadata": {},
   "outputs": [
    {
     "name": "stderr",
     "output_type": "stream",
     "text": [
      "/home/hendrik/anaconda3/envs/ac/lib/python3.10/site-packages/tqdm/auto.py:22: TqdmWarning: IProgress not found. Please update jupyter and ipywidgets. See https://ipywidgets.readthedocs.io/en/stable/user_install.html\n",
      "  from .autonotebook import tqdm as notebook_tqdm\n"
     ]
    }
   ],
   "source": [
    "from active_critic.model_src.transformer import *\n",
    "import torch as th"
   ]
  },
  {
   "cell_type": "code",
   "execution_count": 8,
   "metadata": {},
   "outputs": [],
   "source": [
    "seq_len = 6\n",
    "batch_size = 2\n",
    "dim = 3\n",
    "\n",
    "tms = ModelSetup()\n",
    "tms.d_hid = 12\n",
    "tms.d_model = 12\n",
    "tms.d_output = 2\n",
    "tms.device = 'cuda'\n",
    "tms.nhead = 1\n",
    "tms.nlayers = 2\n",
    "tms.seq_len = seq_len\n",
    "\n",
    "tm = TransformerModel(model_setup=tms)"
   ]
  },
  {
   "cell_type": "code",
   "execution_count": 9,
   "metadata": {},
   "outputs": [],
   "source": [
    "inpt = th.ones([batch_size, seq_len, dim], device='cuda')"
   ]
  },
  {
   "cell_type": "code",
   "execution_count": 10,
   "metadata": {},
   "outputs": [],
   "source": [
    "result = tm.forward(inpt, offset=0)"
   ]
  },
  {
   "cell_type": "code",
   "execution_count": 12,
   "metadata": {},
   "outputs": [
    {
     "data": {
      "text/plain": [
       "torch.Size([2, 6, 2])"
      ]
     },
     "execution_count": 12,
     "metadata": {},
     "output_type": "execute_result"
    }
   ],
   "source": [
    "result.shape"
   ]
  },
  {
   "cell_type": "code",
   "execution_count": null,
   "metadata": {},
   "outputs": [],
   "source": []
  }
 ],
 "metadata": {
  "kernelspec": {
   "display_name": "Python 3.10.6 ('ac')",
   "language": "python",
   "name": "python3"
  },
  "language_info": {
   "codemirror_mode": {
    "name": "ipython",
    "version": 3
   },
   "file_extension": ".py",
   "mimetype": "text/x-python",
   "name": "python",
   "nbconvert_exporter": "python",
   "pygments_lexer": "ipython3",
   "version": "3.10.6"
  },
  "orig_nbformat": 4,
  "vscode": {
   "interpreter": {
    "hash": "c27e8fa6375f4d15af5a5f5541d8bb88746b588c9fe1102cfd8de011d36c10c2"
   }
  }
 },
 "nbformat": 4,
 "nbformat_minor": 2
}
