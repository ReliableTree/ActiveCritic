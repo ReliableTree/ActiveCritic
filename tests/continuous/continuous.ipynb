{
 "cells": [
  {
   "cell_type": "code",
   "execution_count": 1,
   "metadata": {},
   "outputs": [
    {
     "name": "stderr",
     "output_type": "stream",
     "text": [
      "/home/hendrik/miniconda3/envs/ac/lib/python3.10/site-packages/gym/spaces/box.py:73: UserWarning: \u001b[33mWARN: Box bound precision lowered by casting to float32\u001b[0m\n",
      "  logger.warn(\n"
     ]
    }
   ],
   "source": [
    "from active_critic.utils.gym_utils import sample_expert_transitions\n",
    "import torch as th\n",
    "from stable_baselines3.common.vec_env import DummyVecEnv, SubprocVecEnv\n",
    "import gym\n",
    "from imitation.data.wrappers import RolloutInfoWrapper\n",
    "from stable_baselines3.common.policies import BaseModel\n",
    "from typing import Any, Dict, List, Optional, Tuple, Type, TypeVar, Union\n",
    "from stable_baselines3.common.torch_layers import BaseFeaturesExtractor\n",
    "import torch.nn as nn\n",
    "from active_critic.utils.gym_utils import DummyExtractor\n",
    "import numpy as np\n",
    "from active_critic.utils.gym_utils import make_policy_dict\n",
    "from metaworld.envs import ALL_V2_ENVIRONMENTS_GOAL_OBSERVABLE\n",
    "from gym.wrappers import TimeLimit\n"
   ]
  },
  {
   "cell_type": "code",
   "execution_count": null,
   "metadata": {},
   "outputs": [],
   "source": [
    "seq_len = 100\n",
    "env_id = 'push'\n",
    "policy_dict = make_policy_dict()\n",
    "max_episode_steps = seq_len\n",
    "env = ALL_V2_ENVIRONMENTS_GOAL_OBSERVABLE[policy_dict[env_id][1]]()\n",
    "env._freeze_rand_vec = False\n",
    "env = TimeLimit(env=env, max_episode_steps=max_episode_steps)\n",
    "asd = 1"
   ]
  },
  {
   "cell_type": "code",
   "execution_count": null,
   "metadata": {},
   "outputs": [],
   "source": []
  },
  {
   "cell_type": "code",
   "execution_count": null,
   "metadata": {},
   "outputs": [],
   "source": [
    "class MDPLearner(gym.Env): #Wrapper?\n",
    "    def __init__(self) -> None:\n",
    "        super().__init__()\n",
    "        #obsv space\n",
    "        #action space\n",
    "\n",
    "    def emit(self, obsv):\n",
    "        pass\n",
    "        #emitter forward\n",
    "\n",
    "    def predict_emb(self, embedding, action):\n",
    "        pass\n",
    "        #predicter forward\n",
    "\n",
    "    def pred_rew(self, embedding):\n",
    "        pass\n",
    "        #reward_predictor forward\n",
    "\n",
    "    def learn(self, obsvs1, obsvs2, reward1, reward2, actions):\n",
    "        pass\n",
    "        #emit(obsv1) -> reward1*\n",
    "        #emit(obsv1) -> actions -> predictions -> reward2*\n",
    "        #emit(obsv2) -> reward2**\n",
    "        #L1 = emit(obsv1) - emit(obsv2)\n",
    "        #L2 = reward1* - reward1\n",
    "        #L2 = reward2* - reward2\n",
    "        #L3 = reward2 ** - reward2\n",
    "\n",
    "    def step(self, action):\n",
    "        pass\n",
    "        #obsv = self.env.step(action)\n",
    "        #return self.emit(obsv)\n",
    "\n",
    "    def reset(self):\n",
    "        pass\n",
    "        #self.env.reset()"
   ]
  },
  {
   "cell_type": "code",
   "execution_count": null,
   "metadata": {},
   "outputs": [],
   "source": [
    "import gym\n",
    "import numpy as np\n",
    "\n",
    "from stable_baselines3 import SAC\n",
    "\n",
    "#env = gym.make(\"Hopper-v3\")\n",
    "\n",
    "model_push = SAC(\"MlpPolicy\", env, verbose=1)\n",
    "model_push.learn(total_timesteps=100*100, log_interval=4)\n",
    "model_push.save(\"sac_push\")\n",
    "\n",
    "model = SAC.load(\"sac_push\")\n",
    "\n",
    "'''while True:\n",
    "    action, _states = model.predict(obs, deterministic=True)\n",
    "    obs, reward, done, info = env.step(action)\n",
    "    env.render()\n",
    "    if done:\n",
    "      obs = env.reset()'''"
   ]
  },
  {
   "cell_type": "code",
   "execution_count": null,
   "metadata": {},
   "outputs": [],
   "source": [
    "env.reset()"
   ]
  },
  {
   "cell_type": "code",
   "execution_count": null,
   "metadata": {},
   "outputs": [],
   "source": [
    "env = gym.make(\"Hopper-v2\")\n"
   ]
  },
  {
   "cell_type": "code",
   "execution_count": 4,
   "metadata": {},
   "outputs": [],
   "source": [
    "obs = env.reset()\n",
    "rews = []\n",
    "while True:\n",
    "    action, _states = model_push.predict(obs, deterministic=True)\n",
    "    obs, reward, done, info = env.step(action)\n",
    "    rews.append(reward)\n",
    "    #env.render()\n",
    "    if done:\n",
    "      break"
   ]
  },
  {
   "cell_type": "code",
   "execution_count": 5,
   "metadata": {},
   "outputs": [],
   "source": [
    "rews_np = np.array(rews)"
   ]
  },
  {
   "cell_type": "code",
   "execution_count": 7,
   "metadata": {},
   "outputs": [
    {
     "data": {
      "text/plain": [
       "array([0.05170676, 0.05179015, 0.05188543, 0.05197164, 0.05205706,\n",
       "       0.0521263 , 0.05215443, 0.05218172, 0.05215274, 0.05213872,\n",
       "       0.05206964, 0.05203299, 0.05194294, 0.05189308, 0.05181692,\n",
       "       0.05178132, 0.05172561, 0.05174419, 0.05194805, 0.05214596,\n",
       "       0.05236517, 0.05254609, 0.05278724, 0.05293882, 0.05313413,\n",
       "       0.05322903, 0.05333681, 0.05349628, 0.05359037, 0.05371782,\n",
       "       0.05390673, 0.05405694, 0.05416785, 0.05436636, 0.05456583,\n",
       "       0.05469297, 0.05486405, 0.0550848 , 0.05526537, 0.05539854,\n",
       "       0.05562043, 0.0558463 , 0.05598457, 0.05618905, 0.0564234 ,\n",
       "       0.05663836, 0.05679464, 0.05701639, 0.05726946, 0.05748555,\n",
       "       0.05766134, 0.05787216, 0.0581366 , 0.05836928, 0.05858403,\n",
       "       0.05879371, 0.05899074, 0.05919899, 0.05943764, 0.05969704,\n",
       "       0.05991213, 0.06010548, 0.06029568, 0.06049306, 0.06071894,\n",
       "       0.06097236, 0.06117186, 0.06135035, 0.06151565, 0.06171497,\n",
       "       0.06193344, 0.06216329, 0.06235578, 0.06251504, 0.06266739,\n",
       "       0.06284841, 0.06305894, 0.06326997, 0.06344945, 0.06358845,\n",
       "       0.06372315, 0.063884  , 0.0640844 , 0.06428319, 0.06445524,\n",
       "       0.06458511, 0.06471563, 0.06487467, 0.0650797 , 0.06528119,\n",
       "       0.06545349, 0.06558009, 0.06570769, 0.06586593, 0.06607435,\n",
       "       0.06628095, 0.06645251, 0.06657638, 0.06669973, 0.0668584 ])"
      ]
     },
     "execution_count": 7,
     "metadata": {},
     "output_type": "execute_result"
    }
   ],
   "source": [
    "rews_np"
   ]
  },
  {
   "cell_type": "code",
   "execution_count": 6,
   "metadata": {},
   "outputs": [
    {
     "data": {
      "text/plain": [
       "0.06685840162051389"
      ]
     },
     "execution_count": 6,
     "metadata": {},
     "output_type": "execute_result"
    }
   ],
   "source": [
    "rews_np[-1]"
   ]
  },
  {
   "cell_type": "code",
   "execution_count": null,
   "metadata": {},
   "outputs": [],
   "source": [
    "(rews_np[1:] - rews_np[:-1]).max()"
   ]
  },
  {
   "cell_type": "code",
   "execution_count": null,
   "metadata": {},
   "outputs": [],
   "source": [
    "def make_env(env):\n",
    "    def _init():\n",
    "        env._freeze_rand_vec = False\n",
    "        #rce = ResetCounterWrapper(env)\n",
    "        riw = RolloutInfoWrapper(env)\n",
    "        return riw\n",
    "    return _init"
   ]
  },
  {
   "cell_type": "code",
   "execution_count": null,
   "metadata": {},
   "outputs": [],
   "source": [
    "def make_vec_env_gym(env, num_cpu, seq_len):\n",
    "    env = SubprocVecEnv([make_env(env) for i in range(num_cpu)])\n",
    "    return env"
   ]
  },
  {
   "cell_type": "code",
   "execution_count": null,
   "metadata": {},
   "outputs": [],
   "source": [
    "vec_env = make_vec_env_gym(gym.make('Hopper-v3'), 3, 3)"
   ]
  },
  {
   "cell_type": "code",
   "execution_count": null,
   "metadata": {},
   "outputs": [],
   "source": [
    "obsv = vec_env.reset()"
   ]
  },
  {
   "cell_type": "code",
   "execution_count": null,
   "metadata": {},
   "outputs": [],
   "source": [
    "class DummyGymPolicy(BaseModel):\n",
    "    def __init__(self, observation_space: gym.spaces.Space, action_space: gym.spaces.Space, features_extractor_class: Type[BaseFeaturesExtractor] = ..., features_extractor_kwargs: Optional[Dict[str, Any]] = None, features_extractor: Optional[nn.Module] = None, normalize_images: bool = True, optimizer_class: Type[th.optim.Optimizer] = th.optim.Adam, optimizer_kwargs: Optional[Dict[str, Any]] = None):\n",
    "        super().__init__(observation_space, action_space, features_extractor_class, features_extractor_kwargs, features_extractor, normalize_images, optimizer_class, optimizer_kwargs)\n",
    "\n",
    "    def predict(\n",
    "        self,\n",
    "        observation: Union[th.Tensor, Dict[str, th.Tensor]],\n",
    "        state: Optional[Tuple[np.ndarray, ...]] = None,\n",
    "        episode_start: Optional[np.ndarray] = None,\n",
    "        deterministic: bool = False,\n",
    "    ) -> th.Tensor:\n",
    "\n",
    "        result = np.array([[0,0,0]]*observation.shape[0])\n",
    "        result[episode_start] = 1\n",
    "        return result\n"
   ]
  },
  {
   "cell_type": "code",
   "execution_count": null,
   "metadata": {},
   "outputs": [],
   "source": [
    "epsisode_start = np.array([True, True, False])\n",
    "dgp = DummyGymPolicy(vec_env.observation_space, vec_env.action_space, features_extractor=DummyExtractor())"
   ]
  },
  {
   "cell_type": "code",
   "execution_count": null,
   "metadata": {},
   "outputs": [],
   "source": [
    "actions = dgp.predict(observation=obsv, episode_start=epsisode_start)"
   ]
  },
  {
   "cell_type": "code",
   "execution_count": null,
   "metadata": {},
   "outputs": [],
   "source": [
    "transitions = sample_expert_transitions(policy=dgp.predict, env=vec_env, episodes=10)"
   ]
  },
  {
   "cell_type": "code",
   "execution_count": null,
   "metadata": {},
   "outputs": [],
   "source": [
    "tf = 0\n",
    "for i, transition in enumerate(transitions):\n",
    "    if transition['dones']:\n",
    "        tf += 1"
   ]
  },
  {
   "cell_type": "code",
   "execution_count": null,
   "metadata": {},
   "outputs": [],
   "source": [
    "tf"
   ]
  },
  {
   "cell_type": "code",
   "execution_count": null,
   "metadata": {},
   "outputs": [],
   "source": [
    "ttf = 0\n",
    "for act in transitions:\n",
    "    if act['acts'][0] == 1:\n",
    "        ttf+=1\n",
    "ttf"
   ]
  },
  {
   "cell_type": "code",
   "execution_count": null,
   "metadata": {},
   "outputs": [],
   "source": [
    "for k in transitions[21]['infos']['rollout']:\n",
    "    print(k)"
   ]
  },
  {
   "cell_type": "code",
   "execution_count": null,
   "metadata": {},
   "outputs": [],
   "source": [
    "obsv.shape"
   ]
  },
  {
   "cell_type": "code",
   "execution_count": null,
   "metadata": {},
   "outputs": [],
   "source": [
    "from active_critic.model_src.transformer import *\n",
    "import torch as th"
   ]
  },
  {
   "cell_type": "code",
   "execution_count": null,
   "metadata": {},
   "outputs": [],
   "source": [
    "seq_len = 6\n",
    "batch_size = 2\n",
    "dim = 3\n",
    "\n",
    "tms = ModelSetup()\n",
    "tms.d_hid = 12\n",
    "tms.d_model = 12\n",
    "tms.d_output = 2\n",
    "tms.device = 'cuda'\n",
    "tms.nhead = 1\n",
    "tms.nlayers = 2\n",
    "tms.seq_len = seq_len\n",
    "\n",
    "tm = TransformerModel(model_setup=tms)"
   ]
  },
  {
   "cell_type": "code",
   "execution_count": null,
   "metadata": {},
   "outputs": [],
   "source": [
    "inpt = th.ones([batch_size, seq_len, dim], device='cuda')"
   ]
  },
  {
   "cell_type": "code",
   "execution_count": null,
   "metadata": {},
   "outputs": [],
   "source": [
    "result = tm.forward(inpt, offset=0)"
   ]
  },
  {
   "cell_type": "code",
   "execution_count": null,
   "metadata": {},
   "outputs": [],
   "source": [
    "result.shape"
   ]
  },
  {
   "cell_type": "code",
   "execution_count": null,
   "metadata": {},
   "outputs": [],
   "source": []
  }
 ],
 "metadata": {
  "kernelspec": {
   "display_name": "Python 3.10.6 ('ac')",
   "language": "python",
   "name": "python3"
  },
  "language_info": {
   "codemirror_mode": {
    "name": "ipython",
    "version": 3
   },
   "file_extension": ".py",
   "mimetype": "text/x-python",
   "name": "python",
   "nbconvert_exporter": "python",
   "pygments_lexer": "ipython3",
   "version": "3.10.6"
  },
  "orig_nbformat": 4,
  "vscode": {
   "interpreter": {
    "hash": "55d3bc2b8c4272bbea65d85e1c1c189fa11db70743df9511061edc4d7dc4f3cd"
   }
  }
 },
 "nbformat": 4,
 "nbformat_minor": 2
}
