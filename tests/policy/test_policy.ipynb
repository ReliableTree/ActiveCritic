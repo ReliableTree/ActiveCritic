{
 "cells": [
  {
   "cell_type": "code",
   "execution_count": 1,
   "metadata": {},
   "outputs": [
    {
     "name": "stderr",
     "output_type": "stream",
     "text": [
      "/home/hendrik/anaconda3/envs/ac/lib/python3.10/site-packages/tqdm/auto.py:22: TqdmWarning: IProgress not found. Please update jupyter and ipywidgets. See https://ipywidgets.readthedocs.io/en/stable/user_install.html\n",
      "  from .autonotebook import tqdm as notebook_tqdm\n",
      "/home/hendrik/anaconda3/envs/ac/lib/python3.10/site-packages/gym/spaces/box.py:73: UserWarning: \u001b[33mWARN: Box bound precision lowered by casting to float32\u001b[0m\n",
      "  logger.warn(\n"
     ]
    }
   ],
   "source": [
    "import unittest\n",
    "\n",
    "import torch as th\n",
    "import numpy as np\n",
    "\n",
    "from active_critic.model_src.whole_sequence_model import WholeSequenceModel, OptimizeMaximumCritic, OptimizeEndCritic\n",
    "from active_critic.policy.active_critic_policy import ActiveCriticPolicy, ACPOptEnd\n",
    "from active_critic.utils.test_utils import (make_acps, make_obs_act_space,\n",
    "                                            make_wsm_setup)\n",
    "from active_critic.utils.gym_utils import (DummyExtractor, make_dummy_vec_env,\n",
    "                                           new_epoch_pap,\n",
    "                                           new_epoch_reach)\n",
    "\n",
    "from active_critic.utils.gym_utils import make_policy_dict, new_epoch_reach, make_dummy_vec_env, sample_expert_transitions, parse_sampled_transitions"
   ]
  },
  {
   "cell_type": "code",
   "execution_count": 2,
   "metadata": {},
   "outputs": [],
   "source": [
    "def setup_ac():\n",
    "        seq_len = 50\n",
    "        d_output = 2\n",
    "        obs_dim = 3\n",
    "        batch_size = 2\n",
    "        wsm_actor_setup = make_wsm_setup(\n",
    "            seq_len=seq_len, d_output=d_output)\n",
    "        wsm_critic_setup = make_wsm_setup(\n",
    "            seq_len=seq_len, d_output=1)\n",
    "        acps = make_acps(\n",
    "            seq_len=seq_len, extractor=DummyExtractor(), new_epoch=new_epoch_pap)\n",
    "        obs_space, acts_space = make_obs_act_space(\n",
    "            obs_dim=obs_dim, action_dim=d_output)\n",
    "        actor = WholeSequenceModel(wsm_actor_setup)\n",
    "        critic = WholeSequenceModel(wsm_critic_setup)\n",
    "        ac = ActiveCriticPolicy(observation_space=obs_space, action_space=acts_space,\n",
    "                                actor=actor, critic=critic, acps=acps)\n",
    "        return ac, acps, d_output, obs_dim, batch_size\n",
    "\n",
    "def setup_opt_max():\n",
    "        seq_len = 50\n",
    "        d_output = 2\n",
    "        obs_dim = 3\n",
    "        batch_size = 2\n",
    "        wsm_actor_setup = make_wsm_setup(\n",
    "            seq_len=seq_len, d_output=d_output)\n",
    "        wsm_critic_setup = make_wsm_setup(\n",
    "            seq_len=seq_len, d_output=1)\n",
    "        acps = make_acps(\n",
    "            seq_len=seq_len, extractor=DummyExtractor(), new_epoch=new_epoch_pap)\n",
    "        acps.opt_steps = 2\n",
    "        obs_space, acts_space = make_obs_act_space(\n",
    "            obs_dim=obs_dim, action_dim=d_output)\n",
    "        actor = WholeSequenceModel(wsm_actor_setup)\n",
    "        critic = OptimizeMaximumCritic(wsms=wsm_critic_setup)\n",
    "        ac = ActiveCriticPolicy(observation_space=obs_space, action_space=acts_space,\n",
    "                                actor=actor, critic=critic, acps=acps)\n",
    "        return ac, acps, d_output, obs_dim, batch_size\n",
    "\n",
    "def setup_opt_end():\n",
    "        seq_len = 50\n",
    "        d_output = 2\n",
    "        obs_dim = 3\n",
    "        batch_size = 2\n",
    "        wsm_actor_setup = make_wsm_setup(\n",
    "            seq_len=seq_len, d_output=d_output)\n",
    "        wsm_critic_setup = make_wsm_setup(\n",
    "            seq_len=seq_len, d_output=1)\n",
    "        acps = make_acps(\n",
    "            seq_len=seq_len, extractor=DummyExtractor(), new_epoch=new_epoch_pap)\n",
    "        acps.opt_steps = 2\n",
    "        obs_space, acts_space = make_obs_act_space(\n",
    "            obs_dim=obs_dim, action_dim=d_output)\n",
    "        actor = WholeSequenceModel(wsm_actor_setup)\n",
    "        critic = OptimizeEndCritic(wsms=wsm_critic_setup)\n",
    "        ac = ACPOptEnd(observation_space=obs_space, action_space=acts_space,\n",
    "                                actor=actor, critic=critic, acps=acps)\n",
    "        return ac, acps, d_output, obs_dim, batch_size\n",
    "\n",
    "\n",
    "def setup_ac_reach():\n",
    "        seq_len = 50\n",
    "        env, gt_policy = make_dummy_vec_env('reach', seq_len=seq_len)\n",
    "        d_output = env.action_space.shape[0]\n",
    "        wsm_actor_setup = make_wsm_setup(\n",
    "            seq_len=seq_len, d_output=d_output)\n",
    "        wsm_critic_setup = make_wsm_setup(\n",
    "            seq_len=seq_len, d_output=1)\n",
    "        acps = make_acps(\n",
    "            seq_len=seq_len, extractor=DummyExtractor(), new_epoch=new_epoch_reach)\n",
    "        actor = WholeSequenceModel(wsm_actor_setup)\n",
    "        critic = WholeSequenceModel(wsm_critic_setup)\n",
    "        ac = ActiveCriticPolicy(observation_space=env.observation_space, action_space=env.action_space,\n",
    "                                actor=actor, critic=critic, acps=acps)\n",
    "        return ac, acps, env, gt_policy"
   ]
  },
  {
   "cell_type": "code",
   "execution_count": 3,
   "metadata": {},
   "outputs": [
    {
     "name": "stderr",
     "output_type": "stream",
     "text": [
      "/home/hendrik/anaconda3/envs/ac/lib/python3.10/site-packages/gym/spaces/box.py:73: UserWarning: \u001b[33mWARN: Box bound precision lowered by casting to float64\u001b[0m\n",
      "  logger.warn(\n"
     ]
    }
   ],
   "source": [
    "th.manual_seed(3)\n",
    "current_step = 30\n",
    "\n",
    "ac, acps, act_dim, obs_dim, batch_size =  setup_ac()\n",
    "ac.args_obj.opt_steps = 2\n",
    "\n",
    "opt_actions = th.zeros([batch_size, acps.epoch_len, act_dim],\n",
    "                        device=acps.device, dtype=th.float, requires_grad=True)\n",
    "obs_seq = 2 * th.ones([batch_size, current_step + 1, obs_dim],\n",
    "                        device=acps.device, dtype=th.float, requires_grad=False)\n",
    "obs_seq[0] *= 2\n",
    "critic_input = ac.get_critic_input(acts=opt_actions, obs_seq=obs_seq)\n",
    "critic_scores = ac.critic.forward(critic_input)\n",
    "assert th.all(critic_scores < 1)\n",
    "actions, expected_success = ac.optimize_act_sequence(\n",
    "    actions=opt_actions, observations=obs_seq, current_step=current_step, stop_opt=True)"
   ]
  },
  {
   "cell_type": "code",
   "execution_count": 4,
   "metadata": {},
   "outputs": [],
   "source": [
    "end_wo = expected_success[:,30:].mean()\n",
    "all_wo = expected_success.mean()"
   ]
  },
  {
   "cell_type": "code",
   "execution_count": 5,
   "metadata": {},
   "outputs": [
    {
     "data": {
      "text/plain": [
       "tensor(0.1856, device='cuda:0', grad_fn=<MeanBackward0>)"
      ]
     },
     "execution_count": 5,
     "metadata": {},
     "output_type": "execute_result"
    }
   ],
   "source": [
    "end_wo"
   ]
  },
  {
   "cell_type": "code",
   "execution_count": 6,
   "metadata": {},
   "outputs": [
    {
     "data": {
      "text/plain": [
       "tensor(0.0966, device='cuda:0', grad_fn=<MeanBackward0>)"
      ]
     },
     "execution_count": 6,
     "metadata": {},
     "output_type": "execute_result"
    }
   ],
   "source": [
    "all_wo"
   ]
  },
  {
   "cell_type": "code",
   "execution_count": 7,
   "metadata": {},
   "outputs": [
    {
     "name": "stderr",
     "output_type": "stream",
     "text": [
      "/home/hendrik/anaconda3/envs/ac/lib/python3.10/site-packages/gym/spaces/box.py:73: UserWarning: \u001b[33mWARN: Box bound precision lowered by casting to float64\u001b[0m\n",
      "  logger.warn(\n"
     ]
    }
   ],
   "source": [
    "th.manual_seed(3)\n",
    "current_step = 30\n",
    "\n",
    "ac, acps, act_dim, obs_dim, batch_size =  setup_opt_end()\n",
    "ac.args_obj.opt_steps = 2\n",
    "\n",
    "opt_actions = th.zeros([batch_size, acps.epoch_len, act_dim],\n",
    "                        device=acps.device, dtype=th.float, requires_grad=True)\n",
    "obs_seq = 2 * th.ones([batch_size, current_step + 1, obs_dim],\n",
    "                        device=acps.device, dtype=th.float, requires_grad=False)\n",
    "obs_seq[0] *= 2\n",
    "critic_input = ac.get_critic_input(acts=opt_actions, obs_seq=obs_seq)\n",
    "critic_scores = ac.critic.forward(critic_input)\n",
    "assert th.all(critic_scores < 1)\n",
    "actions, expected_success = ac.optimize_act_sequence(\n",
    "    actions=opt_actions, observations=obs_seq, current_step=current_step, stop_opt=True)"
   ]
  },
  {
   "cell_type": "code",
   "execution_count": 8,
   "metadata": {},
   "outputs": [],
   "source": [
    "end_w = expected_success[:,30:].mean()\n",
    "all_w = expected_success.mean()"
   ]
  },
  {
   "cell_type": "code",
   "execution_count": 9,
   "metadata": {},
   "outputs": [
    {
     "data": {
      "text/plain": [
       "tensor(0.1861, device='cuda:0', grad_fn=<MeanBackward0>)"
      ]
     },
     "execution_count": 9,
     "metadata": {},
     "output_type": "execute_result"
    }
   ],
   "source": [
    "end_w"
   ]
  },
  {
   "cell_type": "code",
   "execution_count": 10,
   "metadata": {},
   "outputs": [
    {
     "data": {
      "text/plain": [
       "tensor(0.0964, device='cuda:0', grad_fn=<MeanBackward0>)"
      ]
     },
     "execution_count": 10,
     "metadata": {},
     "output_type": "execute_result"
    }
   ],
   "source": [
    "all_w"
   ]
  },
  {
   "cell_type": "code",
   "execution_count": 14,
   "metadata": {},
   "outputs": [
    {
     "data": {
      "text/plain": [
       "tensor(0.1856, device='cuda:0', grad_fn=<MeanBackward0>)"
      ]
     },
     "execution_count": 14,
     "metadata": {},
     "output_type": "execute_result"
    }
   ],
   "source": [
    "end_wo"
   ]
  },
  {
   "cell_type": "code",
   "execution_count": 28,
   "metadata": {},
   "outputs": [
    {
     "data": {
      "text/plain": [
       "torch.return_types.max(\n",
       "values=tensor([[0.2679],\n",
       "        [0.2087]], device='cuda:0', grad_fn=<MaxBackward0>),\n",
       "indices=tensor([[20],\n",
       "        [20]], device='cuda:0'))"
      ]
     },
     "execution_count": 28,
     "metadata": {},
     "output_type": "execute_result"
    }
   ],
   "source": [
    "expected_success.max(dim=1)"
   ]
  },
  {
   "cell_type": "code",
   "execution_count": 29,
   "metadata": {},
   "outputs": [],
   "source": [
    "th.manual_seed(3)\n",
    "current_step = 1\n",
    "\n",
    "ac, acps, act_dim, obs_dim, batch_size =  setup_opt_max()\n",
    "ac.args_obj.opt_steps = 2\n",
    "\n",
    "opt_actions = th.zeros([batch_size, acps.epoch_len, act_dim],\n",
    "                        device=acps.device, dtype=th.float, requires_grad=True)\n",
    "obs_seq = 2 * th.ones([batch_size, current_step + 1, obs_dim],\n",
    "                        device=acps.device, dtype=th.float, requires_grad=False)\n",
    "obs_seq[0] *= 2\n",
    "critic_input = ac.get_critic_input(acts=opt_actions, obs_seq=obs_seq)\n",
    "assert th.all(critic_scores < 1)\n",
    "critic_scores = ac.critic.forward(critic_input)\n",
    "actions, expected_success = ac.optimize_act_sequence(\n",
    "    actions=opt_actions, observations=obs_seq, current_step=current_step, stop_opt=True)"
   ]
  },
  {
   "cell_type": "code",
   "execution_count": 30,
   "metadata": {},
   "outputs": [
    {
     "data": {
      "text/plain": [
       "torch.return_types.max(\n",
       "values=tensor([[0.2953],\n",
       "        [0.2442]], device='cuda:0', grad_fn=<MaxBackward0>),\n",
       "indices=tensor([[20],\n",
       "        [26]], device='cuda:0'))"
      ]
     },
     "execution_count": 30,
     "metadata": {},
     "output_type": "execute_result"
    }
   ],
   "source": [
    "expected_success.max(dim=1)"
   ]
  },
  {
   "cell_type": "code",
   "execution_count": 18,
   "metadata": {},
   "outputs": [
    {
     "name": "stderr",
     "output_type": "stream",
     "text": [
      "/home/hendrik/anaconda3/envs/ac/lib/python3.10/site-packages/gym/spaces/box.py:73: UserWarning: \u001b[33mWARN: Box bound precision lowered by casting to float32\u001b[0m\n",
      "  logger.warn(\n"
     ]
    }
   ],
   "source": [
    "th.manual_seed(0)\n",
    "ac, acps, env, _ = setup_ac_reach()\n",
    "obsv = env.reset()\n",
    "all_taken_actions = []\n",
    "all_observations = [obsv]\n",
    "all_scores_after = []\n",
    "all_scores_before = []\n",
    "ac.reset()\n",
    "epsiodes = 2\n",
    "\n",
    "for i in range(epsiodes*ac.args_obj.epoch_len):\n",
    "    action = ac.predict(obsv)\n",
    "    all_taken_actions.append(action)\n",
    "    obsv, rew, dones, info = env.step(action)\n",
    "    all_observations.append(obsv)\n",
    "    all_scores_after.append(ac.current_result.expected_succes_after)\n",
    "    all_scores_before.append(ac.current_result.expected_succes_before)\n",
    "    if (i+1) % 5 == 0:\n",
    "        all_observations = [obsv]\n",
    "\n",
    "all_scores_after_th = th.tensor(np.array([s.detach().cpu().numpy() for s in all_scores_after]).reshape(\n",
    "    [epsiodes, ac.args_obj.epoch_len, ac.args_obj.epoch_len, 1]), device=ac.args_obj.device)\n",
    "all_scores_before_th = th.tensor(np.array([s.detach().cpu().numpy() for s in all_scores_before]).reshape(\n",
    "    [epsiodes, ac.args_obj.epoch_len, ac.args_obj.epoch_len, 1]), device=ac.args_obj.device)\n"
   ]
  },
  {
   "cell_type": "code",
   "execution_count": 12,
   "metadata": {},
   "outputs": [],
   "source": [
    "th.manual_seed(0)\n",
    "\n",
    "current_step = 1\n",
    "ac, acps, act_dim, obs_dim, batch_size =  setup_ac()\n",
    "\n",
    "org_actions = th.zeros([batch_size, acps.epoch_len, act_dim],\n",
    "                        device=acps.device, dtype=th.float, requires_grad=False)\n",
    "opt_actions = th.zeros([batch_size, acps.epoch_len, act_dim],\n",
    "                        device=acps.device, dtype=th.float, requires_grad=True)\n",
    "obs_seq = 2 * th.ones([batch_size, current_step + 1, obs_dim],\n",
    "                        device=acps.device, dtype=th.float, requires_grad=False)\n",
    "org_obs_seq = 2 * th.ones([batch_size, current_step + 1, obs_dim],\n",
    "                            device=acps.device, dtype=th.float, requires_grad=False)\n",
    "\n",
    "actions, expected_success = ac.optimize_act_sequence(\n",
    "    actions=opt_actions, observations=obs_seq, current_step=current_step, stop_opt=False, opt_end=False)\n",
    "assert th.equal(\n",
    "org_actions[:, :current_step], actions[:, :current_step]), 'org_actions were overwritten'\n",
    "\n",
    "assert not th.equal(actions[:, current_step:], org_actions[:,\n",
    "                                                                current_step:]),'seq optimisation did not change the actions'\n",
    "assert th.all(\n",
    "expected_success[:, -1] >= ac.args_obj.optimisation_threshold), 'optimisation does not work.'\n",
    "assert th.equal(obs_seq, org_obs_seq), 'Observations were changed.'"
   ]
  },
  {
   "cell_type": "code",
   "execution_count": 16,
   "metadata": {},
   "outputs": [
    {
     "data": {
      "text/plain": [
       "[]"
      ]
     },
     "execution_count": 16,
     "metadata": {},
     "output_type": "execute_result"
    }
   ],
   "source": [
    "ac.history.opt_scores"
   ]
  },
  {
   "cell_type": "code",
   "execution_count": 4,
   "metadata": {},
   "outputs": [],
   "source": [
    "th.manual_seed(1)\n",
    "current_step = 1\n",
    "\n",
    "ac, acps, act_dim, obs_dim, batch_size =  setup_ac()\n",
    "opt_actions = th.zeros([batch_size, acps.epoch_len, act_dim],\n",
    "                        device=acps.device, dtype=th.float, requires_grad=True)\n",
    "obs_seq = 2 * th.ones([batch_size, current_step + 1, obs_dim],\n",
    "                        device=acps.device, dtype=th.float, requires_grad=False)\n",
    "obs_seq[0] *= 2\n",
    "critic_input = ac.get_critic_input(acts=opt_actions, obs_seq=obs_seq)\n",
    "critic_scores = ac.critic.forward(critic_input)\n",
    "actions, expected_success_nonstop = ac.optimize_act_sequence(\n",
    "    actions=opt_actions, observations=obs_seq, current_step=current_step, stop_opt=False, opt_end=False)\n",
    "\n",
    "th.manual_seed(1)\n",
    "ac, acps, act_dim, obs_dim, batch_size =  setup_ac()\n",
    "opt_actions = th.zeros([batch_size, acps.epoch_len, act_dim],\n",
    "                        device=acps.device, dtype=th.float, requires_grad=True)\n",
    "obs_seq = 2 * th.ones([batch_size, current_step + 1, obs_dim],\n",
    "                        device=acps.device, dtype=th.float, requires_grad=False)\n",
    "obs_seq[0] *= 2\n",
    "critic_input = ac.get_critic_input(acts=opt_actions, obs_seq=obs_seq)\n",
    "critic_scores = ac.critic.forward(critic_input)\n",
    "actions, expected_success = ac.optimize_act_sequence(\n",
    "    actions=opt_actions, observations=obs_seq, current_step=current_step, stop_opt=True, opt_end=False)\n",
    "\n",
    "assert (expected_success[:,-1] < expected_success_nonstop[:,-1]).sum() > 0\n",
    "assert (expected_success[:,-1] < expected_success_nonstop[:,-1]).sum() < len(expected_success)"
   ]
  },
  {
   "cell_type": "code",
   "execution_count": 3,
   "metadata": {},
   "outputs": [
    {
     "name": "stderr",
     "output_type": "stream",
     "text": [
      "/home/hendrik/anaconda3/envs/ac/lib/python3.10/site-packages/gym/spaces/box.py:73: UserWarning: \u001b[33mWARN: Box bound precision lowered by casting to float64\u001b[0m\n",
      "  logger.warn(\n"
     ]
    }
   ],
   "source": [
    "th.manual_seed(1)\n",
    "current_step = 1\n",
    "\n",
    "ac, acps, act_dim, obs_dim, batch_size =  setup_ac()\n",
    "opt_actions = th.zeros([batch_size, acps.epoch_len, act_dim],\n",
    "                        device=acps.device, dtype=th.float, requires_grad=True)\n",
    "obs_seq = 2 * th.ones([batch_size, current_step + 1, obs_dim],\n",
    "                        device=acps.device, dtype=th.float, requires_grad=False)\n",
    "obs_seq[0] *= 2\n",
    "critic_input = ac.get_critic_input(acts=opt_actions, obs_seq=obs_seq)\n",
    "critic_scores = ac.critic.forward(critic_input)\n",
    "actions, expected_success_nonstop = ac.optimize_act_sequence(\n",
    "    actions=opt_actions, observations=obs_seq, current_step=current_step, stop_opt=False, opt_end=False)\n",
    "\n",
    "th.manual_seed(1)\n",
    "ac, acps, act_dim, obs_dim, batch_size =  setup_ac()\n",
    "opt_actions = th.zeros([batch_size, acps.epoch_len, act_dim],\n",
    "                        device=acps.device, dtype=th.float, requires_grad=True)\n",
    "obs_seq = 2 * th.ones([batch_size, current_step + 1, obs_dim],\n",
    "                        device=acps.device, dtype=th.float, requires_grad=False)\n",
    "obs_seq[0] *= 2\n",
    "critic_input = ac.get_critic_input(acts=opt_actions, obs_seq=obs_seq)\n",
    "critic_scores = ac.critic.forward(critic_input)\n",
    "actions, expected_success = ac.optimize_act_sequence(\n",
    "    actions=opt_actions, observations=obs_seq, current_step=current_step, stop_opt=False, opt_end=True)\n",
    "\n",
    "maxim, _ = th.max(actions, dim=1)\n",
    "minim, _ = th.min(actions, dim=1)\n",
    "assert th.all(maxim <= th.tensor(ac.action_space.high, device=max.device))\n",
    "assert th.all(minim >= th.tensor(ac.action_space.low, device=max.device))"
   ]
  },
  {
   "cell_type": "code",
   "execution_count": 12,
   "metadata": {},
   "outputs": [
    {
     "ename": "NameError",
     "evalue": "name 'env' is not defined",
     "output_type": "error",
     "traceback": [
      "\u001b[0;31m---------------------------------------------------------------------------\u001b[0m",
      "\u001b[0;31mNameError\u001b[0m                                 Traceback (most recent call last)",
      "Cell \u001b[0;32mIn [12], line 1\u001b[0m\n\u001b[0;32m----> 1\u001b[0m env\u001b[39m.\u001b[39maction_space\n",
      "\u001b[0;31mNameError\u001b[0m: name 'env' is not defined"
     ]
    }
   ],
   "source": [
    "env.action_space"
   ]
  },
  {
   "cell_type": "code",
   "execution_count": 21,
   "metadata": {},
   "outputs": [],
   "source": []
  },
  {
   "cell_type": "code",
   "execution_count": 23,
   "metadata": {},
   "outputs": [],
   "source": []
  },
  {
   "cell_type": "code",
   "execution_count": null,
   "metadata": {},
   "outputs": [],
   "source": []
  }
 ],
 "metadata": {
  "kernelspec": {
   "display_name": "Python 3.10.6 ('ac')",
   "language": "python",
   "name": "python3"
  },
  "language_info": {
   "codemirror_mode": {
    "name": "ipython",
    "version": 3
   },
   "file_extension": ".py",
   "mimetype": "text/x-python",
   "name": "python",
   "nbconvert_exporter": "python",
   "pygments_lexer": "ipython3",
   "version": "3.10.6"
  },
  "orig_nbformat": 4,
  "vscode": {
   "interpreter": {
    "hash": "c27e8fa6375f4d15af5a5f5541d8bb88746b588c9fe1102cfd8de011d36c10c2"
   }
  }
 },
 "nbformat": 4,
 "nbformat_minor": 2
}
