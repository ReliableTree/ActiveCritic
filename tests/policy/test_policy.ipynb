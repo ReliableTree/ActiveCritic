{
 "cells": [
  {
   "cell_type": "code",
   "execution_count": 20,
   "metadata": {},
   "outputs": [],
   "source": [
    "import torch as th\n",
    "import numpy as np\n",
    "from ActiveCritic.tests.test_utils.utils import make_wsm_setup\n",
    "from ActiveCritic.policy.active_critic_policy import ActiveCriticPolicy, ActiveCriticPolicySetup, ACPOptResult\n",
    "from ActiveCritic.model_src.whole_sequence_model import WholeSequenceActor, WholeSequenceCritic, WholeSequenceModelSetup\n",
    "from ActiveCritic.model_src.transformer import TransformerModel, CriticTransformer, ModelSetup\n",
    "from ActiveCritic.utils.gym_utils import new_epoch, DummyExtractor\n",
    "import gym\n"
   ]
  },
  {
   "cell_type": "code",
   "execution_count": 21,
   "metadata": {},
   "outputs": [],
   "source": [
    "def make_obs_act_space(obs_dim, action_dim):\n",
    "    obs_array_low = [0]*obs_dim\n",
    "    obs_array_high = [1]*obs_dim\n",
    "    action_low = [0]*action_dim\n",
    "    action_high = [1]*action_dim\n",
    "    observation_space = gym.spaces.box.Box(\n",
    "        np.array(obs_array_low), np.array(obs_array_high), (obs_dim,), float)\n",
    "    # next state (4)\n",
    "    action_space = gym.spaces.box.Box(\n",
    "        np.array(action_low), np.array(action_high), (action_dim,), float)\n",
    "    return observation_space, action_space"
   ]
  },
  {
   "cell_type": "code",
   "execution_count": 22,
   "metadata": {},
   "outputs": [],
   "source": [
    "seq_len = 4\n",
    "d_output = 2\n",
    "d_result = 1\n",
    "\n",
    "wsm_actor_setup = make_wsm_setup(seq_len=seq_len, d_output=d_output, model_class=TransformerModel)\n",
    "wsm_critic_setup = make_wsm_setup(seq_len=seq_len, d_output=d_output, model_class=CriticTransformer, d_result=d_result)"
   ]
  },
  {
   "cell_type": "code",
   "execution_count": 23,
   "metadata": {},
   "outputs": [],
   "source": [
    "actor = WholeSequenceActor(wsm_actor_setup)\n",
    "critic = WholeSequenceCritic(wsm_critic_setup)"
   ]
  },
  {
   "cell_type": "code",
   "execution_count": 24,
   "metadata": {},
   "outputs": [
    {
     "name": "stderr",
     "output_type": "stream",
     "text": [
      "/home/hendrik/anaconda3/envs/tfTest/lib/python3.9/site-packages/gym/spaces/box.py:73: UserWarning: \u001b[33mWARN: Box bound precision lowered by casting to float64\u001b[0m\n",
      "  logger.warn(\n"
     ]
    }
   ],
   "source": [
    "obs, acts = make_obs_act_space(4, 2)"
   ]
  },
  {
   "cell_type": "code",
   "execution_count": 29,
   "metadata": {},
   "outputs": [],
   "source": [
    "def make_acps(seq_len, extractor, new_epoch):\n",
    "    acps = ActiveCriticPolicySetup()\n",
    "    acps.device='cuda'\n",
    "    acps.epoch_len=seq_len\n",
    "    acps.extractor=extractor\n",
    "    acps.new_epoch=new_epoch\n",
    "    acps.opt_steps=2\n",
    "    acps.optimisation_threshold=0.9\n",
    "    return acps\n",
    "\n",
    "acps = make_acps(seq_len=seq_len, extractor=DummyExtractor(), new_epoch=new_epoch)"
   ]
  },
  {
   "cell_type": "code",
   "execution_count": 30,
   "metadata": {},
   "outputs": [],
   "source": [
    "ac = ActiveCriticPolicy(observation_space=obs, action_space=acts, actor=actor, critic=critic, return_mode=0, acps=acps)"
   ]
  },
  {
   "cell_type": "code",
   "execution_count": 31,
   "metadata": {},
   "outputs": [
    {
     "ename": "RuntimeError",
     "evalue": "expand(torch.cuda.FloatTensor{[2, 1, 4, 3]}, size=[2, 1, 4]): the number of sizes provided (3) must be greater or equal to the number of dimensions in the tensor (4)",
     "output_type": "error",
     "traceback": [
      "\u001b[0;31m---------------------------------------------------------------------------\u001b[0m",
      "\u001b[0;31mRuntimeError\u001b[0m                              Traceback (most recent call last)",
      "\u001b[1;32m/home/hendrik/Documents/master_project/Code/ActiveCritic/tests/policy/test_policy.ipynb Cell 8\u001b[0m in \u001b[0;36m<cell line: 2>\u001b[0;34m()\u001b[0m\n\u001b[1;32m      <a href='vscode-notebook-cell:/home/hendrik/Documents/master_project/Code/ActiveCritic/tests/policy/test_policy.ipynb#X12sZmlsZQ%3D%3D?line=0'>1</a>\u001b[0m obs \u001b[39m=\u001b[39m th\u001b[39m.\u001b[39mones([\u001b[39m2\u001b[39m, \u001b[39m4\u001b[39m, \u001b[39m3\u001b[39m], dtype\u001b[39m=\u001b[39mth\u001b[39m.\u001b[39mfloat, device\u001b[39m=\u001b[39m\u001b[39m'\u001b[39m\u001b[39mcuda\u001b[39m\u001b[39m'\u001b[39m)\n\u001b[0;32m----> <a href='vscode-notebook-cell:/home/hendrik/Documents/master_project/Code/ActiveCritic/tests/policy/test_policy.ipynb#X12sZmlsZQ%3D%3D?line=1'>2</a>\u001b[0m next_action \u001b[39m=\u001b[39m ac\u001b[39m.\u001b[39;49mpredict(obs)\n",
      "File \u001b[0;32m~/Documents/master_project/Code/ActiveCritic/policy/active_critic_policy.py:86\u001b[0m, in \u001b[0;36mpredict\u001b[0;34m(self, observation, state, episode_start, deterministic)\u001b[0m\n\u001b[1;32m     83\u001b[0m     \u001b[39mself\u001b[39m\u001b[39m.\u001b[39mobs_seq \u001b[39m=\u001b[39m torch\u001b[39m.\u001b[39mcat((\u001b[39mself\u001b[39m\u001b[39m.\u001b[39mobs_seq, vec_obsv), dim\u001b[39m=\u001b[39m\u001b[39m1\u001b[39m)\n\u001b[1;32m     84\u001b[0m     \u001b[39mself\u001b[39m\u001b[39m.\u001b[39mcurrent_step \u001b[39m+\u001b[39m\u001b[39m=\u001b[39m \u001b[39m1\u001b[39m\n\u001b[1;32m     85\u001b[0m model_inpt, \u001b[39mself\u001b[39m\u001b[39m.\u001b[39mact_dim \u001b[39m=\u001b[39m make_partially_observed_seq(\n\u001b[0;32m---> 86\u001b[0m     obs\u001b[39m=\u001b[39m\u001b[39mself\u001b[39m\u001b[39m.\u001b[39mobs_seq, acts\u001b[39m=\u001b[39m\u001b[39mself\u001b[39m\u001b[39m.\u001b[39maction_seq, seq_len\u001b[39m=\u001b[39m\u001b[39mself\u001b[39m\u001b[39m.\u001b[39margs_obj\u001b[39m.\u001b[39mepoch_len, act_space\u001b[39m=\u001b[39m\u001b[39mself\u001b[39m\u001b[39m.\u001b[39maction_space)\n\u001b[1;32m     87\u001b[0m \u001b[39mself\u001b[39m\u001b[39m.\u001b[39maction_seq \u001b[39m=\u001b[39m \u001b[39mself\u001b[39m\u001b[39m.\u001b[39mforward(\n\u001b[1;32m     88\u001b[0m     inpt\u001b[39m=\u001b[39mmodel_inpt)\u001b[39m.\u001b[39mgen_trj\u001b[39m.\u001b[39mdetach()\n\u001b[1;32m     89\u001b[0m \u001b[39mprint\u001b[39m(\u001b[39mf\u001b[39m\u001b[39m'\u001b[39m\u001b[39mcurrent step: \u001b[39m\u001b[39m{\u001b[39;00m\u001b[39mself\u001b[39m\u001b[39m.\u001b[39mcurrent_step\u001b[39m}\u001b[39;00m\u001b[39m'\u001b[39m)\n",
      "File \u001b[0;32m~/Documents/master_project/Code/ActiveCritic/utils/pytorch_utils.py:39\u001b[0m, in \u001b[0;36mmake_partially_observed_seq\u001b[0;34m(obs, acts, seq_len, act_space)\u001b[0m\n\u001b[1;32m     36\u001b[0m result \u001b[39m=\u001b[39m th\u001b[39m.\u001b[39mzeros(size\u001b[39m=\u001b[39m[obs\u001b[39m.\u001b[39mshape[\u001b[39m0\u001b[39m], seq_len,\n\u001b[1;32m     37\u001b[0m                   obs\u001b[39m.\u001b[39mshape[\u001b[39m-\u001b[39m\u001b[39m1\u001b[39m] \u001b[39m+\u001b[39m act_space\u001b[39m.\u001b[39mshape[\u001b[39m0\u001b[39m]], device\u001b[39m=\u001b[39mobs\u001b[39m.\u001b[39mdevice)\n\u001b[1;32m     38\u001b[0m \u001b[39m# obs: batch, seq, dim\u001b[39;00m\n\u001b[0;32m---> 39\u001b[0m result \u001b[39m=\u001b[39m fill_tensor(result, obs, start_dim\u001b[39m=\u001b[39;49m\u001b[39m0\u001b[39;49m)\n\u001b[1;32m     40\u001b[0m \u001b[39mif\u001b[39;00m acts \u001b[39mis\u001b[39;00m \u001b[39mnot\u001b[39;00m \u001b[39mNone\u001b[39;00m:\n\u001b[1;32m     41\u001b[0m     result \u001b[39m=\u001b[39m fill_tensor(result, acts, start_dim\u001b[39m=\u001b[39mobs\u001b[39m.\u001b[39mshape[\u001b[39m-\u001b[39m\u001b[39m1\u001b[39m])\n",
      "File \u001b[0;32m~/Documents/master_project/Code/ActiveCritic/utils/pytorch_utils.py:47\u001b[0m, in \u001b[0;36mfill_tensor\u001b[0;34m(tensorA, tensorB, start_dim)\u001b[0m\n\u001b[1;32m     45\u001b[0m \u001b[39mdef\u001b[39;00m \u001b[39mfill_tensor\u001b[39m(tensorA: th\u001b[39m.\u001b[39mTensor, tensorB: th\u001b[39m.\u001b[39mTensor, start_dim: \u001b[39mint\u001b[39m):\n\u001b[1;32m     46\u001b[0m     shape \u001b[39m=\u001b[39m tensorB\u001b[39m.\u001b[39mshape\n\u001b[0;32m---> 47\u001b[0m     tensorA[:shape[\u001b[39m0\u001b[39m], :shape[\u001b[39m1\u001b[39m], start_dim:start_dim\u001b[39m+\u001b[39mshape[\u001b[39m2\u001b[39m]] \u001b[39m=\u001b[39m tensorB\n\u001b[1;32m     48\u001b[0m     \u001b[39mreturn\u001b[39;00m tensorA\n",
      "\u001b[0;31mRuntimeError\u001b[0m: expand(torch.cuda.FloatTensor{[2, 1, 4, 3]}, size=[2, 1, 4]): the number of sizes provided (3) must be greater or equal to the number of dimensions in the tensor (4)"
     ]
    }
   ],
   "source": [
    "obs = th.ones([2, 4, 3], dtype=th.float, device='cuda')\n",
    "next_action = ac.predict(obs)"
   ]
  },
  {
   "cell_type": "code",
   "execution_count": null,
   "metadata": {},
   "outputs": [],
   "source": []
  }
 ],
 "metadata": {
  "kernelspec": {
   "display_name": "Python 3.9.12 ('tfTest')",
   "language": "python",
   "name": "python3"
  },
  "language_info": {
   "codemirror_mode": {
    "name": "ipython",
    "version": 3
   },
   "file_extension": ".py",
   "mimetype": "text/x-python",
   "name": "python",
   "nbconvert_exporter": "python",
   "pygments_lexer": "ipython3",
   "version": "3.9.12"
  },
  "orig_nbformat": 4,
  "vscode": {
   "interpreter": {
    "hash": "bee90e249730b85f00f3915f0cf4f21bc0729131dcc7008c941068256fd0d344"
   }
  }
 },
 "nbformat": 4,
 "nbformat_minor": 2
}
