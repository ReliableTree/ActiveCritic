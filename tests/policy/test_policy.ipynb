{
 "cells": [
  {
   "cell_type": "code",
   "execution_count": 1,
   "metadata": {},
   "outputs": [
    {
     "name": "stdout",
     "output_type": "stream",
     "text": [
      "Import error. Trying to rebuild mujoco_py.\n",
      "running build_ext\n",
      "building 'mujoco_py.cymj' extension\n",
      "gcc -pthread -B /home/hendrik/miniconda3/envs/ac/compiler_compat -Wno-unused-result -Wsign-compare -DNDEBUG -fwrapv -O2 -Wall -fPIC -O2 -isystem /home/hendrik/miniconda3/envs/ac/include -fPIC -O2 -isystem /home/hendrik/miniconda3/envs/ac/include -fPIC -I/home/hendrik/miniconda3/envs/ac/lib/python3.10/site-packages/mujoco_py -I/home/hendrik/.mujoco/mujoco210/include -I/home/hendrik/miniconda3/envs/ac/lib/python3.10/site-packages/numpy/core/include -I/home/hendrik/miniconda3/envs/ac/include/python3.10 -c /home/hendrik/miniconda3/envs/ac/lib/python3.10/site-packages/mujoco_py/cymj.c -o /home/hendrik/miniconda3/envs/ac/lib/python3.10/site-packages/mujoco_py/generated/_pyxbld_2.1.2.14_310_linuxcpuextensionbuilder/temp.linux-x86_64-cpython-310/home/hendrik/miniconda3/envs/ac/lib/python3.10/site-packages/mujoco_py/cymj.o -fopenmp -w\n",
      "gcc -pthread -B /home/hendrik/miniconda3/envs/ac/compiler_compat -Wno-unused-result -Wsign-compare -DNDEBUG -fwrapv -O2 -Wall -fPIC -O2 -isystem /home/hendrik/miniconda3/envs/ac/include -fPIC -O2 -isystem /home/hendrik/miniconda3/envs/ac/include -fPIC -I/home/hendrik/miniconda3/envs/ac/lib/python3.10/site-packages/mujoco_py -I/home/hendrik/.mujoco/mujoco210/include -I/home/hendrik/miniconda3/envs/ac/lib/python3.10/site-packages/numpy/core/include -I/home/hendrik/miniconda3/envs/ac/include/python3.10 -c /home/hendrik/miniconda3/envs/ac/lib/python3.10/site-packages/mujoco_py/gl/osmesashim.c -o /home/hendrik/miniconda3/envs/ac/lib/python3.10/site-packages/mujoco_py/generated/_pyxbld_2.1.2.14_310_linuxcpuextensionbuilder/temp.linux-x86_64-cpython-310/home/hendrik/miniconda3/envs/ac/lib/python3.10/site-packages/mujoco_py/gl/osmesashim.o -fopenmp -w\n",
      "gcc -pthread -B /home/hendrik/miniconda3/envs/ac/compiler_compat -shared -Wl,-rpath,/home/hendrik/miniconda3/envs/ac/lib -Wl,-rpath-link,/home/hendrik/miniconda3/envs/ac/lib -L/home/hendrik/miniconda3/envs/ac/lib -Wl,-rpath,/home/hendrik/miniconda3/envs/ac/lib -Wl,-rpath-link,/home/hendrik/miniconda3/envs/ac/lib -L/home/hendrik/miniconda3/envs/ac/lib /home/hendrik/miniconda3/envs/ac/lib/python3.10/site-packages/mujoco_py/generated/_pyxbld_2.1.2.14_310_linuxcpuextensionbuilder/temp.linux-x86_64-cpython-310/home/hendrik/miniconda3/envs/ac/lib/python3.10/site-packages/mujoco_py/cymj.o /home/hendrik/miniconda3/envs/ac/lib/python3.10/site-packages/mujoco_py/generated/_pyxbld_2.1.2.14_310_linuxcpuextensionbuilder/temp.linux-x86_64-cpython-310/home/hendrik/miniconda3/envs/ac/lib/python3.10/site-packages/mujoco_py/gl/osmesashim.o -L/home/hendrik/.mujoco/mujoco210/bin -Wl,-R/home/hendrik/.mujoco/mujoco210/bin -lmujoco210 -lglewosmesa -lOSMesa -lGL -o /home/hendrik/miniconda3/envs/ac/lib/python3.10/site-packages/mujoco_py/generated/_pyxbld_2.1.2.14_310_linuxcpuextensionbuilder/lib.linux-x86_64-cpython-310/mujoco_py/cymj.cpython-310-x86_64-linux-gnu.so -fopenmp\n"
     ]
    },
    {
     "ename": "ImportError",
     "evalue": "/home/hendrik/miniconda3/envs/ac/bin/../lib/libstdc++.so.6: version `GLIBCXX_3.4.30' not found (required by /lib/x86_64-linux-gnu/libLLVM-13.so.1)",
     "output_type": "error",
     "traceback": [
      "\u001b[0;31m---------------------------------------------------------------------------\u001b[0m",
      "\u001b[0;31mImportError\u001b[0m                               Traceback (most recent call last)",
      "Cell \u001b[0;32mIn [1], line 8\u001b[0m\n\u001b[1;32m      6\u001b[0m \u001b[39mfrom\u001b[39;00m \u001b[39mactive_critic\u001b[39;00m\u001b[39m.\u001b[39;00m\u001b[39mmodel_src\u001b[39;00m\u001b[39m.\u001b[39;00m\u001b[39mwhole_sequence_model\u001b[39;00m \u001b[39mimport\u001b[39;00m WholeSequenceModel\n\u001b[1;32m      7\u001b[0m \u001b[39mfrom\u001b[39;00m \u001b[39mactive_critic\u001b[39;00m\u001b[39m.\u001b[39;00m\u001b[39mpolicy\u001b[39;00m\u001b[39m.\u001b[39;00m\u001b[39mactive_critic_policy\u001b[39;00m \u001b[39mimport\u001b[39;00m \u001b[39m*\u001b[39m\n\u001b[0;32m----> 8\u001b[0m \u001b[39mfrom\u001b[39;00m \u001b[39mactive_critic\u001b[39;00m\u001b[39m.\u001b[39;00m\u001b[39mutils\u001b[39;00m\u001b[39m.\u001b[39;00m\u001b[39mtest_utils\u001b[39;00m \u001b[39mimport\u001b[39;00m (make_acps, make_obs_act_space,\n\u001b[1;32m      9\u001b[0m                                             make_wsm_setup)\n\u001b[1;32m     10\u001b[0m \u001b[39mfrom\u001b[39;00m \u001b[39mactive_critic\u001b[39;00m\u001b[39m.\u001b[39;00m\u001b[39mutils\u001b[39;00m\u001b[39m.\u001b[39;00m\u001b[39mgym_utils\u001b[39;00m \u001b[39mimport\u001b[39;00m (DummyExtractor, make_dummy_vec_env,\n\u001b[1;32m     11\u001b[0m                                            new_epoch_pap,\n\u001b[1;32m     12\u001b[0m                                            new_epoch_reach)\n\u001b[1;32m     14\u001b[0m \u001b[39mfrom\u001b[39;00m \u001b[39mactive_critic\u001b[39;00m\u001b[39m.\u001b[39;00m\u001b[39mutils\u001b[39;00m\u001b[39m.\u001b[39;00m\u001b[39mgym_utils\u001b[39;00m \u001b[39mimport\u001b[39;00m make_policy_dict, new_epoch_reach, make_dummy_vec_env, sample_expert_transitions, parse_sampled_transitions\n",
      "File \u001b[0;32m~/Documents/MasterProjct/ActiveCritic/src/active_critic/utils/test_utils.py:5\u001b[0m\n\u001b[1;32m      3\u001b[0m \u001b[39mimport\u001b[39;00m \u001b[39mnumpy\u001b[39;00m \u001b[39mas\u001b[39;00m \u001b[39mnp\u001b[39;00m\n\u001b[1;32m      4\u001b[0m \u001b[39mimport\u001b[39;00m \u001b[39mtorch\u001b[39;00m \u001b[39mas\u001b[39;00m \u001b[39mth\u001b[39;00m\n\u001b[0;32m----> 5\u001b[0m \u001b[39mfrom\u001b[39;00m \u001b[39mmetaworld\u001b[39;00m\u001b[39m.\u001b[39;00m\u001b[39menvs\u001b[39;00m \u001b[39mimport\u001b[39;00m \\\n\u001b[1;32m      6\u001b[0m     ALL_V2_ENVIRONMENTS_GOAL_OBSERVABLE\n\u001b[1;32m      7\u001b[0m \u001b[39mfrom\u001b[39;00m \u001b[39mactive_critic\u001b[39;00m\u001b[39m.\u001b[39;00m\u001b[39mmodel_src\u001b[39;00m\u001b[39m.\u001b[39;00m\u001b[39mtransformer\u001b[39;00m \u001b[39mimport\u001b[39;00m (ModelSetup)\n\u001b[1;32m      8\u001b[0m \u001b[39mfrom\u001b[39;00m \u001b[39mactive_critic\u001b[39;00m\u001b[39m.\u001b[39;00m\u001b[39mmodel_src\u001b[39;00m\u001b[39m.\u001b[39;00m\u001b[39mwhole_sequence_model\u001b[39;00m \u001b[39mimport\u001b[39;00m (WholeSequenceModelArgs, WholeSequenceModel)\n",
      "File \u001b[0;32m~/miniconda3/envs/ac/lib/python3.10/site-packages/metaworld/__init__.py:7\u001b[0m\n\u001b[1;32m      4\u001b[0m \u001b[39mfrom\u001b[39;00m \u001b[39mcollections\u001b[39;00m \u001b[39mimport\u001b[39;00m OrderedDict\n\u001b[1;32m      5\u001b[0m \u001b[39mfrom\u001b[39;00m \u001b[39mtyping\u001b[39;00m \u001b[39mimport\u001b[39;00m List, NamedTuple, Type\n\u001b[0;32m----> 7\u001b[0m \u001b[39mimport\u001b[39;00m \u001b[39mmetaworld\u001b[39;00m\u001b[39m.\u001b[39;00m\u001b[39menvs\u001b[39;00m\u001b[39m.\u001b[39;00m\u001b[39mmujoco\u001b[39;00m\u001b[39m.\u001b[39;00m\u001b[39menv_dict\u001b[39;00m \u001b[39mas\u001b[39;00m \u001b[39m_env_dict\u001b[39;00m\n\u001b[1;32m      8\u001b[0m \u001b[39mimport\u001b[39;00m \u001b[39mnumpy\u001b[39;00m \u001b[39mas\u001b[39;00m \u001b[39mnp\u001b[39;00m\n\u001b[1;32m     10\u001b[0m EnvName \u001b[39m=\u001b[39m \u001b[39mstr\u001b[39m\n",
      "File \u001b[0;32m~/miniconda3/envs/ac/lib/python3.10/site-packages/metaworld/envs/__init__.py:1\u001b[0m\n\u001b[0;32m----> 1\u001b[0m \u001b[39mfrom\u001b[39;00m \u001b[39mmetaworld\u001b[39;00m\u001b[39m.\u001b[39;00m\u001b[39menvs\u001b[39;00m\u001b[39m.\u001b[39;00m\u001b[39mmujoco\u001b[39;00m\u001b[39m.\u001b[39;00m\u001b[39menv_dict\u001b[39;00m \u001b[39mimport\u001b[39;00m (ALL_V2_ENVIRONMENTS_GOAL_HIDDEN,\n\u001b[1;32m      2\u001b[0m                                             ALL_V2_ENVIRONMENTS_GOAL_OBSERVABLE\n\u001b[1;32m      3\u001b[0m                                             )\n\u001b[1;32m      5\u001b[0m __all__ \u001b[39m=\u001b[39m [\u001b[39m'\u001b[39m\u001b[39mALL_V2_ENVIRONMENTS_GOAL_HIDDEN\u001b[39m\u001b[39m'\u001b[39m,\n\u001b[1;32m      6\u001b[0m            \u001b[39m'\u001b[39m\u001b[39mALL_V2_ENVIRONMENTS_GOAL_OBSERVABLE\u001b[39m\u001b[39m'\u001b[39m]\n",
      "File \u001b[0;32m~/miniconda3/envs/ac/lib/python3.10/site-packages/metaworld/envs/mujoco/env_dict.py:6\u001b[0m\n\u001b[1;32m      2\u001b[0m \u001b[39mimport\u001b[39;00m \u001b[39mre\u001b[39;00m\n\u001b[1;32m      4\u001b[0m \u001b[39mimport\u001b[39;00m \u001b[39mnumpy\u001b[39;00m \u001b[39mas\u001b[39;00m \u001b[39mnp\u001b[39;00m\n\u001b[0;32m----> 6\u001b[0m \u001b[39mfrom\u001b[39;00m \u001b[39mmetaworld\u001b[39;00m\u001b[39m.\u001b[39;00m\u001b[39menvs\u001b[39;00m\u001b[39m.\u001b[39;00m\u001b[39mmujoco\u001b[39;00m\u001b[39m.\u001b[39;00m\u001b[39msawyer_xyz\u001b[39;00m\u001b[39m.\u001b[39;00m\u001b[39mv1\u001b[39;00m \u001b[39mimport\u001b[39;00m (\n\u001b[1;32m      7\u001b[0m     SawyerNutAssemblyEnv,\n\u001b[1;32m      8\u001b[0m     SawyerBasketballEnv,\n\u001b[1;32m      9\u001b[0m     SawyerBinPickingEnv,\n\u001b[1;32m     10\u001b[0m     SawyerBoxCloseEnv,\n\u001b[1;32m     11\u001b[0m     SawyerButtonPressEnv,\n\u001b[1;32m     12\u001b[0m     SawyerButtonPressTopdownEnv,\n\u001b[1;32m     13\u001b[0m     SawyerButtonPressTopdownWallEnv,\n\u001b[1;32m     14\u001b[0m     SawyerButtonPressWallEnv,\n\u001b[1;32m     15\u001b[0m     SawyerCoffeeButtonEnv,\n\u001b[1;32m     16\u001b[0m     SawyerCoffeePullEnv,\n\u001b[1;32m     17\u001b[0m     SawyerCoffeePushEnv,\n\u001b[1;32m     18\u001b[0m     SawyerDialTurnEnv,\n\u001b[1;32m     19\u001b[0m     SawyerNutDisassembleEnv,\n\u001b[1;32m     20\u001b[0m     SawyerDoorEnv,\n\u001b[1;32m     21\u001b[0m     SawyerDoorCloseEnv,\n\u001b[1;32m     22\u001b[0m     SawyerDoorLockEnv,\n\u001b[1;32m     23\u001b[0m     SawyerDoorUnlockEnv,\n\u001b[1;32m     24\u001b[0m     SawyerDrawerCloseEnv,\n\u001b[1;32m     25\u001b[0m     SawyerDrawerOpenEnv,\n\u001b[1;32m     26\u001b[0m     SawyerFaucetCloseEnv,\n\u001b[1;32m     27\u001b[0m     SawyerFaucetOpenEnv,\n\u001b[1;32m     28\u001b[0m     SawyerHammerEnv,\n\u001b[1;32m     29\u001b[0m     SawyerHandInsertEnv,\n\u001b[1;32m     30\u001b[0m     SawyerHandlePressEnv,\n\u001b[1;32m     31\u001b[0m     SawyerHandlePressSideEnv,\n\u001b[1;32m     32\u001b[0m     SawyerHandlePullEnv,\n\u001b[1;32m     33\u001b[0m     SawyerHandlePullSideEnv,\n\u001b[1;32m     34\u001b[0m     SawyerLeverPullEnv,\n\u001b[1;32m     35\u001b[0m     SawyerPegInsertionSideEnv,\n\u001b[1;32m     36\u001b[0m     SawyerPegUnplugSideEnv,\n\u001b[1;32m     37\u001b[0m     SawyerPickOutOfHoleEnv,\n\u001b[1;32m     38\u001b[0m     SawyerPlateSlideEnv,\n\u001b[1;32m     39\u001b[0m     SawyerPlateSlideBackEnv,\n\u001b[1;32m     40\u001b[0m     SawyerPlateSlideBackSideEnv,\n\u001b[1;32m     41\u001b[0m     SawyerPlateSlideSideEnv,\n\u001b[1;32m     42\u001b[0m     SawyerPushBackEnv,\n\u001b[1;32m     43\u001b[0m     SawyerReachPushPickPlaceEnv,\n\u001b[1;32m     44\u001b[0m     SawyerReachPushPickPlaceWallEnv,\n\u001b[1;32m     45\u001b[0m     SawyerShelfPlaceEnv,\n\u001b[1;32m     46\u001b[0m     SawyerSoccerEnv,\n\u001b[1;32m     47\u001b[0m     SawyerStickPullEnv,\n\u001b[1;32m     48\u001b[0m     SawyerStickPushEnv,\n\u001b[1;32m     49\u001b[0m     SawyerSweepEnv,\n\u001b[1;32m     50\u001b[0m     SawyerSweepIntoGoalEnv,\n\u001b[1;32m     51\u001b[0m     SawyerWindowCloseEnv,\n\u001b[1;32m     52\u001b[0m     SawyerWindowOpenEnv,\n\u001b[1;32m     53\u001b[0m )\n\u001b[1;32m     54\u001b[0m \u001b[39mfrom\u001b[39;00m \u001b[39mmetaworld\u001b[39;00m\u001b[39m.\u001b[39;00m\u001b[39menvs\u001b[39;00m\u001b[39m.\u001b[39;00m\u001b[39mmujoco\u001b[39;00m\u001b[39m.\u001b[39;00m\u001b[39msawyer_xyz\u001b[39;00m\u001b[39m.\u001b[39;00m\u001b[39mv2\u001b[39;00m \u001b[39mimport\u001b[39;00m (\n\u001b[1;32m     55\u001b[0m     SawyerNutAssemblyEnvV2,\n\u001b[1;32m     56\u001b[0m     SawyerBasketballEnvV2,\n\u001b[0;32m   (...)\u001b[0m\n\u001b[1;32m    104\u001b[0m     SawyerWindowOpenEnvV2,\n\u001b[1;32m    105\u001b[0m )\n\u001b[1;32m    108\u001b[0m ALL_V1_ENVIRONMENTS \u001b[39m=\u001b[39m OrderedDict((\n\u001b[1;32m    109\u001b[0m     (\u001b[39m'\u001b[39m\u001b[39mreach-v1\u001b[39m\u001b[39m'\u001b[39m, SawyerReachPushPickPlaceEnv),\n\u001b[1;32m    110\u001b[0m     (\u001b[39m'\u001b[39m\u001b[39mpush-v1\u001b[39m\u001b[39m'\u001b[39m, SawyerReachPushPickPlaceEnv),\n\u001b[0;32m   (...)\u001b[0m\n\u001b[1;32m    158\u001b[0m     (\u001b[39m'\u001b[39m\u001b[39mdoor-unlock-v1\u001b[39m\u001b[39m'\u001b[39m, SawyerDoorUnlockEnv),\n\u001b[1;32m    159\u001b[0m ))\n",
      "File \u001b[0;32m~/miniconda3/envs/ac/lib/python3.10/site-packages/metaworld/envs/mujoco/sawyer_xyz/v1/__init__.py:1\u001b[0m\n\u001b[0;32m----> 1\u001b[0m \u001b[39mfrom\u001b[39;00m \u001b[39mmetaworld\u001b[39;00m\u001b[39m.\u001b[39;00m\u001b[39menvs\u001b[39;00m\u001b[39m.\u001b[39;00m\u001b[39mmujoco\u001b[39;00m\u001b[39m.\u001b[39;00m\u001b[39msawyer_xyz\u001b[39;00m\u001b[39m.\u001b[39;00m\u001b[39mv1\u001b[39;00m\u001b[39m.\u001b[39;00m\u001b[39msawyer_assembly_peg\u001b[39;00m \u001b[39mimport\u001b[39;00m SawyerNutAssemblyEnv\n\u001b[1;32m      2\u001b[0m \u001b[39mfrom\u001b[39;00m \u001b[39mmetaworld\u001b[39;00m\u001b[39m.\u001b[39;00m\u001b[39menvs\u001b[39;00m\u001b[39m.\u001b[39;00m\u001b[39mmujoco\u001b[39;00m\u001b[39m.\u001b[39;00m\u001b[39msawyer_xyz\u001b[39;00m\u001b[39m.\u001b[39;00m\u001b[39mv1\u001b[39;00m\u001b[39m.\u001b[39;00m\u001b[39msawyer_basketball\u001b[39;00m \u001b[39mimport\u001b[39;00m SawyerBasketballEnv\n\u001b[1;32m      3\u001b[0m \u001b[39mfrom\u001b[39;00m \u001b[39mmetaworld\u001b[39;00m\u001b[39m.\u001b[39;00m\u001b[39menvs\u001b[39;00m\u001b[39m.\u001b[39;00m\u001b[39mmujoco\u001b[39;00m\u001b[39m.\u001b[39;00m\u001b[39msawyer_xyz\u001b[39;00m\u001b[39m.\u001b[39;00m\u001b[39mv1\u001b[39;00m\u001b[39m.\u001b[39;00m\u001b[39msawyer_bin_picking\u001b[39;00m \u001b[39mimport\u001b[39;00m SawyerBinPickingEnv\n",
      "File \u001b[0;32m~/miniconda3/envs/ac/lib/python3.10/site-packages/metaworld/envs/mujoco/sawyer_xyz/v1/sawyer_assembly_peg.py:5\u001b[0m\n\u001b[1;32m      2\u001b[0m \u001b[39mfrom\u001b[39;00m \u001b[39mgym\u001b[39;00m\u001b[39m.\u001b[39;00m\u001b[39mspaces\u001b[39;00m \u001b[39mimport\u001b[39;00m Box\n\u001b[1;32m      4\u001b[0m \u001b[39mfrom\u001b[39;00m \u001b[39mmetaworld\u001b[39;00m\u001b[39m.\u001b[39;00m\u001b[39menvs\u001b[39;00m\u001b[39m.\u001b[39;00m\u001b[39masset_path_utils\u001b[39;00m \u001b[39mimport\u001b[39;00m full_v1_path_for\n\u001b[0;32m----> 5\u001b[0m \u001b[39mfrom\u001b[39;00m \u001b[39mmetaworld\u001b[39;00m\u001b[39m.\u001b[39;00m\u001b[39menvs\u001b[39;00m\u001b[39m.\u001b[39;00m\u001b[39mmujoco\u001b[39;00m\u001b[39m.\u001b[39;00m\u001b[39msawyer_xyz\u001b[39;00m\u001b[39m.\u001b[39;00m\u001b[39msawyer_xyz_env\u001b[39;00m \u001b[39mimport\u001b[39;00m SawyerXYZEnv, _assert_task_is_set\n\u001b[1;32m      8\u001b[0m \u001b[39mclass\u001b[39;00m \u001b[39mSawyerNutAssemblyEnv\u001b[39;00m(SawyerXYZEnv):\n\u001b[1;32m     10\u001b[0m     \u001b[39mdef\u001b[39;00m \u001b[39m__init__\u001b[39m(\u001b[39mself\u001b[39m):\n",
      "File \u001b[0;32m~/miniconda3/envs/ac/lib/python3.10/site-packages/metaworld/envs/mujoco/sawyer_xyz/sawyer_xyz_env.py:7\u001b[0m\n\u001b[1;32m      5\u001b[0m \u001b[39mfrom\u001b[39;00m \u001b[39mgym\u001b[39;00m\u001b[39m.\u001b[39;00m\u001b[39mspaces\u001b[39;00m \u001b[39mimport\u001b[39;00m Box\n\u001b[1;32m      6\u001b[0m \u001b[39mfrom\u001b[39;00m \u001b[39mgym\u001b[39;00m\u001b[39m.\u001b[39;00m\u001b[39mspaces\u001b[39;00m \u001b[39mimport\u001b[39;00m Discrete\n\u001b[0;32m----> 7\u001b[0m \u001b[39mimport\u001b[39;00m \u001b[39mmujoco_py\u001b[39;00m\n\u001b[1;32m      8\u001b[0m \u001b[39mimport\u001b[39;00m \u001b[39mnumpy\u001b[39;00m \u001b[39mas\u001b[39;00m \u001b[39mnp\u001b[39;00m\n\u001b[1;32m     10\u001b[0m \u001b[39mfrom\u001b[39;00m \u001b[39mmetaworld\u001b[39;00m\u001b[39m.\u001b[39;00m\u001b[39menvs\u001b[39;00m \u001b[39mimport\u001b[39;00m reward_utils\n",
      "File \u001b[0;32m~/miniconda3/envs/ac/lib/python3.10/site-packages/mujoco_py/__init__.py:2\u001b[0m\n\u001b[1;32m      1\u001b[0m \u001b[39m#!/usr/bin/env python\u001b[39;00m\n\u001b[0;32m----> 2\u001b[0m \u001b[39mfrom\u001b[39;00m \u001b[39mmujoco_py\u001b[39;00m\u001b[39m.\u001b[39;00m\u001b[39mbuilder\u001b[39;00m \u001b[39mimport\u001b[39;00m cymj, ignore_mujoco_warnings, functions, MujocoException\n\u001b[1;32m      3\u001b[0m \u001b[39mfrom\u001b[39;00m \u001b[39mmujoco_py\u001b[39;00m\u001b[39m.\u001b[39;00m\u001b[39mgenerated\u001b[39;00m \u001b[39mimport\u001b[39;00m const\n\u001b[1;32m      4\u001b[0m \u001b[39mfrom\u001b[39;00m \u001b[39mmujoco_py\u001b[39;00m\u001b[39m.\u001b[39;00m\u001b[39mmjrenderpool\u001b[39;00m \u001b[39mimport\u001b[39;00m MjRenderPool\n",
      "File \u001b[0;32m~/miniconda3/envs/ac/lib/python3.10/site-packages/mujoco_py/builder.py:504\u001b[0m\n\u001b[1;32m    500\u001b[0m     \u001b[39mreturn\u001b[39;00m module\u001b[39m.\u001b[39mlib\u001b[39m.\u001b[39m__fun\n\u001b[1;32m    503\u001b[0m mujoco_path \u001b[39m=\u001b[39m discover_mujoco()\n\u001b[0;32m--> 504\u001b[0m cymj \u001b[39m=\u001b[39m load_cython_ext(mujoco_path)\n\u001b[1;32m    507\u001b[0m \u001b[39m# Trick to expose all mj* functions from mujoco in mujoco_py.*\u001b[39;00m\n\u001b[1;32m    508\u001b[0m \u001b[39mclass\u001b[39;00m \u001b[39mdict2\u001b[39;00m(\u001b[39mobject\u001b[39m):\n",
      "File \u001b[0;32m~/miniconda3/envs/ac/lib/python3.10/site-packages/mujoco_py/builder.py:111\u001b[0m, in \u001b[0;36mload_cython_ext\u001b[0;34m(mujoco_path)\u001b[0m\n\u001b[1;32m    109\u001b[0m     \u001b[39mif\u001b[39;00m mod \u001b[39mis\u001b[39;00m \u001b[39mNone\u001b[39;00m:\n\u001b[1;32m    110\u001b[0m         cext_so_path \u001b[39m=\u001b[39m builder\u001b[39m.\u001b[39mbuild()\n\u001b[0;32m--> 111\u001b[0m         mod \u001b[39m=\u001b[39m load_dynamic_ext(\u001b[39m'\u001b[39;49m\u001b[39mcymj\u001b[39;49m\u001b[39m'\u001b[39;49m, cext_so_path)\n\u001b[1;32m    113\u001b[0m \u001b[39mreturn\u001b[39;00m mod\n",
      "File \u001b[0;32m~/miniconda3/envs/ac/lib/python3.10/site-packages/mujoco_py/builder.py:130\u001b[0m, in \u001b[0;36mload_dynamic_ext\u001b[0;34m(name, path)\u001b[0m\n\u001b[1;32m    128\u001b[0m \u001b[39m\"\"\" Load compiled shared object and return as python module. \"\"\"\u001b[39;00m\n\u001b[1;32m    129\u001b[0m loader \u001b[39m=\u001b[39m ExtensionFileLoader(name, path)\n\u001b[0;32m--> 130\u001b[0m \u001b[39mreturn\u001b[39;00m loader\u001b[39m.\u001b[39;49mload_module()\n",
      "\u001b[0;31mImportError\u001b[0m: /home/hendrik/miniconda3/envs/ac/bin/../lib/libstdc++.so.6: version `GLIBCXX_3.4.30' not found (required by /lib/x86_64-linux-gnu/libLLVM-13.so.1)"
     ]
    }
   ],
   "source": [
    "import unittest\n",
    "\n",
    "import torch as th\n",
    "import numpy as np\n",
    "\n",
    "from active_critic.model_src.whole_sequence_model import WholeSequenceModel\n",
    "from active_critic.policy.active_critic_policy import *\n",
    "from active_critic.utils.test_utils import (make_acps, make_obs_act_space,\n",
    "                                            make_wsm_setup)\n",
    "from active_critic.utils.gym_utils import (DummyExtractor, make_dummy_vec_env,\n",
    "                                           new_epoch_pap,\n",
    "                                           new_epoch_reach)\n",
    "\n",
    "from active_critic.utils.gym_utils import make_policy_dict, new_epoch_reach, make_dummy_vec_env, sample_expert_transitions, parse_sampled_transitions\n",
    "from active_critic.model_src.state_model import StateModel, StateModelArgs\n",
    "from active_critic.utils.pytorch_utils import build_tf_horizon_mask"
   ]
  },
  {
   "cell_type": "code",
   "execution_count": 2,
   "metadata": {},
   "outputs": [],
   "source": [
    "from active_critic.model_src.whole_sequence_model import *\n",
    "\n",
    "\n",
    "def setup_opt_state(device='cuda'):\n",
    "    seq_len = 6\n",
    "    action_dim = 2\n",
    "    obs_dim = 3\n",
    "    batch_size = 2\n",
    "    embed_dim = 4\n",
    "    lr = 1e-3\n",
    "\n",
    "    actor_args = StateModelArgs()\n",
    "    actor_args.arch = [20, action_dim]\n",
    "    actor_args.device = device\n",
    "    actor_args.lr = lr\n",
    "    actor = StateModel(args=actor_args)\n",
    "\n",
    "    critic_args = StateModelArgs()\n",
    "    critic_args.arch = [10, 1]\n",
    "    critic_args.device = device\n",
    "    critic_args.lr = lr\n",
    "    critic = StateModel(args=critic_args)\n",
    "\n",
    "    emitter_args = StateModelArgs()\n",
    "    emitter_args.arch = [20, embed_dim]\n",
    "    emitter_args.device = device\n",
    "    emitter_args.lr = lr\n",
    "    emitter = StateModel(args=emitter_args)\n",
    "\n",
    "    predictor_args = make_wsm_setup(\n",
    "        seq_len=seq_len, d_output=embed_dim, device=device)\n",
    "    predictor_args.model_setup.d_hid = 200\n",
    "    predictor_args.model_setup.d_model = 200\n",
    "    predictor_args.model_setup.nlayers = 1\n",
    "    predictor = WholeSequenceModel(args=predictor_args)\n",
    "\n",
    "\n",
    "    acps = make_acps(\n",
    "        seq_len=seq_len, extractor=DummyExtractor(), new_epoch=new_epoch_pap, device=device)\n",
    "    acps.opt_steps = 2\n",
    "    obs_space, acts_space = make_obs_act_space(\n",
    "        obs_dim=obs_dim, action_dim=action_dim)\n",
    "    ac = ActiveCriticPolicy(observation_space=obs_space, \n",
    "                            action_space=acts_space,\n",
    "                            actor=actor,\n",
    "                            critic=critic,\n",
    "                            predictor=predictor,\n",
    "                            emitter=emitter,\n",
    "                            acps=acps)\n",
    "    return ac, acps, action_dim, obs_dim, batch_size, embed_dim, seq_len"
   ]
  },
  {
   "cell_type": "code",
   "execution_count": 3,
   "metadata": {},
   "outputs": [
    {
     "name": "stderr",
     "output_type": "stream",
     "text": [
      "/home/hendrik/anaconda3/envs/ac/lib/python3.10/site-packages/gym/spaces/box.py:73: UserWarning: \u001b[33mWARN: Box bound precision lowered by casting to float64\u001b[0m\n",
      "  logger.warn(\n"
     ]
    }
   ],
   "source": [
    "th.manual_seed(0)\n",
    "device = 'cuda'\n",
    "ac, acps, action_dim, obs_dim, batch_size, embed_dim, seq_len = setup_opt_state(device=device)\n",
    "horizon = 0"
   ]
  },
  {
   "cell_type": "code",
   "execution_count": null,
   "metadata": {},
   "outputs": [],
   "source": [
    "embeddings = th.ones([batch_size, 1, embed_dim], device=device)\n",
    "actions = th.ones([batch_size, seq_len, action_dim], device=device, requires_grad=True)\n",
    "goal_embeddings = th.ones_like(embeddings)\n",
    "action_optim = th.optim.Adam([actions], lr=1e-1)\n",
    "opt_paras = action_optim.state_dict()\n",
    "\n",
    "mask = build_tf_horizon_mask(seq_len=seq_len, horizon=horizon, device=device)\n",
    "seq_embeddings = ac.build_sequence(embeddings=embeddings, actions=actions, seq_len=seq_len, mask=mask, detach=True)\n",
    "opt_actions = actions.detach()\n",
    "opt_actions.requires_grad = True\n",
    "next_embedding = ac.predict_step(embeddings=seq_embeddings.detach(), actions=opt_actions, mask=mask)\n",
    "seq_embedding = th.cat((embeddings[:,:1], next_embedding[:,:-1]), dim=1)\n",
    "loss = ((seq_embedding - th.ones_like(seq_embedding))**2).mean()\n",
    "loss.backward()\n",
    "assert (opt_actions.grad != 0).sum() == opt_actions[:,:-1].numel()\n"
   ]
  },
  {
   "cell_type": "code",
   "execution_count": null,
   "metadata": {},
   "outputs": [],
   "source": [
    "embeddings = th.ones([batch_size, 1, embed_dim], device=device)\n",
    "actions = th.ones([batch_size, seq_len, action_dim], device=device, requires_grad=True)\n",
    "goal_embeddings = th.ones_like(embeddings)\n",
    "action_optim = th.optim.Adam([actions], lr=1e-1)\n",
    "opt_paras = action_optim.state_dict()\n",
    "\n",
    "mask = build_tf_horizon_mask(seq_len=seq_len, horizon=horizon, device=device)\n",
    "seq_embeddings = ac.build_sequence(embeddings=embeddings, actions=actions, seq_len=seq_len, mask=mask, detach=True)\n",
    "opt_actions = actions.detach()\n",
    "opt_actions.requires_grad = True\n",
    "next_embedding = ac.predict_step(embeddings=seq_embeddings.detach(), actions=opt_actions, mask=mask)\n",
    "seq_embedding = th.cat((embeddings[:,:1], next_embedding[:,:-1]), dim=1)\n",
    "loss = ((seq_embedding[:,-1] - th.ones_like(seq_embedding[:,-1] ))**2).mean()\n",
    "loss.backward()\n",
    "assert (opt_actions.grad != 0).sum() == (min(seq_len-1, 1+horizon) * action_dim*batch_size)"
   ]
  },
  {
   "cell_type": "code",
   "execution_count": null,
   "metadata": {},
   "outputs": [],
   "source": [
    "horizon = 1\n",
    "embeddings = th.ones([batch_size, 1, embed_dim], device=device)\n",
    "actions = th.ones([batch_size, seq_len, action_dim], device=device, requires_grad=True)\n",
    "goal_embeddings = th.ones_like(embeddings)\n",
    "action_optim = th.optim.Adam([actions], lr=1e-1)\n",
    "opt_paras = action_optim.state_dict()\n",
    "\n",
    "mask = build_tf_horizon_mask(seq_len=seq_len, horizon=horizon, device=device)\n",
    "seq_embeddings = ac.build_sequence(embeddings=embeddings, actions=actions, seq_len=seq_len, mask=mask, detach=True)\n",
    "opt_actions = actions.detach()\n",
    "opt_actions.requires_grad = True\n",
    "next_embedding = ac.predict_step(embeddings=seq_embeddings.detach(), actions=opt_actions, mask=mask)\n",
    "seq_embedding = th.cat((embeddings[:,:1], next_embedding[:,:-1]), dim=1)\n",
    "loss = ((seq_embedding[:,-1] - th.ones_like(seq_embedding[:,-1] ))**2).mean()\n",
    "loss.backward()\n",
    "assert (opt_actions.grad != 0).sum() == (min(seq_len-1, 1+horizon) * action_dim*batch_size)"
   ]
  },
  {
   "cell_type": "code",
   "execution_count": null,
   "metadata": {},
   "outputs": [],
   "source": [
    "horizon = seq_len\n",
    "embeddings = th.ones([batch_size, 1, embed_dim], device=device)\n",
    "actions = th.ones([batch_size, seq_len, action_dim], device=device, requires_grad=True)\n",
    "goal_embeddings = th.ones_like(embeddings)\n",
    "action_optim = th.optim.Adam([actions], lr=1e-1)\n",
    "opt_paras = action_optim.state_dict()\n",
    "\n",
    "mask = build_tf_horizon_mask(seq_len=seq_len, horizon=horizon, device=device)\n",
    "seq_embeddings = ac.build_sequence(embeddings=embeddings, actions=actions, seq_len=seq_len, mask=mask, detach=True)\n",
    "opt_actions = actions.detach()\n",
    "opt_actions.requires_grad = True\n",
    "next_embedding = ac.predict_step(embeddings=seq_embeddings.detach(), actions=opt_actions, mask=mask)\n",
    "seq_embedding = th.cat((embeddings[:,:1], next_embedding[:,:-1]), dim=1)\n",
    "loss = ((seq_embedding[:,-1] - th.ones_like(seq_embedding[:,-1] ))**2).mean()\n",
    "loss.backward()\n",
    "assert (opt_actions.grad != 0).sum() == (min(seq_len-1, 1+horizon) * action_dim*batch_size)"
   ]
  },
  {
   "cell_type": "code",
   "execution_count": null,
   "metadata": {},
   "outputs": [],
   "source": [
    "horizon = seq_len\n",
    "embeddings = th.ones([batch_size, 1, embed_dim], device=device)\n",
    "actions = th.ones([batch_size, seq_len, action_dim], device=device, requires_grad=True)\n",
    "goal_embeddings = th.ones_like(embeddings)\n",
    "action_optim = th.optim.Adam([actions], lr=1e-1)\n",
    "opt_paras = action_optim.state_dict()\n",
    "\n",
    "mask = build_tf_horizon_mask(seq_len=seq_len, horizon=horizon, device=device)\n",
    "seq_embeddings = ac.build_sequence(embeddings=embeddings, actions=actions, seq_len=seq_len, mask=mask, detach=True)\n",
    "opt_actions = actions.detach()\n",
    "opt_actions.requires_grad = True\n",
    "next_embedding = ac.predict_step(embeddings=seq_embeddings.detach(), actions=opt_actions, mask=mask)\n",
    "seq_embedding = th.cat((embeddings[:,:1], next_embedding[:,:-1]), dim=1)\n",
    "loss = ((seq_embedding[:,-1] - th.ones_like(seq_embedding[:,-1] ))**2).mean()\n",
    "loss.backward()\n",
    "assert (opt_actions.grad != 0).sum() == (min(seq_len-1, 1+horizon) * action_dim*batch_size)"
   ]
  },
  {
   "cell_type": "code",
   "execution_count": null,
   "metadata": {},
   "outputs": [],
   "source": [
    "horizon = seq_len\n",
    "embeddings = th.ones([batch_size, 1, embed_dim], device=device)\n",
    "actions = th.ones([batch_size, seq_len, action_dim], device=device, requires_grad=True)\n",
    "goal_embeddings = th.ones_like(embeddings)\n",
    "action_optim = th.optim.Adam([actions], lr=1e-1)\n",
    "opt_paras = action_optim.state_dict()\n",
    "\n",
    "mask = build_tf_horizon_mask(seq_len=seq_len, horizon=horizon, device=device)\n",
    "seq_embeddings = ac.build_sequence(embeddings=embeddings, actions=actions, seq_len=seq_len, mask=mask, detach=True)\n",
    "opt_actions = actions.detach()\n",
    "opt_actions.requires_grad = True\n",
    "next_embedding = ac.predict_step(embeddings=seq_embeddings.detach(), actions=opt_actions, mask=mask)\n",
    "seq_embedding = th.cat((embeddings[:,:1], next_embedding[:,:-1]), dim=1)\n",
    "loss = ((seq_embedding[:,-1] - th.ones_like(seq_embedding[:,-1] ))**2).mean()\n",
    "loss.backward()\n",
    "assert (opt_actions.grad != 0).sum() == (min(seq_len-1, 1+horizon) * action_dim*batch_size)"
   ]
  },
  {
   "cell_type": "code",
   "execution_count": null,
   "metadata": {},
   "outputs": [],
   "source": [
    "horizon = 0\n",
    "embeddings = th.ones([batch_size, 1, embed_dim], device=device, requires_grad=True)\n",
    "actions = th.ones([batch_size, seq_len, action_dim], device=device, requires_grad=True)\n",
    "action_optim = th.optim.Adam([actions], lr=1e-1)\n",
    "opt_paras = action_optim.state_dict()\n",
    "\n",
    "mask = build_tf_horizon_mask(seq_len=seq_len, horizon=horizon, device=device)\n",
    "seq_embeddings = ac.build_sequence(embeddings=embeddings, actions=actions, seq_len=seq_len, mask=mask, detach=False)\n",
    "loss = ((seq_embeddings[:,-1] - th.ones_like(seq_embeddings[:,-1] ))**2).mean()\n",
    "loss.backward()\n",
    "assert (actions.grad!=0).sum() == actions.numel() - action_dim*batch_size"
   ]
  },
  {
   "cell_type": "code",
   "execution_count": null,
   "metadata": {},
   "outputs": [],
   "source": [
    "horizon = 0\n",
    "embeddings = th.ones([batch_size, 1, embed_dim], device=device, requires_grad=True)\n",
    "actions = th.ones([batch_size, seq_len, action_dim], device=device, requires_grad=True)\n",
    "action_optim = th.optim.Adam([actions], lr=1e-1)\n",
    "opt_paras = action_optim.state_dict()\n",
    "\n",
    "mask = build_tf_horizon_mask(seq_len=seq_len, horizon=horizon, device=device)\n",
    "seq_embeddings = ac.build_sequence(embeddings=embeddings, actions=actions, seq_len=seq_len, mask=mask, detach=True)\n",
    "opt_actions = actions.detach()\n",
    "opt_actions.requires_grad = True\n",
    "next_embedding = ac.predict_step(embeddings=seq_embeddings.detach(), actions=opt_actions, mask=mask)\n",
    "seq_embedding = th.cat((embeddings[:,:1], next_embedding[:,:-1]), dim=1)\n",
    "loss = ((seq_embedding[:,-1] - th.ones_like(seq_embedding[:,-1] ))**2).mean()\n",
    "loss.backward()\n",
    "assert (opt_actions.grad != 0).sum() == batch_size*action_dim"
   ]
  },
  {
   "cell_type": "code",
   "execution_count": 107,
   "metadata": {},
   "outputs": [],
   "source": [
    "ac = ac.double()\n",
    "seq_len = 100\n",
    "horizon = 0\n",
    "embeddings = th.ones([batch_size, 1, embed_dim], device=device, requires_grad=True, dtype=th.double)\n",
    "actions = th.ones([batch_size, seq_len, action_dim], device=device, requires_grad=True, dtype=th.double)\n",
    "org_actions = th.ones([batch_size, seq_len, action_dim], device=device, requires_grad=True, dtype=th.double)\n",
    "action_optim = th.optim.Adam([actions], lr=1e-1)\n",
    "opt_paras = action_optim.state_dict()\n",
    "\n",
    "mask = build_tf_horizon_mask(seq_len=seq_len, horizon=0, device=device).double()\n",
    "seq_embeddings = ac.build_sequence(embeddings=embeddings, actions=actions, seq_len=seq_len, mask=mask, detach=True)\n",
    "org_embeddings = seq_embeddings.clone()\n",
    "\n",
    "goal_embeddings = th.ones_like(seq_embeddings)\n"
   ]
  },
  {
   "cell_type": "code",
   "execution_count": 108,
   "metadata": {},
   "outputs": [],
   "source": [
    "def optimize_sequence(actions:th.Tensor, seq_embeddings:th.Tensor, mask:th.Tensor, goal_label:th.Tensor, steps:int, current_step:int):\n",
    "    actions = actions.detach().clone()\n",
    "    org_actions = actions.detach().clone()\n",
    "\n",
    "    actions.requires_grad = True\n",
    "    seq_embeddings = seq_embeddings.detach().clone()\n",
    "    org_embeddings = seq_embeddings.detach().clone()\n",
    "    \n",
    "    optimizer = th.optim.Adam([actions], lr=1e-2)\n",
    "    opt_paras = optimizer.state_dict()\n",
    "    for i in range(steps):\n",
    "        actions = actions.detach().clone()\n",
    "        actions.requires_grad = True\n",
    "        optimizer = th.optim.Adam([actions], lr=1e-2)\n",
    "        seq_embeddings = ac.build_sequence(embeddings=seq_embeddings.detach()[:,:current_step], actions=actions, seq_len=actions.shape[1], mask=mask, detach=False)\n",
    "        critic_input = ac.make_input(embeddings=seq_embeddings, actions=actions)\n",
    "\n",
    "        scores = ac.critic.forward(critic_input)\n",
    "        optimizer.load_state_dict(opt_paras)\n",
    "\n",
    "        loss_reward = calcMSE(scores[:, current_step:], goal_label[:, current_step:])\n",
    "        loss = loss_reward\n",
    "        optimizer.zero_grad()\n",
    "        loss.backward()\n",
    "        optimizer.step()\n",
    "        opt_paras = optimizer.state_dict()\n",
    "        with th.no_grad():\n",
    "            actions[:,:current_step] = org_actions[:,:current_step]\n",
    "\n",
    "    return loss_reward, actions, seq_embeddings"
   ]
  },
  {
   "cell_type": "code",
   "execution_count": 116,
   "metadata": {},
   "outputs": [],
   "source": [
    "goal_label = th.ones([batch_size, seq_len], device=device, dtype=th.double)\n",
    "loss_reward, new_actions, seq_embeddings = optimize_sequence(actions, seq_embeddings, mask, steps=1000, current_step=4, goal_label=goal_label)"
   ]
  },
  {
   "cell_type": "code",
   "execution_count": 111,
   "metadata": {},
   "outputs": [
    {
     "name": "stdout",
     "output_type": "stream",
     "text": [
      "tensor(0.8428, device='cuda:0', dtype=torch.float64, grad_fn=<MeanBackward0>)\n"
     ]
    }
   ],
   "source": [
    "#step 1:\n",
    "print(loss_reward)"
   ]
  },
  {
   "cell_type": "code",
   "execution_count": 113,
   "metadata": {},
   "outputs": [
    {
     "name": "stdout",
     "output_type": "stream",
     "text": [
      "tensor(0.8182, device='cuda:0', dtype=torch.float64, grad_fn=<MeanBackward0>)\n"
     ]
    }
   ],
   "source": [
    "#step 10:\n",
    "print(loss_reward)"
   ]
  },
  {
   "cell_type": "code",
   "execution_count": 117,
   "metadata": {},
   "outputs": [
    {
     "name": "stdout",
     "output_type": "stream",
     "text": [
      "tensor(7.3251e-06, device='cuda:0', dtype=torch.float64,\n",
      "       grad_fn=<MeanBackward0>)\n"
     ]
    }
   ],
   "source": [
    "#step 1000:\n",
    "print(loss_reward)"
   ]
  },
  {
   "cell_type": "code",
   "execution_count": 27,
   "metadata": {},
   "outputs": [
    {
     "name": "stdout",
     "output_type": "stream",
     "text": [
      "tensor(0.2348, device='cuda:0', dtype=torch.float64, grad_fn=<MeanBackward0>)\n",
      "tensor([[[ 0.1066,  0.4179],\n",
      "         [ 1.5041,  1.8790],\n",
      "         [ 0.0492,  0.3346],\n",
      "         [ 1.3072,  1.8222],\n",
      "         [ 0.0747,  0.1828],\n",
      "         [ 1.0924,  1.7648],\n",
      "         [-0.0277,  0.2482],\n",
      "         [ 1.9838,  1.4988]],\n",
      "\n",
      "        [[ 0.1066,  0.4179],\n",
      "         [ 1.5041,  1.8790],\n",
      "         [ 0.0492,  0.3346],\n",
      "         [ 1.3072,  1.8222],\n",
      "         [ 0.0747,  0.1828],\n",
      "         [ 1.0924,  1.7648],\n",
      "         [-0.0277,  0.2482],\n",
      "         [ 1.9838,  1.4988]]], device='cuda:0', dtype=torch.float64,\n",
      "       requires_grad=True)\n"
     ]
    }
   ],
   "source": [
    "#step 100:\n",
    "print(loss_reward)\n",
    "print(actions)"
   ]
  },
  {
   "cell_type": "code",
   "execution_count": 29,
   "metadata": {},
   "outputs": [
    {
     "name": "stdout",
     "output_type": "stream",
     "text": [
      "tensor(3.5065e-05, device='cuda:0', dtype=torch.float64,\n",
      "       grad_fn=<MeanBackward0>)\n",
      "tensor([[[-1.0833,  0.3981],\n",
      "         [ 0.6716,  2.8688],\n",
      "         [-0.9287,  0.0447],\n",
      "         [ 0.4664,  2.8516],\n",
      "         [-0.9128, -0.9740],\n",
      "         [ 0.8113,  2.8568],\n",
      "         [-0.9601,  0.0815],\n",
      "         [ 4.1606,  3.5901]],\n",
      "\n",
      "        [[-1.0833,  0.3981],\n",
      "         [ 0.6716,  2.8688],\n",
      "         [-0.9287,  0.0447],\n",
      "         [ 0.4664,  2.8516],\n",
      "         [-0.9128, -0.9740],\n",
      "         [ 0.8113,  2.8568],\n",
      "         [-0.9601,  0.0815],\n",
      "         [ 4.1606,  3.5901]]], device='cuda:0', dtype=torch.float64,\n",
      "       requires_grad=True)\n"
     ]
    }
   ],
   "source": [
    "#step 500:\n",
    "print(loss_reward)\n",
    "print(actions)"
   ]
  },
  {
   "cell_type": "code",
   "execution_count": 32,
   "metadata": {},
   "outputs": [
    {
     "name": "stdout",
     "output_type": "stream",
     "text": [
      "tensor(0.0303, device='cuda:0', dtype=torch.float64, grad_fn=<MeanBackward0>)\n",
      "tensor([[[ 2.3527, -4.0498],\n",
      "         [ 4.5213,  6.0304],\n",
      "         [ 3.1638, -3.9057],\n",
      "         [ 4.0586,  6.6364],\n",
      "         [ 2.7037, -4.8174],\n",
      "         [ 4.5412,  5.6293],\n",
      "         [ 3.0826, -3.5615],\n",
      "         [ 5.6890,  4.5788]],\n",
      "\n",
      "        [[ 2.3527, -4.0498],\n",
      "         [ 4.5213,  6.0304],\n",
      "         [ 3.1638, -3.9057],\n",
      "         [ 4.0586,  6.6364],\n",
      "         [ 2.7037, -4.8174],\n",
      "         [ 4.5412,  5.6293],\n",
      "         [ 3.0826, -3.5615],\n",
      "         [ 5.6890,  4.5788]]], device='cuda:0', dtype=torch.float64,\n",
      "       requires_grad=True)\n"
     ]
    }
   ],
   "source": [
    "#step 500 all:\n",
    "print(loss_reward)\n",
    "print(actions)"
   ]
  },
  {
   "cell_type": "code",
   "execution_count": 42,
   "metadata": {},
   "outputs": [
    {
     "name": "stdout",
     "output_type": "stream",
     "text": [
      "tensor(0.8213, device='cuda:0', dtype=torch.float64, grad_fn=<MeanBackward0>)\n",
      "tensor([[[1., 1.],\n",
      "         [1., 1.],\n",
      "         [1., 1.],\n",
      "         [1., 1.],\n",
      "         [1., 1.],\n",
      "         [1., 1.],\n",
      "         [1., 1.],\n",
      "         [1., 1.]],\n",
      "\n",
      "        [[1., 1.],\n",
      "         [1., 1.],\n",
      "         [1., 1.],\n",
      "         [1., 1.],\n",
      "         [1., 1.],\n",
      "         [1., 1.],\n",
      "         [1., 1.],\n",
      "         [1., 1.]]], device='cuda:0', dtype=torch.float64, requires_grad=True)\n"
     ]
    }
   ],
   "source": [
    "#step 1 all:\n",
    "print(loss_reward)\n",
    "print(actions)"
   ]
  },
  {
   "cell_type": "code",
   "execution_count": null,
   "metadata": {},
   "outputs": [],
   "source": []
  }
 ],
 "metadata": {
  "kernelspec": {
   "display_name": "Python 3.10.6 ('ac')",
   "language": "python",
   "name": "python3"
  },
  "language_info": {
   "codemirror_mode": {
    "name": "ipython",
    "version": 3
   },
   "file_extension": ".py",
   "mimetype": "text/x-python",
   "name": "python",
   "nbconvert_exporter": "python",
   "pygments_lexer": "ipython3",
   "version": "3.10.6"
  },
  "orig_nbformat": 4,
  "vscode": {
   "interpreter": {
    "hash": "55d3bc2b8c4272bbea65d85e1c1c189fa11db70743df9511061edc4d7dc4f3cd"
   }
  }
 },
 "nbformat": 4,
 "nbformat_minor": 2
}
