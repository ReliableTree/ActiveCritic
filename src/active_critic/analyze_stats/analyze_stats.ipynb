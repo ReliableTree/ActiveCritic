{
 "cells": [
  {
   "cell_type": "code",
   "execution_count": 1,
   "metadata": {},
   "outputs": [],
   "source": [
    "import pickle\n",
    "import numpy as np\n",
    "import os\n",
    "import matplotlib.pyplot as plt\n",
    "\n",
    "def parse_data(paths):\n",
    "    result_dict = {}\n",
    "    dicts = []\n",
    "    for path in paths:\n",
    "        with open(path, 'rb') as f:\n",
    "            dicts.append(pickle.load(f))\n",
    "    for dict in dicts:\n",
    "        for key in dict:\n",
    "            next_entrance = dict[key].reshape([1, -1])\n",
    "            if key in result_dict:\n",
    "                result_dict[key] = np.append(result_dict[key], next_entrance, axis=0)\n",
    "            else:\n",
    "                result_dict[key] = next_entrance\n",
    "    return result_dict\n",
    "\n",
    "def file_crawler(path, substrings, exclude=[]):\n",
    "    result = []\n",
    "    for root, dirs, files in os.walk(path):\n",
    "        for name in files:\n",
    "            file_path = os.path.join(root, name)\n",
    "            if all(s in file_path for s in substrings) and not any(e in file_path for e in exclude):\n",
    "                result.append(file_path)\n",
    "    print(f'for path: {path}: {len(result)}')\n",
    "    return result\n",
    "\n",
    "def plot_experiment_data(timesteps, experiments, names, plot_name, path=None, plot_closest=False):\n",
    "    # create figure and axis objects\n",
    "    fig, ax = plt.subplots()\n",
    "\n",
    "    # find the experiment with the smallest number of timesteps n_timesteps with timestep values p_timesteps\n",
    "    min_timesteps = min([len(t) for t in timesteps])\n",
    "    p_timesteps = timesteps[[len(t) for t in timesteps].index(min_timesteps)]\n",
    "    # for all other experiments, find the n_timesteps timesteps, that are the closest to p_timesteps\n",
    "\n",
    "    new_experiments = []\n",
    "    if plot_closest:\n",
    "        for exp in range(len(experiments)):\n",
    "            if timesteps[exp][0] != 0:\n",
    "                experiments[exp] = np.concatenate((np.zeros_like(experiments[exp][:,:1]), experiments[exp]), axis=1)\n",
    "                timesteps[exp] = np.concatenate((np.zeros_like(timesteps[exp][:1]), timesteps[exp]), axis=0)\n",
    "            dist_timesteps = (timesteps[exp][None,:] - p_timesteps[:, None])**2\n",
    "            ind_new_timesteps = np.argmin(dist_timesteps, axis=1)\n",
    "            new_experiments.append(experiments[exp][:, ind_new_timesteps])\n",
    "    else:\n",
    "        new_experiments = experiments\n",
    "            \n",
    "\n",
    "    # loop over experiments\n",
    "    for i, experiment in enumerate(new_experiments):\n",
    "        # calculate mean and standard deviation of each time step for this experiment\n",
    "        mean_data = np.mean(experiment, axis=0)\n",
    "        std_data = 1 / np.sqrt(experiment.shape[0]) * np.std(experiment, axis=0)\n",
    "\n",
    "        # plot mean data as a line and shade area between ±1 standard deviation\n",
    "        if plot_closest:\n",
    "            # plot the experiments at those timesteps\n",
    "            ax.plot(p_timesteps, mean_data, '-o', markersize=5, label=names[i])\n",
    "            ax.fill_between(p_timesteps, mean_data-std_data, mean_data+std_data, alpha=0.3)\n",
    "        else:\n",
    "            ax.plot(timesteps[i], mean_data, '-o', markersize=5, label=names[i])\n",
    "            ax.fill_between(timesteps[i], mean_data-std_data, mean_data+std_data, alpha=0.3)\n",
    "\n",
    "    # add labels, title, and legend to the plot\n",
    "    ax.set_xlabel('Number Sampled Trajectories')\n",
    "    ax.set_ylabel('Success Rate')\n",
    "    ax.set_title(plot_name)\n",
    "    ax.legend()\n",
    "\n",
    "def make_plot(paths, includes, excludes, names, plot_name, save_path = None, plot_closest=False):\n",
    "    abs_file_path_list = []\n",
    "    \n",
    "    for i in range(len(paths)):\n",
    "        abs_file_path_list.append(file_crawler(path=paths[i], substrings=includes[i], exclude=excludes[i]))\n",
    "    dicts = []\n",
    "    \n",
    "    for result in abs_file_path_list:\n",
    "        dicts.append(parse_data(paths=result))\n",
    "\n",
    "    plot_experiment_data(\n",
    "        timesteps=[result_dict['step'][0] for result_dict in dicts], \n",
    "        experiments=[result_dict['success_rate'] for result_dict in dicts],\n",
    "        names=names,\n",
    "        plot_name=plot_name,\n",
    "        path=save_path,\n",
    "        plot_closest=plot_closest\n",
    "        )"
   ]
  },
  {
   "cell_type": "code",
   "execution_count": 1,
   "metadata": {},
   "outputs": [
    {
     "name": "stderr",
     "output_type": "stream",
     "text": [
      "/home/hendrik/anaconda3/envs/ac/lib/python3.10/site-packages/tqdm/auto.py:22: TqdmWarning: IProgress not found. Please update jupyter and ipywidgets. See https://ipywidgets.readthedocs.io/en/stable/user_install.html\n",
      "  from .autonotebook import tqdm as notebook_tqdm\n"
     ]
    },
    {
     "name": "stdout",
     "output_type": "stream",
     "text": [
      "prev_proposed_acts: torch.Size([12, 3, 4])\n",
      "steps 213 : torch.Size([4, 3])\n"
     ]
    }
   ],
   "source": [
    "from active_critic.utils.dataset import DatasetAC\n",
    "from torch.utils.data.dataloader import DataLoader\n",
    "from torch.utils.data import DataLoader, TensorDataset, WeightedRandomSampler\n",
    "import torch as th\n",
    "data = DatasetAC(batch_size=2, device='cpu')\n",
    "\n",
    "batch_size = 4\n",
    "seq_len = 3\n",
    "\n",
    "obs = th.ones([batch_size, 3, 4])\n",
    "act = th.ones([batch_size, 3, 4])\n",
    "act_hist = th.ones([batch_size, 3, 4])\n",
    "rew = th.ones([batch_size, 3, 1])\n",
    "exp_trjs = th.ones([batch_size], dtype=th.bool)\n",
    "steps = th.ones([batch_size, 3], dtype=th.long)\n",
    "\n",
    "obs[0] = 0\n",
    "act[0] = 0\n",
    "act_hist[0] = 0\n",
    "rew[1] = 0\n",
    "exp_trjs[0] = 0\n",
    "steps[0] = 0\n",
    "\n",
    "data.add_data(obsv=obs, actions=act, reward=rew, expert_trjs=exp_trjs, actions_history=act_hist, steps=steps)\n",
    "data.onyl_positiv = True"
   ]
  },
  {
   "cell_type": "code",
   "execution_count": 2,
   "metadata": {},
   "outputs": [],
   "source": [
    "def make_weights(len, gamma, exp_ind):\n",
    "    weights = th.exp(-gamma*th.arange(len, 0, -1) / len)\n",
    "    weights[exp_ind] = 1\n",
    "    return weights"
   ]
  },
  {
   "cell_type": "code",
   "execution_count": 3,
   "metadata": {},
   "outputs": [],
   "source": [
    "data.onyl_positiv = True\n",
    "data_len =  data.__len__()\n",
    "gamma = 1\n",
    "exp_ind = data.expert_trjs[data.success]"
   ]
  },
  {
   "cell_type": "code",
   "execution_count": 4,
   "metadata": {},
   "outputs": [],
   "source": [
    "weights = make_weights(len=data_len, gamma=gamma, exp_ind=exp_ind)"
   ]
  },
  {
   "cell_type": "code",
   "execution_count": 5,
   "metadata": {},
   "outputs": [
    {
     "data": {
      "text/plain": [
       "tensor([0.3679, 1.0000, 1.0000])"
      ]
     },
     "execution_count": 5,
     "metadata": {},
     "output_type": "execute_result"
    }
   ],
   "source": [
    "weights"
   ]
  },
  {
   "cell_type": "code",
   "execution_count": 6,
   "metadata": {},
   "outputs": [
    {
     "data": {
      "text/plain": [
       "3"
      ]
     },
     "execution_count": 6,
     "metadata": {},
     "output_type": "execute_result"
    }
   ],
   "source": [
    "data_len"
   ]
  },
  {
   "cell_type": "code",
   "execution_count": 7,
   "metadata": {},
   "outputs": [],
   "source": [
    "sampler = WeightedRandomSampler(weights=weights, num_samples=data_len, replacement=True)\n",
    "train_loader = DataLoader(data, batch_size=1, sampler=sampler)"
   ]
  },
  {
   "cell_type": "code",
   "execution_count": 10,
   "metadata": {},
   "outputs": [
    {
     "data": {
      "text/plain": [
       "torch.Size([12, 3, 4])"
      ]
     },
     "execution_count": 10,
     "metadata": {},
     "output_type": "execute_result"
    }
   ],
   "source": [
    "data.virt_prev_proposed_acts.shape"
   ]
  },
  {
   "cell_type": "code",
   "execution_count": 11,
   "metadata": {},
   "outputs": [
    {
     "data": {
      "text/plain": [
       "torch.Size([4, 3, 4])"
      ]
     },
     "execution_count": 11,
     "metadata": {},
     "output_type": "execute_result"
    }
   ],
   "source": [
    "data.virt_actions.shape"
   ]
  },
  {
   "cell_type": "code",
   "execution_count": 12,
   "metadata": {},
   "outputs": [
    {
     "data": {
      "text/plain": [
       "torch.Size([4, 3, 4])"
      ]
     },
     "execution_count": 12,
     "metadata": {},
     "output_type": "execute_result"
    }
   ],
   "source": [
    "data.virt_obsv.shape"
   ]
  },
  {
   "cell_type": "code",
   "execution_count": 8,
   "metadata": {},
   "outputs": [
    {
     "ename": "IndexError",
     "evalue": "The shape of the mask [4] at index 0 does not match the shape of the indexed tensor [12, 3, 4] at index 0",
     "output_type": "error",
     "traceback": [
      "\u001b[0;31m---------------------------------------------------------------------------\u001b[0m",
      "\u001b[0;31mIndexError\u001b[0m                                Traceback (most recent call last)",
      "Cell \u001b[0;32mIn [8], line 3\u001b[0m\n\u001b[1;32m      1\u001b[0m indices \u001b[39m=\u001b[39m \u001b[39m0\u001b[39m\n\u001b[1;32m      2\u001b[0m \u001b[39mfor\u001b[39;00m j \u001b[39min\u001b[39;00m \u001b[39mrange\u001b[39m(\u001b[39m1000\u001b[39m):\n\u001b[0;32m----> 3\u001b[0m     \u001b[39mfor\u001b[39;00m d \u001b[39min\u001b[39;00m train_loader:\n\u001b[1;32m      4\u001b[0m         virt_obsv, virt_actions, virt_reward, virt_expert_trjs, virt_prev_proposed_acts, virt_steps, prev_virt_obsv \u001b[39m=\u001b[39m d\n\u001b[1;32m      5\u001b[0m         indices \u001b[39m=\u001b[39m indices \u001b[39m+\u001b[39m (virt_obsv\u001b[39m.\u001b[39msum()\u001b[39m==\u001b[39m\u001b[39m0\u001b[39m)\n",
      "File \u001b[0;32m~/anaconda3/envs/ac/lib/python3.10/site-packages/torch/utils/data/dataloader.py:628\u001b[0m, in \u001b[0;36m_BaseDataLoaderIter.__next__\u001b[0;34m(self)\u001b[0m\n\u001b[1;32m    625\u001b[0m \u001b[39mif\u001b[39;00m \u001b[39mself\u001b[39m\u001b[39m.\u001b[39m_sampler_iter \u001b[39mis\u001b[39;00m \u001b[39mNone\u001b[39;00m:\n\u001b[1;32m    626\u001b[0m     \u001b[39m# TODO(https://github.com/pytorch/pytorch/issues/76750)\u001b[39;00m\n\u001b[1;32m    627\u001b[0m     \u001b[39mself\u001b[39m\u001b[39m.\u001b[39m_reset()  \u001b[39m# type: ignore[call-arg]\u001b[39;00m\n\u001b[0;32m--> 628\u001b[0m data \u001b[39m=\u001b[39m \u001b[39mself\u001b[39;49m\u001b[39m.\u001b[39;49m_next_data()\n\u001b[1;32m    629\u001b[0m \u001b[39mself\u001b[39m\u001b[39m.\u001b[39m_num_yielded \u001b[39m+\u001b[39m\u001b[39m=\u001b[39m \u001b[39m1\u001b[39m\n\u001b[1;32m    630\u001b[0m \u001b[39mif\u001b[39;00m \u001b[39mself\u001b[39m\u001b[39m.\u001b[39m_dataset_kind \u001b[39m==\u001b[39m _DatasetKind\u001b[39m.\u001b[39mIterable \u001b[39mand\u001b[39;00m \\\n\u001b[1;32m    631\u001b[0m         \u001b[39mself\u001b[39m\u001b[39m.\u001b[39m_IterableDataset_len_called \u001b[39mis\u001b[39;00m \u001b[39mnot\u001b[39;00m \u001b[39mNone\u001b[39;00m \u001b[39mand\u001b[39;00m \\\n\u001b[1;32m    632\u001b[0m         \u001b[39mself\u001b[39m\u001b[39m.\u001b[39m_num_yielded \u001b[39m>\u001b[39m \u001b[39mself\u001b[39m\u001b[39m.\u001b[39m_IterableDataset_len_called:\n",
      "File \u001b[0;32m~/anaconda3/envs/ac/lib/python3.10/site-packages/torch/utils/data/dataloader.py:671\u001b[0m, in \u001b[0;36m_SingleProcessDataLoaderIter._next_data\u001b[0;34m(self)\u001b[0m\n\u001b[1;32m    669\u001b[0m \u001b[39mdef\u001b[39;00m \u001b[39m_next_data\u001b[39m(\u001b[39mself\u001b[39m):\n\u001b[1;32m    670\u001b[0m     index \u001b[39m=\u001b[39m \u001b[39mself\u001b[39m\u001b[39m.\u001b[39m_next_index()  \u001b[39m# may raise StopIteration\u001b[39;00m\n\u001b[0;32m--> 671\u001b[0m     data \u001b[39m=\u001b[39m \u001b[39mself\u001b[39;49m\u001b[39m.\u001b[39;49m_dataset_fetcher\u001b[39m.\u001b[39;49mfetch(index)  \u001b[39m# may raise StopIteration\u001b[39;00m\n\u001b[1;32m    672\u001b[0m     \u001b[39mif\u001b[39;00m \u001b[39mself\u001b[39m\u001b[39m.\u001b[39m_pin_memory:\n\u001b[1;32m    673\u001b[0m         data \u001b[39m=\u001b[39m _utils\u001b[39m.\u001b[39mpin_memory\u001b[39m.\u001b[39mpin_memory(data, \u001b[39mself\u001b[39m\u001b[39m.\u001b[39m_pin_memory_device)\n",
      "File \u001b[0;32m~/anaconda3/envs/ac/lib/python3.10/site-packages/torch/utils/data/_utils/fetch.py:58\u001b[0m, in \u001b[0;36m_MapDatasetFetcher.fetch\u001b[0;34m(self, possibly_batched_index)\u001b[0m\n\u001b[1;32m     56\u001b[0m         data \u001b[39m=\u001b[39m \u001b[39mself\u001b[39m\u001b[39m.\u001b[39mdataset\u001b[39m.\u001b[39m__getitems__(possibly_batched_index)\n\u001b[1;32m     57\u001b[0m     \u001b[39melse\u001b[39;00m:\n\u001b[0;32m---> 58\u001b[0m         data \u001b[39m=\u001b[39m [\u001b[39mself\u001b[39m\u001b[39m.\u001b[39mdataset[idx] \u001b[39mfor\u001b[39;00m idx \u001b[39min\u001b[39;00m possibly_batched_index]\n\u001b[1;32m     59\u001b[0m \u001b[39melse\u001b[39;00m:\n\u001b[1;32m     60\u001b[0m     data \u001b[39m=\u001b[39m \u001b[39mself\u001b[39m\u001b[39m.\u001b[39mdataset[possibly_batched_index]\n",
      "File \u001b[0;32m~/anaconda3/envs/ac/lib/python3.10/site-packages/torch/utils/data/_utils/fetch.py:58\u001b[0m, in \u001b[0;36m<listcomp>\u001b[0;34m(.0)\u001b[0m\n\u001b[1;32m     56\u001b[0m         data \u001b[39m=\u001b[39m \u001b[39mself\u001b[39m\u001b[39m.\u001b[39mdataset\u001b[39m.\u001b[39m__getitems__(possibly_batched_index)\n\u001b[1;32m     57\u001b[0m     \u001b[39melse\u001b[39;00m:\n\u001b[0;32m---> 58\u001b[0m         data \u001b[39m=\u001b[39m [\u001b[39mself\u001b[39;49m\u001b[39m.\u001b[39;49mdataset[idx] \u001b[39mfor\u001b[39;00m idx \u001b[39min\u001b[39;00m possibly_batched_index]\n\u001b[1;32m     59\u001b[0m \u001b[39melse\u001b[39;00m:\n\u001b[1;32m     60\u001b[0m     data \u001b[39m=\u001b[39m \u001b[39mself\u001b[39m\u001b[39m.\u001b[39mdataset[possibly_batched_index]\n",
      "File \u001b[0;32m~/Documents/master_project/Code/active_critic/src/active_critic/utils/dataset.py:101\u001b[0m, in \u001b[0;36mDatasetAC.__getitem__\u001b[0;34m(self, index)\u001b[0m\n\u001b[1;32m     95\u001b[0m \u001b[39massert\u001b[39;00m \u001b[39mself\u001b[39m\u001b[39m.\u001b[39monyl_positiv \u001b[39mis\u001b[39;00m \u001b[39mnot\u001b[39;00m \u001b[39mNone\u001b[39;00m, \u001b[39m'\u001b[39m\u001b[39mtraindata only positiv not set\u001b[39m\u001b[39m'\u001b[39m\n\u001b[1;32m     96\u001b[0m \u001b[39mif\u001b[39;00m \u001b[39mself\u001b[39m\u001b[39m.\u001b[39monyl_positiv:\n\u001b[1;32m     97\u001b[0m     \u001b[39mreturn\u001b[39;00m (\u001b[39mself\u001b[39m\u001b[39m.\u001b[39mvirt_obsv[\u001b[39mself\u001b[39m\u001b[39m.\u001b[39mvirt_success][index], \n\u001b[1;32m     98\u001b[0m             \u001b[39mself\u001b[39m\u001b[39m.\u001b[39mvirt_actions[\u001b[39mself\u001b[39m\u001b[39m.\u001b[39mvirt_success][index], \n\u001b[1;32m     99\u001b[0m             \u001b[39mself\u001b[39m\u001b[39m.\u001b[39mvirt_reward[\u001b[39mself\u001b[39m\u001b[39m.\u001b[39mvirt_success][index], \n\u001b[1;32m    100\u001b[0m             \u001b[39mself\u001b[39m\u001b[39m.\u001b[39mvirt_expert_trjs[\u001b[39mself\u001b[39m\u001b[39m.\u001b[39mvirt_success][index], \n\u001b[0;32m--> 101\u001b[0m             \u001b[39mself\u001b[39;49m\u001b[39m.\u001b[39;49mvirt_prev_proposed_acts[\u001b[39mself\u001b[39;49m\u001b[39m.\u001b[39;49mvirt_success][index],\n\u001b[1;32m    102\u001b[0m             \u001b[39mself\u001b[39m\u001b[39m.\u001b[39mvirt_steps[\u001b[39mself\u001b[39m\u001b[39m.\u001b[39mvirt_success][index],\n\u001b[1;32m    103\u001b[0m             \u001b[39mself\u001b[39m\u001b[39m.\u001b[39mvirt_obsv[\u001b[39mself\u001b[39m\u001b[39m.\u001b[39mvirt_success][\u001b[39mmax\u001b[39m(index\u001b[39m-\u001b[39m\u001b[39m1\u001b[39m, \u001b[39m0\u001b[39m)])\n\u001b[1;32m    104\u001b[0m \u001b[39melse\u001b[39;00m:\n\u001b[1;32m    105\u001b[0m     \u001b[39mreturn\u001b[39;00m (\u001b[39mself\u001b[39m\u001b[39m.\u001b[39mvirt_obsv[index], \n\u001b[1;32m    106\u001b[0m             \u001b[39mself\u001b[39m\u001b[39m.\u001b[39mvirt_actions[index], \n\u001b[1;32m    107\u001b[0m             \u001b[39mself\u001b[39m\u001b[39m.\u001b[39mvirt_reward[index], \n\u001b[0;32m   (...)\u001b[0m\n\u001b[1;32m    110\u001b[0m             \u001b[39mself\u001b[39m\u001b[39m.\u001b[39mvirt_steps[index],\n\u001b[1;32m    111\u001b[0m             \u001b[39mself\u001b[39m\u001b[39m.\u001b[39mvirt_obsv[\u001b[39mmax\u001b[39m(index\u001b[39m-\u001b[39m\u001b[39m1\u001b[39m, \u001b[39m0\u001b[39m)])\n",
      "\u001b[0;31mIndexError\u001b[0m: The shape of the mask [4] at index 0 does not match the shape of the indexed tensor [12, 3, 4] at index 0"
     ]
    }
   ],
   "source": [
    "indices = 0\n",
    "for j in range(1000):\n",
    "    for d in train_loader:\n",
    "        virt_obsv, virt_actions, virt_reward, virt_expert_trjs, virt_prev_proposed_acts, virt_steps, prev_virt_obsv = d\n",
    "        indices = indices + (virt_obsv.sum()==0)\n",
    "        break\n",
    "print(indices)"
   ]
  },
  {
   "cell_type": "code",
   "execution_count": 19,
   "metadata": {},
   "outputs": [],
   "source": [
    "obs = th.ones([1, 3, 4])\n",
    "act = th.ones([1, 3, 4])\n",
    "act_hist = th.ones([1, 3, 3, 4])\n",
    "rew = th.ones([1, 3, 1])\n",
    "exp_trjs = th.ones([1])\n",
    "steps = th.ones([1, 3], dtype=th.long)\n",
    "\n",
    "obs[0] = 2\n",
    "act[0] = 2\n",
    "act_hist[0] = 2\n",
    "rew[0] = 2\n",
    "exp_trjs[0] = 2\n",
    "steps[0] = 2\n",
    "\n",
    "data.add_data(obsv=obs, actions=act, reward=rew, expert_trjs=exp_trjs, actions_history=act_hist, steps=steps)"
   ]
  },
  {
   "cell_type": "code",
   "execution_count": 23,
   "metadata": {},
   "outputs": [
    {
     "name": "stdout",
     "output_type": "stream",
     "text": [
      "tensor([[[2., 2., 2., 2.],\n",
      "         [2., 2., 2., 2.],\n",
      "         [2., 2., 2., 2.]]])\n"
     ]
    }
   ],
   "source": [
    "for d in train_loader:\n",
    "    virt_obsv, virt_actions, virt_reward, virt_expert_trjs, virt_prev_proposed_acts, virt_steps, prev_virt_obsv = d\n",
    "    print(virt_obsv)\n",
    "    break"
   ]
  },
  {
   "cell_type": "code",
   "execution_count": null,
   "metadata": {},
   "outputs": [],
   "source": [
    "AC_path = '/home/hendrik/Documents/master_project/LokalData/server/AC/0329_stats/AC_var_2023-03-29'\n",
    "\n",
    "include_ac_0 = ['statsoptimized', 'reach only positive reach opt steps: 5 trainin eps: 500 opt mode: actor+plan demonstrations: 0, im_ph:False, training_episodes: 10, min critic: 1e-05, wd: 0.01, val_every: 1000 run id: 0']\n",
    "exclude_ac_0 = []\n",
    "\n",
    "include_ac_1 = ['statsoptimized', 'reach only positive! reach opt steps: 3 trainin eps: 500 opt mode: actor+plan demonstrations: 0, im_ph:False, training_episodes: 10, min critic: 1e-05, wd: 0.01, val_every: 3000 run id: 0']\n",
    "exclude_ac_0 = []\n",
    "\n",
    "#\n",
    "\n",
    "make_plot(\n",
    "    paths=[AC_path, AC_path], \n",
    "    includes=[include_ac_0, include_ac_1], \n",
    "    excludes=[exclude_ac_0, exclude_ac_0],\n",
    "    names=['AC Imitation Only', 'AC Reinforcement', 'PPO + GAIL', 'BC + RPPO', 'TQC + GAIL'],\n",
    "    plot_name='Reach Environment',\n",
    "    save_path = None,\n",
    "    plot_closest=True\n",
    "    )"
   ]
  },
  {
   "cell_type": "code",
   "execution_count": null,
   "metadata": {},
   "outputs": [],
   "source": [
    "AC_path = '/home/hendrik/Documents/master_project/LokalData/server/AC/AC_var_2023-03-07'\n",
    "bl_path = '/home/hendrik/Documents/master_project/LokalData/server/baselines/Baselines_Stats_GAIL_2023-03-07'\n",
    "\n",
    "include_ac_reach_4_im = ['reach', 'stats', 'True', 'demonstrations: 4']\n",
    "exclude_ac_imitation = ['optimized']\n",
    "\n",
    "include_ac_reach_4_ref = ['reach', 'stats', 'False', 'demonstrations: 4']\n",
    "exclude_ac_imitation = ['optimized']\n",
    "\n",
    "include_PPO_reach_4 = ['reach', 'demonstrations_4', 'PPO', 'learner_stats_gail']\n",
    "exclude_bl_PPO = ['RPPO']\n",
    "\n",
    "include_RPPO_reach_4 = ['reach', 'demonstrations_4', 'RPPO', 'learner_stats_rec_PPO_stepsize_10']\n",
    "exclude_bl_RPPO = []\n",
    "\n",
    "include_TQC_reach_4 = ['reach', 'demonstrations_4', 'TQC', 'learner_stats_gail_stepsize_10']\n",
    "exclude_bl_RPPO = []\n",
    "\n",
    "save_path = '/home/hendrik/Documents/master_project/LokalData/server/Stats for MA/reach 4'\n",
    "\n",
    "make_plot(\n",
    "    paths=[AC_path, AC_path, bl_path, bl_path, bl_path], \n",
    "    includes=[include_ac_reach_4_im, include_ac_reach_4_ref, include_PPO_reach_4, include_RPPO_reach_4, include_TQC_reach_4], \n",
    "    excludes=[exclude_ac_imitation, exclude_ac_imitation, exclude_bl_PPO, exclude_bl_RPPO, exclude_bl_RPPO],\n",
    "    names=['AC Imitation Only', 'AC Reinforcement', 'PPO + GAIL', 'BC + RPPO', 'TQC + GAIL'],\n",
    "    plot_name='Reach Environment',\n",
    "    save_path = save_path\n",
    "    )"
   ]
  },
  {
   "cell_type": "code",
   "execution_count": null,
   "metadata": {},
   "outputs": [],
   "source": [
    "AC_path = '/home/hendrik/Documents/master_project/LokalData/server/AC/AC_var_2023-03-22'\n",
    "\n",
    "bl_path = '/home/hendrik/Documents/master_project/LokalData/server/baselines/Baselines_Stats_GAIL_2023-03-20/'\n",
    "\n",
    "include_bl_TQC = ['learner', 'TQC_reach_lr_1e-06_demonstrations_4_n_samples_20000_id_0']\n",
    "exclude_bl_TQC = []\n",
    "\n",
    "include_bl_PPO = ['learner', 'PPO_reach_lr_1e-05_demonstrations_4_n_samples_20000_id_0']\n",
    "exclude_bl_PPO = []\n",
    "\n",
    "include_ac = ['reach tiny planner trainin eps: 20000 opt mode: actor+plan demonstrations: 1, im_ph:False, training_episodes: 10, min critic: 5e-05, wd: 0.1, val_every: 2000', 'stats']\n",
    "exclude_ac = ['optimize', 'id: 1']\n",
    "\n",
    "include_ac_opt = ['reach tiny planner trainin eps: 20000 opt mode: actor+plan demonstrations: 1, im_ph:False, training_episodes: 10, min critic: 5e-05, wd: 0.1, val_every: 2000', 'statsoptimize']\n",
    "exclude_ac_opt = ['id: 1']\n",
    "\n",
    "save_path = '/home/hendrik/Documents/master_project/LokalData/server/Stats for MA/PickPlace_14/'\n",
    "\n",
    "make_plot(\n",
    "    paths=[AC_path, bl_path, bl_path], \n",
    "    includes=[include_ac, include_bl_TQC, include_bl_PPO], \n",
    "    excludes=[exclude_ac, exclude_bl_TQC, exclude_bl_PPO],\n",
    "    names=['AC', 'AC Opt', 'TQC + GAIL'],\n",
    "    plot_name='Pick and Place Environment',\n",
    "    save_path = None,\n",
    "    plot_closest=False\n",
    "    )"
   ]
  },
  {
   "cell_type": "code",
   "execution_count": null,
   "metadata": {},
   "outputs": [],
   "source": [
    "from active_critic.utils.gym_utils import make_policy_dict\n",
    "pd = make_policy_dict()"
   ]
  },
  {
   "cell_type": "code",
   "execution_count": null,
   "metadata": {},
   "outputs": [],
   "source": [
    "for key in pd:\n",
    "    print(key)"
   ]
  },
  {
   "cell_type": "code",
   "execution_count": null,
   "metadata": {},
   "outputs": [],
   "source": [
    "from active_critic.analyze_stats.push_10_RPPO_TQC_PPO import make_final_plot"
   ]
  },
  {
   "cell_type": "code",
   "execution_count": null,
   "metadata": {},
   "outputs": [],
   "source": [
    "make_final_plot()"
   ]
  },
  {
   "cell_type": "code",
   "execution_count": null,
   "metadata": {},
   "outputs": [],
   "source": [
    "AC_path = '/home/hendrik/Documents/master_project/LokalData/server/AC/AC_var_2023-03-20'\n",
    "\n",
    "include_ac = ['stats']\n",
    "exclude_ac = ['optimize', 'actions']\n",
    "\n",
    "\n",
    "save_path = '/home/hendrik/Documents/master_project/LokalData/server/Stats for MA/PickPlace_14/'\n",
    "\n",
    "make_plot(\n",
    "    paths=[AC_path], \n",
    "    includes=[include_ac], \n",
    "    excludes=[exclude_ac],\n",
    "    names=['AC', 'PPO + GAIL', 'TQC + GAIL'],\n",
    "    plot_name='Pick and Place Environment',\n",
    "    save_path = None,\n",
    "    plot_closest=True\n",
    "    )"
   ]
  },
  {
   "cell_type": "code",
   "execution_count": null,
   "metadata": {},
   "outputs": [],
   "source": [
    "PPO_path = '/home/hendrik/Documents/master_project/LokalData/server/baselines/Baselines_Stats_GAIL_2023-03-20'\n",
    "\n",
    "include_PPO = ['PPO_reach_lr_1e-05_demonstrations_4_n_samples_20000', 'learner']\n",
    "exclude_PPO = ['id_1']\n",
    "\n",
    "\n",
    "save_path = '/home/hendrik/Documents/master_project/LokalData/server/Stats for MA/PickPlace_14/'\n",
    "\n",
    "make_plot(\n",
    "    paths=[PPO_path], \n",
    "    includes=[include_PPO], \n",
    "    excludes=[exclude_PPO],\n",
    "    names=['PPO', 'PPO + GAIL', 'TQC + GAIL'],\n",
    "    plot_name='Reach Environment',\n",
    "    save_path = None,\n",
    "    plot_closest=False\n",
    "    )"
   ]
  },
  {
   "cell_type": "code",
   "execution_count": null,
   "metadata": {},
   "outputs": [],
   "source": [
    "import torch as th\n",
    "action_histories = th.arange(0, 18).reshape([1, -1])"
   ]
  },
  {
   "cell_type": "code",
   "execution_count": null,
   "metadata": {},
   "outputs": [],
   "source": [
    "action_histories"
   ]
  },
  {
   "cell_type": "code",
   "execution_count": null,
   "metadata": {},
   "outputs": [],
   "source": [
    "action_histories = action_histories.reshape([2, 3, 3, 1]).repeat([1,1,1,2])"
   ]
  },
  {
   "cell_type": "code",
   "execution_count": null,
   "metadata": {},
   "outputs": [],
   "source": [
    "action_histories.shape"
   ]
  },
  {
   "cell_type": "code",
   "execution_count": null,
   "metadata": {},
   "outputs": [],
   "source": [
    "def pick_action_from_history(action_histories, steps):\n",
    "    batch_count=th.arange(action_histories.shape[0]).reshape([1, -1]).repeat([action_histories.shape[1]*action_histories.shape[-1], 1]).T.reshape([-1])\n",
    "    time_count = th.arange(action_histories.shape[1]).reshape([1, -1]).repeat([action_histories.shape[0],1]).reshape([1, action_histories.shape[0],-1]).repeat([action_histories.shape[-1], 1, 1]).transpose(-1,-2).reshape(-1)\n",
    "    dim_count = th.arange(action_histories.shape[-1]).reshape([1, -1]).repeat([action_histories.shape[0]*action_histories.shape[1], 1]).reshape([-1])\n",
    "    steps_count = steps.reshape([1, -1]).repeat([action_histories.shape[1] * action_histories.shape[-1], 1]).T.reshape([-1])\n",
    "    result = action_histories[tuple((batch_count, steps_count, time_count, dim_count))].reshape([action_histories.shape[0], action_histories.shape[1], action_histories.shape[-1]])\n",
    "    return result"
   ]
  },
  {
   "cell_type": "code",
   "execution_count": null,
   "metadata": {},
   "outputs": [],
   "source": [
    "a = th.rand([2, 3, 3, 4])\n",
    "steps = th.tensor([1, 2])"
   ]
  },
  {
   "cell_type": "code",
   "execution_count": null,
   "metadata": {},
   "outputs": [],
   "source": [
    "actions_t = pick_action_from_history(action_histories=a, steps=steps)"
   ]
  },
  {
   "cell_type": "code",
   "execution_count": null,
   "metadata": {},
   "outputs": [],
   "source": [
    "a"
   ]
  },
  {
   "cell_type": "code",
   "execution_count": null,
   "metadata": {},
   "outputs": [],
   "source": [
    "actions_t"
   ]
  },
  {
   "cell_type": "code",
   "execution_count": null,
   "metadata": {},
   "outputs": [],
   "source": [
    "AC_path = '/home/hendrik/Documents/master_project/LokalData/server/Stats for MA/pickplace 14/AC/'\n",
    "PPOGail = '/home/hendrik/Documents/master_project/LokalData/server/Stats for MA/pickplace 14/PPO GAIL'\n",
    "TQCPath = '/home/hendrik/Documents/master_project/LokalData/server/Stats for MA/pickplace 14/TQC GAIL'\n",
    "RPPOpath = '/home/hendrik/Documents/master_project/LokalData/server/Stats for MA/pickplace 14/RPPO'\n",
    "\n",
    "include_ac = ['stats']\n",
    "exclude_ac = ['optimize']\n",
    "\n",
    "include_PPOGail = ['learner']\n",
    "exclude_bl = []\n",
    "\n",
    "include_TQC = ['learner', 'lr_1e-07']\n",
    "exclude_bl_TQC = []\n",
    "\n",
    "include_RPPO = ['learner']\n",
    "exclude_RPPO = ['id_2']\n",
    "\n",
    "save_path = '/home/hendrik/Documents/master_project/LokalData/server/Stats for MA/PickPlace_14/'\n",
    "\n",
    "\n",
    "make_plot(\n",
    "    paths=[AC_path, PPOGail, TQCPath, RPPOpath], \n",
    "    includes=[include_ac, include_PPOGail, include_TQC, include_RPPO], \n",
    "    excludes=[exclude_ac, exclude_bl, exclude_bl_TQC, exclude_RPPO],\n",
    "    names=['AC', 'PPO + GAIL', 'TQC + GAIL', 'RPPO + BC'],\n",
    "    plot_name='Pick and Place Environment',\n",
    "    save_path = None,\n",
    "    plot_closest=True\n",
    "    )"
   ]
  },
  {
   "cell_type": "code",
   "execution_count": null,
   "metadata": {},
   "outputs": [],
   "source": [
    "AC_path = '/home/hendrik/Documents/master_project/LokalData/server/AC/AC_var_2023-02-23'\n",
    "bl_path = '/home/hendrik/Documents/master_project/LokalData/server/baselines/Baselines_Stats_GAIL_2023-02-22/'\n",
    "bl_RPPO_batch = '/home/hendrik/Documents/master_project/LokalData/server/baselines/Baselines_Stats_GAIL_2023-03-21'\n",
    "\n",
    "include_ac = ['push demonstrations: 10, im_ph:False, training_episodes: 10, min critic: 5e-05, wd: 0.01, val_every: 5000', 'stats']\n",
    "exclude_ac = ['optimized']\n",
    "\n",
    "\n",
    "\n",
    "include_bl_PPO = ['demonstrations_10', 'learner', 'push', 'PPO', '0.0001']\n",
    "exclude_bl = []\n",
    "\n",
    "include_bl_TQC = ['TQC_GAIL_push_lr_1e-07_demonstrations_10', 'learner']\n",
    "exclude_bl = []\n",
    "\n",
    "include_bl_RPPO = ['RPPO_push_lr_1e-06_demonstrations_10_id', 'learner']\n",
    "exclude_bl = []\n",
    "\n",
    "save_path = '/home/hendrik/Documents/master_project/LokalData/server/Stats for MA/Push 6/'\n",
    "\n",
    "make_plot(\n",
    "    paths=[AC_path, bl_RPPO_batch, bl_path, bl_path], \n",
    "    includes=[include_ac, include_bl_RPPO, include_bl_PPO, include_bl_TQC], \n",
    "    excludes=[exclude_ac, exclude_bl, exclude_bl, exclude_bl],\n",
    "    names=['AC', 'RPPO', 'PPO + GAIL', 'TQC + GAIL'],\n",
    "    plot_name='Push Environment',\n",
    "    save_path = None,\n",
    "    plot_closest=True\n",
    "    )"
   ]
  },
  {
   "cell_type": "code",
   "execution_count": null,
   "metadata": {},
   "outputs": [],
   "source": [
    "AC_Path = '/home/hendrik/Documents/master_project/LokalData/server/AC/AC_var_2023-03-01/'\n",
    "\n",
    "include_bl = ['pickplace demonstrations: 14, im_ph:False, training_episodes: 10, min critic: 5e-05, wd: 0.01, val_every: 2000', 'stats']\n",
    "exclude_bl = ['20000']\n",
    "\n",
    "save_path = '/home/hendrik/Documents/master_project/LokalData/server/Stats for MA/Push 6/'\n",
    "\n",
    "make_plot(\n",
    "    paths=[AC_Path], \n",
    "    includes=[include_bl, include_ac_opt, include_bl], \n",
    "    excludes=[exclude_bl, exclude_ac_opt, exclude_bl],\n",
    "    names=['AC', 'AC Imitation', 'PPO + GAIL'],\n",
    "    plot_name='Push Environment',\n",
    "    save_path = None\n",
    "    )"
   ]
  },
  {
   "cell_type": "code",
   "execution_count": null,
   "metadata": {},
   "outputs": [],
   "source": [
    "AC_path = '/home/hendrik/Documents/master_project/LokalData/server/AC/AC_var_2023-02-23'\n",
    "bl_path = '/home/hendrik/Documents/master_project/LokalData/server/baselines/Baselines_Stats_GAIL_2023-02-22/'\n",
    "\n",
    "\n",
    "include_ac = ['push', '20','True', 'stats', '2000']\n",
    "exclude_ac = ['optimize']\n",
    "\n",
    "include_ac2 = ['push', '20','False', 'stats', '5000']\n",
    "exclude_ac2 = ['optimize']\n",
    "\n",
    "include_bl = ['demonstrations_20', 'learner', 'push', 'PPO', '0.0001']\n",
    "exclude_bl = []\n",
    "\n",
    "save_path = '/home/hendrik/Documents/master_project/LokalData/server/Stats for MA/Push 6/'\n",
    "\n",
    "make_plot(\n",
    "    paths=[AC_path, AC_path, bl_path], \n",
    "    includes=[include_ac, include_ac2, include_bl], \n",
    "    excludes=[exclude_ac, exclude_ac2, []],\n",
    "    names=['AC Imitation', 'AC Reinfocement', 'PPO + GAIL'],\n",
    "    plot_name='Push Environment',\n",
    "    save_path = None\n",
    "    )"
   ]
  },
  {
   "cell_type": "code",
   "execution_count": null,
   "metadata": {},
   "outputs": [],
   "source": [
    "from active_critic.analyze_stats.push_TQC_PPO_GAIL_5000_10000 import run_exp\n",
    "run_exp()"
   ]
  },
  {
   "cell_type": "code",
   "execution_count": null,
   "metadata": {},
   "outputs": [],
   "source": [
    "AC_path = '/home/hendrik/Documents/master_project/LokalData/server/AC/AC_var_2023-02-22_val_1000'\n",
    "bl_path = '/home/hendrik/Documents/master_project/LokalData/server/baselines/Baselines_Stats_GAIL_2023-02-22/'\n",
    "\n",
    "include_ac = ['push', '20','True', 'stats']\n",
    "exclude_ac = ['optimize']\n",
    "\n",
    "include_bl = ['demonstrations_20', 'learner', 'push', 'PPO', '0.0001']\n",
    "exclude_bl = []\n",
    "\n",
    "\n",
    "save_path = '/home/hendrik/Documents/master_project/LokalData/server/Stats for MA/Push 6/'\n",
    "\n",
    "make_plot(\n",
    "    paths=[AC_path, bl_path], \n",
    "    includes=[include_ac, include_bl], \n",
    "    excludes=[exclude_ac, exclude_bl],\n",
    "    names=['AC', 'PPO + GAIL'],\n",
    "    plot_name='Push Environment',\n",
    "    save_path = None\n",
    "    )"
   ]
  },
  {
   "cell_type": "code",
   "execution_count": null,
   "metadata": {},
   "outputs": [],
   "source": [
    "AC_path = '/home/hendrik/Documents/master_project/LokalData/server/AC/AC_var_2023-02-22/'\n",
    "bl_path = '/home/hendrik/Documents/master_project/LokalData/server/baselines/Baselines_Stats_GAIL_2023-02-22/'\n",
    "\n",
    "include_ac1 = ['push', '15','False', 'stats']\n",
    "exclude_ac1 = ['optimize']\n",
    "\n",
    "include_ac2 = ['push', '15','True', 'stats']\n",
    "exclude_ac2 = ['optimize']\n",
    "\n",
    "save_path = '/home/hendrik/Documents/master_project/LokalData/server/Stats for MA/Push 6/'\n",
    "\n",
    "make_plot(\n",
    "    paths=[AC_path, AC_path], \n",
    "    includes=[include_ac1, include_ac2], \n",
    "    excludes=[exclude_ac1, []],\n",
    "    names=['AC', 'AC Imitation'],\n",
    "    plot_name='Push Environment',\n",
    "    save_path = None\n",
    "    )"
   ]
  },
  {
   "cell_type": "code",
   "execution_count": null,
   "metadata": {},
   "outputs": [],
   "source": [
    "AC_path = '/home/hendrik/Documents/master_project/LokalData/server/AC/AC_var_test_2023-02-21'\n",
    "bl_path = '/home/hendrik/Documents/master_project/LokalData/server/baselines/Baselines_Stats_GAIL_2023-02-21'\n",
    "\n",
    "include_ac = ['pickplace demonstrations: 6, im_ph:False', 'stats']\n",
    "exclude_ac = ['optimize']\n",
    "\n",
    "include_bl14 = ['demonstrations_14', 'learner', 'push', 'PPO']\n",
    "exclude_bl = []\n",
    "\n",
    "include_bl10 = ['demonstrations_10', 'learner', 'push', 'PPO']\n",
    "exclude_bl = []\n",
    "\n",
    "include_bl6 = ['demonstrations_6', 'learner', 'push', 'TQC', 'id_0']\n",
    "exclude_bl = []\n",
    "\n",
    "save_path = '/home/hendrik/Documents/master_project/LokalData/server/Stats for MA/Push 6/'\n",
    "\n",
    "make_plot(\n",
    "    paths=[bl_path, bl_path, bl_path], \n",
    "    includes=[include_bl14, include_bl10, include_bl6], \n",
    "    excludes=[exclude_bl, exclude_bl, exclude_bl],\n",
    "    names=['14', '10', '6'],\n",
    "    plot_name='Push Environment',\n",
    "    save_path = save_path\n",
    "    )"
   ]
  },
  {
   "cell_type": "code",
   "execution_count": null,
   "metadata": {},
   "outputs": [],
   "source": [
    "AC_path = '/home/hendrik/Documents/master_project/LokalData/server/Stats for MA/pickplace 14/AC/'\n",
    "PPOGail = '/home/hendrik/Documents/master_project/LokalData/server/Stats for MA/pickplace 14/PPO GAIL'\n",
    "TQCPath = '/home/hendrik/Documents/master_project/LokalData/server/Stats for MA/pickplace 14/TQC GAIL'\n",
    "\n",
    "include_ac = ['stats']\n",
    "exclude_ac = ['optimize']\n",
    "\n",
    "include_PPOGail = ['learner']\n",
    "exclude_bl = []\n",
    "\n",
    "include_TQC = ['learner']\n",
    "exclude_bl = []\n",
    "\n",
    "save_path = '/home/hendrik/Documents/master_project/LokalData/server/Stats for MA/PickPlace_14/'\n",
    "\n",
    "make_plot(\n",
    "    paths=[AC_path, PPOGail, TQCPath], \n",
    "    includes=[include_ac, include_PPOGail, include_TQC], \n",
    "    excludes=[exclude_ac, exclude_bl, exclude_bl],\n",
    "    names=['AC', 'PPO + GAIL', 'TQC + GAIL'],\n",
    "    plot_name='Pick and Place Environment',\n",
    "    save_path = None,\n",
    "    common_steps=True\n",
    "    )"
   ]
  },
  {
   "cell_type": "code",
   "execution_count": null,
   "metadata": {},
   "outputs": [],
   "source": [
    "AC_path = '/home/hendrik/Documents/master_project/LokalData/server/AC/AC_var_test_2023-02-21'\n",
    "\n",
    "include_ac = ['stats', 'window', '6']\n",
    "exclude_ac = ['optimize']\n",
    "\n",
    "\n",
    "save_path = '/home/hendrik/Documents/master_project/LokalData/server/Stats for MA/PickPlace_14/'\n",
    "\n",
    "make_plot(\n",
    "    paths=[AC_path], \n",
    "    includes=[include_ac], \n",
    "    excludes=[exclude_ac, exclude_bl, exclude_bl],\n",
    "    names=['AC'],\n",
    "    plot_name='Reach Environment',\n",
    "    save_path = None\n",
    "    )"
   ]
  },
  {
   "cell_type": "code",
   "execution_count": null,
   "metadata": {},
   "outputs": [],
   "source": []
  },
  {
   "cell_type": "code",
   "execution_count": null,
   "metadata": {},
   "outputs": [],
   "source": []
  }
 ],
 "metadata": {
  "kernelspec": {
   "display_name": "ac",
   "language": "python",
   "name": "python3"
  },
  "language_info": {
   "codemirror_mode": {
    "name": "ipython",
    "version": 3
   },
   "file_extension": ".py",
   "mimetype": "text/x-python",
   "name": "python",
   "nbconvert_exporter": "python",
   "pygments_lexer": "ipython3",
   "version": "3.10.6"
  },
  "orig_nbformat": 4,
  "vscode": {
   "interpreter": {
    "hash": "c27e8fa6375f4d15af5a5f5541d8bb88746b588c9fe1102cfd8de011d36c10c2"
   }
  }
 },
 "nbformat": 4,
 "nbformat_minor": 2
}
