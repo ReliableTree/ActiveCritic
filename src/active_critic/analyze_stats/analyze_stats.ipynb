{
 "cells": [
  {
   "cell_type": "code",
   "execution_count": null,
   "metadata": {},
   "outputs": [],
   "source": [
    "import pickle\n",
    "import numpy as np\n",
    "import os\n",
    "import matplotlib.pyplot as plt\n",
    "\n",
    "def parse_data(paths):\n",
    "    result_dict = {}\n",
    "    dicts = []\n",
    "    for path in paths:\n",
    "        with open(path, 'rb') as f:\n",
    "            dicts.append(pickle.load(f))\n",
    "    for dict in dicts:\n",
    "        for key in dict:\n",
    "            next_entrance = dict[key].reshape([1, -1])\n",
    "            if key in result_dict:\n",
    "                result_dict[key] = np.append(result_dict[key], next_entrance, axis=0)\n",
    "            else:\n",
    "                result_dict[key] = next_entrance\n",
    "    return result_dict\n",
    "\n",
    "def file_crawler(path, substrings, exclude=[]):\n",
    "    result = []\n",
    "    for root, dirs, files in os.walk(path):\n",
    "        for name in files:\n",
    "            file_path = os.path.join(root, name)\n",
    "            if all(s in file_path for s in substrings) and not any(e in file_path for e in exclude):\n",
    "                result.append(file_path)\n",
    "    print(f'for path: {path}: {len(result)}')\n",
    "    return result\n",
    "\n",
    "def plot_experiment_data(timesteps, experiments, names, plot_name, path=None, plot_closest=False):\n",
    "    # create figure and axis objects\n",
    "    fig, ax = plt.subplots()\n",
    "\n",
    "    # find the experiment with the smallest number of timesteps n_timesteps with timestep values p_timesteps\n",
    "    min_timesteps = min([len(t) for t in timesteps])\n",
    "    p_timesteps = timesteps[[len(t) for t in timesteps].index(min_timesteps)]\n",
    "    # for all other experiments, find the n_timesteps timesteps, that are the closest to p_timesteps\n",
    "\n",
    "    new_experiments = []\n",
    "    if plot_closest:\n",
    "        for exp in range(len(experiments)):\n",
    "            if timesteps[exp][0] != 0:\n",
    "                experiments[exp] = np.concatenate((np.zeros_like(experiments[exp][:,:1]), experiments[exp]), axis=1)\n",
    "                timesteps[exp] = np.concatenate((np.zeros_like(timesteps[exp][:1]), timesteps[exp]), axis=0)\n",
    "            dist_timesteps = (timesteps[exp][None,:] - p_timesteps[:, None])**2\n",
    "            ind_new_timesteps = np.argmin(dist_timesteps, axis=1)\n",
    "            new_experiments.append(experiments[exp][:, ind_new_timesteps])\n",
    "    else:\n",
    "        new_experiments = experiments\n",
    "            \n",
    "\n",
    "    # loop over experiments\n",
    "    for i, experiment in enumerate(new_experiments):\n",
    "        # calculate mean and standard deviation of each time step for this experiment\n",
    "        mean_data = np.mean(experiment, axis=0)\n",
    "        std_data = 1 / np.sqrt(experiment.shape[0]) * np.std(experiment, axis=0)\n",
    "\n",
    "        # plot mean data as a line and shade area between ±1 standard deviation\n",
    "        if plot_closest:\n",
    "            # plot the experiments at those timesteps\n",
    "            ax.plot(p_timesteps, mean_data, '-o', markersize=5, label=names[i])\n",
    "            ax.fill_between(p_timesteps, mean_data-std_data, mean_data+std_data, alpha=0.3)\n",
    "        else:\n",
    "            ax.plot(timesteps[i], mean_data, '-o', markersize=5, label=names[i])\n",
    "            ax.fill_between(timesteps[i], mean_data-std_data, mean_data+std_data, alpha=0.3)\n",
    "\n",
    "    # add labels, title, and legend to the plot\n",
    "    ax.set_xlabel('Number Sampled Trajectories')\n",
    "    ax.set_ylabel('Success Rate')\n",
    "    ax.set_title(plot_name)\n",
    "    ax.legend()\n",
    "\n",
    "def make_plot(paths, includes, excludes, names, plot_name, save_path = None, plot_closest=False):\n",
    "    abs_file_path_list = []\n",
    "    \n",
    "    for i in range(len(paths)):\n",
    "        abs_file_path_list.append(file_crawler(path=paths[i], substrings=includes[i], exclude=excludes[i]))\n",
    "    dicts = []\n",
    "    \n",
    "    for result in abs_file_path_list:\n",
    "        dicts.append(parse_data(paths=result))\n",
    "\n",
    "    plot_experiment_data(\n",
    "        timesteps=[result_dict['step'][0] for result_dict in dicts], \n",
    "        experiments=[result_dict['success_rate'] for result_dict in dicts],\n",
    "        names=names,\n",
    "        plot_name=plot_name,\n",
    "        path=save_path,\n",
    "        plot_closest=plot_closest\n",
    "        )"
   ]
  },
  {
   "cell_type": "code",
   "execution_count": 1,
   "metadata": {},
   "outputs": [
    {
     "name": "stdout",
     "output_type": "stream",
     "text": [
      "tensor([[False, False,  True],\n",
      "        [False,  True, False]])\n"
     ]
    },
    {
     "name": "stderr",
     "output_type": "stream",
     "text": [
      "/home/hendrik/anaconda3/envs/ac/lib/python3.10/site-packages/tqdm/auto.py:22: TqdmWarning: IProgress not found. Please update jupyter and ipywidgets. See https://ipywidgets.readthedocs.io/en/stable/user_install.html\n",
      "  from .autonotebook import tqdm as notebook_tqdm\n"
     ]
    }
   ],
   "source": [
    "import torch\n",
    "\n",
    "# input tensor\n",
    "x = torch.tensor([[1, 2, 3], [3, 2, 1]])\n",
    "\n",
    "# start index\n",
    "ind = 1\n",
    "\n",
    "# compute max values along n dimension\n",
    "max_values, _ = x[:, ind:].max(dim=1)\n",
    "\n",
    "# create mask\n",
    "mask = x[:, ind:] == max_values.unsqueeze(1)\n",
    "\n",
    "# pad with zeros for indices before start index\n",
    "mask = torch.cat([torch.zeros((x.size(0), ind), dtype=torch.bool), mask], dim=1)\n",
    "\n",
    "print(mask)\n"
   ]
  },
  {
   "cell_type": "code",
   "execution_count": null,
   "metadata": {},
   "outputs": [],
   "source": [
    "AC_path = '/data/bing/hendrik/AC_var_2023-03-21'\n",
    "bl_path = '/data/bing/hendrik/Baselines_Stats_GAIL_2023-03-21'\n",
    "\n",
    "include_ac_0 = ['stats', 'drawerclose tiny planner trainin eps: 1000 opt mode: actor demonstrations: 0, im_ph:False, training_episodes: 10, min critic: 5e-05, wd: 0.1, val_every: 1000']\n",
    "exclude_ac_0 = ['optimized']\n",
    "\n",
    "include_TQC_0 = ['learner', 'TQC_drawerclose_lr_1e-06_demonstrations_0_n_samples_20000']\n",
    "exclude_TQC_0 = []\n",
    "\n",
    "include_PPO_0 = ['learner', 'PPO_drawerclose_lr_1e-05_demonstrations_0_n_samples_20000']\n",
    "exclude_PPO_0 = []\n",
    "\n",
    "\n",
    "make_plot(\n",
    "    paths=[AC_path, bl_path, bl_path], \n",
    "    includes=[include_ac_0, include_TQC_0, include_PPO_0], \n",
    "    excludes=[exclude_ac_0, exclude_TQC_0, exclude_PPO_0],\n",
    "    names=['AC Imitation Only', 'AC Reinforcement', 'PPO + GAIL', 'BC + RPPO', 'TQC + GAIL'],\n",
    "    plot_name='Reach Environment',\n",
    "    save_path = None,\n",
    "    plot_closest=True\n",
    "    )"
   ]
  },
  {
   "cell_type": "code",
   "execution_count": null,
   "metadata": {},
   "outputs": [],
   "source": [
    "AC_path = '/home/hendrik/Documents/master_project/LokalData/server/AC/AC_var_2023-03-07'\n",
    "bl_path = '/home/hendrik/Documents/master_project/LokalData/server/baselines/Baselines_Stats_GAIL_2023-03-07'\n",
    "\n",
    "include_ac_reach_4_im = ['reach', 'stats', 'True', 'demonstrations: 4']\n",
    "exclude_ac_imitation = ['optimized']\n",
    "\n",
    "include_ac_reach_4_ref = ['reach', 'stats', 'False', 'demonstrations: 4']\n",
    "exclude_ac_imitation = ['optimized']\n",
    "\n",
    "include_PPO_reach_4 = ['reach', 'demonstrations_4', 'PPO', 'learner_stats_gail']\n",
    "exclude_bl_PPO = ['RPPO']\n",
    "\n",
    "include_RPPO_reach_4 = ['reach', 'demonstrations_4', 'RPPO', 'learner_stats_rec_PPO_stepsize_10']\n",
    "exclude_bl_RPPO = []\n",
    "\n",
    "include_TQC_reach_4 = ['reach', 'demonstrations_4', 'TQC', 'learner_stats_gail_stepsize_10']\n",
    "exclude_bl_RPPO = []\n",
    "\n",
    "save_path = '/home/hendrik/Documents/master_project/LokalData/server/Stats for MA/reach 4'\n",
    "\n",
    "make_plot(\n",
    "    paths=[AC_path, AC_path, bl_path, bl_path, bl_path], \n",
    "    includes=[include_ac_reach_4_im, include_ac_reach_4_ref, include_PPO_reach_4, include_RPPO_reach_4, include_TQC_reach_4], \n",
    "    excludes=[exclude_ac_imitation, exclude_ac_imitation, exclude_bl_PPO, exclude_bl_RPPO, exclude_bl_RPPO],\n",
    "    names=['AC Imitation Only', 'AC Reinforcement', 'PPO + GAIL', 'BC + RPPO', 'TQC + GAIL'],\n",
    "    plot_name='Reach Environment',\n",
    "    save_path = save_path\n",
    "    )"
   ]
  },
  {
   "cell_type": "code",
   "execution_count": null,
   "metadata": {},
   "outputs": [],
   "source": [
    "AC_path = '/home/hendrik/Documents/master_project/LokalData/server/AC/AC_var_2023-03-22'\n",
    "\n",
    "bl_path = '/home/hendrik/Documents/master_project/LokalData/server/baselines/Baselines_Stats_GAIL_2023-03-20/'\n",
    "\n",
    "include_bl_TQC = ['learner', 'TQC_reach_lr_1e-06_demonstrations_4_n_samples_20000_id_0']\n",
    "exclude_bl_TQC = []\n",
    "\n",
    "include_bl_PPO = ['learner', 'PPO_reach_lr_1e-05_demonstrations_4_n_samples_20000_id_0']\n",
    "exclude_bl_PPO = []\n",
    "\n",
    "include_ac = ['reach tiny planner trainin eps: 20000 opt mode: actor+plan demonstrations: 1, im_ph:False, training_episodes: 10, min critic: 5e-05, wd: 0.1, val_every: 2000', 'stats']\n",
    "exclude_ac = ['optimize', 'id: 1']\n",
    "\n",
    "include_ac_opt = ['reach tiny planner trainin eps: 20000 opt mode: actor+plan demonstrations: 1, im_ph:False, training_episodes: 10, min critic: 5e-05, wd: 0.1, val_every: 2000', 'statsoptimize']\n",
    "exclude_ac_opt = ['id: 1']\n",
    "\n",
    "save_path = '/home/hendrik/Documents/master_project/LokalData/server/Stats for MA/PickPlace_14/'\n",
    "\n",
    "make_plot(\n",
    "    paths=[AC_path, bl_path, bl_path], \n",
    "    includes=[include_ac, include_bl_TQC, include_bl_PPO], \n",
    "    excludes=[exclude_ac, exclude_bl_TQC, exclude_bl_PPO],\n",
    "    names=['AC', 'AC Opt', 'TQC + GAIL'],\n",
    "    plot_name='Pick and Place Environment',\n",
    "    save_path = None,\n",
    "    plot_closest=False\n",
    "    )"
   ]
  },
  {
   "cell_type": "code",
   "execution_count": null,
   "metadata": {},
   "outputs": [],
   "source": [
    "from active_critic.utils.gym_utils import make_policy_dict\n",
    "pd = make_policy_dict()"
   ]
  },
  {
   "cell_type": "code",
   "execution_count": null,
   "metadata": {},
   "outputs": [],
   "source": [
    "for key in pd:\n",
    "    print(key)"
   ]
  },
  {
   "cell_type": "code",
   "execution_count": null,
   "metadata": {},
   "outputs": [],
   "source": [
    "from active_critic.analyze_stats.push_10_RPPO_TQC_PPO import make_final_plot"
   ]
  },
  {
   "cell_type": "code",
   "execution_count": null,
   "metadata": {},
   "outputs": [],
   "source": [
    "make_final_plot()"
   ]
  },
  {
   "cell_type": "code",
   "execution_count": null,
   "metadata": {},
   "outputs": [],
   "source": [
    "AC_path = '/home/hendrik/Documents/master_project/LokalData/server/AC/AC_var_2023-03-20'\n",
    "\n",
    "include_ac = ['stats']\n",
    "exclude_ac = ['optimize', 'actions']\n",
    "\n",
    "\n",
    "save_path = '/home/hendrik/Documents/master_project/LokalData/server/Stats for MA/PickPlace_14/'\n",
    "\n",
    "make_plot(\n",
    "    paths=[AC_path], \n",
    "    includes=[include_ac], \n",
    "    excludes=[exclude_ac],\n",
    "    names=['AC', 'PPO + GAIL', 'TQC + GAIL'],\n",
    "    plot_name='Pick and Place Environment',\n",
    "    save_path = None,\n",
    "    plot_closest=True\n",
    "    )"
   ]
  },
  {
   "cell_type": "code",
   "execution_count": null,
   "metadata": {},
   "outputs": [],
   "source": [
    "PPO_path = '/home/hendrik/Documents/master_project/LokalData/server/baselines/Baselines_Stats_GAIL_2023-03-20'\n",
    "\n",
    "include_PPO = ['PPO_reach_lr_1e-05_demonstrations_4_n_samples_20000', 'learner']\n",
    "exclude_PPO = ['id_1']\n",
    "\n",
    "\n",
    "save_path = '/home/hendrik/Documents/master_project/LokalData/server/Stats for MA/PickPlace_14/'\n",
    "\n",
    "make_plot(\n",
    "    paths=[PPO_path], \n",
    "    includes=[include_PPO], \n",
    "    excludes=[exclude_PPO],\n",
    "    names=['PPO', 'PPO + GAIL', 'TQC + GAIL'],\n",
    "    plot_name='Reach Environment',\n",
    "    save_path = None,\n",
    "    plot_closest=False\n",
    "    )"
   ]
  },
  {
   "cell_type": "code",
   "execution_count": null,
   "metadata": {},
   "outputs": [],
   "source": [
    "import torch as th\n",
    "action_histories = th.arange(0, 18).reshape([1, -1])"
   ]
  },
  {
   "cell_type": "code",
   "execution_count": null,
   "metadata": {},
   "outputs": [],
   "source": [
    "action_histories"
   ]
  },
  {
   "cell_type": "code",
   "execution_count": null,
   "metadata": {},
   "outputs": [],
   "source": [
    "action_histories = action_histories.reshape([2, 3, 3, 1]).repeat([1,1,1,2])"
   ]
  },
  {
   "cell_type": "code",
   "execution_count": null,
   "metadata": {},
   "outputs": [],
   "source": [
    "action_histories.shape"
   ]
  },
  {
   "cell_type": "code",
   "execution_count": 122,
   "metadata": {},
   "outputs": [],
   "source": [
    "def pick_action_from_history(action_histories, steps):\n",
    "    batch_count=th.arange(action_histories.shape[0]).reshape([1, -1]).repeat([action_histories.shape[1]*action_histories.shape[-1], 1]).T.reshape([-1])\n",
    "    time_count = th.arange(action_histories.shape[1]).reshape([1, -1]).repeat([action_histories.shape[0],1]).reshape([1, action_histories.shape[0],-1]).repeat([action_histories.shape[-1], 1, 1]).transpose(-1,-2).reshape(-1)\n",
    "    dim_count = th.arange(action_histories.shape[-1]).reshape([1, -1]).repeat([action_histories.shape[0]*action_histories.shape[1], 1]).reshape([-1])\n",
    "    steps_count = steps.reshape([1, -1]).repeat([action_histories.shape[1] * action_histories.shape[-1], 1]).T.reshape([-1])\n",
    "    result = action_histories[tuple((batch_count, steps_count, time_count, dim_count))].reshape([action_histories.shape[0], action_histories.shape[1], action_histories.shape[-1]])\n",
    "    return result"
   ]
  },
  {
   "cell_type": "code",
   "execution_count": 129,
   "metadata": {},
   "outputs": [],
   "source": [
    "a = th.rand([2, 3, 3, 4])\n",
    "steps = th.tensor([1, 2])"
   ]
  },
  {
   "cell_type": "code",
   "execution_count": 130,
   "metadata": {},
   "outputs": [],
   "source": [
    "actions_t = pick_action_from_history(action_histories=a, steps=steps)"
   ]
  },
  {
   "cell_type": "code",
   "execution_count": 131,
   "metadata": {},
   "outputs": [
    {
     "data": {
      "text/plain": [
       "tensor([[[[0.4694, 0.9656, 0.0451, 0.8911],\n",
       "          [0.3326, 0.9649, 0.7245, 0.7924],\n",
       "          [0.0497, 0.1718, 0.5007, 0.0923]],\n",
       "\n",
       "         [[0.5960, 0.7843, 0.4984, 0.6341],\n",
       "          [0.5738, 0.6591, 0.7843, 0.1978],\n",
       "          [0.8049, 0.1730, 0.7157, 0.9703]],\n",
       "\n",
       "         [[0.9737, 0.8585, 0.8533, 0.0998],\n",
       "          [0.3952, 0.5116, 0.5280, 0.2939],\n",
       "          [0.3960, 0.4060, 0.7106, 0.5230]]],\n",
       "\n",
       "\n",
       "        [[[0.7548, 0.5367, 0.5010, 0.8141],\n",
       "          [0.8139, 0.5570, 0.3366, 0.6895],\n",
       "          [0.1869, 0.0506, 0.6670, 0.2290]],\n",
       "\n",
       "         [[0.8653, 0.6222, 0.8731, 0.3655],\n",
       "          [0.8008, 0.7582, 0.1882, 0.3028],\n",
       "          [0.5343, 0.6408, 0.3810, 0.7896]],\n",
       "\n",
       "         [[0.2515, 0.8438, 0.1788, 0.8419],\n",
       "          [0.7853, 0.1220, 0.1752, 0.8489],\n",
       "          [0.4351, 0.4264, 0.1128, 0.9565]]]])"
      ]
     },
     "execution_count": 131,
     "metadata": {},
     "output_type": "execute_result"
    }
   ],
   "source": [
    "a"
   ]
  },
  {
   "cell_type": "code",
   "execution_count": 132,
   "metadata": {},
   "outputs": [
    {
     "data": {
      "text/plain": [
       "tensor([[[0.5960, 0.7843, 0.7843, 0.1978],\n",
       "         [0.8049, 0.1730, 0.4984, 0.6341],\n",
       "         [0.5738, 0.6591, 0.7157, 0.9703]],\n",
       "\n",
       "        [[0.2515, 0.8438, 0.1752, 0.8489],\n",
       "         [0.4351, 0.4264, 0.1788, 0.8419],\n",
       "         [0.7853, 0.1220, 0.1128, 0.9565]]])"
      ]
     },
     "execution_count": 132,
     "metadata": {},
     "output_type": "execute_result"
    }
   ],
   "source": [
    "actions_t"
   ]
  },
  {
   "cell_type": "code",
   "execution_count": null,
   "metadata": {},
   "outputs": [],
   "source": [
    "AC_path = '/home/hendrik/Documents/master_project/LokalData/server/Stats for MA/pickplace 14/AC/'\n",
    "PPOGail = '/home/hendrik/Documents/master_project/LokalData/server/Stats for MA/pickplace 14/PPO GAIL'\n",
    "TQCPath = '/home/hendrik/Documents/master_project/LokalData/server/Stats for MA/pickplace 14/TQC GAIL'\n",
    "RPPOpath = '/home/hendrik/Documents/master_project/LokalData/server/Stats for MA/pickplace 14/RPPO'\n",
    "\n",
    "include_ac = ['stats']\n",
    "exclude_ac = ['optimize']\n",
    "\n",
    "include_PPOGail = ['learner']\n",
    "exclude_bl = []\n",
    "\n",
    "include_TQC = ['learner', 'lr_1e-07']\n",
    "exclude_bl_TQC = []\n",
    "\n",
    "include_RPPO = ['learner']\n",
    "exclude_RPPO = ['id_2']\n",
    "\n",
    "save_path = '/home/hendrik/Documents/master_project/LokalData/server/Stats for MA/PickPlace_14/'\n",
    "\n",
    "\n",
    "make_plot(\n",
    "    paths=[AC_path, PPOGail, TQCPath, RPPOpath], \n",
    "    includes=[include_ac, include_PPOGail, include_TQC, include_RPPO], \n",
    "    excludes=[exclude_ac, exclude_bl, exclude_bl_TQC, exclude_RPPO],\n",
    "    names=['AC', 'PPO + GAIL', 'TQC + GAIL', 'RPPO + BC'],\n",
    "    plot_name='Pick and Place Environment',\n",
    "    save_path = None,\n",
    "    plot_closest=True\n",
    "    )"
   ]
  },
  {
   "cell_type": "code",
   "execution_count": null,
   "metadata": {},
   "outputs": [],
   "source": [
    "AC_path = '/home/hendrik/Documents/master_project/LokalData/server/AC/AC_var_2023-02-23'\n",
    "bl_path = '/home/hendrik/Documents/master_project/LokalData/server/baselines/Baselines_Stats_GAIL_2023-02-22/'\n",
    "bl_RPPO_batch = '/home/hendrik/Documents/master_project/LokalData/server/baselines/Baselines_Stats_GAIL_2023-03-21'\n",
    "\n",
    "include_ac = ['push demonstrations: 10, im_ph:False, training_episodes: 10, min critic: 5e-05, wd: 0.01, val_every: 5000', 'stats']\n",
    "exclude_ac = ['optimized']\n",
    "\n",
    "\n",
    "\n",
    "include_bl_PPO = ['demonstrations_10', 'learner', 'push', 'PPO', '0.0001']\n",
    "exclude_bl = []\n",
    "\n",
    "include_bl_TQC = ['TQC_GAIL_push_lr_1e-07_demonstrations_10', 'learner']\n",
    "exclude_bl = []\n",
    "\n",
    "include_bl_RPPO = ['RPPO_push_lr_1e-06_demonstrations_10_id', 'learner']\n",
    "exclude_bl = []\n",
    "\n",
    "save_path = '/home/hendrik/Documents/master_project/LokalData/server/Stats for MA/Push 6/'\n",
    "\n",
    "make_plot(\n",
    "    paths=[AC_path, bl_RPPO_batch, bl_path, bl_path], \n",
    "    includes=[include_ac, include_bl_RPPO, include_bl_PPO, include_bl_TQC], \n",
    "    excludes=[exclude_ac, exclude_bl, exclude_bl, exclude_bl],\n",
    "    names=['AC', 'RPPO', 'PPO + GAIL', 'TQC + GAIL'],\n",
    "    plot_name='Push Environment',\n",
    "    save_path = None,\n",
    "    plot_closest=True\n",
    "    )"
   ]
  },
  {
   "cell_type": "code",
   "execution_count": null,
   "metadata": {},
   "outputs": [],
   "source": [
    "AC_Path = '/home/hendrik/Documents/master_project/LokalData/server/AC/AC_var_2023-03-01/'\n",
    "\n",
    "include_bl = ['pickplace demonstrations: 14, im_ph:False, training_episodes: 10, min critic: 5e-05, wd: 0.01, val_every: 2000', 'stats']\n",
    "exclude_bl = ['20000']\n",
    "\n",
    "save_path = '/home/hendrik/Documents/master_project/LokalData/server/Stats for MA/Push 6/'\n",
    "\n",
    "make_plot(\n",
    "    paths=[AC_Path], \n",
    "    includes=[include_bl, include_ac_opt, include_bl], \n",
    "    excludes=[exclude_bl, exclude_ac_opt, exclude_bl],\n",
    "    names=['AC', 'AC Imitation', 'PPO + GAIL'],\n",
    "    plot_name='Push Environment',\n",
    "    save_path = None\n",
    "    )"
   ]
  },
  {
   "cell_type": "code",
   "execution_count": null,
   "metadata": {},
   "outputs": [],
   "source": [
    "AC_path = '/home/hendrik/Documents/master_project/LokalData/server/AC/AC_var_2023-02-23'\n",
    "bl_path = '/home/hendrik/Documents/master_project/LokalData/server/baselines/Baselines_Stats_GAIL_2023-02-22/'\n",
    "\n",
    "\n",
    "include_ac = ['push', '20','True', 'stats', '2000']\n",
    "exclude_ac = ['optimize']\n",
    "\n",
    "include_ac2 = ['push', '20','False', 'stats', '5000']\n",
    "exclude_ac2 = ['optimize']\n",
    "\n",
    "include_bl = ['demonstrations_20', 'learner', 'push', 'PPO', '0.0001']\n",
    "exclude_bl = []\n",
    "\n",
    "save_path = '/home/hendrik/Documents/master_project/LokalData/server/Stats for MA/Push 6/'\n",
    "\n",
    "make_plot(\n",
    "    paths=[AC_path, AC_path, bl_path], \n",
    "    includes=[include_ac, include_ac2, include_bl], \n",
    "    excludes=[exclude_ac, exclude_ac2, []],\n",
    "    names=['AC Imitation', 'AC Reinfocement', 'PPO + GAIL'],\n",
    "    plot_name='Push Environment',\n",
    "    save_path = None\n",
    "    )"
   ]
  },
  {
   "cell_type": "code",
   "execution_count": null,
   "metadata": {},
   "outputs": [],
   "source": [
    "from active_critic.analyze_stats.push_TQC_PPO_GAIL_5000_10000 import run_exp\n",
    "run_exp()"
   ]
  },
  {
   "cell_type": "code",
   "execution_count": null,
   "metadata": {},
   "outputs": [],
   "source": [
    "AC_path = '/home/hendrik/Documents/master_project/LokalData/server/AC/AC_var_2023-02-22_val_1000'\n",
    "bl_path = '/home/hendrik/Documents/master_project/LokalData/server/baselines/Baselines_Stats_GAIL_2023-02-22/'\n",
    "\n",
    "include_ac = ['push', '20','True', 'stats']\n",
    "exclude_ac = ['optimize']\n",
    "\n",
    "include_bl = ['demonstrations_20', 'learner', 'push', 'PPO', '0.0001']\n",
    "exclude_bl = []\n",
    "\n",
    "\n",
    "save_path = '/home/hendrik/Documents/master_project/LokalData/server/Stats for MA/Push 6/'\n",
    "\n",
    "make_plot(\n",
    "    paths=[AC_path, bl_path], \n",
    "    includes=[include_ac, include_bl], \n",
    "    excludes=[exclude_ac, exclude_bl],\n",
    "    names=['AC', 'PPO + GAIL'],\n",
    "    plot_name='Push Environment',\n",
    "    save_path = None\n",
    "    )"
   ]
  },
  {
   "cell_type": "code",
   "execution_count": null,
   "metadata": {},
   "outputs": [],
   "source": [
    "AC_path = '/home/hendrik/Documents/master_project/LokalData/server/AC/AC_var_2023-02-22/'\n",
    "bl_path = '/home/hendrik/Documents/master_project/LokalData/server/baselines/Baselines_Stats_GAIL_2023-02-22/'\n",
    "\n",
    "include_ac1 = ['push', '15','False', 'stats']\n",
    "exclude_ac1 = ['optimize']\n",
    "\n",
    "include_ac2 = ['push', '15','True', 'stats']\n",
    "exclude_ac2 = ['optimize']\n",
    "\n",
    "save_path = '/home/hendrik/Documents/master_project/LokalData/server/Stats for MA/Push 6/'\n",
    "\n",
    "make_plot(\n",
    "    paths=[AC_path, AC_path], \n",
    "    includes=[include_ac1, include_ac2], \n",
    "    excludes=[exclude_ac1, []],\n",
    "    names=['AC', 'AC Imitation'],\n",
    "    plot_name='Push Environment',\n",
    "    save_path = None\n",
    "    )"
   ]
  },
  {
   "cell_type": "code",
   "execution_count": null,
   "metadata": {},
   "outputs": [],
   "source": [
    "AC_path = '/home/hendrik/Documents/master_project/LokalData/server/AC/AC_var_test_2023-02-21'\n",
    "bl_path = '/home/hendrik/Documents/master_project/LokalData/server/baselines/Baselines_Stats_GAIL_2023-02-21'\n",
    "\n",
    "include_ac = ['pickplace demonstrations: 6, im_ph:False', 'stats']\n",
    "exclude_ac = ['optimize']\n",
    "\n",
    "include_bl14 = ['demonstrations_14', 'learner', 'push', 'PPO']\n",
    "exclude_bl = []\n",
    "\n",
    "include_bl10 = ['demonstrations_10', 'learner', 'push', 'PPO']\n",
    "exclude_bl = []\n",
    "\n",
    "include_bl6 = ['demonstrations_6', 'learner', 'push', 'TQC', 'id_0']\n",
    "exclude_bl = []\n",
    "\n",
    "save_path = '/home/hendrik/Documents/master_project/LokalData/server/Stats for MA/Push 6/'\n",
    "\n",
    "make_plot(\n",
    "    paths=[bl_path, bl_path, bl_path], \n",
    "    includes=[include_bl14, include_bl10, include_bl6], \n",
    "    excludes=[exclude_bl, exclude_bl, exclude_bl],\n",
    "    names=['14', '10', '6'],\n",
    "    plot_name='Push Environment',\n",
    "    save_path = save_path\n",
    "    )"
   ]
  },
  {
   "cell_type": "code",
   "execution_count": null,
   "metadata": {},
   "outputs": [],
   "source": [
    "AC_path = '/home/hendrik/Documents/master_project/LokalData/server/Stats for MA/pickplace 14/AC/'\n",
    "PPOGail = '/home/hendrik/Documents/master_project/LokalData/server/Stats for MA/pickplace 14/PPO GAIL'\n",
    "TQCPath = '/home/hendrik/Documents/master_project/LokalData/server/Stats for MA/pickplace 14/TQC GAIL'\n",
    "\n",
    "include_ac = ['stats']\n",
    "exclude_ac = ['optimize']\n",
    "\n",
    "include_PPOGail = ['learner']\n",
    "exclude_bl = []\n",
    "\n",
    "include_TQC = ['learner']\n",
    "exclude_bl = []\n",
    "\n",
    "save_path = '/home/hendrik/Documents/master_project/LokalData/server/Stats for MA/PickPlace_14/'\n",
    "\n",
    "make_plot(\n",
    "    paths=[AC_path, PPOGail, TQCPath], \n",
    "    includes=[include_ac, include_PPOGail, include_TQC], \n",
    "    excludes=[exclude_ac, exclude_bl, exclude_bl],\n",
    "    names=['AC', 'PPO + GAIL', 'TQC + GAIL'],\n",
    "    plot_name='Pick and Place Environment',\n",
    "    save_path = None,\n",
    "    common_steps=True\n",
    "    )"
   ]
  },
  {
   "cell_type": "code",
   "execution_count": null,
   "metadata": {},
   "outputs": [],
   "source": [
    "AC_path = '/home/hendrik/Documents/master_project/LokalData/server/AC/AC_var_test_2023-02-21'\n",
    "\n",
    "include_ac = ['stats', 'window', '6']\n",
    "exclude_ac = ['optimize']\n",
    "\n",
    "\n",
    "save_path = '/home/hendrik/Documents/master_project/LokalData/server/Stats for MA/PickPlace_14/'\n",
    "\n",
    "make_plot(\n",
    "    paths=[AC_path], \n",
    "    includes=[include_ac], \n",
    "    excludes=[exclude_ac, exclude_bl, exclude_bl],\n",
    "    names=['AC'],\n",
    "    plot_name='Reach Environment',\n",
    "    save_path = None\n",
    "    )"
   ]
  },
  {
   "cell_type": "code",
   "execution_count": null,
   "metadata": {},
   "outputs": [],
   "source": []
  },
  {
   "cell_type": "code",
   "execution_count": null,
   "metadata": {},
   "outputs": [],
   "source": []
  }
 ],
 "metadata": {
  "kernelspec": {
   "display_name": "ac",
   "language": "python",
   "name": "python3"
  },
  "language_info": {
   "codemirror_mode": {
    "name": "ipython",
    "version": 3
   },
   "file_extension": ".py",
   "mimetype": "text/x-python",
   "name": "python",
   "nbconvert_exporter": "python",
   "pygments_lexer": "ipython3",
   "version": "3.10.6"
  },
  "orig_nbformat": 4,
  "vscode": {
   "interpreter": {
    "hash": "c27e8fa6375f4d15af5a5f5541d8bb88746b588c9fe1102cfd8de011d36c10c2"
   }
  }
 },
 "nbformat": 4,
 "nbformat_minor": 2
}
