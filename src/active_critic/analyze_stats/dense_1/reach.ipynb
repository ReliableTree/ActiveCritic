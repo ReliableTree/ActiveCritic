{
 "cells": [
  {
   "cell_type": "code",
   "execution_count": 2,
   "metadata": {},
   "outputs": [],
   "source": [
    "from active_critic.analyze_stats.analyze_stats import make_plot"
   ]
  },
  {
   "cell_type": "code",
   "execution_count": 3,
   "metadata": {},
   "outputs": [
    {
     "ename": "TypeError",
     "evalue": "make_plot() got an unexpected keyword argument 'mean'",
     "output_type": "error",
     "traceback": [
      "\u001b[0;31m---------------------------------------------------------------------------\u001b[0m",
      "\u001b[0;31mTypeError\u001b[0m                                 Traceback (most recent call last)",
      "Cell \u001b[0;32mIn [3], line 6\u001b[0m\n\u001b[1;32m      3\u001b[0m include_AC \u001b[39m=\u001b[39m [\u001b[39m'\u001b[39m\u001b[39mstatsoptimized\u001b[39m\u001b[39m'\u001b[39m, \u001b[39m'\u001b[39m\u001b[39mpickplace only positive pickplace opt steps: 3 trainin eps: 2000 opt mode: actor+plan demonstrations: 4, im_ph:False, training_episodes: 10, min critic: 1e-05, wd: 0.01, val_every: 1000 run id: 0\u001b[39m\u001b[39m'\u001b[39m]\n\u001b[1;32m      4\u001b[0m exclude_AC \u001b[39m=\u001b[39m []\n\u001b[0;32m----> 6\u001b[0m make_plot(\n\u001b[1;32m      7\u001b[0m     paths\u001b[39m=\u001b[39;49m[AC_path], \n\u001b[1;32m      8\u001b[0m     includes\u001b[39m=\u001b[39;49m[include_AC], \n\u001b[1;32m      9\u001b[0m     excludes\u001b[39m=\u001b[39;49m[exclude_AC],\n\u001b[1;32m     10\u001b[0m     names\u001b[39m=\u001b[39;49m[\u001b[39m'\u001b[39;49m\u001b[39mAC\u001b[39;49m\u001b[39m'\u001b[39;49m, \u001b[39m'\u001b[39;49m\u001b[39mPPO + BC\u001b[39;49m\u001b[39m'\u001b[39;49m, \u001b[39m'\u001b[39;49m\u001b[39mTQC + BC\u001b[39;49m\u001b[39m'\u001b[39;49m, \u001b[39m'\u001b[39;49m\u001b[39mRPPO + BC\u001b[39;49m\u001b[39m'\u001b[39;49m],\n\u001b[1;32m     11\u001b[0m     plot_name\u001b[39m=\u001b[39;49m\u001b[39m'\u001b[39;49m\u001b[39mReach\u001b[39;49m\u001b[39m'\u001b[39;49m,\n\u001b[1;32m     12\u001b[0m     save_path \u001b[39m=\u001b[39;49m \u001b[39mNone\u001b[39;49;00m,\n\u001b[1;32m     13\u001b[0m     plot_closest\u001b[39m=\u001b[39;49m\u001b[39mTrue\u001b[39;49;00m,\n\u001b[1;32m     14\u001b[0m     mean\u001b[39m=\u001b[39;49m\u001b[39mFalse\u001b[39;49;00m\n\u001b[1;32m     15\u001b[0m     )\n",
      "\u001b[0;31mTypeError\u001b[0m: make_plot() got an unexpected keyword argument 'mean'"
     ]
    }
   ],
   "source": [
    "AC_path = '/home/hendrik/Documents/master_project/LokalData/server/AC/0330_stats/'\n",
    "\n",
    "include_AC = ['statsoptimized', 'pickplace only positive pickplace opt steps: 3 trainin eps: 2000 opt mode: actor+plan demonstrations: 4, im_ph:False, training_episodes: 10, min critic: 1e-05, wd: 0.01, val_every: 1000 run id: 0']\n",
    "exclude_AC = []\n",
    "\n",
    "make_plot(\n",
    "    paths=[AC_path], \n",
    "    includes=[include_AC], \n",
    "    excludes=[exclude_AC],\n",
    "    names=['AC', 'PPO + BC', 'TQC + BC', 'RPPO + BC'],\n",
    "    plot_name='Reach',\n",
    "    save_path = None,\n",
    "    plot_closest=True,\n",
    "    mean=False\n",
    "    )"
   ]
  },
  {
   "cell_type": "code",
   "execution_count": null,
   "metadata": {},
   "outputs": [],
   "source": []
  }
 ],
 "metadata": {
  "kernelspec": {
   "display_name": "ac",
   "language": "python",
   "name": "python3"
  },
  "language_info": {
   "codemirror_mode": {
    "name": "ipython",
    "version": 3
   },
   "file_extension": ".py",
   "mimetype": "text/x-python",
   "name": "python",
   "nbconvert_exporter": "python",
   "pygments_lexer": "ipython3",
   "version": "3.10.6"
  },
  "orig_nbformat": 4,
  "vscode": {
   "interpreter": {
    "hash": "c27e8fa6375f4d15af5a5f5541d8bb88746b588c9fe1102cfd8de011d36c10c2"
   }
  }
 },
 "nbformat": 4,
 "nbformat_minor": 2
}
