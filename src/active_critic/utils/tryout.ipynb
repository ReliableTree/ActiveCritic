{
 "cells": [
  {
   "cell_type": "code",
   "execution_count": null,
   "metadata": {},
   "outputs": [],
   "source": [
    "from active_critic.utils.gym_utils import *\n",
    "from gym.spaces.box import Box"
   ]
  },
  {
   "cell_type": "code",
   "execution_count": 45,
   "metadata": {},
   "outputs": [],
   "source": [
    "class MultiEnvWrapper(gym.Wrapper):\n",
    "    def __init__(self, list_envs) -> None:\n",
    "        super().__init__(list_envs[0])\n",
    "        self.list_envs = list_envs\n",
    "        self.current_env = 0\n",
    "\n",
    "    def reset(self):\n",
    "        self.current_env = (self.current_env + 1) % len(self.list_envs)\n",
    "        self._make_observation_space()\n",
    "        obs =  super().reset()\n",
    "        obs = np.concatenate((obs[:-4], np.array([self.current_env]), obs[-4:]))\n",
    "        return obs\n",
    "\n",
    "    def step(self, action):\n",
    "\n",
    "        obs, rew, done, info = super().step(action)\n",
    "        obs = np.append(obs, self.current_env)\n",
    "        obs = np.concatenate((obs[:-4], np.array([self.current_env]), obs[-4:]))\n",
    "\n",
    "        return obs, rew, done, info\n",
    "\n",
    "    def _make_observation_space(self):\n",
    "        low = self.list_envs[self.current_env].observation_space.low\n",
    "        high = self.list_envs[self.current_env].observation_space.high\n",
    "        dtype = self.list_envs[self.current_env].observation_space.dtype\n",
    "        new_low = np.concatenate((low[:-4], np.array([0]), low[-4:]))\n",
    "        new_high = np.concatenate((high[:-4], np.array([len(self.list_envs)]), high[-4:]))\n",
    "        new_obs_space = Box(new_low, new_high, dtype=dtype)\n",
    "        self.observation_space = new_obs_space\n",
    "        self.action_space = self.list_envs[self.current_env].action_space\n",
    "\n",
    "def make_env_list(env_ids):\n",
    "    policy_dict = make_policy_dict()\n",
    "    list_envs = []\n",
    "    list_experts = []\n",
    "    for i in range(len(env_ids)):\n",
    "        exp, env_id = policy_dict[env_ids[i]]\n",
    "        env = ALL_V2_ENVIRONMENTS_GOAL_OBSERVABLE[env_id]()\n",
    "        env._freeze_rand_vec = False\n",
    "        list_envs.append(env)\n",
    "        list_experts.append(exp)\n",
    "    return list_envs, list_experts\n",
    "    \n",
    "class MultiImitationLearningWrapper:\n",
    "    def __init__(self, policies, env: GymEnv):\n",
    "        self.observation_space = env.observation_space\n",
    "        self.action_space = env.action_space\n",
    "        self.policies = policies\n",
    "\n",
    "    def predict(self, obsv, deterministic=None):\n",
    "        actions = []\n",
    "        for obs in obsv:\n",
    "            current_env = int(obs[-4])\n",
    "            actions.append(self.policies[current_env].get_action(obs))\n",
    "        return actions"
   ]
  },
  {
   "cell_type": "code",
   "execution_count": 46,
   "metadata": {},
   "outputs": [
    {
     "name": "stderr",
     "output_type": "stream",
     "text": [
      "/home/hendrik/anaconda3/envs/ac/lib/python3.10/site-packages/gym/spaces/box.py:73: UserWarning: \u001b[33mWARN: Box bound precision lowered by casting to float32\u001b[0m\n",
      "  logger.warn(\n"
     ]
    }
   ],
   "source": [
    "policy_dict = make_policy_dict()\n",
    "\n",
    "env_tag = 'reach'\n",
    "reach = ALL_V2_ENVIRONMENTS_GOAL_OBSERVABLE[policy_dict[env_tag][1]]()\n",
    "\n",
    "env_tag = 'push'\n",
    "push = ALL_V2_ENVIRONMENTS_GOAL_OBSERVABLE[policy_dict[env_tag][1]]()"
   ]
  },
  {
   "cell_type": "code",
   "execution_count": 47,
   "metadata": {},
   "outputs": [],
   "source": [
    "def make_multi_vec_env(env_ids, num_cpu, seq_len, sparse):\n",
    "\n",
    "    def make_env(env_ids, rank, seed=0):\n",
    "        def _init():\n",
    "            max_episode_steps = seq_len\n",
    "            list_envs, list_experts = make_env_list(env_ids)\n",
    "            #multi_env = MultiEnvWrapper(list_envs=list_envs)\n",
    "            multi_env = list_envs[0]\n",
    "            timelimit = TimeLimit(env=multi_env, max_episode_steps=max_episode_steps)\n",
    "            strict_time = StrictSeqLenWrapper(timelimit, seq_len=seq_len + 1, sparse=sparse)\n",
    "            riw = RolloutInfoWrapper(strict_time)\n",
    "            return riw\n",
    "        return _init\n",
    "        \n",
    "    env = SubprocVecEnv([make_env(env_ids, i) for i in range(num_cpu)])\n",
    "\n",
    "    list_envs, list_experts = make_env_list(env_ids)\n",
    "    vec_expert = MultiImitationLearningWrapper(\n",
    "        policies=list_experts, env=env)\n",
    "    return env, vec_expert"
   ]
  },
  {
   "cell_type": "code",
   "execution_count": 49,
   "metadata": {},
   "outputs": [
    {
     "name": "stderr",
     "output_type": "stream",
     "text": [
      "/home/hendrik/anaconda3/envs/ac/lib/python3.10/site-packages/gym/spaces/box.py:73: UserWarning: \u001b[33mWARN: Box bound precision lowered by casting to float32\u001b[0m\n",
      "  logger.warn(\n",
      "/home/hendrik/anaconda3/envs/ac/lib/python3.10/site-packages/gym/spaces/box.py:73: UserWarning: \u001b[33mWARN: Box bound precision lowered by casting to float32\u001b[0m\n",
      "  logger.warn(\n",
      "/home/hendrik/anaconda3/envs/ac/lib/python3.10/site-packages/gym/spaces/box.py:73: UserWarning: \u001b[33mWARN: Box bound precision lowered by casting to float32\u001b[0m\n",
      "  logger.warn(\n",
      "/home/hendrik/anaconda3/envs/ac/lib/python3.10/site-packages/gym/spaces/box.py:73: UserWarning: \u001b[33mWARN: Box bound precision lowered by casting to float32\u001b[0m\n",
      "  logger.warn(\n"
     ]
    }
   ],
   "source": [
    "multi_vec, multi_exp = make_multi_vec_env(env_ids=['reach'], num_cpu=2, seq_len=100, sparse=False)"
   ]
  },
  {
   "cell_type": "code",
   "execution_count": 50,
   "metadata": {},
   "outputs": [
    {
     "name": "stdout",
     "output_type": "stream",
     "text": [
      "[1.63983315 1.62969233]\n",
      "[1.6666043 1.6545956]\n",
      "[1.72306106 1.70609198]\n",
      "[1.81173919 1.78664716]\n",
      "[1.93444149 1.89792339]\n",
      "[2.09326614 2.04161068]\n",
      "[2.29097137 2.21969374]\n",
      "[2.53009393 2.43166739]\n",
      "[2.7978799 2.6652496]\n",
      "[3.09596583 2.91782885]\n",
      "[3.43434156 3.19500362]\n",
      "[3.82297247 3.50417463]\n",
      "[4.2700624  3.85171766]\n",
      "[4.78077234 4.24173759]\n",
      "[5.35545633 4.67524409]\n",
      "[5.98742219 5.14946804]\n",
      "[6.6608195 5.6574065]\n",
      "[7.34964935 6.18779138]\n",
      "[8.01906555 6.72566649]\n",
      "[8.62977985 7.25365942]\n",
      "[9.14524937 7.75386073]\n",
      "[9.53974859 8.21001678]\n",
      "[9.80442921 8.60958516]\n",
      "[9.94900149 8.94517708]\n",
      "[9.99855636 9.21505294]\n",
      "[10.          9.42259959]\n",
      "[10.        9.574993]\n",
      "[10.          9.68143395]\n",
      "[10.          9.75138841]\n",
      "[10.          9.79318441]\n",
      "[10.          9.81316577]\n",
      "[10.          9.81935918]\n",
      "[10.         9.8253385]\n",
      "[9.99612303 9.83953393]\n",
      "[9.96038556 9.85907395]\n",
      "[9.88194299 9.87850302]\n",
      "[9.75792938 9.89394666]\n",
      "[9.58903683 9.90371983]\n",
      "[9.37869386 9.90744784]\n",
      "[9.13219424 9.90512339]\n",
      "[8.86484456 9.89599956]\n",
      "[8.59902351 9.88101249]\n",
      "[8.34544659 9.86221528]\n",
      "[8.10660702 9.8408801 ]\n",
      "[7.88155558 9.81770308]\n",
      "[7.66844423 9.79317463]\n",
      "[7.46544567 9.76773559]\n",
      "[7.27102772 9.74180321]\n",
      "[7.08402413 9.7157623 ]\n",
      "[6.90363095 9.68995849]\n",
      "[6.72936298 9.66469884]\n",
      "[6.56098679 9.64025503]\n",
      "[6.39844529 9.61686503]\n",
      "[6.24178561 9.59473183]\n",
      "[6.09109791 9.57402036]\n",
      "[5.94646843 9.55485406]\n",
      "[5.80794693 9.53731283]\n",
      "[5.67552681 9.52143295]\n",
      "[5.54913548 9.50720907]\n",
      "[5.42863257 9.49459805]\n",
      "[5.31381379 9.483524  ]\n",
      "[5.20441851 9.47388412]\n",
      "[5.10013979 9.46555485]\n",
      "[5.00063554 9.45839801]\n",
      "[4.90554009 9.45226661]\n",
      "[4.81447539 9.44701011]\n",
      "[4.72706143 9.44247901]\n",
      "[4.64292552 9.43852872]\n",
      "[4.56171008 9.43502253]\n",
      "[4.48307905 9.4318339 ]\n",
      "[4.40672268 9.42884788]\n",
      "[4.33236085 9.425962  ]\n",
      "[4.25974501 9.42308653]\n",
      "[4.18945896 9.42014429]\n",
      "[4.12417003 9.41707022]\n",
      "[4.06628371 9.41381056]\n",
      "[4.01583417 9.41032204]\n",
      "[3.97185631 9.40657091]\n",
      "[3.93303825 9.40253193]\n",
      "[3.89803608 9.39818745]\n",
      "[3.86562856 9.39352647]\n",
      "[3.8347911  9.38854381]\n",
      "[3.80472235 9.38323928]\n",
      "[3.77483928 9.37761699]\n",
      "[3.74475233 9.37168464]\n",
      "[3.7142303  9.36545295]\n",
      "[3.68316261 9.35893507]\n",
      "[3.6515242  9.35214604]\n",
      "[3.61934577 9.34510236]\n",
      "[3.5866904  9.33782149]\n",
      "[3.55363643 9.33032145]\n",
      "[3.52026582 9.32262043]\n",
      "[3.48665685 9.31473644]\n",
      "[3.45288023 9.30668694]\n",
      "[3.41899749 9.29848865]\n",
      "[3.3850609  9.29015716]\n",
      "[3.35111432 9.28170684]\n",
      "[3.31719441 9.27315057]\n",
      "[3.28333195 9.26449963]\n",
      "[10.  0.]\n"
     ]
    },
    {
     "name": "stderr",
     "output_type": "stream",
     "text": [
      "/home/hendrik/anaconda3/envs/ac/lib/python3.10/site-packages/metaworld/policies/policy.py:41: UserWarning: Constant(s) may be too high. Environments clip response to [-1, 1]\n",
      "  warnings.warn('Constant(s) may be too high. Environments clip response to [-1, 1]')\n"
     ]
    }
   ],
   "source": [
    "obs = multi_vec.reset()\n",
    "done = False\n",
    "while not done:\n",
    "    actions = multi_exp.predict(obs)\n",
    "    ons, rew, dones, info = multi_vec.step(actions)\n",
    "    done = dones[0]\n",
    "    print(rew)\n",
    "#print(rew)"
   ]
  },
  {
   "cell_type": "code",
   "execution_count": null,
   "metadata": {},
   "outputs": [],
   "source": []
  },
  {
   "cell_type": "code",
   "execution_count": 32,
   "metadata": {},
   "outputs": [],
   "source": [
    "obs = multi_vec.reset()"
   ]
  },
  {
   "cell_type": "code",
   "execution_count": 33,
   "metadata": {},
   "outputs": [
    {
     "data": {
      "text/plain": [
       "array([[ 0.00615235,  0.6001898 ,  0.19430117,  1.        ,  0.00944557,\n",
       "         0.68723255,  0.02      ,  0.        ,  0.        ,  0.        ,\n",
       "         1.        ,  0.        ,  0.        ,  0.        ,  0.        ,\n",
       "         0.        ,  0.        ,  0.        ,  0.00615235,  0.6001898 ,\n",
       "         0.19430117,  1.        ,  0.01988441,  0.6219765 ,  0.02      ,\n",
       "         0.        ,  0.        ,  0.        ,  1.        ,  0.        ,\n",
       "         0.        ,  0.        ,  0.        ,  0.        ,  0.        ,\n",
       "         0.        , -0.07862544,  0.88846986,  0.13023407],\n",
       "       [ 0.00615235,  0.6001898 ,  0.19430117,  1.        ,  0.08263704,\n",
       "         0.67112505,  0.02      ,  0.        ,  0.        ,  0.        ,\n",
       "         1.        ,  0.        ,  0.        ,  0.        ,  0.        ,\n",
       "         0.        ,  0.        ,  0.        ,  0.00615235,  0.6001898 ,\n",
       "         0.19430117,  1.        ,  0.04957775,  0.67235942,  0.02      ,\n",
       "         0.        ,  0.        ,  0.        ,  1.        ,  0.        ,\n",
       "         0.        ,  0.        ,  0.        ,  0.        ,  0.        ,\n",
       "         0.        , -0.01817104,  0.8611779 ,  0.09077145]])"
      ]
     },
     "execution_count": 33,
     "metadata": {},
     "output_type": "execute_result"
    }
   ],
   "source": [
    "obs"
   ]
  },
  {
   "cell_type": "code",
   "execution_count": 51,
   "metadata": {},
   "outputs": [
    {
     "data": {
      "text/plain": [
       "array([[ 0.00615235,  0.6001898 ,  0.19430117,  1.        , -0.07985431,\n",
       "         0.63109425,  0.02      ,  0.        ,  0.        ,  0.        ,\n",
       "         1.        ,  0.        ,  0.        ,  0.        ,  0.        ,\n",
       "         0.        ,  0.        ,  0.        ,  0.00615235,  0.6001898 ,\n",
       "         0.19430117,  1.        ,  0.06500112,  0.65404595,  0.02      ,\n",
       "         0.        ,  0.        ,  0.        ,  1.        ,  0.        ,\n",
       "         0.        ,  0.        ,  0.        ,  0.        ,  0.        ,\n",
       "         0.        , -0.02662927,  0.85583629,  0.0702654 ],\n",
       "       [ 0.00615235,  0.6001898 ,  0.19430117,  1.        , -0.00392577,\n",
       "         0.65428067,  0.02      ,  0.        ,  0.        ,  0.        ,\n",
       "         1.        ,  0.        ,  0.        ,  0.        ,  0.        ,\n",
       "         0.        ,  0.        ,  0.        ,  0.00615235,  0.6001898 ,\n",
       "         0.19430117,  1.        ,  0.03766309,  0.66409218,  0.02      ,\n",
       "         0.        ,  0.        ,  0.        ,  1.        ,  0.        ,\n",
       "         0.        ,  0.        ,  0.        ,  0.        ,  0.        ,\n",
       "         0.        , -0.0127264 ,  0.82577494,  0.17584339]])"
      ]
     },
     "execution_count": 51,
     "metadata": {},
     "output_type": "execute_result"
    }
   ],
   "source": [
    "multi_vec.reset()"
   ]
  },
  {
   "cell_type": "code",
   "execution_count": 43,
   "metadata": {},
   "outputs": [],
   "source": [
    "b = np.concatenate((a, np.array([100]), a[10:]))"
   ]
  },
  {
   "cell_type": "code",
   "execution_count": 44,
   "metadata": {},
   "outputs": [
    {
     "data": {
      "text/plain": [
       "array([ 6.15235164e-03,  6.00189803e-01,  1.94301175e-01,  1.00000000e+00,\n",
       "        9.44556741e-03,  6.87232548e-01,  1.99999996e-02,  0.00000000e+00,\n",
       "        0.00000000e+00,  0.00000000e+00,  1.00000000e+00,  0.00000000e+00,\n",
       "        0.00000000e+00,  0.00000000e+00,  0.00000000e+00,  0.00000000e+00,\n",
       "        0.00000000e+00,  0.00000000e+00,  6.15235164e-03,  6.00189803e-01,\n",
       "        1.94301175e-01,  1.00000000e+00,  1.98844086e-02,  6.21976500e-01,\n",
       "        1.99999996e-02,  0.00000000e+00,  0.00000000e+00,  0.00000000e+00,\n",
       "        1.00000000e+00,  0.00000000e+00,  0.00000000e+00,  0.00000000e+00,\n",
       "        0.00000000e+00,  0.00000000e+00,  0.00000000e+00,  0.00000000e+00,\n",
       "       -7.86254363e-02,  8.88469862e-01,  1.30234065e-01,  1.00000000e+02,\n",
       "        1.00000000e+00,  0.00000000e+00,  0.00000000e+00,  0.00000000e+00,\n",
       "        0.00000000e+00,  0.00000000e+00,  0.00000000e+00,  0.00000000e+00,\n",
       "        6.15235164e-03,  6.00189803e-01,  1.94301175e-01,  1.00000000e+00,\n",
       "        1.98844086e-02,  6.21976500e-01,  1.99999996e-02,  0.00000000e+00,\n",
       "        0.00000000e+00,  0.00000000e+00,  1.00000000e+00,  0.00000000e+00,\n",
       "        0.00000000e+00,  0.00000000e+00,  0.00000000e+00,  0.00000000e+00,\n",
       "        0.00000000e+00,  0.00000000e+00, -7.86254363e-02,  8.88469862e-01,\n",
       "        1.30234065e-01])"
      ]
     },
     "execution_count": 44,
     "metadata": {},
     "output_type": "execute_result"
    }
   ],
   "source": [
    "b"
   ]
  },
  {
   "cell_type": "code",
   "execution_count": null,
   "metadata": {},
   "outputs": [],
   "source": []
  }
 ],
 "metadata": {
  "kernelspec": {
   "display_name": "ac",
   "language": "python",
   "name": "python3"
  },
  "language_info": {
   "codemirror_mode": {
    "name": "ipython",
    "version": 3
   },
   "file_extension": ".py",
   "mimetype": "text/x-python",
   "name": "python",
   "nbconvert_exporter": "python",
   "pygments_lexer": "ipython3",
   "version": "3.10.6"
  },
  "orig_nbformat": 4,
  "vscode": {
   "interpreter": {
    "hash": "c27e8fa6375f4d15af5a5f5541d8bb88746b588c9fe1102cfd8de011d36c10c2"
   }
  }
 },
 "nbformat": 4,
 "nbformat_minor": 2
}
