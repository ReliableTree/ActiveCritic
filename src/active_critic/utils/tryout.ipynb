{
 "cells": [
  {
   "cell_type": "code",
   "execution_count": 1,
   "metadata": {},
   "outputs": [
    {
     "name": "stderr",
     "output_type": "stream",
     "text": [
      "/home/hendrik/anaconda3/envs/ac/lib/python3.10/site-packages/tqdm/auto.py:22: TqdmWarning: IProgress not found. Please update jupyter and ipywidgets. See https://ipywidgets.readthedocs.io/en/stable/user_install.html\n",
      "  from .autonotebook import tqdm as notebook_tqdm\n",
      "/home/hendrik/anaconda3/envs/ac/lib/python3.10/site-packages/gym/spaces/box.py:73: UserWarning: \u001b[33mWARN: Box bound precision lowered by casting to float32\u001b[0m\n",
      "  logger.warn(\n"
     ]
    }
   ],
   "source": [
    "from active_critic.utils.gym_utils import *\n",
    "from gym.spaces.box import Box\n",
    "\n",
    "class MultiEnvWrapper(gym.Wrapper):\n",
    "    def __init__(self, list_envs) -> None:\n",
    "        super().__init__(list_envs[0])\n",
    "        self.list_envs = list_envs\n",
    "        self.current_env = 0\n",
    "        self._make_observation_space()\n",
    "\n",
    "    def set_current_env(self, env_num):\n",
    "        self.current_env = int(env_num)\n",
    "        self._make_observation_space()\n",
    "        print(f'self.current_enc = {self.current_env}')\n",
    "        \n",
    "    def reset(self):\n",
    "        obs =  super().reset()\n",
    "        obs = self.list_envs[self.current_env].reset()\n",
    "        obs = np.append(obs, self.current_env)\n",
    "        print(f'obs: {obs}')\n",
    "\n",
    "        return obs\n",
    "\n",
    "    def step(self, action):\n",
    "\n",
    "        obs, rew, done, info = self.list_envs[self.current_env].step(action)\n",
    "        obs = np.append(obs, self.current_env)\n",
    "        return obs, rew, done, info\n",
    "\n",
    "    def _make_observation_space(self):\n",
    "        low = self.list_envs[self.current_env].observation_space.low\n",
    "        high = self.list_envs[self.current_env].observation_space.high\n",
    "        dtype = self.list_envs[self.current_env].observation_space.dtype\n",
    "        new_low = np.append(low, 0)\n",
    "        new_high = np.append(high, len(self.list_envs))\n",
    "        new_obs_space = Box(new_low, new_high, dtype=dtype)\n",
    "        self.observation_space = new_obs_space\n",
    "        self.action_space = self.list_envs[self.current_env].action_space\n",
    "\n",
    "def make_env_list(env_ids):\n",
    "    policy_dict = make_policy_dict()\n",
    "    list_envs = []\n",
    "    list_experts = []\n",
    "    for i in range(len(env_ids)):\n",
    "        exp, env_id = policy_dict[env_ids[i]]\n",
    "        env = ALL_V2_ENVIRONMENTS_GOAL_OBSERVABLE[env_id]()\n",
    "        env._freeze_rand_vec = False\n",
    "        list_envs.append(env)\n",
    "        list_experts.append(exp)\n",
    "    return list_envs, list_experts\n",
    "    \n",
    "class MultiImitationLearningWrapper:\n",
    "    def __init__(self, policies, env: GymEnv):\n",
    "        self.observation_space = env.observation_space\n",
    "        self.action_space = env.action_space\n",
    "        self.policies = policies\n",
    "\n",
    "    def predict(self, obsv, deterministic=None):\n",
    "        actions = []\n",
    "        for obs in obsv:\n",
    "            current_env = int(obs[-1])\n",
    "            print(f'current_env: {current_env}')\n",
    "            inpt_obsv = obs[:-1]\n",
    "            print(inpt_obsv.shape)\n",
    "            actions.append(self.policies[current_env].get_action(inpt_obsv))\n",
    "        return actions"
   ]
  },
  {
   "cell_type": "code",
   "execution_count": 2,
   "metadata": {},
   "outputs": [],
   "source": [
    "def make_multi_vec_env(env_ids, num_cpu, seq_len, sparse):\n",
    "\n",
    "    def make_env(env_ids, rank, seed=0):\n",
    "        def _init():\n",
    "            max_episode_steps = seq_len\n",
    "            list_envs, list_experts = make_env_list(env_ids)\n",
    "            multi_env = MultiEnvWrapper(list_envs=list_envs)\n",
    "            timelimit = TimeLimit(env=multi_env, max_episode_steps=max_episode_steps)\n",
    "            strict_time = StrictSeqLenWrapper(timelimit, seq_len=seq_len + 1, sparse=sparse)\n",
    "            riw = RolloutInfoWrapper(strict_time)\n",
    "            return riw\n",
    "        return _init\n",
    "        \n",
    "    env = SubprocVecEnv([make_env(env_ids, i) for i in range(num_cpu)])\n",
    "\n",
    "    list_envs, list_experts = make_env_list(env_ids)\n",
    "    vec_expert = MultiImitationLearningWrapper(\n",
    "        policies=list_experts, env=env)\n",
    "    return env, vec_expert"
   ]
  },
  {
   "cell_type": "code",
   "execution_count": 3,
   "metadata": {},
   "outputs": [
    {
     "name": "stderr",
     "output_type": "stream",
     "text": [
      "/home/hendrik/anaconda3/envs/ac/lib/python3.10/site-packages/gym/spaces/box.py:73: UserWarning: \u001b[33mWARN: Box bound precision lowered by casting to float32\u001b[0m\n",
      "  logger.warn(\n",
      "/home/hendrik/anaconda3/envs/ac/lib/python3.10/site-packages/gym/spaces/box.py:73: UserWarning: \u001b[33mWARN: Box bound precision lowered by casting to float32\u001b[0m\n",
      "  logger.warn(\n",
      "/home/hendrik/anaconda3/envs/ac/lib/python3.10/site-packages/gym/spaces/box.py:73: UserWarning: \u001b[33mWARN: Box bound precision lowered by casting to float32\u001b[0m\n",
      "  logger.warn(\n",
      "/home/hendrik/anaconda3/envs/ac/lib/python3.10/site-packages/gym/spaces/box.py:73: UserWarning: \u001b[33mWARN: Box bound precision lowered by casting to float32\u001b[0m\n",
      "  logger.warn(\n",
      "/home/hendrik/anaconda3/envs/ac/lib/python3.10/site-packages/gym/spaces/box.py:73: UserWarning: \u001b[33mWARN: Box bound precision lowered by casting to float32\u001b[0m\n",
      "  logger.warn(\n"
     ]
    }
   ],
   "source": [
    "multi_vec, multi_exp = make_multi_vec_env(env_ids=['reach', 'pickplace'], num_cpu=2, seq_len=100, sparse=False)"
   ]
  },
  {
   "cell_type": "code",
   "execution_count": 4,
   "metadata": {},
   "outputs": [
    {
     "name": "stdout",
     "output_type": "stream",
     "text": [
      "self.current_enc = 0\n",
      "self.current_enc = 0\n"
     ]
    }
   ],
   "source": [
    "multi_vec.set_env_ids(0)"
   ]
  },
  {
   "cell_type": "code",
   "execution_count": 11,
   "metadata": {},
   "outputs": [
    {
     "name": "stdout",
     "output_type": "stream",
     "text": [
      "self.current_enc = 1\n",
      "self.current_enc = 1\n"
     ]
    }
   ],
   "source": [
    "multi_vec.set_env_ids(1)"
   ]
  },
  {
   "cell_type": "code",
   "execution_count": 14,
   "metadata": {},
   "outputs": [
    {
     "name": "stdout",
     "output_type": "stream",
     "text": [
      "::::::::::::::::::::::\n",
      "<PickPlaceV2GoalObservable instance>\n",
      "[ 6.15235164e-03  6.00189803e-01  1.94301175e-01  1.00000000e+00\n",
      " -3.81644812e-02  6.25547348e-01  1.99999996e-02  0.00000000e+00\n",
      "  0.00000000e+00  0.00000000e+00  1.00000000e+00  0.00000000e+00\n",
      "  0.00000000e+00  0.00000000e+00  0.00000000e+00  0.00000000e+00\n",
      "  0.00000000e+00  0.00000000e+00  5.71231149e-03  6.00692459e-01\n",
      "  1.94438913e-01  1.00000000e+00 -2.55433033e-02  6.75508668e-01\n",
      "  1.99147583e-02  3.77197318e-04 -1.79747518e-04 -4.45427324e-09\n",
      "  9.99999913e-01  0.00000000e+00  0.00000000e+00  0.00000000e+00\n",
      "  0.00000000e+00  0.00000000e+00  0.00000000e+00  0.00000000e+00\n",
      " -7.60597992e-02  8.54389480e-01  2.62112178e-01]\n",
      "obs: [ 6.15235164e-03  6.00189803e-01  1.94301175e-01  1.00000000e+00\n",
      " -3.81644812e-02  6.25547348e-01  1.99999996e-02  0.00000000e+00\n",
      "  0.00000000e+00  0.00000000e+00  1.00000000e+00  0.00000000e+00\n",
      "  0.00000000e+00  0.00000000e+00  0.00000000e+00  0.00000000e+00\n",
      "  0.00000000e+00  0.00000000e+00  5.71231149e-03  6.00692459e-01\n",
      "  1.94438913e-01  1.00000000e+00 -2.55433033e-02  6.75508668e-01\n",
      "  1.99147583e-02  3.77197318e-04 -1.79747518e-04 -4.45427324e-09\n",
      "  9.99999913e-01  0.00000000e+00  0.00000000e+00  0.00000000e+00\n",
      "  0.00000000e+00  0.00000000e+00  0.00000000e+00  0.00000000e+00\n",
      " -7.60597992e-02  8.54389480e-01  2.62112178e-01  1.00000000e+00]\n",
      "::::::::::::::::::::::\n",
      "<PickPlaceV2GoalObservable instance>\n",
      "[ 6.15235164e-03  6.00189803e-01  1.94301175e-01  1.00000000e+00\n",
      " -9.06900412e-02  6.23967469e-01  1.99999996e-02  0.00000000e+00\n",
      "  0.00000000e+00  0.00000000e+00  1.00000000e+00  0.00000000e+00\n",
      "  0.00000000e+00  0.00000000e+00  0.00000000e+00  0.00000000e+00\n",
      "  0.00000000e+00  0.00000000e+00  5.55039671e-03  6.00520686e-01\n",
      "  1.93962087e-01  1.00000000e+00 -2.41782767e-03  6.53942697e-01\n",
      "  1.99121496e-02  2.44136776e-04 -2.40357020e-04  7.50156049e-09\n",
      "  9.99999941e-01  0.00000000e+00  0.00000000e+00  0.00000000e+00\n",
      "  0.00000000e+00  0.00000000e+00  0.00000000e+00  0.00000000e+00\n",
      "  2.69362115e-02  8.67330809e-01  1.37967584e-01]\n",
      "obs: [ 6.15235164e-03  6.00189803e-01  1.94301175e-01  1.00000000e+00\n",
      " -9.06900412e-02  6.23967469e-01  1.99999996e-02  0.00000000e+00\n",
      "  0.00000000e+00  0.00000000e+00  1.00000000e+00  0.00000000e+00\n",
      "  0.00000000e+00  0.00000000e+00  0.00000000e+00  0.00000000e+00\n",
      "  0.00000000e+00  0.00000000e+00  5.55039671e-03  6.00520686e-01\n",
      "  1.93962087e-01  1.00000000e+00 -2.41782767e-03  6.53942697e-01\n",
      "  1.99121496e-02  2.44136776e-04 -2.40357020e-04  7.50156049e-09\n",
      "  9.99999941e-01  0.00000000e+00  0.00000000e+00  0.00000000e+00\n",
      "  0.00000000e+00  0.00000000e+00  0.00000000e+00  0.00000000e+00\n",
      "  2.69362115e-02  8.67330809e-01  1.37967584e-01  1.00000000e+00]\n"
     ]
    }
   ],
   "source": [
    "obs = multi_vec.reset()\n"
   ]
  },
  {
   "cell_type": "code",
   "execution_count": 16,
   "metadata": {},
   "outputs": [
    {
     "name": "stdout",
     "output_type": "stream",
     "text": [
      "current_env: 1\n",
      "(39,)\n",
      "current_env: 1\n",
      "(39,)\n",
      "current step: 3\n",
      "current step: 3\n"
     ]
    },
    {
     "ename": "ValueError",
     "evalue": "too many values to unpack (expected 4)",
     "output_type": "error",
     "traceback": [
      "\u001b[0;31m---------------------------------------------------------------------------\u001b[0m",
      "\u001b[0;31mValueError\u001b[0m                                Traceback (most recent call last)",
      "Cell \u001b[0;32mIn [16], line 2\u001b[0m\n\u001b[1;32m      1\u001b[0m actions \u001b[39m=\u001b[39m multi_exp\u001b[39m.\u001b[39mpredict(obs)\n\u001b[0;32m----> 2\u001b[0m obs, rew, dones, info \u001b[39m=\u001b[39m multi_vec\u001b[39m.\u001b[39;49mstep(actions)\n",
      "File \u001b[0;32m~/anaconda3/envs/ac/lib/python3.10/site-packages/stable_baselines3/common/vec_env/base_vec_env.py:162\u001b[0m, in \u001b[0;36mVecEnv.step\u001b[0;34m(self, actions)\u001b[0m\n\u001b[1;32m    155\u001b[0m \u001b[39m\"\"\"\u001b[39;00m\n\u001b[1;32m    156\u001b[0m \u001b[39mStep the environments with the given action\u001b[39;00m\n\u001b[1;32m    157\u001b[0m \n\u001b[1;32m    158\u001b[0m \u001b[39m:param actions: the action\u001b[39;00m\n\u001b[1;32m    159\u001b[0m \u001b[39m:return: observation, reward, done, information\u001b[39;00m\n\u001b[1;32m    160\u001b[0m \u001b[39m\"\"\"\u001b[39;00m\n\u001b[1;32m    161\u001b[0m \u001b[39mself\u001b[39m\u001b[39m.\u001b[39mstep_async(actions)\n\u001b[0;32m--> 162\u001b[0m \u001b[39mreturn\u001b[39;00m \u001b[39mself\u001b[39;49m\u001b[39m.\u001b[39;49mstep_wait()\n",
      "File \u001b[0;32m~/anaconda3/envs/ac/lib/python3.10/site-packages/stable_baselines3/common/vec_env/subproc_vec_env.py:124\u001b[0m, in \u001b[0;36mSubprocVecEnv.step_wait\u001b[0;34m(self)\u001b[0m\n\u001b[1;32m    122\u001b[0m results \u001b[39m=\u001b[39m [remote\u001b[39m.\u001b[39mrecv() \u001b[39mfor\u001b[39;00m remote \u001b[39min\u001b[39;00m \u001b[39mself\u001b[39m\u001b[39m.\u001b[39mremotes]\n\u001b[1;32m    123\u001b[0m \u001b[39mself\u001b[39m\u001b[39m.\u001b[39mwaiting \u001b[39m=\u001b[39m \u001b[39mFalse\u001b[39;00m\n\u001b[0;32m--> 124\u001b[0m obs, rews, dones, infos \u001b[39m=\u001b[39m \u001b[39mzip\u001b[39m(\u001b[39m*\u001b[39mresults)\n\u001b[1;32m    125\u001b[0m \u001b[39mreturn\u001b[39;00m _flatten_obs(obs, \u001b[39mself\u001b[39m\u001b[39m.\u001b[39mobservation_space), np\u001b[39m.\u001b[39mstack(rews), np\u001b[39m.\u001b[39mstack(dones), infos\n",
      "\u001b[0;31mValueError\u001b[0m: too many values to unpack (expected 4)"
     ]
    }
   ],
   "source": [
    "actions = multi_exp.predict(obs)\n",
    "obs, rew, dones, info = multi_vec.step(actions)"
   ]
  },
  {
   "cell_type": "code",
   "execution_count": null,
   "metadata": {},
   "outputs": [
    {
     "data": {
      "text/plain": [
       "[array([-0.13961927,  1.44733373,  0.01294375,  0.        ]),\n",
       " array([0.34571412, 1.27925898, 0.16247949, 0.        ])]"
      ]
     },
     "execution_count": 16,
     "metadata": {},
     "output_type": "execute_result"
    }
   ],
   "source": [
    "actions"
   ]
  },
  {
   "cell_type": "code",
   "execution_count": null,
   "metadata": {},
   "outputs": [
    {
     "name": "stderr",
     "output_type": "stream",
     "text": [
      "/home/hendrik/anaconda3/envs/ac/lib/python3.10/site-packages/gym/spaces/box.py:73: UserWarning: \u001b[33mWARN: Box bound precision lowered by casting to float32\u001b[0m\n",
      "  logger.warn(\n",
      "/home/hendrik/anaconda3/envs/ac/lib/python3.10/site-packages/gym/spaces/box.py:73: UserWarning: \u001b[33mWARN: Box bound precision lowered by casting to float32\u001b[0m\n",
      "  logger.warn(\n",
      "/home/hendrik/anaconda3/envs/ac/lib/python3.10/site-packages/gym/spaces/box.py:73: UserWarning: \u001b[33mWARN: Box bound precision lowered by casting to float32\u001b[0m\n",
      "  logger.warn(\n",
      "/home/hendrik/anaconda3/envs/ac/lib/python3.10/site-packages/gym/spaces/box.py:73: UserWarning: \u001b[33mWARN: Box bound precision lowered by casting to float32\u001b[0m\n",
      "  logger.warn(\n"
     ]
    },
    {
     "name": "stdout",
     "output_type": "stream",
     "text": [
      "init__________________\n",
      "init__________________\n",
      "self.current_enc = 0\n",
      "[None None]\n"
     ]
    },
    {
     "name": "stderr",
     "output_type": "stream",
     "text": [
      "Process ForkServerProcess-5:\n",
      "Process ForkServerProcess-6:\n",
      "Traceback (most recent call last):\n",
      "  File \"/home/hendrik/anaconda3/envs/ac/lib/python3.10/multiprocessing/process.py\", line 314, in _bootstrap\n",
      "    self.run()\n",
      "  File \"/home/hendrik/anaconda3/envs/ac/lib/python3.10/multiprocessing/process.py\", line 108, in run\n",
      "    self._target(*self._args, **self._kwargs)\n",
      "  File \"/home/hendrik/anaconda3/envs/ac/lib/python3.10/site-packages/stable_baselines3/common/vec_env/subproc_vec_env.py\", line 27, in _worker\n",
      "    cmd, data = remote.recv()\n",
      "  File \"/home/hendrik/anaconda3/envs/ac/lib/python3.10/multiprocessing/connection.py\", line 255, in recv\n",
      "    buf = self._recv_bytes()\n",
      "  File \"/home/hendrik/anaconda3/envs/ac/lib/python3.10/multiprocessing/connection.py\", line 419, in _recv_bytes\n",
      "    buf = self._recv(4)\n",
      "  File \"/home/hendrik/anaconda3/envs/ac/lib/python3.10/multiprocessing/connection.py\", line 384, in _recv\n",
      "    chunk = read(handle, remaining)\n",
      "ConnectionResetError: [Errno 104] Connection reset by peer\n",
      "Traceback (most recent call last):\n",
      "  File \"/home/hendrik/anaconda3/envs/ac/lib/python3.10/multiprocessing/process.py\", line 314, in _bootstrap\n",
      "    self.run()\n",
      "  File \"/home/hendrik/anaconda3/envs/ac/lib/python3.10/multiprocessing/process.py\", line 108, in run\n",
      "    self._target(*self._args, **self._kwargs)\n",
      "  File \"/home/hendrik/anaconda3/envs/ac/lib/python3.10/site-packages/stable_baselines3/common/vec_env/subproc_vec_env.py\", line 27, in _worker\n",
      "    cmd, data = remote.recv()\n",
      "  File \"/home/hendrik/anaconda3/envs/ac/lib/python3.10/multiprocessing/connection.py\", line 255, in recv\n",
      "    buf = self._recv_bytes()\n",
      "  File \"/home/hendrik/anaconda3/envs/ac/lib/python3.10/multiprocessing/connection.py\", line 419, in _recv_bytes\n",
      "    buf = self._recv(4)\n",
      "  File \"/home/hendrik/anaconda3/envs/ac/lib/python3.10/multiprocessing/connection.py\", line 384, in _recv\n",
      "    chunk = read(handle, remaining)\n",
      "ConnectionResetError: [Errno 104] Connection reset by peer\n"
     ]
    },
    {
     "ename": "TypeError",
     "evalue": "'NoneType' object is not subscriptable",
     "output_type": "error",
     "traceback": [
      "\u001b[0;31m---------------------------------------------------------------------------\u001b[0m",
      "\u001b[0;31mTypeError\u001b[0m                                 Traceback (most recent call last)",
      "Cell \u001b[0;32mIn [43], line 7\u001b[0m\n\u001b[1;32m      5\u001b[0m done \u001b[39m=\u001b[39m \u001b[39mFalse\u001b[39;00m\n\u001b[1;32m      6\u001b[0m \u001b[39mwhile\u001b[39;00m \u001b[39mnot\u001b[39;00m done:\n\u001b[0;32m----> 7\u001b[0m     actions \u001b[39m=\u001b[39m multi_exp\u001b[39m.\u001b[39;49mpredict(obs)\n\u001b[1;32m      8\u001b[0m     obs, rew, dones, info \u001b[39m=\u001b[39m multi_vec\u001b[39m.\u001b[39mstep(actions)\n\u001b[1;32m      9\u001b[0m     done \u001b[39m=\u001b[39m dones[\u001b[39m0\u001b[39m]\n",
      "Cell \u001b[0;32mIn [1], line 60\u001b[0m, in \u001b[0;36mMultiImitationLearningWrapper.predict\u001b[0;34m(self, obsv, deterministic)\u001b[0m\n\u001b[1;32m     58\u001b[0m actions \u001b[39m=\u001b[39m []\n\u001b[1;32m     59\u001b[0m \u001b[39mfor\u001b[39;00m obs \u001b[39min\u001b[39;00m obsv:\n\u001b[0;32m---> 60\u001b[0m     current_env \u001b[39m=\u001b[39m \u001b[39mint\u001b[39m(obs[\u001b[39m-\u001b[39;49m\u001b[39m1\u001b[39;49m])\n\u001b[1;32m     61\u001b[0m     \u001b[39mprint\u001b[39m(\u001b[39mf\u001b[39m\u001b[39m'\u001b[39m\u001b[39mcurrent_env: \u001b[39m\u001b[39m{\u001b[39;00mcurrent_env\u001b[39m}\u001b[39;00m\u001b[39m'\u001b[39m)\n\u001b[1;32m     62\u001b[0m     inpt_obsv \u001b[39m=\u001b[39m obs[:\u001b[39m-\u001b[39m\u001b[39m1\u001b[39m]\n",
      "\u001b[0;31mTypeError\u001b[0m: 'NoneType' object is not subscriptable"
     ]
    },
    {
     "name": "stdout",
     "output_type": "stream",
     "text": [
      "self.current_enc = 0\n"
     ]
    }
   ],
   "source": [
    "multi_vec, multi_exp = make_multi_vec_env(env_ids=['reach', 'pickplace'], num_cpu=2, seq_len=100, sparse=False)\n",
    "multi_vec.set_env_ids(0)\n",
    "obs = multi_vec.reset()\n",
    "print(obs)\n",
    "done = False\n",
    "while not done:\n",
    "    actions = multi_exp.predict(obs)\n",
    "    obs, rew, dones, info = multi_vec.step(actions)\n",
    "    done = dones[0]\n",
    "    print(rew)\n"
   ]
  },
  {
   "cell_type": "code",
   "execution_count": null,
   "metadata": {},
   "outputs": [],
   "source": []
  },
  {
   "cell_type": "code",
   "execution_count": null,
   "metadata": {},
   "outputs": [],
   "source": [
    "obs = multi_vec.reset()"
   ]
  },
  {
   "cell_type": "code",
   "execution_count": null,
   "metadata": {},
   "outputs": [],
   "source": [
    "obs"
   ]
  },
  {
   "cell_type": "code",
   "execution_count": null,
   "metadata": {},
   "outputs": [],
   "source": [
    "multi_vec.reset()"
   ]
  },
  {
   "cell_type": "code",
   "execution_count": null,
   "metadata": {},
   "outputs": [],
   "source": [
    "b = np.concatenate((a, np.array([100]), a[10:]))"
   ]
  },
  {
   "cell_type": "code",
   "execution_count": null,
   "metadata": {},
   "outputs": [],
   "source": [
    "b"
   ]
  },
  {
   "cell_type": "code",
   "execution_count": null,
   "metadata": {},
   "outputs": [],
   "source": []
  }
 ],
 "metadata": {
  "kernelspec": {
   "display_name": "ac",
   "language": "python",
   "name": "python3"
  },
  "language_info": {
   "codemirror_mode": {
    "name": "ipython",
    "version": 3
   },
   "file_extension": ".py",
   "mimetype": "text/x-python",
   "name": "python",
   "nbconvert_exporter": "python",
   "pygments_lexer": "ipython3",
   "version": "3.10.6"
  },
  "orig_nbformat": 4,
  "vscode": {
   "interpreter": {
    "hash": "c27e8fa6375f4d15af5a5f5541d8bb88746b588c9fe1102cfd8de011d36c10c2"
   }
  }
 },
 "nbformat": 4,
 "nbformat_minor": 2
}
