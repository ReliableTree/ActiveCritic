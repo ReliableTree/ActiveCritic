{
 "cells": [
  {
   "cell_type": "code",
   "execution_count": null,
   "metadata": {},
   "outputs": [],
   "source": [
    "import torch as th\n",
    "from active_critic.learner.active_critic_learner import ActiveCriticLearner, ACLScores\n",
    "from active_critic.learner.active_critic_args import ActiveCriticLearnerArgs\n",
    "from active_critic.policy.active_critic_policy import ActiveCriticPolicy\n",
    "from active_critic.utils.gym_utils import make_vec_env, DummyExtractor, new_epoch_reach\n",
    "from active_critic.utils.pytorch_utils import build_tf_horizon_mask\n",
    "from active_critic.utils.dataset import DatasetAC\n",
    "from active_critic.policy.active_critic_policy import ActiveCriticPolicySetup, ActiveCriticPolicy\n",
    "from active_critic.model_src.state_model import *\n",
    "from active_critic.model_src.whole_sequence_model import WholeSequenceModel, WholeSequenceModelArgs\n",
    "from active_critic.model_src.transformer import ModelSetup\n",
    "\n",
    "\n",
    "from gym import Env\n",
    "th.manual_seed(0)\n",
    "\n",
    "def make_wsm_setup(seq_len, d_output, device='cpu'):\n",
    "    wsm = WholeSequenceModelArgs()\n",
    "    wsm.model_setup = ModelSetup()\n",
    "    seq_len = seq_len\n",
    "    d_output = d_output\n",
    "    wsm.model_setup.d_output = d_output\n",
    "    wsm.model_setup.nhead = 1\n",
    "    wsm.model_setup.d_hid = 200\n",
    "    wsm.model_setup.d_model = 200\n",
    "    wsm.model_setup.nlayers = 3\n",
    "    wsm.model_setup.seq_len = seq_len\n",
    "    wsm.model_setup.dropout = 0\n",
    "    wsm.lr = 5e-4\n",
    "    wsm.model_setup.device = device\n",
    "    wsm.optimizer_class = th.optim.Adam\n",
    "    wsm.optimizer_kwargs = {}\n",
    "    return wsm\n",
    "\n",
    "def make_acps(seq_len, extractor, new_epoch, batch_size = 2, device='cpu', horizon = 0):\n",
    "    acps = ActiveCriticPolicySetup()\n",
    "    acps.device=device\n",
    "    acps.epoch_len=seq_len\n",
    "    acps.extractor=extractor\n",
    "    acps.new_epoch=new_epoch\n",
    "    acps.opt_steps=100\n",
    "    acps.inference_opt_lr = 1e-2\n",
    "    acps.optimizer_class = th.optim.SGD\n",
    "    acps.optimize = True\n",
    "    acps.batch_size = batch_size\n",
    "    acps.pred_mask = build_tf_horizon_mask(seq_len=seq_len, horizon=seq_len, device=device)\n",
    "    acps.opt_mask = th.ones([seq_len, 1], device=device, dtype=bool)\n",
    "    acps.opt_mask[:,-1] = 1\n",
    "    acps.opt_goal = True\n",
    "    acps.optimize_goal_emb_acts = False\n",
    "    acps.goal_label_multiplier = 0\n",
    "    return acps\n",
    "\n",
    "def setup_opt_state(batch_size, seq_len, device='cpu'):\n",
    "    num_cpu = 1\n",
    "    env, expert = make_vec_env('reach', num_cpu, seq_len=seq_len)\n",
    "    d_output = env.action_space.shape[0]\n",
    "    embed_dim = 20\n",
    "    lr = 5e-4\n",
    "\n",
    "    actor_args = StateModelArgs()\n",
    "    actor_args.arch = [200, env.action_space.shape[0]]\n",
    "    actor_args.device = device\n",
    "    actor_args.lr = lr\n",
    "    actor = StateModel(args=actor_args)\n",
    "\n",
    "    critic_args = StateModelArgs()\n",
    "    critic_args.arch = [200, 1]\n",
    "    critic_args.device = device\n",
    "    critic_args.lr = lr\n",
    "    critic = StateModel(args=critic_args)\n",
    "\n",
    "    inv_critic_args = StateModelArgs()\n",
    "    inv_critic_args.arch = [200, embed_dim + env.action_space.shape[0]]\n",
    "    inv_critic_args.device = device\n",
    "    inv_critic_args.lr = lr\n",
    "    inv_critic = StateModel(args=inv_critic_args)\n",
    "\n",
    "    emitter_args = StateModelArgs()\n",
    "    emitter_args.arch = [200, embed_dim]\n",
    "    emitter_args.device = device\n",
    "    emitter_args.lr = lr\n",
    "    emitter = StateModel(args=emitter_args)\n",
    "\n",
    "    predictor_args = make_wsm_setup(\n",
    "    seq_len=seq_len, d_output=embed_dim, device=device)\n",
    "    predictor_args.model_setup.d_hid = 200\n",
    "    predictor_args.model_setup.d_model = 200\n",
    "    predictor = WholeSequenceModel(args=predictor_args)\n",
    "\n",
    "\n",
    "    acps = make_acps(\n",
    "        seq_len=seq_len, extractor=DummyExtractor(), new_epoch=new_epoch_reach, device=device, batch_size=batch_size)\n",
    "    acps.clip = True\n",
    "    ac = ActiveCriticPolicy(observation_space=env.observation_space, \n",
    "                            action_space=env.action_space,\n",
    "                            actor=actor,\n",
    "                            critic=critic,\n",
    "                            predictor=predictor,\n",
    "                            emitter=emitter,\n",
    "                            inverse_critic=inv_critic,\n",
    "                            acps=acps)\n",
    "    return ac, acps, batch_size, seq_len, env, expert\n",
    "\n",
    "\n",
    "def make_acl(device):\n",
    "    device = device\n",
    "    acla = ActiveCriticLearnerArgs()\n",
    "    acla.data_path = '/home/hendrik/Documents/master_project/LokalData/WSM/'\n",
    "    #acla.data_path = '/data/bing/hendrik/'\n",
    "    acla.device = device\n",
    "    acla.extractor = DummyExtractor()\n",
    "    acla.imitation_phase = False\n",
    "    acla.logname = 'straight_dense_50'\n",
    "    acla.tboard = True\n",
    "    acla.batch_size = 32\n",
    "    acla.validation_episodes = 1\n",
    "    acla.training_epsiodes = 1\n",
    "    acla.actor_threshold = 1e-2\n",
    "    acla.critic_threshold = 1e-2\n",
    "    acla.predictor_threshold = 1e-2\n",
    "    acla.gen_scores_threshold = 1e-1\n",
    "    acla.num_cpu = acla.validation_episodes\n",
    "\n",
    "    seq_len = 10\n",
    "    ac, acps, batch_size, seq_len, env, expert= setup_opt_state(device=device, batch_size=acla.batch_size, seq_len=seq_len)\n",
    "    \n",
    "    acps.opt_steps = 20\n",
    "    acla.val_every = 1\n",
    "    acla.add_data_every = 1\n",
    "\n",
    "    \n",
    "\n",
    "    eval_env, expert = make_vec_env('reach', num_cpu=acla.num_cpu, seq_len=seq_len)\n",
    "    acl = ActiveCriticLearner(ac_policy=ac, env=env, eval_env=eval_env, network_args_obj=acla)\n",
    "    return acl, env, expert, seq_len, device\n"
   ]
  },
  {
   "cell_type": "code",
   "execution_count": null,
   "metadata": {},
   "outputs": [],
   "source": [
    "acl, env, expert, seq_len, device = make_acl(device='cpu')"
   ]
  },
  {
   "cell_type": "code",
   "execution_count": null,
   "metadata": {},
   "outputs": [],
   "source": [
    "acl.train(10)"
   ]
  },
  {
   "cell_type": "code",
   "execution_count": 21,
   "metadata": {},
   "outputs": [],
   "source": [
    "obs = env.reset()"
   ]
  },
  {
   "cell_type": "code",
   "execution_count": 22,
   "metadata": {},
   "outputs": [],
   "source": [
    "acl.policy.reset()"
   ]
  },
  {
   "cell_type": "code",
   "execution_count": 23,
   "metadata": {},
   "outputs": [],
   "source": [
    "acl.policy.args_obj.goal_label_multiplier = 1"
   ]
  },
  {
   "cell_type": "code",
   "execution_count": 24,
   "metadata": {},
   "outputs": [],
   "source": [
    "acl.policy.args_obj.opt_steps = 10"
   ]
  },
  {
   "cell_type": "code",
   "execution_count": 25,
   "metadata": {},
   "outputs": [
    {
     "name": "stdout",
     "output_type": "stream",
     "text": [
      " |----------------------------------------------------------------------------------------------------| 0.0% Predicting Epsiode\r"
     ]
    }
   ],
   "source": [
    "actions = acl.policy.predict(obs)"
   ]
  },
  {
   "cell_type": "code",
   "execution_count": 26,
   "metadata": {},
   "outputs": [
    {
     "data": {
      "text/plain": [
       "torch.Size([10, 10, 1])"
      ]
     },
     "execution_count": 26,
     "metadata": {},
     "output_type": "execute_result"
    }
   ],
   "source": [
    "acl.policy.history.scores[0][0,].shape"
   ]
  },
  {
   "cell_type": "code",
   "execution_count": 27,
   "metadata": {},
   "outputs": [
    {
     "data": {
      "text/plain": [
       "tensor([[[1.],\n",
       "         [1.],\n",
       "         [1.],\n",
       "         [1.],\n",
       "         [1.],\n",
       "         [1.],\n",
       "         [1.],\n",
       "         [1.],\n",
       "         [1.],\n",
       "         [1.]]])"
      ]
     },
     "execution_count": 27,
     "metadata": {},
     "output_type": "execute_result"
    }
   ],
   "source": [
    "acl.policy.goal_label"
   ]
  },
  {
   "cell_type": "code",
   "execution_count": 28,
   "metadata": {},
   "outputs": [
    {
     "data": {
      "text/plain": [
       "tensor([[[0.1472],\n",
       "         [0.0846],\n",
       "         [0.0512],\n",
       "         [0.0334],\n",
       "         [0.0223],\n",
       "         [0.0151],\n",
       "         [0.0101],\n",
       "         [0.0058],\n",
       "         [0.0028],\n",
       "         [0.0016]],\n",
       "\n",
       "        [[0.1513],\n",
       "         [0.0857],\n",
       "         [0.0737],\n",
       "         [0.0478],\n",
       "         [0.0308],\n",
       "         [0.0212],\n",
       "         [0.0135],\n",
       "         [0.0081],\n",
       "         [0.0040],\n",
       "         [0.0018]],\n",
       "\n",
       "        [[0.1513],\n",
       "         [0.0860],\n",
       "         [0.0742],\n",
       "         [0.0494],\n",
       "         [0.0328],\n",
       "         [0.0233],\n",
       "         [0.0155],\n",
       "         [0.0100],\n",
       "         [0.0061],\n",
       "         [0.0039]],\n",
       "\n",
       "        [[0.1513],\n",
       "         [0.0862],\n",
       "         [0.0748],\n",
       "         [0.0510],\n",
       "         [0.0350],\n",
       "         [0.0254],\n",
       "         [0.0175],\n",
       "         [0.0121],\n",
       "         [0.0082],\n",
       "         [0.0060]],\n",
       "\n",
       "        [[0.1513],\n",
       "         [0.0864],\n",
       "         [0.0752],\n",
       "         [0.0527],\n",
       "         [0.0372],\n",
       "         [0.0276],\n",
       "         [0.0197],\n",
       "         [0.0142],\n",
       "         [0.0104],\n",
       "         [0.0081]],\n",
       "\n",
       "        [[0.1513],\n",
       "         [0.0867],\n",
       "         [0.0757],\n",
       "         [0.0544],\n",
       "         [0.0394],\n",
       "         [0.0299],\n",
       "         [0.0220],\n",
       "         [0.0164],\n",
       "         [0.0126],\n",
       "         [0.0103]],\n",
       "\n",
       "        [[0.1513],\n",
       "         [0.0869],\n",
       "         [0.0762],\n",
       "         [0.0562],\n",
       "         [0.0417],\n",
       "         [0.0323],\n",
       "         [0.0243],\n",
       "         [0.0186],\n",
       "         [0.0148],\n",
       "         [0.0125]],\n",
       "\n",
       "        [[0.1513],\n",
       "         [0.0872],\n",
       "         [0.0766],\n",
       "         [0.0579],\n",
       "         [0.0439],\n",
       "         [0.0347],\n",
       "         [0.0266],\n",
       "         [0.0209],\n",
       "         [0.0169],\n",
       "         [0.0146]],\n",
       "\n",
       "        [[0.1513],\n",
       "         [0.0874],\n",
       "         [0.0770],\n",
       "         [0.0596],\n",
       "         [0.0463],\n",
       "         [0.0371],\n",
       "         [0.0291],\n",
       "         [0.0233],\n",
       "         [0.0191],\n",
       "         [0.0168]],\n",
       "\n",
       "        [[0.1513],\n",
       "         [0.0876],\n",
       "         [0.0774],\n",
       "         [0.0614],\n",
       "         [0.0486],\n",
       "         [0.0396],\n",
       "         [0.0317],\n",
       "         [0.0257],\n",
       "         [0.0214],\n",
       "         [0.0188]]])"
      ]
     },
     "execution_count": 28,
     "metadata": {},
     "output_type": "execute_result"
    }
   ],
   "source": [
    "acl.policy.history.scores[0][0,]"
   ]
  },
  {
   "cell_type": "code",
   "execution_count": 32,
   "metadata": {},
   "outputs": [
    {
     "data": {
      "text/plain": [
       "tensor([0.0374])"
      ]
     },
     "execution_count": 32,
     "metadata": {},
     "output_type": "execute_result"
    }
   ],
   "source": [
    "acl.policy.history.scores[0][0,].mean(dim=1)[0]"
   ]
  },
  {
   "cell_type": "code",
   "execution_count": 33,
   "metadata": {},
   "outputs": [
    {
     "data": {
      "text/plain": [
       "tensor([0.0438])"
      ]
     },
     "execution_count": 33,
     "metadata": {},
     "output_type": "execute_result"
    }
   ],
   "source": [
    "acl.policy.history.scores[0][0,].mean(dim=1)[1]"
   ]
  },
  {
   "cell_type": "code",
   "execution_count": 34,
   "metadata": {},
   "outputs": [
    {
     "data": {
      "text/plain": [
       "tensor([0.0452])"
      ]
     },
     "execution_count": 34,
     "metadata": {},
     "output_type": "execute_result"
    }
   ],
   "source": [
    "acl.policy.history.scores[0][0,].mean(dim=1)[2]"
   ]
  },
  {
   "cell_type": "code",
   "execution_count": 35,
   "metadata": {},
   "outputs": [
    {
     "data": {
      "text/plain": [
       "tensor([0.0564])"
      ]
     },
     "execution_count": 35,
     "metadata": {},
     "output_type": "execute_result"
    }
   ],
   "source": [
    "acl.policy.history.scores[0][0,].mean(dim=1)[9]"
   ]
  },
  {
   "cell_type": "code",
   "execution_count": null,
   "metadata": {},
   "outputs": [],
   "source": [
    "th.optim.Adam()"
   ]
  }
 ],
 "metadata": {
  "kernelspec": {
   "display_name": "Python 3.10.6 ('ac')",
   "language": "python",
   "name": "python3"
  },
  "language_info": {
   "codemirror_mode": {
    "name": "ipython",
    "version": 3
   },
   "file_extension": ".py",
   "mimetype": "text/x-python",
   "name": "python",
   "nbconvert_exporter": "python",
   "pygments_lexer": "ipython3",
   "version": "3.10.6"
  },
  "orig_nbformat": 4,
  "vscode": {
   "interpreter": {
    "hash": "55d3bc2b8c4272bbea65d85e1c1c189fa11db70743df9511061edc4d7dc4f3cd"
   }
  }
 },
 "nbformat": 4,
 "nbformat_minor": 2
}
