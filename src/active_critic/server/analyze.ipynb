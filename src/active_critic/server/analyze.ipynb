{
 "cells": [
  {
   "cell_type": "code",
   "execution_count": 1,
   "metadata": {},
   "outputs": [
    {
     "name": "stderr",
     "output_type": "stream",
     "text": [
      "/home/hendrik/anaconda3/envs/ac/lib/python3.10/site-packages/tqdm/auto.py:22: TqdmWarning: IProgress not found. Please update jupyter and ipywidgets. See https://ipywidgets.readthedocs.io/en/stable/user_install.html\n",
      "  from .autonotebook import tqdm as notebook_tqdm\n",
      "2023-03-30 13:53:24.436721: I tensorflow/core/platform/cpu_feature_guard.cc:193] This TensorFlow binary is optimized with oneAPI Deep Neural Network Library (oneDNN) to use the following CPU instructions in performance-critical operations:  AVX2 FMA\n",
      "To enable them in other operations, rebuild TensorFlow with the appropriate compiler flags.\n",
      "/home/hendrik/anaconda3/envs/ac/lib/python3.10/site-packages/gym/spaces/box.py:73: UserWarning: \u001b[33mWARN: Box bound precision lowered by casting to float32\u001b[0m\n",
      "  logger.warn(\n"
     ]
    }
   ],
   "source": [
    "import torch as th\n",
    "from active_critic.learner.active_critic_learner import ActiveCriticLearner, ACLScores\n",
    "from active_critic.learner.active_critic_args import ActiveCriticLearnerArgs\n",
    "from active_critic.policy.active_critic_policy import ActiveCriticPolicy\n",
    "from active_critic.utils.gym_utils import make_dummy_vec_env, make_vec_env, parse_sampled_transitions, sample_expert_transitions, DummyExtractor, new_epoch_reach, sample_new_episode\n",
    "from active_critic.utils.pytorch_utils import make_part_obs_data, count_parameters\n",
    "from active_critic.utils.dataset import DatasetAC\n",
    "from stable_baselines3.common.policies import BasePolicy\n",
    "from stable_baselines3.common.torch_layers import BaseFeaturesExtractor\n",
    "from active_critic.utils.dataset import DatasetAC\n",
    "from active_critic.model_src.whole_sequence_model import (\n",
    "    WholeSequenceModelSetup, WholeSequenceModel, CriticSequenceModel)\n",
    "from active_critic.model_src.transformer import (\n",
    "    ModelSetup, generate_square_subsequent_mask)\n",
    "from active_critic.policy.active_critic_policy import ActiveCriticPolicySetup, ActiveCriticPolicy\n",
    "import argparse\n",
    "from prettytable import PrettyTable\n",
    "\n",
    "from gym import Env\n",
    "th.manual_seed(0)\n",
    "\n",
    "\n",
    "\n",
    "\n",
    "def make_wsm_setup(seq_len, d_output, device='cuda'):\n",
    "    wsm = WholeSequenceModelSetup()\n",
    "    wsm.model_setup = ModelSetup()\n",
    "    seq_len = seq_len\n",
    "    d_output = d_output\n",
    "    wsm.model_setup.d_output = d_output\n",
    "    wsm.model_setup.nhead = 8\n",
    "    wsm.model_setup.d_hid = 200\n",
    "    wsm.model_setup.d_model = 200\n",
    "    wsm.model_setup.nlayers = 5\n",
    "    wsm.model_setup.seq_len = seq_len\n",
    "    wsm.model_setup.dropout = 0.2\n",
    "    wsm.lr = 1e-4\n",
    "    wsm.model_setup.device = device\n",
    "    wsm.optimizer_class = th.optim.AdamW\n",
    "    wsm.optimizer_kwargs = {}\n",
    "    return wsm\n",
    "\n",
    "\n",
    "\n",
    "def make_acps(seq_len, extractor, new_epoch, device, batch_size=32):\n",
    "    acps = ActiveCriticPolicySetup()\n",
    "    acps.device = device\n",
    "    acps.epoch_len = seq_len\n",
    "    acps.extractor = extractor\n",
    "    acps.new_epoch = new_epoch\n",
    "    acps.opt_steps = 5\n",
    "    acps.optimisation_threshold = 1\n",
    "    acps.inference_opt_lr = 5e-3\n",
    "    acps.inference_opt_lr = 1e-2\n",
    "    \n",
    "    acps.optimize = True\n",
    "    acps.batch_size = 32\n",
    "    acps.stop_opt = False\n",
    "    acps.clip = False\n",
    "    return acps\n",
    "\n",
    "\n",
    "def setup_ac(seq_len, num_cpu, device, tag):\n",
    "    env, expert = make_vec_env(tag, num_cpu, seq_len=seq_len)\n",
    "    d_output = env.action_space.shape[0]\n",
    "    wsm_actor_setup = make_wsm_setup(\n",
    "        seq_len=seq_len, d_output=d_output, device=device)\n",
    "    wsm_critic_setup = make_wsm_setup(\n",
    "        seq_len=seq_len, d_output=1, device=device)\n",
    "    acps = make_acps(\n",
    "        seq_len=seq_len, extractor=DummyExtractor(), new_epoch=new_epoch_reach, device=device)\n",
    "    actor = WholeSequenceModel(wsm_actor_setup)\n",
    "    critic = CriticSequenceModel(wsm_critic_setup)\n",
    "    ac = ActiveCriticPolicy(observation_space=env.observation_space, action_space=env.action_space,\n",
    "                            actor=actor, critic=critic, acps=acps)\n",
    "    return ac, acps, env, expert\n",
    "\n",
    "\n",
    "def make_acl(device, logname,  seq_len , imitation_phase, total_training_epsiodes, training_episodes, min_critic_threshold):\n",
    "    device = device\n",
    "    acla = ActiveCriticLearnerArgs()\n",
    "    acla.data_path = '/data/bing/hendrik/EvalAC_Fast'\n",
    "    acla.device = device\n",
    "    acla.extractor = DummyExtractor()\n",
    "    acla.imitation_phase = imitation_phase\n",
    "    tag = 'pickplace'\n",
    "    acla.logname = tag + logname\n",
    "    acla.tboard = True\n",
    "    acla.batch_size = 16\n",
    "    number = 10\n",
    "    acla.val_every = 20000\n",
    "    acla.add_data_every = 20000\n",
    "    acla.validation_episodes = 25 #(*8)\n",
    "    acla.validation_rep = 8\n",
    "    acla.training_epsiodes = training_episodes\n",
    "    acla.actor_threshold = 1e-2\n",
    "    acla.critic_threshold = 1e-2\n",
    "    acla.min_critic_threshold = min_critic_threshold\n",
    "    acla.num_cpu = 25\n",
    "    acla.patients = 40000\n",
    "    acla.total_training_epsiodes = total_training_epsiodes\n",
    "    acla.start_critic = False\n",
    "\n",
    "    epsiodes = 30\n",
    "    ac, acps, env, expert = setup_ac(seq_len=seq_len, num_cpu=min(acla.num_cpu, acla.training_epsiodes), device=device, tag=tag)\n",
    "    eval_env, expert = make_vec_env(tag, num_cpu=acla.num_cpu, seq_len=seq_len)\n",
    "    acl = ActiveCriticLearner(ac_policy=ac, env=env, eval_env=eval_env, network_args_obj=acla)\n",
    "    return acl, env, expert, seq_len, epsiodes, device"
   ]
  },
  {
   "cell_type": "code",
   "execution_count": 2,
   "metadata": {},
   "outputs": [
    {
     "name": "stderr",
     "output_type": "stream",
     "text": [
      "/home/hendrik/anaconda3/envs/ac/lib/python3.10/site-packages/gym/spaces/box.py:73: UserWarning: \u001b[33mWARN: Box bound precision lowered by casting to float32\u001b[0m\n",
      "  logger.warn(\n",
      "/home/hendrik/anaconda3/envs/ac/lib/python3.10/site-packages/gym/spaces/box.py:73: UserWarning: \u001b[33mWARN: Box bound precision lowered by casting to float32\u001b[0m\n",
      "  logger.warn(\n",
      "/home/hendrik/anaconda3/envs/ac/lib/python3.10/site-packages/gym/spaces/box.py:73: UserWarning: \u001b[33mWARN: Box bound precision lowered by casting to float32\u001b[0m\n",
      "  logger.warn(\n",
      "/home/hendrik/anaconda3/envs/ac/lib/python3.10/site-packages/gym/spaces/box.py:73: UserWarning: \u001b[33mWARN: Box bound precision lowered by casting to float32\u001b[0m\n",
      "  logger.warn(\n",
      "/home/hendrik/anaconda3/envs/ac/lib/python3.10/site-packages/gym/spaces/box.py:73: UserWarning: \u001b[33mWARN: Box bound precision lowered by casting to float32\u001b[0m\n",
      "  logger.warn(\n",
      "/home/hendrik/anaconda3/envs/ac/lib/python3.10/site-packages/gym/spaces/box.py:73: UserWarning: \u001b[33mWARN: Box bound precision lowered by casting to float32\u001b[0m\n",
      "  logger.warn(\n",
      "/home/hendrik/anaconda3/envs/ac/lib/python3.10/site-packages/gym/spaces/box.py:73: UserWarning: \u001b[33mWARN: Box bound precision lowered by casting to float32\u001b[0m\n",
      "  logger.warn(\n",
      "/home/hendrik/anaconda3/envs/ac/lib/python3.10/site-packages/gym/spaces/box.py:73: UserWarning: \u001b[33mWARN: Box bound precision lowered by casting to float32\u001b[0m\n",
      "  logger.warn(\n",
      "/home/hendrik/anaconda3/envs/ac/lib/python3.10/site-packages/gym/spaces/box.py:73: UserWarning: \u001b[33mWARN: Box bound precision lowered by casting to float32\u001b[0m\n",
      "  logger.warn(\n",
      "/home/hendrik/anaconda3/envs/ac/lib/python3.10/site-packages/gym/spaces/box.py:73: UserWarning: \u001b[33mWARN: Box bound precision lowered by casting to float32\u001b[0m\n",
      "  logger.warn(\n",
      "/home/hendrik/anaconda3/envs/ac/lib/python3.10/site-packages/gym/spaces/box.py:73: UserWarning: \u001b[33mWARN: Box bound precision lowered by casting to float32\u001b[0m\n",
      "  logger.warn(\n",
      "/home/hendrik/anaconda3/envs/ac/lib/python3.10/site-packages/gym/spaces/box.py:73: UserWarning: \u001b[33mWARN: Box bound precision lowered by casting to float32\u001b[0m\n",
      "  logger.warn(\n",
      "/home/hendrik/anaconda3/envs/ac/lib/python3.10/site-packages/gym/spaces/box.py:73: UserWarning: \u001b[33mWARN: Box bound precision lowered by casting to float32\u001b[0m\n",
      "  logger.warn(\n",
      "/home/hendrik/anaconda3/envs/ac/lib/python3.10/site-packages/gym/spaces/box.py:73: UserWarning: \u001b[33mWARN: Box bound precision lowered by casting to float32\u001b[0m\n",
      "  logger.warn(\n",
      "/home/hendrik/anaconda3/envs/ac/lib/python3.10/site-packages/gym/spaces/box.py:73: UserWarning: \u001b[33mWARN: Box bound precision lowered by casting to float32\u001b[0m\n",
      "  logger.warn(\n",
      "/home/hendrik/anaconda3/envs/ac/lib/python3.10/site-packages/gym/spaces/box.py:73: UserWarning: \u001b[33mWARN: Box bound precision lowered by casting to float32\u001b[0m\n",
      "  logger.warn(\n",
      "/home/hendrik/anaconda3/envs/ac/lib/python3.10/site-packages/gym/spaces/box.py:73: UserWarning: \u001b[33mWARN: Box bound precision lowered by casting to float32\u001b[0m\n",
      "  logger.warn(\n",
      "/home/hendrik/anaconda3/envs/ac/lib/python3.10/site-packages/gym/spaces/box.py:73: UserWarning: \u001b[33mWARN: Box bound precision lowered by casting to float32\u001b[0m\n",
      "  logger.warn(\n",
      "/home/hendrik/anaconda3/envs/ac/lib/python3.10/site-packages/gym/spaces/box.py:73: UserWarning: \u001b[33mWARN: Box bound precision lowered by casting to float32\u001b[0m\n",
      "  logger.warn(\n",
      "/home/hendrik/anaconda3/envs/ac/lib/python3.10/site-packages/gym/spaces/box.py:73: UserWarning: \u001b[33mWARN: Box bound precision lowered by casting to float32\u001b[0m\n",
      "  logger.warn(\n",
      "/home/hendrik/anaconda3/envs/ac/lib/python3.10/site-packages/gym/spaces/box.py:73: UserWarning: \u001b[33mWARN: Box bound precision lowered by casting to float32\u001b[0m\n",
      "  logger.warn(\n",
      "/home/hendrik/anaconda3/envs/ac/lib/python3.10/site-packages/gym/spaces/box.py:73: UserWarning: \u001b[33mWARN: Box bound precision lowered by casting to float32\u001b[0m\n",
      "  logger.warn(\n",
      "/home/hendrik/anaconda3/envs/ac/lib/python3.10/site-packages/gym/spaces/box.py:73: UserWarning: \u001b[33mWARN: Box bound precision lowered by casting to float32\u001b[0m\n",
      "  logger.warn(\n",
      "/home/hendrik/anaconda3/envs/ac/lib/python3.10/site-packages/gym/spaces/box.py:73: UserWarning: \u001b[33mWARN: Box bound precision lowered by casting to float32\u001b[0m\n",
      "  logger.warn(\n",
      "/home/hendrik/anaconda3/envs/ac/lib/python3.10/site-packages/gym/spaces/box.py:73: UserWarning: \u001b[33mWARN: Box bound precision lowered by casting to float32\u001b[0m\n",
      "  logger.warn(\n",
      "/home/hendrik/anaconda3/envs/ac/lib/python3.10/site-packages/gym/spaces/box.py:73: UserWarning: \u001b[33mWARN: Box bound precision lowered by casting to float32\u001b[0m\n",
      "  logger.warn(\n",
      "2023-02-14 17:46:53.160131: I tensorflow/core/platform/cpu_feature_guard.cc:193] This TensorFlow binary is optimized with oneAPI Deep Neural Network Library (oneDNN) to use the following CPU instructions in performance-critical operations:  AVX2 FMA\n",
      "To enable them in other operations, rebuild TensorFlow with the appropriate compiler flags.\n",
      "/home/hendrik/anaconda3/envs/ac/lib/python3.10/site-packages/gym/spaces/box.py:73: UserWarning: \u001b[33mWARN: Box bound precision lowered by casting to float32\u001b[0m\n",
      "  logger.warn(\n",
      "/home/hendrik/anaconda3/envs/ac/lib/python3.10/site-packages/gym/spaces/box.py:73: UserWarning: \u001b[33mWARN: Box bound precision lowered by casting to float32\u001b[0m\n",
      "  logger.warn(\n"
     ]
    },
    {
     "name": "stdout",
     "output_type": "stream",
     "text": [
      "Sampling transitions. 18\n"
     ]
    },
    {
     "name": "stderr",
     "output_type": "stream",
     "text": [
      "/home/hendrik/anaconda3/envs/ac/lib/python3.10/site-packages/gym/spaces/box.py:73: UserWarning: \u001b[33mWARN: Box bound precision lowered by casting to float32\u001b[0m\n",
      "  logger.warn(\n",
      "/home/hendrik/anaconda3/envs/ac/lib/python3.10/site-packages/metaworld/policies/policy.py:41: UserWarning: Constant(s) may be too high. Environments clip response to [-1, 1]\n",
      "  warnings.warn('Constant(s) may be too high. Environments clip response to [-1, 1]')\n",
      "/home/hendrik/anaconda3/envs/ac/lib/python3.10/site-packages/gym/spaces/box.py:73: UserWarning: \u001b[33mWARN: Box bound precision lowered by casting to float32\u001b[0m\n",
      "  logger.warn(\n",
      "/home/hendrik/anaconda3/envs/ac/lib/python3.10/site-packages/gym/spaces/box.py:73: UserWarning: \u001b[33mWARN: Box bound precision lowered by casting to float32\u001b[0m\n",
      "  logger.warn(\n",
      "/home/hendrik/anaconda3/envs/ac/lib/python3.10/site-packages/gym/spaces/box.py:73: UserWarning: \u001b[33mWARN: Box bound precision lowered by casting to float32\u001b[0m\n",
      "  logger.warn(\n",
      "/home/hendrik/anaconda3/envs/ac/lib/python3.10/site-packages/gym/spaces/box.py:73: UserWarning: \u001b[33mWARN: Box bound precision lowered by casting to float32\u001b[0m\n",
      "  logger.warn(\n",
      "/home/hendrik/anaconda3/envs/ac/lib/python3.10/site-packages/gym/spaces/box.py:73: UserWarning: \u001b[33mWARN: Box bound precision lowered by casting to float32\u001b[0m\n",
      "  logger.warn(\n",
      "/home/hendrik/anaconda3/envs/ac/lib/python3.10/site-packages/gym/spaces/box.py:73: UserWarning: \u001b[33mWARN: Box bound precision lowered by casting to float32\u001b[0m\n",
      "  logger.warn(\n",
      "/home/hendrik/anaconda3/envs/ac/lib/python3.10/site-packages/gym/spaces/box.py:73: UserWarning: \u001b[33mWARN: Box bound precision lowered by casting to float32\u001b[0m\n",
      "  logger.warn(\n",
      "/home/hendrik/anaconda3/envs/ac/lib/python3.10/site-packages/gym/spaces/box.py:73: UserWarning: \u001b[33mWARN: Box bound precision lowered by casting to float32\u001b[0m\n",
      "  logger.warn(\n",
      "/home/hendrik/anaconda3/envs/ac/lib/python3.10/site-packages/gym/spaces/box.py:73: UserWarning: \u001b[33mWARN: Box bound precision lowered by casting to float32\u001b[0m\n",
      "  logger.warn(\n",
      "/home/hendrik/anaconda3/envs/ac/lib/python3.10/site-packages/gym/spaces/box.py:73: UserWarning: \u001b[33mWARN: Box bound precision lowered by casting to float32\u001b[0m\n",
      "  logger.warn(\n",
      "/home/hendrik/anaconda3/envs/ac/lib/python3.10/site-packages/gym/spaces/box.py:73: UserWarning: \u001b[33mWARN: Box bound precision lowered by casting to float32\u001b[0m\n",
      "  logger.warn(\n",
      "/home/hendrik/anaconda3/envs/ac/lib/python3.10/site-packages/gym/spaces/box.py:73: UserWarning: \u001b[33mWARN: Box bound precision lowered by casting to float32\u001b[0m\n",
      "  logger.warn(\n",
      "/home/hendrik/anaconda3/envs/ac/lib/python3.10/site-packages/gym/spaces/box.py:73: UserWarning: \u001b[33mWARN: Box bound precision lowered by casting to float32\u001b[0m\n",
      "  logger.warn(\n",
      "/home/hendrik/anaconda3/envs/ac/lib/python3.10/site-packages/gym/spaces/box.py:73: UserWarning: \u001b[33mWARN: Box bound precision lowered by casting to float32\u001b[0m\n",
      "  logger.warn(\n",
      "/home/hendrik/Documents/master_project/Code/active_critic/src/active_critic/utils/gym_utils.py:266: UserWarning: Creating a tensor from a list of numpy.ndarrays is extremely slow. Please consider converting the list to a single numpy.ndarray with numpy.array() before converting to a tensor. (Triggered internally at ../torch/csrc/utils/tensor_new.cpp:230.)\n",
      "  actions = th.tensor(fill_arrays(actions, seq_len = seq_len), dtype=th.float, device=device)\n",
      "/home/hendrik/anaconda3/envs/ac/lib/python3.10/site-packages/gym/spaces/box.py:73: UserWarning: \u001b[33mWARN: Box bound precision lowered by casting to float32\u001b[0m\n",
      "  logger.warn(\n"
     ]
    },
    {
     "name": "stdout",
     "output_type": "stream",
     "text": [
      "last rewards: 1.0\n",
      "last success: 1.0\n",
      "self.last_scores: None\n"
     ]
    },
    {
     "name": "stderr",
     "output_type": "stream",
     "text": [
      "/home/hendrik/anaconda3/envs/ac/lib/python3.10/site-packages/gym/spaces/box.py:73: UserWarning: \u001b[33mWARN: Box bound precision lowered by casting to float32\u001b[0m\n",
      "  logger.warn(\n",
      "/home/hendrik/anaconda3/envs/ac/lib/python3.10/site-packages/gym/spaces/box.py:73: UserWarning: \u001b[33mWARN: Box bound precision lowered by casting to float32\u001b[0m\n",
      "  logger.warn(\n",
      "/home/hendrik/anaconda3/envs/ac/lib/python3.10/site-packages/gym/spaces/box.py:73: UserWarning: \u001b[33mWARN: Box bound precision lowered by casting to float32\u001b[0m\n",
      "  logger.warn(\n",
      "/home/hendrik/anaconda3/envs/ac/lib/python3.10/site-packages/gym/spaces/box.py:73: UserWarning: \u001b[33mWARN: Box bound precision lowered by casting to float32\u001b[0m\n",
      "  logger.warn(\n",
      "/home/hendrik/anaconda3/envs/ac/lib/python3.10/site-packages/gym/spaces/box.py:73: UserWarning: \u001b[33mWARN: Box bound precision lowered by casting to float32\u001b[0m\n",
      "  logger.warn(\n",
      "/home/hendrik/anaconda3/envs/ac/lib/python3.10/site-packages/gym/spaces/box.py:73: UserWarning: \u001b[33mWARN: Box bound precision lowered by casting to float32\u001b[0m\n",
      "  logger.warn(\n"
     ]
    },
    {
     "data": {
      "image/png": "[encoded data removed]",
      "text/plain": [
       "<Figure size 640x480 with 4 Axes>"
      ]
     },
     "metadata": {},
     "output_type": "display_data"
    },
    {
     "name": "stderr",
     "output_type": "stream",
     "text": [
      "/home/hendrik/anaconda3/envs/ac/lib/python3.10/site-packages/gym/spaces/box.py:73: UserWarning: \u001b[33mWARN: Box bound precision lowered by casting to float32\u001b[0m\n",
      "  logger.warn(\n",
      "/home/hendrik/anaconda3/envs/ac/lib/python3.10/site-packages/gym/spaces/box.py:73: UserWarning: \u001b[33mWARN: Box bound precision lowered by casting to float32\u001b[0m\n",
      "  logger.warn(\n",
      "/home/hendrik/anaconda3/envs/ac/lib/python3.10/site-packages/gym/spaces/box.py:73: UserWarning: \u001b[33mWARN: Box bound precision lowered by casting to float32\u001b[0m\n",
      "  logger.warn(\n",
      "/home/hendrik/anaconda3/envs/ac/lib/python3.10/site-packages/gym/spaces/box.py:73: UserWarning: \u001b[33mWARN: Box bound precision lowered by casting to float32\u001b[0m\n",
      "  logger.warn(\n"
     ]
    },
    {
     "data": {
      "image/png": "[encoded data removed]",
      "text/plain": [
       "<Figure size 640x480 with 4 Axes>"
      ]
     },
     "metadata": {},
     "output_type": "display_data"
    }
   ],
   "source": [
    "seq_len = 100\n",
    "demos = 18\n",
    "training_episodes = 10\n",
    "min_critic_threshold = 5e-5\n",
    "logname = f'seq_len: {seq_len}, demonstrations: {demos}, training_episodes: {training_episodes}, min critic: {min_critic_threshold} Incline BC'\n",
    "device = 'cuda'\n",
    "imitation_phase = True\n",
    "total_training_epsiodes = 200\n",
    "acl, env, expert, seq_len, epsiodes, device = make_acl(\n",
    "                            device, seq_len=seq_len, \n",
    "                            logname=logname, \n",
    "                            imitation_phase=imitation_phase, \n",
    "                            total_training_epsiodes=total_training_epsiodes,\n",
    "                            training_episodes=training_episodes,\n",
    "                            min_critic_threshold=min_critic_threshold)\n",
    "acl.network_args.num_expert_demos = demos\n",
    "acl.add_training_data(policy=expert, episodes=demos, seq_len=seq_len)"
   ]
  },
  {
   "cell_type": "code",
   "execution_count": 3,
   "metadata": {},
   "outputs": [
    {
     "name": "stderr",
     "output_type": "stream",
     "text": [
      "/home/hendrik/anaconda3/envs/ac/lib/python3.10/site-packages/gym/spaces/box.py:73: UserWarning: \u001b[33mWARN: Box bound precision lowered by casting to float32\u001b[0m\n",
      "  logger.warn(\n",
      "/home/hendrik/anaconda3/envs/ac/lib/python3.10/site-packages/gym/spaces/box.py:73: UserWarning: \u001b[33mWARN: Box bound precision lowered by casting to float32\u001b[0m\n",
      "  logger.warn(\n"
     ]
    },
    {
     "name": "stdout",
     "output_type": "stream",
     "text": [
      "_____________________________________________________________\n",
      "Sampling transitions. 25\n"
     ]
    },
    {
     "name": "stderr",
     "output_type": "stream",
     "text": [
      "/home/hendrik/anaconda3/envs/ac/lib/python3.10/site-packages/gym/spaces/box.py:73: UserWarning: \u001b[33mWARN: Box bound precision lowered by casting to float32\u001b[0m\n",
      "  logger.warn(\n",
      "/home/hendrik/anaconda3/envs/ac/lib/python3.10/site-packages/gym/spaces/box.py:73: UserWarning: \u001b[33mWARN: Box bound precision lowered by casting to float32\u001b[0m\n",
      "  logger.warn(\n",
      "/home/hendrik/anaconda3/envs/ac/lib/python3.10/site-packages/gym/spaces/box.py:73: UserWarning: \u001b[33mWARN: Box bound precision lowered by casting to float32\u001b[0m\n",
      "  logger.warn(\n",
      "/home/hendrik/anaconda3/envs/ac/lib/python3.10/site-packages/gym/spaces/box.py:73: UserWarning: \u001b[33mWARN: Box bound precision lowered by casting to float32\u001b[0m\n",
      "  logger.warn(\n",
      "/home/hendrik/anaconda3/envs/ac/lib/python3.10/site-packages/gym/spaces/box.py:73: UserWarning: \u001b[33mWARN: Box bound precision lowered by casting to float32\u001b[0m\n",
      "  logger.warn(\n",
      "/home/hendrik/anaconda3/envs/ac/lib/python3.10/site-packages/gym/spaces/box.py:73: UserWarning: \u001b[33mWARN: Box bound precision lowered by casting to float32\u001b[0m\n",
      "  logger.warn(\n",
      "/home/hendrik/anaconda3/envs/ac/lib/python3.10/site-packages/gym/spaces/box.py:73: UserWarning: \u001b[33mWARN: Box bound precision lowered by casting to float32\u001b[0m\n",
      "  logger.warn(\n",
      "/home/hendrik/anaconda3/envs/ac/lib/python3.10/site-packages/gym/spaces/box.py:73: UserWarning: \u001b[33mWARN: Box bound precision lowered by casting to float32\u001b[0m\n",
      "  logger.warn(\n",
      "/home/hendrik/anaconda3/envs/ac/lib/python3.10/site-packages/gym/spaces/box.py:73: UserWarning: \u001b[33mWARN: Box bound precision lowered by casting to float32\u001b[0m\n",
      "  logger.warn(\n",
      "/home/hendrik/anaconda3/envs/ac/lib/python3.10/site-packages/gym/spaces/box.py:73: UserWarning: \u001b[33mWARN: Box bound precision lowered by casting to float32\u001b[0m\n",
      "  logger.warn(\n",
      "/home/hendrik/anaconda3/envs/ac/lib/python3.10/site-packages/gym/spaces/box.py:73: UserWarning: \u001b[33mWARN: Box bound precision lowered by casting to float32\u001b[0m\n",
      "  logger.warn(\n",
      "/home/hendrik/anaconda3/envs/ac/lib/python3.10/site-packages/gym/spaces/box.py:73: UserWarning: \u001b[33mWARN: Box bound precision lowered by casting to float32\u001b[0m\n",
      "  logger.warn(\n",
      "/home/hendrik/anaconda3/envs/ac/lib/python3.10/site-packages/gym/spaces/box.py:73: UserWarning: \u001b[33mWARN: Box bound precision lowered by casting to float32\u001b[0m\n",
      "  logger.warn(\n",
      "/home/hendrik/anaconda3/envs/ac/lib/python3.10/site-packages/gym/spaces/box.py:73: UserWarning: \u001b[33mWARN: Box bound precision lowered by casting to float32\u001b[0m\n",
      "  logger.warn(\n"
     ]
    },
    {
     "name": "stdout",
     "output_type": "stream",
     "text": [
      "Sampling transitions. 25\n",
      "Sampling transitions. 25\n",
      "Sampling transitions. 25\n",
      "Sampling transitions. 25\n",
      "Sampling transitions. 25\n",
      "Sampling transitions. 25\n",
      "Sampling transitions. 25\n",
      "Success Rate: 0.0 optimize\n",
      "Reward: 0.0 optimize\n",
      "training samples: 18 optimize\n",
      "Sampling transitions. 25\n",
      "Sampling transitions. 25\n",
      "Sampling transitions. 25\n",
      "Sampling transitions. 25\n",
      "Sampling transitions. 25\n",
      "Sampling transitions. 25\n",
      "Sampling transitions. 25\n",
      "Sampling transitions. 25\n",
      "Success Rate: 0.0\n",
      "Reward: 0.0\n",
      "training samples: 18\n",
      "self.get_num_training_samples(): 0\n",
      "self.network_args.total_training_epsiodes: 200\n",
      "_____________________________________________________________\n",
      "Sampling transitions. 25\n",
      "Sampling transitions. 25\n",
      "Sampling transitions. 25\n",
      "Sampling transitions. 25\n",
      "Sampling transitions. 25\n",
      "Sampling transitions. 25\n",
      "Sampling transitions. 25\n",
      "Sampling transitions. 25\n",
      "/data/bing/hendrik/EvalAC_Fast/pickplaceseq_len: 100, demonstrations: 18, training_episodes: 10, min critic: 5e-05 Incline BC/best_validation\n",
      "Success Rate: 0.6850000023841858 optimize\n",
      "Reward: 0.6850000023841858 optimize\n",
      "training samples: 18 optimize\n",
      "Sampling transitions. 25\n",
      "Sampling transitions. 25\n",
      "Sampling transitions. 25\n",
      "Sampling transitions. 25\n",
      "Sampling transitions. 25\n",
      "Sampling transitions. 25\n",
      "Sampling transitions. 25\n",
      "Sampling transitions. 25\n",
      "/data/bing/hendrik/EvalAC_Fast/pickplaceseq_len: 100, demonstrations: 18, training_episodes: 10, min critic: 5e-05 Incline BC/best_validation\n",
      "Success Rate: 0.75\n",
      "Reward: 0.75\n",
      "training samples: 18\n",
      "self.get_num_training_samples(): 10\n",
      "self.network_args.total_training_epsiodes: 200\n",
      "_____________________________________________________________\n",
      "Sampling transitions. 25\n",
      "Sampling transitions. 25\n",
      "Sampling transitions. 25\n",
      "Sampling transitions. 25\n",
      "Sampling transitions. 25\n",
      "Sampling transitions. 25\n",
      "Sampling transitions. 25\n",
      "Sampling transitions. 25\n",
      "Success Rate: 0.5999999642372131 optimize\n",
      "Reward: 0.5999999642372131 optimize\n",
      "training samples: 18 optimize\n",
      "Sampling transitions. 25\n",
      "Sampling transitions. 25\n",
      "Sampling transitions. 25\n",
      "Sampling transitions. 25\n",
      "Sampling transitions. 25\n",
      "Sampling transitions. 25\n",
      "Sampling transitions. 25\n",
      "Sampling transitions. 25\n",
      "Success Rate: 0.6499999761581421\n",
      "Reward: 0.6499999761581421\n",
      "training samples: 18\n",
      "self.get_num_training_samples(): 20\n",
      "self.network_args.total_training_epsiodes: 200\n"
     ]
    },
    {
     "ename": "KeyboardInterrupt",
     "evalue": "",
     "output_type": "error",
     "traceback": [
      "\u001b[0;31m---------------------------------------------------------------------------\u001b[0m",
      "\u001b[0;31mKeyboardInterrupt\u001b[0m                         Traceback (most recent call last)",
      "Cell \u001b[0;32mIn [3], line 1\u001b[0m\n\u001b[0;32m----> 1\u001b[0m acl\u001b[39m.\u001b[39;49mtrain(epochs\u001b[39m=\u001b[39;49m\u001b[39m10000000\u001b[39;49m)\n",
      "File \u001b[0;32m~/Documents/master_project/Code/active_critic/src/active_critic/learner/active_critic_learner.py:292\u001b[0m, in \u001b[0;36mActiveCriticLearner.train\u001b[0;34m(self, epochs)\u001b[0m\n\u001b[1;32m    289\u001b[0m \u001b[39melse\u001b[39;00m:\n\u001b[1;32m    290\u001b[0m     max_critic \u001b[39m=\u001b[39m \u001b[39m0\u001b[39m\n\u001b[0;32m--> 292\u001b[0m \u001b[39mself\u001b[39;49m\u001b[39m.\u001b[39;49mwrite_tboard_scalar(debug_dict\u001b[39m=\u001b[39;49mdebug_dict, train\u001b[39m=\u001b[39;49m\u001b[39mTrue\u001b[39;49;00m, step\u001b[39m=\u001b[39;49m\u001b[39mself\u001b[39;49m\u001b[39m.\u001b[39;49mglobal_step)\n\u001b[1;32m    293\u001b[0m \u001b[39mself\u001b[39m\u001b[39m.\u001b[39mglobal_step \u001b[39m+\u001b[39m\u001b[39m=\u001b[39m \u001b[39mlen\u001b[39m(\u001b[39mself\u001b[39m\u001b[39m.\u001b[39mtrain_data)\n\u001b[1;32m    294\u001b[0m \u001b[39m'''if current_patients <= 0:\u001b[39;00m\n\u001b[1;32m    295\u001b[0m \u001b[39m    self.policy.critic.init_model()\u001b[39;00m\n\u001b[1;32m    296\u001b[0m \u001b[39m    print('reinit critic')\u001b[39;00m\n\u001b[1;32m    297\u001b[0m \u001b[39m    self.network_args.patients *= 2'''\u001b[39;00m\n",
      "File \u001b[0;32m~/Documents/master_project/Code/active_critic/src/active_critic/learner/active_critic_learner.py:310\u001b[0m, in \u001b[0;36mActiveCriticLearner.write_tboard_scalar\u001b[0;34m(self, debug_dict, train, step, optimize)\u001b[0m\n\u001b[1;32m    308\u001b[0m \u001b[39mif\u001b[39;00m train:\n\u001b[1;32m    309\u001b[0m     \u001b[39mif\u001b[39;00m optimize:\n\u001b[0;32m--> 310\u001b[0m         \u001b[39mself\u001b[39;49m\u001b[39m.\u001b[39;49mtboard_opt\u001b[39m.\u001b[39;49maddTrainScalar(para, value, step)\n\u001b[1;32m    311\u001b[0m     \u001b[39melse\u001b[39;00m:\n\u001b[1;32m    312\u001b[0m         \u001b[39mself\u001b[39m\u001b[39m.\u001b[39mtboard\u001b[39m.\u001b[39maddTrainScalar(para, value, step)\n",
      "File \u001b[0;32m~/Documents/master_project/Code/active_critic/src/active_critic/utils/tboard_graphs.py:38\u001b[0m, in \u001b[0;36mTBoardGraphs.addTrainScalar\u001b[0;34m(self, name, value, stepid)\u001b[0m\n\u001b[1;32m     35\u001b[0m \u001b[39mwith\u001b[39;00m \u001b[39mself\u001b[39m\u001b[39m.\u001b[39m__tboard_train\u001b[39m.\u001b[39mas_default():\n\u001b[1;32m     37\u001b[0m     tfvalue \u001b[39m=\u001b[39m \u001b[39mself\u001b[39m\u001b[39m.\u001b[39mtorch2tf(value)\n\u001b[0;32m---> 38\u001b[0m     tf\u001b[39m.\u001b[39;49msummary\u001b[39m.\u001b[39;49mscalar(name, tfvalue, step\u001b[39m=\u001b[39;49mstepid)\n\u001b[1;32m     39\u001b[0m     \u001b[39mself\u001b[39m\u001b[39m.\u001b[39m__tboard_train\u001b[39m.\u001b[39mflush()\n",
      "File \u001b[0;32m~/anaconda3/envs/ac/lib/python3.10/site-packages/tensorboard/plugins/scalar/summary_v2.py:87\u001b[0m, in \u001b[0;36mscalar\u001b[0;34m(name, data, step, description)\u001b[0m\n\u001b[1;32m     82\u001b[0m \u001b[39m# TODO(https://github.com/tensorflow/tensorboard/issues/2109): remove fallback\u001b[39;00m\n\u001b[1;32m     83\u001b[0m summary_scope \u001b[39m=\u001b[39m (\n\u001b[1;32m     84\u001b[0m     \u001b[39mgetattr\u001b[39m(tf\u001b[39m.\u001b[39msummary\u001b[39m.\u001b[39mexperimental, \u001b[39m\"\u001b[39m\u001b[39msummary_scope\u001b[39m\u001b[39m\"\u001b[39m, \u001b[39mNone\u001b[39;00m)\n\u001b[1;32m     85\u001b[0m     \u001b[39mor\u001b[39;00m tf\u001b[39m.\u001b[39msummary\u001b[39m.\u001b[39msummary_scope\n\u001b[1;32m     86\u001b[0m )\n\u001b[0;32m---> 87\u001b[0m \u001b[39mwith\u001b[39;00m summary_scope(name, \u001b[39m\"\u001b[39m\u001b[39mscalar_summary\u001b[39m\u001b[39m\"\u001b[39m, values\u001b[39m=\u001b[39m[data, step]) \u001b[39mas\u001b[39;00m (tag, _):\n\u001b[1;32m     88\u001b[0m     tf\u001b[39m.\u001b[39mdebugging\u001b[39m.\u001b[39massert_scalar(data)\n\u001b[1;32m     89\u001b[0m     \u001b[39mreturn\u001b[39;00m tf\u001b[39m.\u001b[39msummary\u001b[39m.\u001b[39mwrite(\n\u001b[1;32m     90\u001b[0m         tag\u001b[39m=\u001b[39mtag,\n\u001b[1;32m     91\u001b[0m         tensor\u001b[39m=\u001b[39mtf\u001b[39m.\u001b[39mcast(data, tf\u001b[39m.\u001b[39mfloat32),\n\u001b[1;32m     92\u001b[0m         step\u001b[39m=\u001b[39mstep,\n\u001b[1;32m     93\u001b[0m         metadata\u001b[39m=\u001b[39msummary_metadata,\n\u001b[1;32m     94\u001b[0m     )\n",
      "File \u001b[0;32m~/anaconda3/envs/ac/lib/python3.10/contextlib.py:142\u001b[0m, in \u001b[0;36m_GeneratorContextManager.__exit__\u001b[0;34m(self, typ, value, traceback)\u001b[0m\n\u001b[1;32m    140\u001b[0m \u001b[39mif\u001b[39;00m typ \u001b[39mis\u001b[39;00m \u001b[39mNone\u001b[39;00m:\n\u001b[1;32m    141\u001b[0m     \u001b[39mtry\u001b[39;00m:\n\u001b[0;32m--> 142\u001b[0m         \u001b[39mnext\u001b[39;49m(\u001b[39mself\u001b[39;49m\u001b[39m.\u001b[39;49mgen)\n\u001b[1;32m    143\u001b[0m     \u001b[39mexcept\u001b[39;00m \u001b[39mStopIteration\u001b[39;00m:\n\u001b[1;32m    144\u001b[0m         \u001b[39mreturn\u001b[39;00m \u001b[39mFalse\u001b[39;00m\n",
      "File \u001b[0;32m~/anaconda3/envs/ac/lib/python3.10/site-packages/tensorflow/python/ops/summary_ops_v2.py:703\u001b[0m, in \u001b[0;36msummary_scope\u001b[0;34m(name, default_name, values)\u001b[0m\n\u001b[1;32m    700\u001b[0m \u001b[39m# Strip illegal characters from the scope name, and if that leaves nothing,\u001b[39;00m\n\u001b[1;32m    701\u001b[0m \u001b[39m# use None instead so we pick up the default name.\u001b[39;00m\n\u001b[1;32m    702\u001b[0m name \u001b[39m=\u001b[39m _INVALID_SCOPE_CHARACTERS\u001b[39m.\u001b[39msub(\u001b[39m\"\u001b[39m\u001b[39m\"\u001b[39m, name) \u001b[39mor\u001b[39;00m \u001b[39mNone\u001b[39;00m\n\u001b[0;32m--> 703\u001b[0m \u001b[39mwith\u001b[39;00m ops\u001b[39m.\u001b[39mname_scope(name, default_name, values, skip_on_eager\u001b[39m=\u001b[39m\u001b[39mFalse\u001b[39;00m) \u001b[39mas\u001b[39;00m scope:\n\u001b[1;32m    704\u001b[0m   \u001b[39myield\u001b[39;00m tag, scope\n",
      "File \u001b[0;32m~/anaconda3/envs/ac/lib/python3.10/site-packages/tensorflow/python/framework/ops.py:7003\u001b[0m, in \u001b[0;36mname_scope_v2.__exit__\u001b[0;34m(self, type_arg, value_arg, traceback_arg)\u001b[0m\n\u001b[1;32m   7002\u001b[0m \u001b[39mdef\u001b[39;00m \u001b[39m__exit__\u001b[39m(\u001b[39mself\u001b[39m, type_arg, value_arg, traceback_arg):\n\u001b[0;32m-> 7003\u001b[0m   \u001b[39mself\u001b[39;49m\u001b[39m.\u001b[39;49m_exit_fns\u001b[39m.\u001b[39;49mpop()(type_arg, value_arg, traceback_arg)\n\u001b[1;32m   7004\u001b[0m   \u001b[39mreturn\u001b[39;00m \u001b[39mFalse\u001b[39;00m\n",
      "\u001b[0;31mKeyboardInterrupt\u001b[0m: "
     ]
    }
   ],
   "source": [
    "acl.train(epochs=10000000)"
   ]
  },
  {
   "cell_type": "code",
   "execution_count": null,
   "metadata": {},
   "outputs": [
    {
     "name": "stdout",
     "output_type": "stream",
     "text": [
      "Sampling transitions. 25\n",
      "Sampling transitions. 25\n",
      "Sampling transitions. 25\n",
      "Sampling transitions. 25\n",
      "Sampling transitions. 25\n",
      "Sampling transitions. 25\n",
      "Sampling transitions. 25\n",
      "Sampling transitions. 25\n",
      "Success Rate: 0.41999998688697815\n",
      "Reward: 0.41999998688697815\n",
      "training samples: 18\n"
     ]
    }
   ],
   "source": [
    "acl.run_validation(optimize=False)"
   ]
  },
  {
   "cell_type": "code",
   "execution_count": null,
   "metadata": {},
   "outputs": [
    {
     "ename": "NameError",
     "evalue": "name 'equal_state_dict' is not defined",
     "output_type": "error",
     "traceback": [
      "\u001b[0;31m---------------------------------------------------------------------------\u001b[0m",
      "\u001b[0;31mNameError\u001b[0m                                 Traceback (most recent call last)",
      "Cell \u001b[0;32mIn [5], line 1\u001b[0m\n\u001b[0;32m----> 1\u001b[0m equal_state_dict(acl\u001b[39m.\u001b[39mpolicy, other_policy)\n",
      "\u001b[0;31mNameError\u001b[0m: name 'equal_state_dict' is not defined"
     ]
    }
   ],
   "source": [
    "equal_state_dict(acl.policy, other_policy)"
   ]
  },
  {
   "cell_type": "code",
   "execution_count": null,
   "metadata": {},
   "outputs": [],
   "source": [
    "import copy"
   ]
  },
  {
   "cell_type": "code",
   "execution_count": null,
   "metadata": {},
   "outputs": [],
   "source": [
    "th.save(acl.policy, 'test')"
   ]
  },
  {
   "cell_type": "code",
   "execution_count": null,
   "metadata": {},
   "outputs": [],
   "source": [
    "other_policy = th.load('test')"
   ]
  },
  {
   "cell_type": "code",
   "execution_count": null,
   "metadata": {},
   "outputs": [],
   "source": [
    "def equal_state_dict(model1, model2):\n",
    "    for p1, p2 in zip(model1.parameters(), model2.parameters()):\n",
    "        if p1.data.ne(p2.data).sum() > 0:\n",
    "            return False\n",
    "    return True"
   ]
  },
  {
   "cell_type": "code",
   "execution_count": null,
   "metadata": {},
   "outputs": [],
   "source": [
    "acl.policy.critic.init_model()"
   ]
  },
  {
   "cell_type": "code",
   "execution_count": null,
   "metadata": {},
   "outputs": [],
   "source": [
    "equal_state_dict(acl.policy, other_policy)"
   ]
  },
  {
   "cell_type": "code",
   "execution_count": null,
   "metadata": {},
   "outputs": [],
   "source": []
  }
 ],
 "metadata": {
  "kernelspec": {
   "display_name": "ac",
   "language": "python",
   "name": "python3"
  },
  "language_info": {
   "codemirror_mode": {
    "name": "ipython",
    "version": 3
   },
   "file_extension": ".py",
   "mimetype": "text/x-python",
   "name": "python",
   "nbconvert_exporter": "python",
   "pygments_lexer": "ipython3",
   "version": "3.10.6 (main, Oct  7 2022, 20:19:58) [GCC 11.2.0]"
  },
  "orig_nbformat": 4,
  "vscode": {
   "interpreter": {
    "hash": "c27e8fa6375f4d15af5a5f5541d8bb88746b588c9fe1102cfd8de011d36c10c2"
   }
  }
 },
 "nbformat": 4,
 "nbformat_minor": 2
}
