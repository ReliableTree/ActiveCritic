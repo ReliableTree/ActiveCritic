{
 "cells": [
  {
   "cell_type": "code",
   "execution_count": 1,
   "metadata": {},
   "outputs": [
    {
     "name": "stderr",
     "output_type": "stream",
     "text": [
      "/home/hendrik/anaconda3/envs/ac/lib/python3.10/site-packages/tqdm/auto.py:22: TqdmWarning: IProgress not found. Please update jupyter and ipywidgets. See https://ipywidgets.readthedocs.io/en/stable/user_install.html\n",
      "  from .autonotebook import tqdm as notebook_tqdm\n",
      "2022-11-13 22:54:37.297905: I tensorflow/core/platform/cpu_feature_guard.cc:193] This TensorFlow binary is optimized with oneAPI Deep Neural Network Library (oneDNN) to use the following CPU instructions in performance-critical operations:  AVX2 FMA\n",
      "To enable them in other operations, rebuild TensorFlow with the appropriate compiler flags.\n",
      "/home/hendrik/anaconda3/envs/ac/lib/python3.10/site-packages/gym/spaces/box.py:73: UserWarning: \u001b[33mWARN: Box bound precision lowered by casting to float32\u001b[0m\n",
      "  logger.warn(\n"
     ]
    }
   ],
   "source": [
    "import torch as th\n",
    "from active_critic.learner.active_critic_learner import ActiveCriticLearner, ACLScores\n",
    "from active_critic.learner.active_critic_args import ActiveCriticLearnerArgs\n",
    "from active_critic.policy.active_critic_policy import ActiveCriticPolicy\n",
    "from active_critic.utils.gym_utils import make_vec_env, DummyExtractor, new_epoch_reach, sample_expert_transitions, parse_sampled_transitions\n",
    "from active_critic.utils.pytorch_utils import build_tf_horizon_mask\n",
    "from active_critic.utils.dataset import DatasetAC\n",
    "from active_critic.policy.active_critic_policy import ActiveCriticPolicySetup, ActiveCriticPolicy\n",
    "from active_critic.model_src.state_model import *\n",
    "from active_critic.model_src.whole_sequence_model import WholeSequenceModel, WholeSequenceModelArgs\n",
    "from active_critic.model_src.transformer import ModelSetup\n",
    "\n",
    "\n",
    "from gym import Env\n",
    "th.manual_seed(2)\n",
    "\n",
    "class DummyStateModel(StateModel):\n",
    "    def __init__(self, args: StateModelArgs) -> None:\n",
    "        super().__init__(args)\n",
    "\n",
    "    def forward(self, inpt):\n",
    "        super().forward(inpt)\n",
    "        return inpt\n",
    "\n",
    "def make_wsm_setup(seq_len, d_output, device='cpu'):\n",
    "    wsm = WholeSequenceModelArgs()\n",
    "    wsm.model_setup = ModelSetup()\n",
    "    seq_len = seq_len\n",
    "    d_output = d_output\n",
    "    wsm.model_setup.d_output = d_output\n",
    "    wsm.model_setup.nhead = 1\n",
    "    wsm.model_setup.d_hid = 200\n",
    "    wsm.model_setup.d_model = 200\n",
    "    wsm.model_setup.nlayers = 3\n",
    "    wsm.model_setup.seq_len = seq_len\n",
    "    wsm.model_setup.dropout = 0\n",
    "    wsm.lr = 1e-3\n",
    "    wsm.model_setup.device = device\n",
    "    wsm.optimizer_class = th.optim.Adam\n",
    "    wsm.optimizer_kwargs = {}\n",
    "    return wsm\n",
    "\n",
    "def make_acps(seq_len, extractor, new_epoch, batch_size, device, horizon):\n",
    "    acps = ActiveCriticPolicySetup()\n",
    "    acps.device=device\n",
    "    acps.epoch_len=seq_len\n",
    "    acps.extractor=extractor\n",
    "    acps.new_epoch=new_epoch\n",
    "    acps.opt_steps=100\n",
    "    acps.inference_opt_lr = 1e-2\n",
    "    acps.optimizer_class = th.optim.SGD\n",
    "    acps.optimize = True\n",
    "    acps.batch_size = batch_size\n",
    "    acps.pred_mask = build_tf_horizon_mask(seq_len=seq_len, horizon=horizon, device=device)\n",
    "    acps.opt_mask = th.zeros([seq_len], device=device, dtype=bool)\n",
    "    acps.opt_mask[-1] = 1\n",
    "    acps.opt_goal = True\n",
    "    acps.optimize_goal_emb_acts = False\n",
    "    acps.goal_label_multiplier = 1\n",
    "    return acps\n",
    "\n",
    "def setup_opt_state(batch_size, seq_len, device='cpu'):\n",
    "    num_cpu = 1\n",
    "    env, expert = make_vec_env('reach', num_cpu, seq_len=seq_len)\n",
    "    d_output = env.action_space.shape[0]\n",
    "    embed_dim = 39\n",
    "    lr = 5e-4\n",
    "\n",
    "    actor_args = StateModelArgs()\n",
    "    actor_args.arch = [512,512, env.action_space.shape[0]]\n",
    "    actor_args.device = device\n",
    "    actor_args.lr = lr\n",
    "    actor = StateModel(args=actor_args)\n",
    "\n",
    "    critic_args = StateModelArgs()\n",
    "    critic_args.arch = [512,512, 1]\n",
    "    critic_args.device = device\n",
    "    critic_args.lr = lr\n",
    "    critic = StateModel(args=critic_args)\n",
    "\n",
    "    inv_critic_args = StateModelArgs()\n",
    "    inv_critic_args.arch = [200, embed_dim + env.action_space.shape[0]]\n",
    "    inv_critic_args.device = device\n",
    "    inv_critic_args.lr = lr\n",
    "    inv_critic = StateModel(args=inv_critic_args)\n",
    "\n",
    "    emitter_args = StateModelArgs()\n",
    "    emitter_args.arch = [200, 200, embed_dim]\n",
    "    emitter_args.device = device\n",
    "    emitter_args.lr = lr\n",
    "    #emitter = StateModel(args=emitter_args)\n",
    "    emitter = DummyStateModel(args=emitter_args)\n",
    "\n",
    "    predictor_args = make_wsm_setup(\n",
    "    seq_len=seq_len, d_output=embed_dim, device=device)\n",
    "    predictor_args.model_setup.d_hid = 1024\n",
    "    predictor_args.model_setup.d_model = 1024\n",
    "    predictor_args.model_setup.nlayers = 4\n",
    "    predictor_args.model_setup.nhead = 16\n",
    "    predictor_args.lr = 5e-4\n",
    "    predictor = WholeSequenceModel(args=predictor_args)\n",
    "\n",
    "    horizon = seq_len\n",
    "\n",
    "\n",
    "    acps = make_acps(\n",
    "        seq_len=seq_len, \n",
    "        extractor=DummyExtractor(), \n",
    "        new_epoch=new_epoch_reach, \n",
    "        device=device, \n",
    "        batch_size=batch_size,\n",
    "        horizon=horizon)\n",
    "    acps.clip = False\n",
    "    ac = ActiveCriticPolicy(observation_space=env.observation_space, \n",
    "                            action_space=env.action_space,\n",
    "                            actor=actor,\n",
    "                            critic=critic,\n",
    "                            predictor=predictor,\n",
    "                            emitter=emitter,\n",
    "                            inverse_critic=inv_critic,\n",
    "                            acps=acps)\n",
    "    return ac, acps, batch_size, seq_len, env, expert\n",
    "\n",
    "\n",
    "def make_acl(device):\n",
    "    device = device\n",
    "    acla = ActiveCriticLearnerArgs()\n",
    "    acla.data_path = '/home/hendrik/Documents/master_project/LokalData/WSM/'\n",
    "    #acla.data_path = '/data/bing/hendrik/'\n",
    "    acla.device = device\n",
    "    acla.extractor = DummyExtractor()\n",
    "    acla.imitation_phase = False\n",
    "    acla.logname = 'Dont optimize Sequence in training'\n",
    "    acla.tboard = True\n",
    "    acla.batch_size = 32\n",
    "    acla.validation_episodes = 2\n",
    "    acla.training_epsiodes = 1\n",
    "    acla.actor_threshold = 1e-2\n",
    "    acla.critic_threshold = 1e-3\n",
    "    acla.predictor_threshold = 1e-2\n",
    "    acla.gen_scores_threshold = 0.5\n",
    "    acla.loss_auto_predictor_threshold = 1e-3\n",
    "    acla.num_cpu = acla.validation_episodes\n",
    "    acla.use_pain = True\n",
    "    acla.patients = 1000\n",
    "    \n",
    "    seq_len = 100\n",
    "    ac, acps, batch_size, seq_len, env, expert= setup_opt_state(device=device, batch_size=acla.batch_size, seq_len=seq_len)\n",
    "    \n",
    "    acps.opt_steps = 0\n",
    "    acla.val_every = 1\n",
    "    acla.add_data_every = 1\n",
    "\n",
    "    \n",
    "\n",
    "    eval_env, expert = make_vec_env('reach', num_cpu=acla.num_cpu, seq_len=seq_len)\n",
    "    acl = ActiveCriticLearner(ac_policy=ac, env=env, eval_env=eval_env, network_args_obj=acla)\n",
    "    return acl, env, expert, seq_len, device\n"
   ]
  },
  {
   "cell_type": "code",
   "execution_count": 2,
   "metadata": {},
   "outputs": [
    {
     "name": "stderr",
     "output_type": "stream",
     "text": [
      "/home/hendrik/anaconda3/envs/ac/lib/python3.10/site-packages/gym/spaces/box.py:73: UserWarning: \u001b[33mWARN: Box bound precision lowered by casting to float32\u001b[0m\n",
      "  logger.warn(\n",
      "/home/hendrik/anaconda3/envs/ac/lib/python3.10/site-packages/gym/spaces/box.py:73: UserWarning: \u001b[33mWARN: Box bound precision lowered by casting to float32\u001b[0m\n",
      "  logger.warn(\n",
      "/home/hendrik/anaconda3/envs/ac/lib/python3.10/site-packages/gym/spaces/box.py:73: UserWarning: \u001b[33mWARN: Box bound precision lowered by casting to float32\u001b[0m\n",
      "  logger.warn(\n",
      "/home/hendrik/anaconda3/envs/ac/lib/python3.10/site-packages/gym/spaces/box.py:73: UserWarning: \u001b[33mWARN: Box bound precision lowered by casting to float32\u001b[0m\n",
      "  logger.warn(\n",
      "/home/hendrik/anaconda3/envs/ac/lib/python3.10/site-packages/gym/spaces/box.py:73: UserWarning: \u001b[33mWARN: Box bound precision lowered by casting to float32\u001b[0m\n",
      "  logger.warn(\n",
      "2022-11-13 22:54:43.266619: I tensorflow/core/platform/cpu_feature_guard.cc:193] This TensorFlow binary is optimized with oneAPI Deep Neural Network Library (oneDNN) to use the following CPU instructions in performance-critical operations:  AVX2 FMA\n",
      "To enable them in other operations, rebuild TensorFlow with the appropriate compiler flags.\n"
     ]
    }
   ],
   "source": [
    "acl, env, expert, seq_len, device = make_acl(device='cuda')"
   ]
  },
  {
   "cell_type": "code",
   "execution_count": 3,
   "metadata": {},
   "outputs": [
    {
     "data": {
      "text/plain": [
       "1"
      ]
     },
     "execution_count": 3,
     "metadata": {},
     "output_type": "execute_result"
    }
   ],
   "source": [
    "acl.policy.args_obj.goal_label_multiplier"
   ]
  },
  {
   "cell_type": "code",
   "execution_count": 4,
   "metadata": {},
   "outputs": [
    {
     "name": "stderr",
     "output_type": "stream",
     "text": [
      "/home/hendrik/anaconda3/envs/ac/lib/python3.10/site-packages/gym/spaces/box.py:73: UserWarning: \u001b[33mWARN: Box bound precision lowered by casting to float32\u001b[0m\n",
      "  logger.warn(\n"
     ]
    },
    {
     "name": "stdout",
     "output_type": "stream",
     "text": [
      "Sampling transitions. 1\n",
      "Training Reward: tensor([[0.1245]], device='cuda:0')████████████████████████████████████████----------| 90.0% Predicting Epsiode\n"
     ]
    },
    {
     "name": "stderr",
     "output_type": "stream",
     "text": [
      "/home/hendrik/Documents/master_project/Code/active_critic/src/active_critic/utils/gym_utils.py:187: UserWarning: Creating a tensor from a list of numpy.ndarrays is extremely slow. Please consider converting the list to a single numpy.ndarray with numpy.array() before converting to a tensor. (Triggered internally at  ../torch/csrc/utils/tensor_new.cpp:204.)\n",
      "  actions = th.tensor(actions, dtype=th.float, device=device)\n",
      "/home/hendrik/Documents/master_project/Code/active_critic/src/active_critic/learner/active_critic_learner.py:162: UserWarning: To copy construct from a tensor, it is recommended to use sourceTensor.clone().detach() or sourceTensor.clone().detach().requires_grad_(True), rather than torch.tensor(sourceTensor).\n",
      "  self.write_tboard_scalar({'Pain': th.tensor(pain)}, train=True, step=self.pain_step)\n"
     ]
    },
    {
     "ename": "KeyboardInterrupt",
     "evalue": "",
     "output_type": "error",
     "traceback": [
      "\u001b[0;31m---------------------------------------------------------------------------\u001b[0m",
      "\u001b[0;31mKeyboardInterrupt\u001b[0m                         Traceback (most recent call last)",
      "Cell \u001b[0;32mIn [4], line 1\u001b[0m\n\u001b[0;32m----> 1\u001b[0m acl\u001b[39m.\u001b[39;49mtrain(\u001b[39m200\u001b[39;49m)\n",
      "File \u001b[0;32m~/Documents/master_project/Code/active_critic/src/active_critic/learner/active_critic_learner.py:273\u001b[0m, in \u001b[0;36mActiveCriticLearner.train\u001b[0;34m(self, epochs)\u001b[0m\n\u001b[1;32m    266\u001b[0m gen_loss_mean \u001b[39m=\u001b[39m \u001b[39mfloat\u001b[39m(\u001b[39m'\u001b[39m\u001b[39minf\u001b[39m\u001b[39m'\u001b[39m)\n\u001b[1;32m    267\u001b[0m \u001b[39mwhile\u001b[39;00m ((mean_critic \u001b[39m>\u001b[39m \u001b[39mself\u001b[39m\u001b[39m.\u001b[39mnetwork_args\u001b[39m.\u001b[39mcritic_threshold)\\\n\u001b[1;32m    268\u001b[0m     \u001b[39mor\u001b[39;00m (mean_predictor \u001b[39m>\u001b[39m \u001b[39mself\u001b[39m\u001b[39m.\u001b[39mnetwork_args\u001b[39m.\u001b[39mpredictor_threshold)\\\n\u001b[1;32m    269\u001b[0m     \u001b[39mor\u001b[39;00m (loss_auto_predictor_mean \u001b[39m>\u001b[39m \u001b[39mself\u001b[39m\u001b[39m.\u001b[39mnetwork_args\u001b[39m.\u001b[39mloss_auto_predictor_threshold)\\\n\u001b[1;32m    270\u001b[0m     \u001b[39mor\u001b[39;00m (gen_loss_mean \u001b[39m>\u001b[39m \u001b[39mself\u001b[39m\u001b[39m.\u001b[39mnetwork_args\u001b[39m.\u001b[39mgen_scores_threshold)) \u001b[39mand\u001b[39;00m \\\n\u001b[1;32m    271\u001b[0m     \u001b[39mself\u001b[39m\u001b[39m.\u001b[39mcurrent_patients \u001b[39m<\u001b[39m \u001b[39mself\u001b[39m\u001b[39m.\u001b[39mnetwork_args\u001b[39m.\u001b[39mpatients:\n\u001b[0;32m--> 273\u001b[0m     losses \u001b[39m=\u001b[39m \u001b[39mself\u001b[39;49m\u001b[39m.\u001b[39;49mtrain_step(train_loader\u001b[39m=\u001b[39;49m\u001b[39mself\u001b[39;49m\u001b[39m.\u001b[39;49mtrain_loader)\n\u001b[1;32m    274\u001b[0m     mean_critic \u001b[39m=\u001b[39m losses[\u001b[39m0\u001b[39m]\u001b[39m.\u001b[39mmean()\n\u001b[1;32m    275\u001b[0m     mean_predictor \u001b[39m=\u001b[39m losses[\u001b[39m1\u001b[39m]\u001b[39m.\u001b[39mmean()\n",
      "File \u001b[0;32m~/Documents/master_project/Code/active_critic/src/active_critic/learner/active_critic_learner.py:244\u001b[0m, in \u001b[0;36mActiveCriticLearner.train_step\u001b[0;34m(self, train_loader)\u001b[0m\n\u001b[1;32m    242\u001b[0m     \u001b[39mfor\u001b[39;00m dat \u001b[39min\u001b[39;00m data:\n\u001b[1;32m    243\u001b[0m         device_data\u001b[39m.\u001b[39mappend(dat\u001b[39m.\u001b[39mto(\u001b[39mself\u001b[39m\u001b[39m.\u001b[39mnetwork_args\u001b[39m.\u001b[39mdevice))\n\u001b[0;32m--> 244\u001b[0m     losses \u001b[39m=\u001b[39m \u001b[39mself\u001b[39;49m\u001b[39m.\u001b[39;49mmodel_step(device_data, losses)\n\u001b[1;32m    245\u001b[0m \u001b[39mreturn\u001b[39;00m losses\n",
      "File \u001b[0;32m~/Documents/master_project/Code/active_critic/src/active_critic/learner/active_critic_learner.py:193\u001b[0m, in \u001b[0;36mActiveCriticLearner.model_step\u001b[0;34m(self, data, losses)\u001b[0m\n\u001b[1;32m    190\u001b[0m \u001b[39mself\u001b[39m\u001b[39m.\u001b[39mpolicy\u001b[39m.\u001b[39mcritic\u001b[39m.\u001b[39moptimizer\u001b[39m.\u001b[39mstep()\n\u001b[1;32m    192\u001b[0m loss_auto_predictor_mean \u001b[39m=\u001b[39m \u001b[39mself\u001b[39m\u001b[39m.\u001b[39mimprove_pred_step(data\u001b[39m=\u001b[39mdata)\n\u001b[0;32m--> 193\u001b[0m gen_loss_mean \u001b[39m=\u001b[39m \u001b[39mself\u001b[39;49m\u001b[39m.\u001b[39;49mimprove_seq_step(data\u001b[39m=\u001b[39;49mdata)\n\u001b[1;32m    198\u001b[0m \u001b[39mif\u001b[39;00m losses \u001b[39mis\u001b[39;00m \u001b[39mNone\u001b[39;00m:\n\u001b[1;32m    199\u001b[0m     losses \u001b[39m=\u001b[39m [\n\u001b[1;32m    200\u001b[0m         loss_critic\u001b[39m.\u001b[39munsqueeze(\u001b[39m0\u001b[39m),\n\u001b[1;32m    201\u001b[0m         loss_auto_predictor_mean\u001b[39m.\u001b[39munsqueeze(\u001b[39m0\u001b[39m),\n\u001b[1;32m    202\u001b[0m         loss_auto_predictor_mean\u001b[39m.\u001b[39munsqueeze(\u001b[39m0\u001b[39m),\n\u001b[1;32m    203\u001b[0m         gen_loss_mean\u001b[39m.\u001b[39munsqueeze(\u001b[39m0\u001b[39m)\n\u001b[1;32m    204\u001b[0m     ]\n",
      "File \u001b[0;32m~/Documents/master_project/Code/active_critic/src/active_critic/learner/active_critic_learner.py:157\u001b[0m, in \u001b[0;36mActiveCriticLearner.improve_seq_step\u001b[0;34m(self, data)\u001b[0m\n\u001b[1;32m    154\u001b[0m loss \u001b[39m=\u001b[39m gen_loss_mean\u001b[39m+\u001b[39mact_loss_mean\n\u001b[1;32m    156\u001b[0m \u001b[39mif\u001b[39;00m \u001b[39mself\u001b[39m\u001b[39m.\u001b[39mnetwork_args\u001b[39m.\u001b[39muse_pain:\n\u001b[0;32m--> 157\u001b[0m     pain \u001b[39m=\u001b[39m \u001b[39mself\u001b[39;49m\u001b[39m.\u001b[39;49mpain_boundaries(gen_actions, \u001b[39m-\u001b[39;49m\u001b[39m1\u001b[39;49m, \u001b[39m1\u001b[39;49m)\n\u001b[1;32m    158\u001b[0m     loss \u001b[39m=\u001b[39m loss \u001b[39m+\u001b[39m pain\n\u001b[1;32m    159\u001b[0m \u001b[39melse\u001b[39;00m:\n",
      "File \u001b[0;32m~/Documents/master_project/Code/active_critic/src/active_critic/learner/active_critic_learner.py:248\u001b[0m, in \u001b[0;36mActiveCriticLearner.pain_boundaries\u001b[0;34m(self, actions, min_bound, max_bound)\u001b[0m\n\u001b[1;32m    247\u001b[0m \u001b[39mdef\u001b[39;00m \u001b[39mpain_boundaries\u001b[39m(\u001b[39mself\u001b[39m, actions:th\u001b[39m.\u001b[39mTensor, min_bound:\u001b[39mfloat\u001b[39m, max_bound:\u001b[39mfloat\u001b[39m):\n\u001b[0;32m--> 248\u001b[0m     pain \u001b[39m=\u001b[39m ((actions[actions \u001b[39m<\u001b[39;49m min_bound] \u001b[39m-\u001b[39;49m min_bound)\u001b[39m*\u001b[39;49m\u001b[39m*\u001b[39;49m\u001b[39m2\u001b[39;49m)\u001b[39m.\u001b[39;49msum()\u001b[39m.\u001b[39;49mnan_to_num()\n\u001b[1;32m    249\u001b[0m     pain \u001b[39m+\u001b[39m\u001b[39m=\u001b[39m ((actions[actions \u001b[39m>\u001b[39m max_bound] \u001b[39m-\u001b[39m max_bound)\u001b[39m*\u001b[39m\u001b[39m*\u001b[39m\u001b[39m2\u001b[39m)\u001b[39m.\u001b[39msum()\u001b[39m.\u001b[39mnan_to_num()\n\u001b[1;32m    250\u001b[0m     pain \u001b[39m=\u001b[39m pain \u001b[39m/\u001b[39m actions\u001b[39m.\u001b[39mnumel()\n",
      "\u001b[0;31mKeyboardInterrupt\u001b[0m: "
     ]
    },
    {
     "data": {
      "image/png": "[encoded data removed]",
      "text/plain": [
       "<Figure size 640x480 with 4 Axes>"
      ]
     },
     "metadata": {},
     "output_type": "display_data"
    },
    {
     "data": {
      "image/png": "[encoded data removed]",
      "text/plain": [
       "<Figure size 640x480 with 1 Axes>"
      ]
     },
     "metadata": {},
     "output_type": "display_data"
    },
    {
     "data": {
      "image/png": "[encoded data removed]",
      "text/plain": [
       "<Figure size 640x480 with 39 Axes>"
      ]
     },
     "metadata": {},
     "output_type": "display_data"
    }
   ],
   "source": [
    "acl.train(200)"
   ]
  },
  {
   "cell_type": "code",
   "execution_count": null,
   "metadata": {},
   "outputs": [
    {
     "data": {
      "text/plain": [
       "10"
      ]
     },
     "execution_count": 5,
     "metadata": {},
     "output_type": "execute_result"
    }
   ],
   "source": [
    "seq_len"
   ]
  },
  {
   "cell_type": "code",
   "execution_count": null,
   "metadata": {},
   "outputs": [
    {
     "name": "stderr",
     "output_type": "stream",
     "text": [
      "/home/hendrik/anaconda3/envs/ac/lib/python3.10/site-packages/gym/spaces/box.py:73: UserWarning: \u001b[33mWARN: Box bound precision lowered by casting to float32\u001b[0m\n",
      "  logger.warn(\n",
      "/home/hendrik/anaconda3/envs/ac/lib/python3.10/site-packages/gym/spaces/box.py:73: UserWarning: \u001b[33mWARN: Box bound precision lowered by casting to float32\u001b[0m\n",
      "  logger.warn(\n"
     ]
    }
   ],
   "source": [
    "eval_env, expert = make_vec_env('reach', num_cpu=1, seq_len=seq_len)"
   ]
  },
  {
   "cell_type": "code",
   "execution_count": null,
   "metadata": {},
   "outputs": [],
   "source": []
  },
  {
   "cell_type": "code",
   "execution_count": null,
   "metadata": {},
   "outputs": [],
   "source": [
    "acl.policy.reset()"
   ]
  },
  {
   "cell_type": "code",
   "execution_count": null,
   "metadata": {},
   "outputs": [
    {
     "name": "stdout",
     "output_type": "stream",
     "text": [
      " |----------------------------------------------------------------------------------------------------| 0.0% Predicting Epsiode\r"
     ]
    }
   ],
   "source": [
    "obs = eval_env.reset()\n",
    "action = acl.policy.predict(obs)"
   ]
  },
  {
   "cell_type": "code",
   "execution_count": null,
   "metadata": {},
   "outputs": [
    {
     "data": {
      "text/plain": [
       "torch.Size([1, 1, 10, 10, 1])"
      ]
     },
     "execution_count": 9,
     "metadata": {},
     "output_type": "execute_result"
    }
   ],
   "source": [
    "acl.policy.history.scores[0].shape"
   ]
  },
  {
   "cell_type": "code",
   "execution_count": null,
   "metadata": {},
   "outputs": [
    {
     "data": {
      "text/plain": [
       "torch.Size([1, 1, 10, 10, 39])"
      ]
     },
     "execution_count": 10,
     "metadata": {},
     "output_type": "execute_result"
    }
   ],
   "source": [
    "acl.policy.history.emb[0].shape"
   ]
  },
  {
   "cell_type": "code",
   "execution_count": null,
   "metadata": {},
   "outputs": [
    {
     "ename": "NameError",
     "evalue": "name 'actions' is not defined",
     "output_type": "error",
     "traceback": [
      "\u001b[0;31m---------------------------------------------------------------------------\u001b[0m",
      "\u001b[0;31mNameError\u001b[0m                                 Traceback (most recent call last)",
      "Cell \u001b[0;32mIn [11], line 3\u001b[0m\n\u001b[1;32m      1\u001b[0m embeddings, actions \u001b[39m=\u001b[39m acl\u001b[39m.\u001b[39mpolicy\u001b[39m.\u001b[39mbuild_sequence(\n\u001b[1;32m      2\u001b[0m                 embeddings\u001b[39m=\u001b[39macl\u001b[39m.\u001b[39mpolicy\u001b[39m.\u001b[39mcurrent_embeddings, \n\u001b[0;32m----> 3\u001b[0m                 actions\u001b[39m=\u001b[39mactions[:,:\u001b[39m0\u001b[39m], \n\u001b[1;32m      4\u001b[0m                 seq_len\u001b[39m=\u001b[39m\u001b[39m10\u001b[39m, \n\u001b[1;32m      5\u001b[0m                 goal_emb_acts\u001b[39m=\u001b[39macl\u001b[39m.\u001b[39mpolicy\u001b[39m.\u001b[39mgoal_emb_acts,\n\u001b[1;32m      6\u001b[0m                 goal_state\u001b[39m=\u001b[39m\u001b[39mNone\u001b[39;00m,\n\u001b[1;32m      7\u001b[0m                 tf_mask\u001b[39m=\u001b[39macl\u001b[39m.\u001b[39mpolicy\u001b[39m.\u001b[39margs_obj\u001b[39m.\u001b[39mpred_mask,\n\u001b[1;32m      8\u001b[0m                 actor\u001b[39m=\u001b[39macl\u001b[39m.\u001b[39mpolicy\u001b[39m.\u001b[39mactor,\n\u001b[1;32m      9\u001b[0m                 predictor\u001b[39m=\u001b[39macl\u001b[39m.\u001b[39mpolicy\u001b[39m.\u001b[39mpredicor)\n",
      "\u001b[0;31mNameError\u001b[0m: name 'actions' is not defined"
     ]
    }
   ],
   "source": [
    "embeddings, actions = acl.policy.build_sequence(\n",
    "                embeddings=acl.policy.current_embeddings, \n",
    "                actions=actions[:,:0], \n",
    "                seq_len=10, \n",
    "                goal_emb_acts=acl.policy.goal_emb_acts,\n",
    "                goal_state=None,\n",
    "                tf_mask=acl.policy.args_obj.pred_mask,\n",
    "                actor=acl.policy.actor,\n",
    "                predictor=acl.policy.predicor)"
   ]
  },
  {
   "cell_type": "code",
   "execution_count": null,
   "metadata": {},
   "outputs": [],
   "source": [
    "actions.shape"
   ]
  },
  {
   "cell_type": "code",
   "execution_count": null,
   "metadata": {},
   "outputs": [],
   "source": [
    "acl.policy.eval()\n",
    "acl.policy.reset()\n",
    "seq_len = acl.policy.args_obj.epoch_len\n",
    "transitions = sample_expert_transitions(\n",
    "    acl.policy.predict, eval_env, 1)"
   ]
  },
  {
   "cell_type": "code",
   "execution_count": null,
   "metadata": {},
   "outputs": [],
   "source": [
    "actions, observations, rewards = parse_sampled_transitions(\n",
    "            transitions=transitions, extractor=acl.policy.args_obj.extractor, device=device)"
   ]
  },
  {
   "cell_type": "code",
   "execution_count": null,
   "metadata": {},
   "outputs": [],
   "source": [
    "embeddings = acl.policy.emitter.forward(observations)"
   ]
  },
  {
   "cell_type": "code",
   "execution_count": null,
   "metadata": {},
   "outputs": [],
   "source": [
    "critic_input = acl.policy.get_critic_input(embeddings=embeddings, actions=actions)"
   ]
  },
  {
   "cell_type": "code",
   "execution_count": null,
   "metadata": {},
   "outputs": [],
   "source": [
    "scores = acl.policy.critic.forward(critic_input)"
   ]
  },
  {
   "cell_type": "code",
   "execution_count": null,
   "metadata": {},
   "outputs": [],
   "source": [
    "calcMSE(scores, rewards)"
   ]
  },
  {
   "cell_type": "code",
   "execution_count": null,
   "metadata": {},
   "outputs": [],
   "source": [
    "rewards"
   ]
  },
  {
   "cell_type": "code",
   "execution_count": null,
   "metadata": {},
   "outputs": [],
   "source": [
    "observations.shape"
   ]
  },
  {
   "cell_type": "code",
   "execution_count": null,
   "metadata": {},
   "outputs": [],
   "source": [
    "acl.policy.history.emb[0][:,0,-1].shape"
   ]
  },
  {
   "cell_type": "code",
   "execution_count": null,
   "metadata": {},
   "outputs": [
    {
     "name": "stderr",
     "output_type": "stream",
     "text": [
      "/home/hendrik/anaconda3/envs/ac/lib/python3.10/site-packages/gym/spaces/box.py:73: UserWarning: \u001b[33mWARN: Box bound precision lowered by casting to float32\u001b[0m\n",
      "  logger.warn(\n",
      "/home/hendrik/anaconda3/envs/ac/lib/python3.10/site-packages/gym/spaces/box.py:73: UserWarning: \u001b[33mWARN: Box bound precision lowered by casting to float32\u001b[0m\n",
      "  logger.warn(\n"
     ]
    },
    {
     "name": "stdout",
     "output_type": "stream",
     "text": [
      " |----------------------------------------------------------------------------------------------------| 0.0% Predicting Epsiode\r"
     ]
    }
   ],
   "source": [
    "eval_env, expert = make_vec_env('reach', num_cpu=1, seq_len=seq_len)\n",
    "acl.policy.reset()\n",
    "obs = eval_env.reset()\n",
    "action = acl.policy.predict(obs)"
   ]
  },
  {
   "cell_type": "code",
   "execution_count": null,
   "metadata": {},
   "outputs": [],
   "source": [
    "embeddings, actions = acl.policy.build_sequence(\n",
    "    embeddings=acl.policy.current_embeddings, \n",
    "    actions=None, \n",
    "    seq_len=seq_len, \n",
    "    goal_emb_acts=acl.policy.goal_emb_acts,\n",
    "    goal_state=None,\n",
    "    tf_mask=acl.policy.args_obj.pred_mask,\n",
    "    actor=acl.policy.actor,\n",
    "    predictor=acl.policy.predicor)"
   ]
  },
  {
   "cell_type": "code",
   "execution_count": null,
   "metadata": {},
   "outputs": [
    {
     "data": {
      "text/plain": [
       "torch.Size([1, 10, 39])"
      ]
     },
     "execution_count": 7,
     "metadata": {},
     "output_type": "execute_result"
    }
   ],
   "source": [
    "embeddings.shape"
   ]
  },
  {
   "cell_type": "code",
   "execution_count": null,
   "metadata": {},
   "outputs": [],
   "source": [
    "scores = acl.policy.critic.forward(embeddings)"
   ]
  },
  {
   "cell_type": "code",
   "execution_count": null,
   "metadata": {},
   "outputs": [],
   "source": [
    "current_step = 49\n",
    "predicotr_input = acl.policy.get_predictor_input(embeddings[:,:current_step], actions[:,:current_step])"
   ]
  },
  {
   "cell_type": "code",
   "execution_count": null,
   "metadata": {},
   "outputs": [],
   "source": [
    "next_states, attention = acl.policy.predicor.model.forward(src=predicotr_input, mask = acl.policy.args_obj.pred_mask[:current_step,:current_step], return_attention=True)"
   ]
  },
  {
   "cell_type": "code",
   "execution_count": null,
   "metadata": {},
   "outputs": [
    {
     "data": {
      "image/png": "[encoded data removed]",
      "text/plain": [
       "<Figure size 640x480 with 2 Axes>"
      ]
     },
     "metadata": {},
     "output_type": "display_data"
    }
   ],
   "source": [
    "import matplotlib.pyplot as plt\n",
    "fig = plt.figure()\n",
    "ax = fig.add_subplot(111)\n",
    "ax.set_ylabel('Query')\n",
    "ax.set_xlabel('Key')\n",
    "cax = ax.matshow(attention[0].to('cpu'), interpolation='nearest')\n",
    "fig.colorbar(cax)\n",
    "plt.show()"
   ]
  },
  {
   "cell_type": "code",
   "execution_count": null,
   "metadata": {},
   "outputs": [],
   "source": [
    "import matplotlib.pyplot as plt\n",
    "fig = plt.figure()\n",
    "ax = fig.add_subplot(111)\n",
    "ax.set_ylabel('Query')\n",
    "ax.set_xlabel('Key')\n",
    "cax = ax.matshow(attention[0].to('cpu'), interpolation='nearest')\n",
    "fig.colorbar(cax)\n",
    "plt.show()"
   ]
  },
  {
   "cell_type": "code",
   "execution_count": null,
   "metadata": {},
   "outputs": [],
   "source": []
  }
 ],
 "metadata": {
  "kernelspec": {
   "display_name": "Python 3.10.6 ('ac')",
   "language": "python",
   "name": "python3"
  },
  "language_info": {
   "codemirror_mode": {
    "name": "ipython",
    "version": 3
   },
   "file_extension": ".py",
   "mimetype": "text/x-python",
   "name": "python",
   "nbconvert_exporter": "python",
   "pygments_lexer": "ipython3",
   "version": "3.10.6"
  },
  "orig_nbformat": 4,
  "vscode": {
   "interpreter": {
    "hash": "c27e8fa6375f4d15af5a5f5541d8bb88746b588c9fe1102cfd8de011d36c10c2"
   }
  }
 },
 "nbformat": 4,
 "nbformat_minor": 2
}
