{
 "cells": [
  {
   "cell_type": "code",
   "execution_count": 1,
   "metadata": {},
   "outputs": [
    {
     "name": "stderr",
     "output_type": "stream",
     "text": [
      "/home/hendrik/anaconda3/envs/ac/lib/python3.10/site-packages/tqdm/auto.py:22: TqdmWarning: IProgress not found. Please update jupyter and ipywidgets. See https://ipywidgets.readthedocs.io/en/stable/user_install.html\n",
      "  from .autonotebook import tqdm as notebook_tqdm\n",
      "2022-11-14 01:37:47.731683: I tensorflow/core/platform/cpu_feature_guard.cc:193] This TensorFlow binary is optimized with oneAPI Deep Neural Network Library (oneDNN) to use the following CPU instructions in performance-critical operations:  AVX2 FMA\n",
      "To enable them in other operations, rebuild TensorFlow with the appropriate compiler flags.\n",
      "/home/hendrik/anaconda3/envs/ac/lib/python3.10/site-packages/gym/spaces/box.py:73: UserWarning: \u001b[33mWARN: Box bound precision lowered by casting to float32\u001b[0m\n",
      "  logger.warn(\n"
     ]
    }
   ],
   "source": [
    "import torch as th\n",
    "from active_critic.learner.active_critic_learner import ActiveCriticLearner, ACLScores\n",
    "from active_critic.learner.active_critic_args import ActiveCriticLearnerArgs\n",
    "from active_critic.policy.active_critic_policy import ActiveCriticPolicy\n",
    "from active_critic.utils.gym_utils import make_vec_env, DummyExtractor, new_epoch_reach, sample_expert_transitions, parse_sampled_transitions\n",
    "from active_critic.utils.pytorch_utils import build_tf_horizon_mask\n",
    "from active_critic.utils.dataset import DatasetAC\n",
    "from active_critic.policy.active_critic_policy import ActiveCriticPolicySetup, ActiveCriticPolicy\n",
    "from active_critic.model_src.state_model import *\n",
    "from active_critic.model_src.whole_sequence_model import WholeSequenceModel, WholeSequenceModelArgs\n",
    "from active_critic.model_src.transformer import ModelSetup\n",
    "\n",
    "\n",
    "from gym import Env\n",
    "th.manual_seed(0)\n",
    "\n",
    "class DummyStateModel(StateModel):\n",
    "    def __init__(self, args: StateModelArgs) -> None:\n",
    "        super().__init__(args)\n",
    "\n",
    "    def forward(self, inpt):\n",
    "        super().forward(inpt)\n",
    "        return inpt\n",
    "\n",
    "def make_wsm_setup(seq_len, d_output, device='cpu'):\n",
    "    wsm = WholeSequenceModelArgs()\n",
    "    wsm.model_setup = ModelSetup()\n",
    "    seq_len = seq_len\n",
    "    d_output = d_output\n",
    "    wsm.model_setup.d_output = d_output\n",
    "    wsm.model_setup.nhead = 1\n",
    "    wsm.model_setup.d_hid = 200\n",
    "    wsm.model_setup.d_model = 200\n",
    "    wsm.model_setup.nlayers = 3\n",
    "    wsm.model_setup.seq_len = seq_len\n",
    "    wsm.model_setup.dropout = 0\n",
    "    wsm.lr = 1e-3\n",
    "    wsm.model_setup.device = device\n",
    "    wsm.optimizer_class = th.optim.Adam\n",
    "    wsm.optimizer_kwargs = {}\n",
    "    return wsm\n",
    "\n",
    "def make_acps(seq_len, extractor, new_epoch, batch_size, device, horizon):\n",
    "    acps = ActiveCriticPolicySetup()\n",
    "    acps.device=device\n",
    "    acps.epoch_len=seq_len\n",
    "    acps.extractor=extractor\n",
    "    acps.new_epoch=new_epoch\n",
    "    acps.opt_steps=100\n",
    "    acps.inference_opt_lr = 1e-2\n",
    "    acps.optimizer_class = th.optim.SGD\n",
    "    acps.optimize = True\n",
    "    acps.batch_size = batch_size\n",
    "    acps.pred_mask = build_tf_horizon_mask(seq_len=seq_len, horizon=horizon, device=device)\n",
    "    acps.opt_mask = th.zeros([seq_len], device=device, dtype=bool)\n",
    "    acps.opt_mask[-1] = 1\n",
    "    acps.opt_goal = True\n",
    "    acps.optimize_goal_emb_acts = False\n",
    "    acps.goal_label_multiplier = 1\n",
    "    return acps\n",
    "\n",
    "def setup_opt_state(batch_size, seq_len, device='cpu'):\n",
    "    num_cpu = 1\n",
    "    env, expert = make_vec_env('reach', num_cpu, seq_len=seq_len)\n",
    "    d_output = env.action_space.shape[0]\n",
    "    embed_dim = 39\n",
    "    lr = 5e-4\n",
    "\n",
    "    actor_args = StateModelArgs()\n",
    "    actor_args.arch = [512,512, env.action_space.shape[0]]\n",
    "    actor_args.device = device\n",
    "    actor_args.lr = lr\n",
    "    actor = StateModel(args=actor_args)\n",
    "\n",
    "    critic_args = StateModelArgs()\n",
    "    critic_args.arch = [512,512, 1]\n",
    "    critic_args.device = device\n",
    "    critic_args.lr = lr\n",
    "    critic = StateModel(args=critic_args)\n",
    "\n",
    "    inv_critic_args = StateModelArgs()\n",
    "    inv_critic_args.arch = [200, embed_dim + env.action_space.shape[0]]\n",
    "    inv_critic_args.device = device\n",
    "    inv_critic_args.lr = lr\n",
    "    inv_critic = StateModel(args=inv_critic_args)\n",
    "\n",
    "    emitter_args = StateModelArgs()\n",
    "    emitter_args.arch = [200, 200, embed_dim]\n",
    "    emitter_args.device = device\n",
    "    emitter_args.lr = lr\n",
    "    #emitter = StateModel(args=emitter_args)\n",
    "    emitter = DummyStateModel(args=emitter_args)\n",
    "\n",
    "    predictor_args = make_wsm_setup(\n",
    "    seq_len=seq_len, d_output=embed_dim, device=device)\n",
    "    predictor_args.model_setup.d_hid = 1024\n",
    "    predictor_args.model_setup.d_model = 1024\n",
    "    predictor_args.model_setup.nlayers = 4\n",
    "    predictor_args.model_setup.nhead = 16\n",
    "    predictor_args.lr = 5e-4\n",
    "    predictor = WholeSequenceModel(args=predictor_args)\n",
    "\n",
    "    horizon = seq_len\n",
    "\n",
    "\n",
    "    acps = make_acps(\n",
    "        seq_len=seq_len, \n",
    "        extractor=DummyExtractor(), \n",
    "        new_epoch=new_epoch_reach, \n",
    "        device=device, \n",
    "        batch_size=batch_size,\n",
    "        horizon=horizon)\n",
    "    acps.clip = False\n",
    "    ac = ActiveCriticPolicy(observation_space=env.observation_space, \n",
    "                            action_space=env.action_space,\n",
    "                            actor=actor,\n",
    "                            critic=critic,\n",
    "                            predictor=predictor,\n",
    "                            emitter=emitter,\n",
    "                            inverse_critic=inv_critic,\n",
    "                            acps=acps)\n",
    "    return ac, acps, batch_size, seq_len, env, expert\n",
    "\n",
    "\n",
    "def make_acl(device):\n",
    "    device = device\n",
    "    acla = ActiveCriticLearnerArgs()\n",
    "    acla.data_path = '/home/hendrik/Documents/master_project/LokalData/WSM/'\n",
    "    #acla.data_path = '/data/bing/hendrik/'\n",
    "    acla.device = device\n",
    "    acla.extractor = DummyExtractor()\n",
    "    acla.imitation_phase = False\n",
    "    acla.logname = 'push data trough 20'\n",
    "    acla.tboard = True\n",
    "    acla.batch_size = 32\n",
    "    acla.validation_episodes = 2\n",
    "    acla.training_epsiodes = 1\n",
    "    acla.actor_threshold = 1e-2\n",
    "    acla.critic_threshold = 1e-3\n",
    "    acla.predictor_threshold = 1e-2\n",
    "    acla.gen_scores_threshold = 1\n",
    "    acla.loss_auto_predictor_threshold = 1e-3\n",
    "    acla.num_cpu = acla.validation_episodes\n",
    "    acla.use_pain = True\n",
    "    acla.patients = 1000\n",
    "    \n",
    "    seq_len = 100\n",
    "    ac, acps, batch_size, seq_len, env, expert= setup_opt_state(device=device, batch_size=acla.batch_size, seq_len=seq_len)\n",
    "    \n",
    "    acps.opt_steps = 0\n",
    "    acla.val_every = 1\n",
    "    acla.add_data_every = 1\n",
    "\n",
    "    \n",
    "\n",
    "    eval_env, expert = make_vec_env('reach', num_cpu=acla.num_cpu, seq_len=seq_len)\n",
    "    acl = ActiveCriticLearner(ac_policy=ac, env=env, eval_env=eval_env, network_args_obj=acla)\n",
    "    return acl, env, expert, seq_len, device\n"
   ]
  },
  {
   "cell_type": "code",
   "execution_count": 2,
   "metadata": {},
   "outputs": [
    {
     "name": "stderr",
     "output_type": "stream",
     "text": [
      "/home/hendrik/anaconda3/envs/ac/lib/python3.10/site-packages/gym/spaces/box.py:73: UserWarning: \u001b[33mWARN: Box bound precision lowered by casting to float32\u001b[0m\n",
      "  logger.warn(\n",
      "/home/hendrik/anaconda3/envs/ac/lib/python3.10/site-packages/gym/spaces/box.py:73: UserWarning: \u001b[33mWARN: Box bound precision lowered by casting to float32\u001b[0m\n",
      "  logger.warn(\n",
      "/home/hendrik/anaconda3/envs/ac/lib/python3.10/site-packages/gym/spaces/box.py:73: UserWarning: \u001b[33mWARN: Box bound precision lowered by casting to float32\u001b[0m\n",
      "  logger.warn(\n",
      "/home/hendrik/anaconda3/envs/ac/lib/python3.10/site-packages/gym/spaces/box.py:73: UserWarning: \u001b[33mWARN: Box bound precision lowered by casting to float32\u001b[0m\n",
      "  logger.warn(\n",
      "/home/hendrik/anaconda3/envs/ac/lib/python3.10/site-packages/gym/spaces/box.py:73: UserWarning: \u001b[33mWARN: Box bound precision lowered by casting to float32\u001b[0m\n",
      "  logger.warn(\n",
      "/home/hendrik/anaconda3/envs/ac/lib/python3.10/site-packages/gym/spaces/box.py:73: UserWarning: \u001b[33mWARN: Box bound precision lowered by casting to float32\u001b[0m\n",
      "  logger.warn(\n",
      "2022-11-14 01:37:53.965908: I tensorflow/core/platform/cpu_feature_guard.cc:193] This TensorFlow binary is optimized with oneAPI Deep Neural Network Library (oneDNN) to use the following CPU instructions in performance-critical operations:  AVX2 FMA\n",
      "To enable them in other operations, rebuild TensorFlow with the appropriate compiler flags.\n"
     ]
    }
   ],
   "source": [
    "acl, env, expert, seq_len, device = make_acl(device='cuda')"
   ]
  },
  {
   "cell_type": "code",
   "execution_count": 3,
   "metadata": {},
   "outputs": [
    {
     "data": {
      "text/plain": [
       "1"
      ]
     },
     "execution_count": 3,
     "metadata": {},
     "output_type": "execute_result"
    }
   ],
   "source": [
    "acl.policy.args_obj.goal_label_multiplier"
   ]
  },
  {
   "cell_type": "code",
   "execution_count": 4,
   "metadata": {},
   "outputs": [
    {
     "name": "stdout",
     "output_type": "stream",
     "text": [
      "Sampling transitions. 2\n",
      " |██████████████████████████████████████████████████████████████████████████████████████████----------| 90.0% Predicting Epsiode\r"
     ]
    },
    {
     "name": "stderr",
     "output_type": "stream",
     "text": [
      "/home/hendrik/Documents/master_project/Code/active_critic/src/active_critic/utils/gym_utils.py:187: UserWarning: Creating a tensor from a list of numpy.ndarrays is extremely slow. Please consider converting the list to a single numpy.ndarray with numpy.array() before converting to a tensor. (Triggered internally at  ../torch/csrc/utils/tensor_new.cpp:204.)\n",
      "  actions = th.tensor(actions, dtype=th.float, device=device)\n"
     ]
    },
    {
     "name": "stdout",
     "output_type": "stream",
     "text": [
      "/home/hendrik/Documents/master_project/LokalData/WSM/push data trough 20/best_validation\n",
      "Success Rate: 0.0\n",
      "Reward: 0.13878412544727325\n",
      "training samples: 0\n",
      "Sampling transitions. 1\n",
      "Training Reward: tensor([[0.1550]], device='cuda:0')████████████████████████████████████████----------| 90.0% Predicting Epsiode\n"
     ]
    },
    {
     "name": "stderr",
     "output_type": "stream",
     "text": [
      "/home/hendrik/Documents/master_project/Code/active_critic/src/active_critic/learner/active_critic_learner.py:165: UserWarning: To copy construct from a tensor, it is recommended to use sourceTensor.clone().detach() or sourceTensor.clone().detach().requires_grad_(True), rather than torch.tensor(sourceTensor).\n",
      "  self.write_tboard_scalar({'Pain': th.tensor(pain)}, train=True, step=self.pain_step)\n"
     ]
    },
    {
     "name": "stdout",
     "output_type": "stream",
     "text": [
      "Sampling transitions. 1\n",
      "Training Reward: tensor([[0.1121]], device='cuda:0')████████████████████████████████████████----------| 90.0% Predicting Epsiode\n",
      "Sampling transitions. 2\n",
      "Success Rate: 0.0███████████████████████████████████████████████████████████████████████████----------| 90.0% Predicting Epsiode\n",
      "Reward: 0.11338423937559128\n",
      "training samples: 2\n",
      "Sampling transitions. 1\n",
      "Training Reward: tensor([[0.1147]], device='cuda:0')████████████████████████████████████████----------| 90.0% Predicting Epsiode\n",
      "Sampling transitions. 2\n",
      "Success Rate: 0.0███████████████████████████████████████████████████████████████████████████----------| 90.0% Predicting Epsiode\n",
      "Reward: 0.13179296255111694\n",
      "training samples: 3\n",
      "Sampling transitions. 1\n",
      "Training Reward: tensor([[0.1128]], device='cuda:0')████████████████████████████████████████----------| 90.0% Predicting Epsiode\n",
      "Sampling transitions. 2\n",
      "Success Rate: 0.0███████████████████████████████████████████████████████████████████████████----------| 90.0% Predicting Epsiode\n",
      "Reward: 0.13341102004051208\n",
      "training samples: 4\n",
      "Sampling transitions. 1\n",
      "Training Reward: tensor([[0.1124]], device='cuda:0')████████████████████████████████████████----------| 90.0% Predicting Epsiode\n",
      "Sampling transitions. 2\n",
      "/home/hendrik/Documents/master_project/LokalData/WSM/push data trough 20/best_validation████----------| 90.0% Predicting Epsiode\n",
      "Success Rate: 0.0\n",
      "Reward: 0.13980069756507874\n",
      "training samples: 5\n",
      "Sampling transitions. 1\n",
      "Training Reward: tensor([[0.1203]], device='cuda:0')████████████████████████████████████████----------| 90.0% Predicting Epsiode\n",
      "Sampling transitions. 2\n",
      "/home/hendrik/Documents/master_project/LokalData/WSM/push data trough 20/best_validation████----------| 90.0% Predicting Epsiode\n",
      "Success Rate: 0.0\n",
      "Reward: 0.14368748664855957\n",
      "training samples: 6\n",
      "Sampling transitions. 1\n",
      "Training Reward: tensor([[0.1492]], device='cuda:0')████████████████████████████████████████----------| 90.0% Predicting Epsiode\n",
      "Sampling transitions. 2\n",
      "Success Rate: 0.0███████████████████████████████████████████████████████████████████████████----------| 90.0% Predicting Epsiode\n",
      "Reward: 0.12905922532081604\n",
      "training samples: 7\n",
      "Sampling transitions. 1\n",
      "Training Reward: tensor([[0.1383]], device='cuda:0')████████████████████████████████████████----------| 90.0% Predicting Epsiode\n",
      "Sampling transitions. 2\n",
      "Success Rate: 0.0███████████████████████████████████████████████████████████████████████████----------| 90.0% Predicting Epsiode\n",
      "Reward: 0.1361674666404724\n",
      "training samples: 8\n",
      "Sampling transitions. 1\n",
      "Training Reward: tensor([[0.1366]], device='cuda:0')████████████████████████████████████████----------| 90.0% Predicting Epsiode\n",
      "Sampling transitions. 2\n",
      "Success Rate: 0.0███████████████████████████████████████████████████████████████████████████----------| 90.0% Predicting Epsiode\n",
      "Reward: 0.12389152497053146\n",
      "training samples: 9\n",
      "Sampling transitions. 1\n",
      "Training Reward: tensor([[0.1326]], device='cuda:0')████████████████████████████████████████----------| 90.0% Predicting Epsiode\n",
      "Sampling transitions. 2\n",
      "Success Rate: 0.0███████████████████████████████████████████████████████████████████████████----------| 90.0% Predicting Epsiode\n",
      "Reward: 0.1170060932636261\n",
      "training samples: 10\n",
      "Sampling transitions. 1\n",
      "Training Reward: tensor([[0.1330]], device='cuda:0')████████████████████████████████████████----------| 90.0% Predicting Epsiode\n",
      "Sampling transitions. 2\n",
      "/home/hendrik/Documents/master_project/LokalData/WSM/push data trough 20/best_validation████----------| 90.0% Predicting Epsiode\n",
      "Success Rate: 0.0\n",
      "Reward: 0.1485961377620697\n",
      "training samples: 11\n",
      "Sampling transitions. 1\n",
      "Training Reward: tensor([[0.1225]], device='cuda:0')████████████████████████████████████████----------| 90.0% Predicting Epsiode\n",
      "Sampling transitions. 2\n",
      " |██████████████████████████████████████████████████████████████████████████████████████████----------| 90.0% Predicting Epsiode\r"
     ]
    },
    {
     "ename": "KeyboardInterrupt",
     "evalue": "",
     "output_type": "error",
     "traceback": [
      "\u001b[0;31m---------------------------------------------------------------------------\u001b[0m",
      "\u001b[0;31mKeyboardInterrupt\u001b[0m                         Traceback (most recent call last)",
      "Cell \u001b[0;32mIn [4], line 1\u001b[0m\n\u001b[0;32m----> 1\u001b[0m acl\u001b[39m.\u001b[39;49mtrain(\u001b[39m200\u001b[39;49m)\n",
      "File \u001b[0;32m~/Documents/master_project/Code/active_critic/src/active_critic/learner/active_critic_learner.py:312\u001b[0m, in \u001b[0;36mActiveCriticLearner.train\u001b[0;34m(self, epochs)\u001b[0m\n\u001b[1;32m    310\u001b[0m next_val \u001b[39m=\u001b[39m epoch \u001b[39m+\u001b[39m \u001b[39mself\u001b[39m\u001b[39m.\u001b[39mnetwork_args\u001b[39m.\u001b[39mval_every\n\u001b[1;32m    311\u001b[0m \u001b[39mif\u001b[39;00m \u001b[39mself\u001b[39m\u001b[39m.\u001b[39mnetwork_args\u001b[39m.\u001b[39mtboard:\n\u001b[0;32m--> 312\u001b[0m     \u001b[39mself\u001b[39;49m\u001b[39m.\u001b[39;49mrun_validation(step \u001b[39m=\u001b[39;49m epoch\u001b[39m+\u001b[39;49m\u001b[39m1\u001b[39;49m)\n",
      "File \u001b[0;32m~/Documents/master_project/Code/active_critic/src/active_critic/learner/active_critic_learner.py:358\u001b[0m, in \u001b[0;36mActiveCriticLearner.run_validation\u001b[0;34m(self, step)\u001b[0m\n\u001b[1;32m    353\u001b[0m debug_dict \u001b[39m=\u001b[39m {\n\u001b[1;32m    354\u001b[0m     \u001b[39m'\u001b[39m\u001b[39mValidation epoch time\u001b[39m\u001b[39m'\u001b[39m: th\u001b[39m.\u001b[39mtensor(time\u001b[39m.\u001b[39mperf_counter() \u001b[39m-\u001b[39m h),\n\u001b[1;32m    355\u001b[0m }\n\u001b[1;32m    356\u001b[0m \u001b[39mself\u001b[39m\u001b[39m.\u001b[39mwrite_tboard_scalar(debug_dict\u001b[39m=\u001b[39mdebug_dict, train\u001b[39m=\u001b[39m\u001b[39mFalse\u001b[39;00m, step\u001b[39m=\u001b[39mstep)\n\u001b[0;32m--> 358\u001b[0m \u001b[39mself\u001b[39;49m\u001b[39m.\u001b[39;49mplot_history(\u001b[39mself\u001b[39;49m\u001b[39m.\u001b[39;49mpolicy\u001b[39m.\u001b[39;49mhistory, rewards\u001b[39m=\u001b[39;49mrewards, prefix\u001b[39m=\u001b[39;49m\u001b[39m'\u001b[39;49m\u001b[39mValidation\u001b[39;49m\u001b[39m'\u001b[39;49m, num_timesteps\u001b[39m=\u001b[39;49m\u001b[39m3\u001b[39;49m)\n\u001b[1;32m    361\u001b[0m last_reward \u001b[39m=\u001b[39m rewards[:,\u001b[39m-\u001b[39m\u001b[39m1\u001b[39m]\n\u001b[1;32m    362\u001b[0m best_model \u001b[39m=\u001b[39m \u001b[39mself\u001b[39m\u001b[39m.\u001b[39mscores\u001b[39m.\u001b[39mupdate_max_score(\n\u001b[1;32m    363\u001b[0m     \u001b[39mself\u001b[39m\u001b[39m.\u001b[39mscores\u001b[39m.\u001b[39mmean_reward, last_reward\u001b[39m.\u001b[39mmean())\n",
      "File \u001b[0;32m~/Documents/master_project/Code/active_critic/src/active_critic/learner/active_critic_learner.py:333\u001b[0m, in \u001b[0;36mActiveCriticLearner.plot_history\u001b[0;34m(self, history, rewards, prefix, num_timesteps)\u001b[0m\n\u001b[1;32m    331\u001b[0m gen_actions \u001b[39m=\u001b[39m history\u001b[39m.\u001b[39mtrj[\u001b[39m0\u001b[39m][epoch, \u001b[39m0\u001b[39m, time_step]\n\u001b[1;32m    332\u001b[0m opt_actions \u001b[39m=\u001b[39m history\u001b[39m.\u001b[39mtrj[\u001b[39m0\u001b[39m][epoch, \u001b[39m-\u001b[39m\u001b[39m1\u001b[39m, time_step]\n\u001b[0;32m--> 333\u001b[0m \u001b[39mself\u001b[39;49m\u001b[39m.\u001b[39;49mcreateGraphs([gen_actions, opt_actions], [\u001b[39m'\u001b[39;49m\u001b[39mGenerated Actions\u001b[39;49m\u001b[39m'\u001b[39;49m, \u001b[39m'\u001b[39;49m\u001b[39mOpimized Actions\u001b[39;49m\u001b[39m'\u001b[39;49m], plot_name\u001b[39m=\u001b[39;49m\u001b[39mf\u001b[39;49m\u001b[39m'\u001b[39;49m\u001b[39m{\u001b[39;49;00mprefix\u001b[39m}\u001b[39;49;00m\u001b[39m Trajectories Epoch \u001b[39;49m\u001b[39m{\u001b[39;49;00mepoch\u001b[39m}\u001b[39;49;00m\u001b[39m Step \u001b[39;49m\u001b[39m{\u001b[39;49;00mtime_step\u001b[39m}\u001b[39;49;00m\u001b[39m'\u001b[39;49m)\n\u001b[1;32m    335\u001b[0m pred_gen_rew \u001b[39m=\u001b[39m history\u001b[39m.\u001b[39mscores[\u001b[39m0\u001b[39m][epoch, \u001b[39m0\u001b[39m, time_step]\n\u001b[1;32m    336\u001b[0m pred_opt_rew \u001b[39m=\u001b[39m history\u001b[39m.\u001b[39mscores[\u001b[39m0\u001b[39m][epoch, \u001b[39m-\u001b[39m\u001b[39m1\u001b[39m, time_step]\n",
      "File \u001b[0;32m~/Documents/master_project/Code/active_critic/src/active_critic/learner/active_critic_learner.py:428\u001b[0m, in \u001b[0;36mActiveCriticLearner.createGraphs\u001b[0;34m(self, trjs, trj_names, plot_name)\u001b[0m\n\u001b[1;32m    426\u001b[0m \u001b[39mfor\u001b[39;00m trj \u001b[39min\u001b[39;00m trjs:\n\u001b[1;32m    427\u001b[0m     np_trjs\u001b[39m.\u001b[39mappend(trj\u001b[39m.\u001b[39mdetach()\u001b[39m.\u001b[39mcpu()\u001b[39m.\u001b[39mnumpy())\n\u001b[0;32m--> 428\u001b[0m \u001b[39mself\u001b[39;49m\u001b[39m.\u001b[39;49mtboard\u001b[39m.\u001b[39;49mplot_graph(trjs\u001b[39m=\u001b[39;49mnp_trjs, trj_names\u001b[39m=\u001b[39;49mtrj_names, trj_colors\u001b[39m=\u001b[39;49mtrj_colors, plot_name\u001b[39m=\u001b[39;49mplot_name, step\u001b[39m=\u001b[39;49m\u001b[39mself\u001b[39;49m\u001b[39m.\u001b[39;49mglobal_step)\n",
      "File \u001b[0;32m~/Documents/master_project/Code/active_critic/src/active_critic/utils/tboard_graphs.py:94\u001b[0m, in \u001b[0;36mTBoardGraphs.plot_graph\u001b[0;34m(self, trjs, trj_names, trj_colors, plot_name, step)\u001b[0m\n\u001b[1;32m     92\u001b[0m     \u001b[39mself\u001b[39m\u001b[39m.\u001b[39mlegend\u001b[39m.\u001b[39mremove()\n\u001b[1;32m     93\u001b[0m \u001b[39mself\u001b[39m\u001b[39m.\u001b[39mlegend \u001b[39m=\u001b[39m fig\u001b[39m.\u001b[39mlegend(handles\u001b[39m=\u001b[39mls)\n\u001b[0;32m---> 94\u001b[0m result \u001b[39m=\u001b[39m np\u001b[39m.\u001b[39mexpand_dims(\u001b[39mself\u001b[39;49m\u001b[39m.\u001b[39;49mfinishFigure(fig), \u001b[39m0\u001b[39m)\n\u001b[1;32m     95\u001b[0m \u001b[39mwith\u001b[39;00m \u001b[39mself\u001b[39m\u001b[39m.\u001b[39m__tboard_validation\u001b[39m.\u001b[39mas_default():\n\u001b[1;32m     96\u001b[0m     tf\u001b[39m.\u001b[39msummary\u001b[39m.\u001b[39mimage(plot_name, data\u001b[39m=\u001b[39mresult, step\u001b[39m=\u001b[39mstep)\n",
      "File \u001b[0;32m~/Documents/master_project/Code/active_critic/src/active_critic/utils/tboard_graphs.py:29\u001b[0m, in \u001b[0;36mTBoardGraphs.finishFigure\u001b[0;34m(self, fig)\u001b[0m\n\u001b[1;32m     28\u001b[0m \u001b[39mdef\u001b[39;00m \u001b[39mfinishFigure\u001b[39m(\u001b[39mself\u001b[39m, fig):\n\u001b[0;32m---> 29\u001b[0m     fig\u001b[39m.\u001b[39;49mcanvas\u001b[39m.\u001b[39;49mdraw()\n\u001b[1;32m     30\u001b[0m     data \u001b[39m=\u001b[39m np\u001b[39m.\u001b[39mfromstring(fig\u001b[39m.\u001b[39mcanvas\u001b[39m.\u001b[39mtostring_rgb(), dtype\u001b[39m=\u001b[39mnp\u001b[39m.\u001b[39muint8, sep\u001b[39m=\u001b[39m\u001b[39m'\u001b[39m\u001b[39m'\u001b[39m)\n\u001b[1;32m     31\u001b[0m     data \u001b[39m=\u001b[39m data\u001b[39m.\u001b[39mreshape(fig\u001b[39m.\u001b[39mcanvas\u001b[39m.\u001b[39mget_width_height()[::\u001b[39m-\u001b[39m\u001b[39m1\u001b[39m] \u001b[39m+\u001b[39m (\u001b[39m3\u001b[39m,))\n",
      "File \u001b[0;32m~/anaconda3/envs/ac/lib/python3.10/site-packages/matplotlib/backends/backend_agg.py:408\u001b[0m, in \u001b[0;36mFigureCanvasAgg.draw\u001b[0;34m(self)\u001b[0m\n\u001b[1;32m    404\u001b[0m \u001b[39m# Acquire a lock on the shared font cache.\u001b[39;00m\n\u001b[1;32m    405\u001b[0m \u001b[39mwith\u001b[39;00m RendererAgg\u001b[39m.\u001b[39mlock, \\\n\u001b[1;32m    406\u001b[0m      (\u001b[39mself\u001b[39m\u001b[39m.\u001b[39mtoolbar\u001b[39m.\u001b[39m_wait_cursor_for_draw_cm() \u001b[39mif\u001b[39;00m \u001b[39mself\u001b[39m\u001b[39m.\u001b[39mtoolbar\n\u001b[1;32m    407\u001b[0m       \u001b[39melse\u001b[39;00m nullcontext()):\n\u001b[0;32m--> 408\u001b[0m     \u001b[39mself\u001b[39;49m\u001b[39m.\u001b[39;49mfigure\u001b[39m.\u001b[39;49mdraw(\u001b[39mself\u001b[39;49m\u001b[39m.\u001b[39;49mrenderer)\n\u001b[1;32m    409\u001b[0m     \u001b[39m# A GUI class may be need to update a window using this draw, so\u001b[39;00m\n\u001b[1;32m    410\u001b[0m     \u001b[39m# don't forget to call the superclass.\u001b[39;00m\n\u001b[1;32m    411\u001b[0m     \u001b[39msuper\u001b[39m()\u001b[39m.\u001b[39mdraw()\n",
      "File \u001b[0;32m~/anaconda3/envs/ac/lib/python3.10/site-packages/matplotlib/artist.py:74\u001b[0m, in \u001b[0;36m_finalize_rasterization.<locals>.draw_wrapper\u001b[0;34m(artist, renderer, *args, **kwargs)\u001b[0m\n\u001b[1;32m     72\u001b[0m \u001b[39m@wraps\u001b[39m(draw)\n\u001b[1;32m     73\u001b[0m \u001b[39mdef\u001b[39;00m \u001b[39mdraw_wrapper\u001b[39m(artist, renderer, \u001b[39m*\u001b[39margs, \u001b[39m*\u001b[39m\u001b[39m*\u001b[39mkwargs):\n\u001b[0;32m---> 74\u001b[0m     result \u001b[39m=\u001b[39m draw(artist, renderer, \u001b[39m*\u001b[39;49margs, \u001b[39m*\u001b[39;49m\u001b[39m*\u001b[39;49mkwargs)\n\u001b[1;32m     75\u001b[0m     \u001b[39mif\u001b[39;00m renderer\u001b[39m.\u001b[39m_rasterizing:\n\u001b[1;32m     76\u001b[0m         renderer\u001b[39m.\u001b[39mstop_rasterizing()\n",
      "File \u001b[0;32m~/anaconda3/envs/ac/lib/python3.10/site-packages/matplotlib/artist.py:51\u001b[0m, in \u001b[0;36mallow_rasterization.<locals>.draw_wrapper\u001b[0;34m(artist, renderer)\u001b[0m\n\u001b[1;32m     48\u001b[0m     \u001b[39mif\u001b[39;00m artist\u001b[39m.\u001b[39mget_agg_filter() \u001b[39mis\u001b[39;00m \u001b[39mnot\u001b[39;00m \u001b[39mNone\u001b[39;00m:\n\u001b[1;32m     49\u001b[0m         renderer\u001b[39m.\u001b[39mstart_filter()\n\u001b[0;32m---> 51\u001b[0m     \u001b[39mreturn\u001b[39;00m draw(artist, renderer)\n\u001b[1;32m     52\u001b[0m \u001b[39mfinally\u001b[39;00m:\n\u001b[1;32m     53\u001b[0m     \u001b[39mif\u001b[39;00m artist\u001b[39m.\u001b[39mget_agg_filter() \u001b[39mis\u001b[39;00m \u001b[39mnot\u001b[39;00m \u001b[39mNone\u001b[39;00m:\n",
      "File \u001b[0;32m~/anaconda3/envs/ac/lib/python3.10/site-packages/matplotlib/figure.py:3074\u001b[0m, in \u001b[0;36mFigure.draw\u001b[0;34m(self, renderer)\u001b[0m\n\u001b[1;32m   3071\u001b[0m         \u001b[39m# ValueError can occur when resizing a window.\u001b[39;00m\n\u001b[1;32m   3073\u001b[0m \u001b[39mself\u001b[39m\u001b[39m.\u001b[39mpatch\u001b[39m.\u001b[39mdraw(renderer)\n\u001b[0;32m-> 3074\u001b[0m mimage\u001b[39m.\u001b[39;49m_draw_list_compositing_images(\n\u001b[1;32m   3075\u001b[0m     renderer, \u001b[39mself\u001b[39;49m, artists, \u001b[39mself\u001b[39;49m\u001b[39m.\u001b[39;49msuppressComposite)\n\u001b[1;32m   3077\u001b[0m \u001b[39mfor\u001b[39;00m sfig \u001b[39min\u001b[39;00m \u001b[39mself\u001b[39m\u001b[39m.\u001b[39msubfigs:\n\u001b[1;32m   3078\u001b[0m     sfig\u001b[39m.\u001b[39mdraw(renderer)\n",
      "File \u001b[0;32m~/anaconda3/envs/ac/lib/python3.10/site-packages/matplotlib/image.py:131\u001b[0m, in \u001b[0;36m_draw_list_compositing_images\u001b[0;34m(renderer, parent, artists, suppress_composite)\u001b[0m\n\u001b[1;32m    129\u001b[0m \u001b[39mif\u001b[39;00m not_composite \u001b[39mor\u001b[39;00m \u001b[39mnot\u001b[39;00m has_images:\n\u001b[1;32m    130\u001b[0m     \u001b[39mfor\u001b[39;00m a \u001b[39min\u001b[39;00m artists:\n\u001b[0;32m--> 131\u001b[0m         a\u001b[39m.\u001b[39;49mdraw(renderer)\n\u001b[1;32m    132\u001b[0m \u001b[39melse\u001b[39;00m:\n\u001b[1;32m    133\u001b[0m     \u001b[39m# Composite any adjacent images together\u001b[39;00m\n\u001b[1;32m    134\u001b[0m     image_group \u001b[39m=\u001b[39m []\n",
      "File \u001b[0;32m~/anaconda3/envs/ac/lib/python3.10/site-packages/matplotlib/artist.py:51\u001b[0m, in \u001b[0;36mallow_rasterization.<locals>.draw_wrapper\u001b[0;34m(artist, renderer)\u001b[0m\n\u001b[1;32m     48\u001b[0m     \u001b[39mif\u001b[39;00m artist\u001b[39m.\u001b[39mget_agg_filter() \u001b[39mis\u001b[39;00m \u001b[39mnot\u001b[39;00m \u001b[39mNone\u001b[39;00m:\n\u001b[1;32m     49\u001b[0m         renderer\u001b[39m.\u001b[39mstart_filter()\n\u001b[0;32m---> 51\u001b[0m     \u001b[39mreturn\u001b[39;00m draw(artist, renderer)\n\u001b[1;32m     52\u001b[0m \u001b[39mfinally\u001b[39;00m:\n\u001b[1;32m     53\u001b[0m     \u001b[39mif\u001b[39;00m artist\u001b[39m.\u001b[39mget_agg_filter() \u001b[39mis\u001b[39;00m \u001b[39mnot\u001b[39;00m \u001b[39mNone\u001b[39;00m:\n",
      "File \u001b[0;32m~/anaconda3/envs/ac/lib/python3.10/site-packages/matplotlib/axes/_base.py:3107\u001b[0m, in \u001b[0;36m_AxesBase.draw\u001b[0;34m(self, renderer)\u001b[0m\n\u001b[1;32m   3104\u001b[0m         a\u001b[39m.\u001b[39mdraw(renderer)\n\u001b[1;32m   3105\u001b[0m     renderer\u001b[39m.\u001b[39mstop_rasterizing()\n\u001b[0;32m-> 3107\u001b[0m mimage\u001b[39m.\u001b[39;49m_draw_list_compositing_images(\n\u001b[1;32m   3108\u001b[0m     renderer, \u001b[39mself\u001b[39;49m, artists, \u001b[39mself\u001b[39;49m\u001b[39m.\u001b[39;49mfigure\u001b[39m.\u001b[39;49msuppressComposite)\n\u001b[1;32m   3110\u001b[0m renderer\u001b[39m.\u001b[39mclose_group(\u001b[39m'\u001b[39m\u001b[39maxes\u001b[39m\u001b[39m'\u001b[39m)\n\u001b[1;32m   3111\u001b[0m \u001b[39mself\u001b[39m\u001b[39m.\u001b[39mstale \u001b[39m=\u001b[39m \u001b[39mFalse\u001b[39;00m\n",
      "File \u001b[0;32m~/anaconda3/envs/ac/lib/python3.10/site-packages/matplotlib/image.py:131\u001b[0m, in \u001b[0;36m_draw_list_compositing_images\u001b[0;34m(renderer, parent, artists, suppress_composite)\u001b[0m\n\u001b[1;32m    129\u001b[0m \u001b[39mif\u001b[39;00m not_composite \u001b[39mor\u001b[39;00m \u001b[39mnot\u001b[39;00m has_images:\n\u001b[1;32m    130\u001b[0m     \u001b[39mfor\u001b[39;00m a \u001b[39min\u001b[39;00m artists:\n\u001b[0;32m--> 131\u001b[0m         a\u001b[39m.\u001b[39;49mdraw(renderer)\n\u001b[1;32m    132\u001b[0m \u001b[39melse\u001b[39;00m:\n\u001b[1;32m    133\u001b[0m     \u001b[39m# Composite any adjacent images together\u001b[39;00m\n\u001b[1;32m    134\u001b[0m     image_group \u001b[39m=\u001b[39m []\n",
      "File \u001b[0;32m~/anaconda3/envs/ac/lib/python3.10/site-packages/matplotlib/artist.py:51\u001b[0m, in \u001b[0;36mallow_rasterization.<locals>.draw_wrapper\u001b[0;34m(artist, renderer)\u001b[0m\n\u001b[1;32m     48\u001b[0m     \u001b[39mif\u001b[39;00m artist\u001b[39m.\u001b[39mget_agg_filter() \u001b[39mis\u001b[39;00m \u001b[39mnot\u001b[39;00m \u001b[39mNone\u001b[39;00m:\n\u001b[1;32m     49\u001b[0m         renderer\u001b[39m.\u001b[39mstart_filter()\n\u001b[0;32m---> 51\u001b[0m     \u001b[39mreturn\u001b[39;00m draw(artist, renderer)\n\u001b[1;32m     52\u001b[0m \u001b[39mfinally\u001b[39;00m:\n\u001b[1;32m     53\u001b[0m     \u001b[39mif\u001b[39;00m artist\u001b[39m.\u001b[39mget_agg_filter() \u001b[39mis\u001b[39;00m \u001b[39mnot\u001b[39;00m \u001b[39mNone\u001b[39;00m:\n",
      "File \u001b[0;32m~/anaconda3/envs/ac/lib/python3.10/site-packages/matplotlib/axis.py:1304\u001b[0m, in \u001b[0;36mAxis.draw\u001b[0;34m(self, renderer, *args, **kwargs)\u001b[0m\n\u001b[1;32m   1301\u001b[0m     \u001b[39mreturn\u001b[39;00m\n\u001b[1;32m   1302\u001b[0m renderer\u001b[39m.\u001b[39mopen_group(\u001b[39m__name__\u001b[39m, gid\u001b[39m=\u001b[39m\u001b[39mself\u001b[39m\u001b[39m.\u001b[39mget_gid())\n\u001b[0;32m-> 1304\u001b[0m ticks_to_draw \u001b[39m=\u001b[39m \u001b[39mself\u001b[39;49m\u001b[39m.\u001b[39;49m_update_ticks()\n\u001b[1;32m   1305\u001b[0m tlb1, tlb2 \u001b[39m=\u001b[39m \u001b[39mself\u001b[39m\u001b[39m.\u001b[39m_get_ticklabel_bboxes(ticks_to_draw, renderer)\n\u001b[1;32m   1307\u001b[0m \u001b[39mfor\u001b[39;00m tick \u001b[39min\u001b[39;00m ticks_to_draw:\n",
      "File \u001b[0;32m~/anaconda3/envs/ac/lib/python3.10/site-packages/matplotlib/axis.py:1192\u001b[0m, in \u001b[0;36mAxis._update_ticks\u001b[0;34m(self)\u001b[0m\n\u001b[1;32m   1190\u001b[0m major_locs \u001b[39m=\u001b[39m \u001b[39mself\u001b[39m\u001b[39m.\u001b[39mget_majorticklocs()\n\u001b[1;32m   1191\u001b[0m major_labels \u001b[39m=\u001b[39m \u001b[39mself\u001b[39m\u001b[39m.\u001b[39mmajor\u001b[39m.\u001b[39mformatter\u001b[39m.\u001b[39mformat_ticks(major_locs)\n\u001b[0;32m-> 1192\u001b[0m major_ticks \u001b[39m=\u001b[39m \u001b[39mself\u001b[39;49m\u001b[39m.\u001b[39;49mget_major_ticks(\u001b[39mlen\u001b[39;49m(major_locs))\n\u001b[1;32m   1193\u001b[0m \u001b[39mself\u001b[39m\u001b[39m.\u001b[39mmajor\u001b[39m.\u001b[39mformatter\u001b[39m.\u001b[39mset_locs(major_locs)\n\u001b[1;32m   1194\u001b[0m \u001b[39mfor\u001b[39;00m tick, loc, label \u001b[39min\u001b[39;00m \u001b[39mzip\u001b[39m(major_ticks, major_locs, major_labels):\n",
      "File \u001b[0;32m~/anaconda3/envs/ac/lib/python3.10/site-packages/matplotlib/axis.py:1536\u001b[0m, in \u001b[0;36mAxis.get_major_ticks\u001b[0;34m(self, numticks)\u001b[0m\n\u001b[1;32m   1534\u001b[0m     tick \u001b[39m=\u001b[39m \u001b[39mself\u001b[39m\u001b[39m.\u001b[39m_get_tick(major\u001b[39m=\u001b[39m\u001b[39mTrue\u001b[39;00m)\n\u001b[1;32m   1535\u001b[0m     \u001b[39mself\u001b[39m\u001b[39m.\u001b[39mmajorTicks\u001b[39m.\u001b[39mappend(tick)\n\u001b[0;32m-> 1536\u001b[0m     \u001b[39mself\u001b[39;49m\u001b[39m.\u001b[39;49m_copy_tick_props(\u001b[39mself\u001b[39;49m\u001b[39m.\u001b[39;49mmajorTicks[\u001b[39m0\u001b[39;49m], tick)\n\u001b[1;32m   1538\u001b[0m \u001b[39mreturn\u001b[39;00m \u001b[39mself\u001b[39m\u001b[39m.\u001b[39mmajorTicks[:numticks]\n",
      "File \u001b[0;32m~/anaconda3/envs/ac/lib/python3.10/site-packages/matplotlib/axis.py:1501\u001b[0m, in \u001b[0;36mAxis._copy_tick_props\u001b[0;34m(self, src, dest)\u001b[0m\n\u001b[1;32m   1499\u001b[0m \u001b[39mif\u001b[39;00m src \u001b[39mis\u001b[39;00m \u001b[39mNone\u001b[39;00m \u001b[39mor\u001b[39;00m dest \u001b[39mis\u001b[39;00m \u001b[39mNone\u001b[39;00m:\n\u001b[1;32m   1500\u001b[0m     \u001b[39mreturn\u001b[39;00m\n\u001b[0;32m-> 1501\u001b[0m dest\u001b[39m.\u001b[39;49mlabel1\u001b[39m.\u001b[39;49mupdate_from(src\u001b[39m.\u001b[39;49mlabel1)\n\u001b[1;32m   1502\u001b[0m dest\u001b[39m.\u001b[39mlabel2\u001b[39m.\u001b[39mupdate_from(src\u001b[39m.\u001b[39mlabel2)\n\u001b[1;32m   1503\u001b[0m dest\u001b[39m.\u001b[39mtick1line\u001b[39m.\u001b[39mupdate_from(src\u001b[39m.\u001b[39mtick1line)\n",
      "File \u001b[0;32m~/anaconda3/envs/ac/lib/python3.10/site-packages/matplotlib/text.py:285\u001b[0m, in \u001b[0;36mText.update_from\u001b[0;34m(self, other)\u001b[0m\n\u001b[1;32m    283\u001b[0m \u001b[39mdef\u001b[39;00m \u001b[39mupdate_from\u001b[39m(\u001b[39mself\u001b[39m, other):\n\u001b[1;32m    284\u001b[0m     \u001b[39m# docstring inherited\u001b[39;00m\n\u001b[0;32m--> 285\u001b[0m     \u001b[39msuper\u001b[39;49m()\u001b[39m.\u001b[39;49mupdate_from(other)\n\u001b[1;32m    286\u001b[0m     \u001b[39mself\u001b[39m\u001b[39m.\u001b[39m_color \u001b[39m=\u001b[39m other\u001b[39m.\u001b[39m_color\n\u001b[1;32m    287\u001b[0m     \u001b[39mself\u001b[39m\u001b[39m.\u001b[39m_multialignment \u001b[39m=\u001b[39m other\u001b[39m.\u001b[39m_multialignment\n",
      "File \u001b[0;32m~/anaconda3/envs/ac/lib/python3.10/site-packages/matplotlib/artist.py:1134\u001b[0m, in \u001b[0;36mArtist.update_from\u001b[0;34m(self, other)\u001b[0m\n\u001b[1;32m   1132\u001b[0m \u001b[39mself\u001b[39m\u001b[39m.\u001b[39m_sketch \u001b[39m=\u001b[39m other\u001b[39m.\u001b[39m_sketch\n\u001b[1;32m   1133\u001b[0m \u001b[39mself\u001b[39m\u001b[39m.\u001b[39m_path_effects \u001b[39m=\u001b[39m other\u001b[39m.\u001b[39m_path_effects\n\u001b[0;32m-> 1134\u001b[0m \u001b[39mself\u001b[39m\u001b[39m.\u001b[39msticky_edges\u001b[39m.\u001b[39mx[:] \u001b[39m=\u001b[39m other\u001b[39m.\u001b[39;49msticky_edges\u001b[39m.\u001b[39mx\u001b[39m.\u001b[39mcopy()\n\u001b[1;32m   1135\u001b[0m \u001b[39mself\u001b[39m\u001b[39m.\u001b[39msticky_edges\u001b[39m.\u001b[39my[:] \u001b[39m=\u001b[39m other\u001b[39m.\u001b[39msticky_edges\u001b[39m.\u001b[39my\u001b[39m.\u001b[39mcopy()\n\u001b[1;32m   1136\u001b[0m \u001b[39mself\u001b[39m\u001b[39m.\u001b[39mpchanged()\n",
      "File \u001b[0;32m~/anaconda3/envs/ac/lib/python3.10/site-packages/matplotlib/artist.py:1095\u001b[0m, in \u001b[0;36mArtist.sticky_edges\u001b[0;34m(self)\u001b[0m\n\u001b[1;32m   1092\u001b[0m     \u001b[39mself\u001b[39m\u001b[39m.\u001b[39mpchanged()\n\u001b[1;32m   1093\u001b[0m     \u001b[39mself\u001b[39m\u001b[39m.\u001b[39mstale \u001b[39m=\u001b[39m \u001b[39mTrue\u001b[39;00m\n\u001b[0;32m-> 1095\u001b[0m \u001b[39m@property\u001b[39m\n\u001b[1;32m   1096\u001b[0m \u001b[39mdef\u001b[39;00m \u001b[39msticky_edges\u001b[39m(\u001b[39mself\u001b[39m):\n\u001b[1;32m   1097\u001b[0m     \u001b[39m\"\"\"\u001b[39;00m\n\u001b[1;32m   1098\u001b[0m \u001b[39m    ``x`` and ``y`` sticky edge lists for autoscaling.\u001b[39;00m\n\u001b[1;32m   1099\u001b[0m \n\u001b[0;32m   (...)\u001b[0m\n\u001b[1;32m   1118\u001b[0m \n\u001b[1;32m   1119\u001b[0m \u001b[39m    \"\"\"\u001b[39;00m\n\u001b[1;32m   1120\u001b[0m     \u001b[39mreturn\u001b[39;00m \u001b[39mself\u001b[39m\u001b[39m.\u001b[39m_sticky_edges\n",
      "\u001b[0;31mKeyboardInterrupt\u001b[0m: "
     ]
    },
    {
     "data": {
      "image/png": "[encoded data removed]",
      "text/plain": [
       "<Figure size 640x480 with 4 Axes>"
      ]
     },
     "metadata": {},
     "output_type": "display_data"
    },
    {
     "data": {
      "image/png": "[encoded data removed]",
      "text/plain": [
       "<Figure size 640x480 with 1 Axes>"
      ]
     },
     "metadata": {},
     "output_type": "display_data"
    },
    {
     "data": {
      "image/png": "[encoded data removed]",
      "text/plain": [
       "<Figure size 640x480 with 39 Axes>"
      ]
     },
     "metadata": {},
     "output_type": "display_data"
    }
   ],
   "source": [
    "acl.train(200)"
   ]
  },
  {
   "cell_type": "code",
   "execution_count": null,
   "metadata": {},
   "outputs": [],
   "source": [
    "seq_len"
   ]
  },
  {
   "cell_type": "code",
   "execution_count": null,
   "metadata": {},
   "outputs": [],
   "source": [
    "eval_env, expert = make_vec_env('reach', num_cpu=1, seq_len=seq_len)"
   ]
  },
  {
   "cell_type": "code",
   "execution_count": null,
   "metadata": {},
   "outputs": [],
   "source": []
  },
  {
   "cell_type": "code",
   "execution_count": null,
   "metadata": {},
   "outputs": [],
   "source": [
    "acl.policy.reset()"
   ]
  },
  {
   "cell_type": "code",
   "execution_count": null,
   "metadata": {},
   "outputs": [],
   "source": [
    "obs = eval_env.reset()\n",
    "action = acl.policy.predict(obs)"
   ]
  },
  {
   "cell_type": "code",
   "execution_count": null,
   "metadata": {},
   "outputs": [],
   "source": [
    "acl.policy.history.scores[0].shape"
   ]
  },
  {
   "cell_type": "code",
   "execution_count": null,
   "metadata": {},
   "outputs": [],
   "source": [
    "acl.policy.history.emb[0].shape"
   ]
  },
  {
   "cell_type": "code",
   "execution_count": null,
   "metadata": {},
   "outputs": [],
   "source": [
    "embeddings, actions = acl.policy.build_sequence(\n",
    "                embeddings=acl.policy.current_embeddings, \n",
    "                actions=actions[:,:0], \n",
    "                seq_len=10, \n",
    "                goal_emb_acts=acl.policy.goal_emb_acts,\n",
    "                goal_state=None,\n",
    "                tf_mask=acl.policy.args_obj.pred_mask,\n",
    "                actor=acl.policy.actor,\n",
    "                predictor=acl.policy.predicor)"
   ]
  },
  {
   "cell_type": "code",
   "execution_count": null,
   "metadata": {},
   "outputs": [],
   "source": [
    "actions.shape"
   ]
  },
  {
   "cell_type": "code",
   "execution_count": null,
   "metadata": {},
   "outputs": [],
   "source": [
    "acl.policy.eval()\n",
    "acl.policy.reset()\n",
    "seq_len = acl.policy.args_obj.epoch_len\n",
    "transitions = sample_expert_transitions(\n",
    "    acl.policy.predict, eval_env, 1)"
   ]
  },
  {
   "cell_type": "code",
   "execution_count": null,
   "metadata": {},
   "outputs": [],
   "source": [
    "actions, observations, rewards = parse_sampled_transitions(\n",
    "            transitions=transitions, extractor=acl.policy.args_obj.extractor, device=device)"
   ]
  },
  {
   "cell_type": "code",
   "execution_count": null,
   "metadata": {},
   "outputs": [],
   "source": [
    "embeddings = acl.policy.emitter.forward(observations)"
   ]
  },
  {
   "cell_type": "code",
   "execution_count": null,
   "metadata": {},
   "outputs": [],
   "source": [
    "critic_input = acl.policy.get_critic_input(embeddings=embeddings, actions=actions)"
   ]
  },
  {
   "cell_type": "code",
   "execution_count": null,
   "metadata": {},
   "outputs": [],
   "source": [
    "scores = acl.policy.critic.forward(critic_input)"
   ]
  },
  {
   "cell_type": "code",
   "execution_count": null,
   "metadata": {},
   "outputs": [],
   "source": [
    "calcMSE(scores, rewards)"
   ]
  },
  {
   "cell_type": "code",
   "execution_count": null,
   "metadata": {},
   "outputs": [],
   "source": [
    "rewards"
   ]
  },
  {
   "cell_type": "code",
   "execution_count": null,
   "metadata": {},
   "outputs": [],
   "source": [
    "observations.shape"
   ]
  },
  {
   "cell_type": "code",
   "execution_count": null,
   "metadata": {},
   "outputs": [],
   "source": [
    "acl.policy.history.emb[0][:,0,-1].shape"
   ]
  },
  {
   "cell_type": "code",
   "execution_count": null,
   "metadata": {},
   "outputs": [],
   "source": [
    "eval_env, expert = make_vec_env('reach', num_cpu=1, seq_len=seq_len)\n",
    "acl.policy.reset()\n",
    "obs = eval_env.reset()\n",
    "action = acl.policy.predict(obs)"
   ]
  },
  {
   "cell_type": "code",
   "execution_count": null,
   "metadata": {},
   "outputs": [],
   "source": [
    "embeddings, actions = acl.policy.build_sequence(\n",
    "    embeddings=acl.policy.current_embeddings, \n",
    "    actions=None, \n",
    "    seq_len=seq_len, \n",
    "    goal_emb_acts=acl.policy.goal_emb_acts,\n",
    "    goal_state=None,\n",
    "    tf_mask=acl.policy.args_obj.pred_mask,\n",
    "    actor=acl.policy.actor,\n",
    "    predictor=acl.policy.predicor)"
   ]
  },
  {
   "cell_type": "code",
   "execution_count": null,
   "metadata": {},
   "outputs": [],
   "source": [
    "embeddings.shape"
   ]
  },
  {
   "cell_type": "code",
   "execution_count": null,
   "metadata": {},
   "outputs": [],
   "source": [
    "scores = acl.policy.critic.forward(embeddings)"
   ]
  },
  {
   "cell_type": "code",
   "execution_count": null,
   "metadata": {},
   "outputs": [],
   "source": [
    "current_step = 49\n",
    "predicotr_input = acl.policy.get_predictor_input(embeddings[:,:current_step], actions[:,:current_step])"
   ]
  },
  {
   "cell_type": "code",
   "execution_count": null,
   "metadata": {},
   "outputs": [],
   "source": [
    "next_states, attention = acl.policy.predicor.model.forward(src=predicotr_input, mask = acl.policy.args_obj.pred_mask[:current_step,:current_step], return_attention=True)"
   ]
  },
  {
   "cell_type": "code",
   "execution_count": null,
   "metadata": {},
   "outputs": [],
   "source": [
    "import matplotlib.pyplot as plt\n",
    "fig = plt.figure()\n",
    "ax = fig.add_subplot(111)\n",
    "ax.set_ylabel('Query')\n",
    "ax.set_xlabel('Key')\n",
    "cax = ax.matshow(attention[0].to('cpu'), interpolation='nearest')\n",
    "fig.colorbar(cax)\n",
    "plt.show()"
   ]
  },
  {
   "cell_type": "code",
   "execution_count": null,
   "metadata": {},
   "outputs": [],
   "source": [
    "import matplotlib.pyplot as plt\n",
    "fig = plt.figure()\n",
    "ax = fig.add_subplot(111)\n",
    "ax.set_ylabel('Query')\n",
    "ax.set_xlabel('Key')\n",
    "cax = ax.matshow(attention[0].to('cpu'), interpolation='nearest')\n",
    "fig.colorbar(cax)\n",
    "plt.show()"
   ]
  },
  {
   "cell_type": "code",
   "execution_count": null,
   "metadata": {},
   "outputs": [],
   "source": []
  }
 ],
 "metadata": {
  "kernelspec": {
   "display_name": "Python 3.10.6 ('ac')",
   "language": "python",
   "name": "python3"
  },
  "language_info": {
   "codemirror_mode": {
    "name": "ipython",
    "version": 3
   },
   "file_extension": ".py",
   "mimetype": "text/x-python",
   "name": "python",
   "nbconvert_exporter": "python",
   "pygments_lexer": "ipython3",
   "version": "3.10.6"
  },
  "orig_nbformat": 4,
  "vscode": {
   "interpreter": {
    "hash": "c27e8fa6375f4d15af5a5f5541d8bb88746b588c9fe1102cfd8de011d36c10c2"
   }
  }
 },
 "nbformat": 4,
 "nbformat_minor": 2
}
