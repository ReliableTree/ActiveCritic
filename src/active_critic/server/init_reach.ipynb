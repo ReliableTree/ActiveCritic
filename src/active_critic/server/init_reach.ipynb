{
 "cells": [
  {
   "cell_type": "code",
   "execution_count": null,
   "metadata": {},
   "outputs": [],
   "source": [
    "from active_critic.server.analyze import make_acl\n",
    "import matplotlib.pyplot as plt"
   ]
  },
  {
   "cell_type": "code",
   "execution_count": null,
   "metadata": {},
   "outputs": [],
   "source": [
    "device = 'cpu'\n",
    "acl, env, expert, seq_len, epsiodes, device = make_acl(device, env_tag='reach', logname='test_plots')\n",
    "acl.train(epochs=1)"
   ]
  },
  {
   "cell_type": "code",
   "execution_count": null,
   "metadata": {},
   "outputs": [],
   "source": [
    "acl.train_data.reward"
   ]
  },
  {
   "cell_type": "code",
   "execution_count": null,
   "metadata": {},
   "outputs": [],
   "source": [
    "th.all(acl.train_data.obsv[0][1:] == 0)"
   ]
  },
  {
   "cell_type": "code",
   "execution_count": null,
   "metadata": {},
   "outputs": [],
   "source": [
    "acl.policy.eval()\n",
    "acl.policy.reset()\n",
    "obs = env.reset()\n",
    "transitions = sample_expert_transitions(policy=acl.policy.predict, env=env, episodes=1)\n",
    "attention = acl.policy.critic.attention\n",
    "fig = plt.figure()\n",
    "ax = fig.add_subplot(111)\n",
    "ax.set_ylabel('Query')\n",
    "ax.set_xlabel('Key')\n",
    "cax = ax.matshow(attention[0].to('cpu'), interpolation='nearest')\n",
    "fig.colorbar(cax)\n",
    "plt.show()"
   ]
  },
  {
   "cell_type": "code",
   "execution_count": 49,
   "metadata": {},
   "outputs": [],
   "source": [
    "import torch as th\n",
    "\n",
    "def make_step_mask(self, steps, seq_len):\n",
    "    indices_tensor = th.arange(seq_len).unsqueeze(0)\n",
    "    mask = indices_tensor < steps[:, None]\n",
    "    return mask\n",
    "\n",
    "def proj_actions(self, org_actions: th.Tensor, new_actions: th.Tensor, steps: int):\n",
    "        with th.no_grad():\n",
    "            if self.args_obj.take_predicted_action:\n",
    "                mask = make_step_mask(steps=steps+1, seq_len=org_actions.shape[1])\n",
    "            else:\n",
    "                mask = make_step_mask(steps=steps, seq_len=org_actions.shape[1])\n",
    "            new_actions[mask] = org_actions[mask]\n",
    "            if self.args_obj.clip:\n",
    "                th.clamp(new_actions, min=self.clip_min, max=self.clip_max, out=new_actions)\n",
    "        return new_actions"
   ]
  },
  {
   "cell_type": "code",
   "execution_count": null,
   "metadata": {},
   "outputs": [],
   "source": []
  },
  {
   "cell_type": "code",
   "execution_count": 82,
   "metadata": {},
   "outputs": [],
   "source": [
    "seq_len = 4\n",
    "batch_size = 3\n",
    "dim = 5\n",
    "current_step = 1\n",
    "steps = th.tensor([current_step], dtype=int).repeat([batch_size])\n",
    "mask = make_step_mask(steps=steps, seq_len=seq_len)\n",
    "a = th.rand([batch_size, seq_len, dim])\n",
    "b = th.rand([batch_size, seq_len, dim])"
   ]
  },
  {
   "cell_type": "code",
   "execution_count": 83,
   "metadata": {},
   "outputs": [
    {
     "data": {
      "text/plain": [
       "tensor([1, 1, 1])"
      ]
     },
     "execution_count": 83,
     "metadata": {},
     "output_type": "execute_result"
    }
   ],
   "source": [
    "steps"
   ]
  },
  {
   "cell_type": "code",
   "execution_count": 84,
   "metadata": {},
   "outputs": [
    {
     "data": {
      "text/plain": [
       "tensor([[ True, False, False, False],\n",
       "        [ True, False, False, False],\n",
       "        [ True, False, False, False]])"
      ]
     },
     "execution_count": 84,
     "metadata": {},
     "output_type": "execute_result"
    }
   ],
   "source": [
    "mask"
   ]
  },
  {
   "cell_type": "code",
   "execution_count": 85,
   "metadata": {},
   "outputs": [],
   "source": [
    "c = a.clone()\n",
    "a[mask] = b[mask]"
   ]
  },
  {
   "cell_type": "code",
   "execution_count": 86,
   "metadata": {},
   "outputs": [
    {
     "data": {
      "text/plain": [
       "tensor([[[0.2145, 0.6745, 0.6704, 0.0344, 0.2557],\n",
       "         [0.3479, 0.4859, 0.7995, 0.3480, 0.5956],\n",
       "         [0.5385, 0.4273, 0.0040, 0.2707, 0.1217],\n",
       "         [0.0308, 0.4225, 0.8689, 0.1896, 0.1826]],\n",
       "\n",
       "        [[0.3778, 0.8335, 0.5179, 0.3546, 0.6213],\n",
       "         [0.5252, 0.1670, 0.5183, 0.3185, 0.4178],\n",
       "         [0.1539, 0.0818, 0.1527, 0.3590, 0.7572],\n",
       "         [0.0114, 0.8399, 0.9128, 0.0074, 0.8886]],\n",
       "\n",
       "        [[0.4160, 0.8920, 0.3285, 0.7769, 0.2540],\n",
       "         [0.7070, 0.8091, 0.9168, 0.2668, 0.6724],\n",
       "         [0.7314, 0.3905, 0.0933, 0.2044, 0.2339],\n",
       "         [0.3424, 0.7131, 0.1833, 0.7520, 0.9775]]])"
      ]
     },
     "execution_count": 86,
     "metadata": {},
     "output_type": "execute_result"
    }
   ],
   "source": [
    "a"
   ]
  },
  {
   "cell_type": "code",
   "execution_count": 87,
   "metadata": {},
   "outputs": [
    {
     "data": {
      "text/plain": [
       "tensor([[[0.2145, 0.6745, 0.6704, 0.0344, 0.2557],\n",
       "         [0.0537, 0.4077, 0.2293, 0.5743, 0.9396],\n",
       "         [0.3536, 0.1122, 0.3502, 0.0389, 0.6939],\n",
       "         [0.5271, 0.5581, 0.6695, 0.9640, 0.1137]],\n",
       "\n",
       "        [[0.3778, 0.8335, 0.5179, 0.3546, 0.6213],\n",
       "         [0.2030, 0.6157, 0.2384, 0.4694, 0.0954],\n",
       "         [0.7212, 0.1307, 0.9831, 0.5618, 0.1862],\n",
       "         [0.0441, 0.0511, 0.5277, 0.1366, 0.5674]],\n",
       "\n",
       "        [[0.4160, 0.8920, 0.3285, 0.7769, 0.2540],\n",
       "         [0.4905, 0.2705, 0.1454, 0.8805, 0.1112],\n",
       "         [0.4741, 0.9272, 0.0636, 0.1069, 0.3819],\n",
       "         [0.5460, 0.3094, 0.7430, 0.3729, 0.7153]]])"
      ]
     },
     "execution_count": 87,
     "metadata": {},
     "output_type": "execute_result"
    }
   ],
   "source": [
    "b"
   ]
  },
  {
   "cell_type": "code",
   "execution_count": null,
   "metadata": {},
   "outputs": [],
   "source": []
  }
 ],
 "metadata": {
  "kernelspec": {
   "display_name": "Python 3.10.6 ('ac')",
   "language": "python",
   "name": "python3"
  },
  "language_info": {
   "codemirror_mode": {
    "name": "ipython",
    "version": 3
   },
   "file_extension": ".py",
   "mimetype": "text/x-python",
   "name": "python",
   "nbconvert_exporter": "python",
   "pygments_lexer": "ipython3",
   "version": "3.10.6"
  },
  "orig_nbformat": 4,
  "vscode": {
   "interpreter": {
    "hash": "c27e8fa6375f4d15af5a5f5541d8bb88746b588c9fe1102cfd8de011d36c10c2"
   }
  }
 },
 "nbformat": 4,
 "nbformat_minor": 2
}
