{
 "cells": [
  {
   "cell_type": "code",
   "execution_count": null,
   "metadata": {},
   "outputs": [],
   "source": [
    "import torch as th\n",
    "import torch.nn as nn\n",
    "from active_critic.model_src.state_model import *\n",
    "from active_critic.utils.pytorch_utils import calcMSE"
   ]
  },
  {
   "cell_type": "code",
   "execution_count": null,
   "metadata": {},
   "outputs": [],
   "source": [
    "rnn = nn.GRU(10, 20, 2)\n",
    "input = th.randn(5, 3, 10)\n",
    "h0 = th.randn(2, 3, 20)\n",
    "output, hn = rnn(input, h0)"
   ]
  },
  {
   "cell_type": "code",
   "execution_count": null,
   "metadata": {},
   "outputs": [],
   "source": [
    "'''input = th.randn(seq_len, batch_size, gru_inp_dim, requires_grad=True)\n",
    "h0 = th.randn(n_layers, batch_size, hidden_dim)\n",
    "output, hn = rnn(input, h0)'''"
   ]
  },
  {
   "cell_type": "code",
   "execution_count": null,
   "metadata": {},
   "outputs": [],
   "source": [
    "rnn = nn.LSTM(10, 20, 2)\n",
    "input = th.randn(5, 3, 10)\n",
    "h0 = th.randn(2, 3, 20)\n",
    "c0 = th.randn(2, 3, 20)\n",
    "output, (hn, cn) = rnn(input, (h0, c0))"
   ]
  },
  {
   "cell_type": "code",
   "execution_count": null,
   "metadata": {},
   "outputs": [],
   "source": [
    "output.shape"
   ]
  },
  {
   "cell_type": "code",
   "execution_count": null,
   "metadata": {},
   "outputs": [],
   "source": [
    "def get_pred_input(actions, observations, goals):\n",
    "    return th.cat((actions, observations, goals), dim=-1)\n",
    "\n",
    "def get_actor_input(observations, goals):\n",
    "    return th.cat((observations, goals), dim=-1)\n",
    "\n",
    "def split_pred_output(pred_output, action_dim, observation_dim, goal_dim):\n",
    "    return pred_output[:, :, :action_dim], pred_output[:, :, action_dim:action_dim+observation_dim], pred_output[:, :, -goal_dim:]\n",
    "\n",
    "def append_goal(states, goals):\n",
    "    return th.cat((states, goals), dim=-1)\n",
    "\n",
    "def build_seqence(observations:th.Tensor, actions:th.Tensor, goals:th.Tensor, actor:StateModel, predictor:nn.GRU, projector:StateModel, seq_len:int):\n",
    "    #obsv: [0:step, batch, dim]\n",
    "    #acts: [0:step-1, batch, dim]\n",
    "    actor_input = get_actor_input(observations=observations[-1:], goals=goals[-1:])\n",
    "    action = actor.forward(actor_input)\n",
    "    actions = th.cat((actions, action), dim=0)\n",
    "\n",
    "    seq_input = get_pred_input(actions=actions, observations=observations, goals=goals)\n",
    "    outputs, hn = predictor.forward(seq_input)\n",
    "\n",
    "    outputs = projector.forward(outputs)\n",
    "    outputs = append_goal(states=outputs, goals=goals)\n",
    "\n",
    "    outputs = th.cat((seq_input[:1], outputs), dim=0) #first embedding is not predicted, but action is\n",
    "\n",
    "    for step in range(seq_len - observations.shape[0] - 1):\n",
    "        next_state, hn = predictor.forward(outputs[-1:], hn)\n",
    "        next_state = projector.forward(next_state)\n",
    "        next_state = append_goal(next_state, goals=goals[-1:])\n",
    "        outputs = th.cat((outputs, next_state), dim=0)\n",
    "    return outputs"
   ]
  },
  {
   "cell_type": "code",
   "execution_count": 239,
   "metadata": {},
   "outputs": [],
   "source": [
    "th.manual_seed(0)\n",
    "obs_dim = 1\n",
    "act_dim = 2\n",
    "batch_size = 3\n",
    "n_layers = 4\n",
    "seq_len = 10\n",
    "goal_dim = obs_dim\n",
    "gru_inp_dim = obs_dim + act_dim + goal_dim\n",
    "hidden_dim = 200\n",
    "\n",
    "device = 'cuda'\n",
    "\n",
    "observations = th.zeros(seq_len, batch_size, obs_dim, requires_grad=True, device=device)\n",
    "actions = th.ones(seq_len, batch_size, act_dim, requires_grad=True, device=device)\n",
    "goals = th.ones(seq_len, batch_size, goal_dim, device=device)\n",
    "achieved_goals = th.zeros(seq_len, batch_size, goal_dim, device=device)\n",
    "\n",
    "sml = StateModelArgs()\n",
    "sml.arch = [10, act_dim]\n",
    "sml.device = device\n",
    "sml.lr = 1e-2\n",
    "actor = StateModel(args=sml)\n",
    "\n",
    "sml_proj = StateModelArgs()\n",
    "sml_proj.arch = [10, gru_inp_dim - goal_dim]\n",
    "sml_proj.device = device\n",
    "sml_proj.lr = 1e-2\n",
    "projector = StateModel(args=sml_proj)\n",
    "\n",
    "\n",
    "predictor = nn.GRU(gru_inp_dim, hidden_dim, n_layers, device=device)\n",
    "optimizer = th.optim.Adam(predictor.parameters(), lr=1e-2)"
   ]
  },
  {
   "cell_type": "code",
   "execution_count": null,
   "metadata": {},
   "outputs": [],
   "source": [
    "outputs = build_seqence(observations=observations, actions=actions, goals=goals, actor=actor, predictor=predictor, projector=projector, seq_len=6)"
   ]
  },
  {
   "cell_type": "code",
   "execution_count": null,
   "metadata": {},
   "outputs": [],
   "source": [
    "out_actions, out_observations, out_goals = split_pred_output(outputs, action_dim=act_dim, observation_dim=obs_dim, goal_dim=goal_dim)"
   ]
  },
  {
   "cell_type": "code",
   "execution_count": null,
   "metadata": {},
   "outputs": [],
   "source": [
    "loss = calcMSE(outputs[4], th.ones_like(outputs[0]))"
   ]
  },
  {
   "cell_type": "code",
   "execution_count": null,
   "metadata": {},
   "outputs": [],
   "source": [
    "loss.backward()"
   ]
  },
  {
   "cell_type": "code",
   "execution_count": 240,
   "metadata": {},
   "outputs": [],
   "source": [
    "optimizer = th.optim.Adam(predictor.parameters(), lr=1e-2)\n",
    "\n",
    "goal_observations = th.ones_like(observations[-1:])\n",
    "\n",
    "\n",
    "def step_goal_prediction(observations:th.Tensor, actions:th.Tensor, goals:th.Tensor, seq_len:int, actor:StateModel, projector:StateModel, predictor:nn.GRU):\n",
    "    outputs = build_seqence(observations=observations, actions=actions, goals=goals, actor=actor, predictor=predictor, projector=projector, seq_len=seq_len)\n",
    "    out_actions, out_observations, out_goals = split_pred_output(outputs, action_dim=act_dim, observation_dim=obs_dim, goal_dim=goal_dim)\n",
    "    \n",
    "    loss_observations = calcMSE(out_observations[-1:], goal_observations)\n",
    "    optimizer.zero_grad()\n",
    "    loss_observations.backward()\n",
    "    optimizer.step()\n",
    "    return loss_observations"
   ]
  },
  {
   "cell_type": "code",
   "execution_count": 241,
   "metadata": {},
   "outputs": [],
   "source": [
    "def step_prediction(observations:th.Tensor, actions:th.Tensor, goals:th.Tensor, seq_len:int, actor:StateModel, projector:StateModel, predictor:nn.GRU, step:int):\n",
    "    outputs = build_seqence(observations=observations[:step+1], actions=actions[:step], goals=goals[:step+1], actor=actor, predictor=predictor, projector=projector, seq_len=seq_len)\n",
    "    out_actions, out_observations, out_goals = split_pred_output(outputs, action_dim=act_dim, observation_dim=obs_dim, goal_dim=goal_dim)\n",
    "\n",
    "    loss_actions = calcMSE(out_actions, actions)\n",
    "    loss_observations = calcMSE(out_observations, observations)\n",
    "\n",
    "    loss = loss_actions + loss_observations\n",
    "\n",
    "    optimizer.zero_grad()\n",
    "    loss.backward()\n",
    "    optimizer.step()\n",
    "    return loss_actions, loss_observations"
   ]
  },
  {
   "cell_type": "code",
   "execution_count": 242,
   "metadata": {},
   "outputs": [
    {
     "name": "stdout",
     "output_type": "stream",
     "text": [
      "_______________________________\n",
      "loss_goal_pred: 1.1433781385421753\n",
      "loss_actions: 1.01786208152771\n",
      "loss_observations: 0.0013858922757208347\n",
      "_______________________________\n",
      "loss_goal_pred: 0.010416515171527863\n",
      "loss_actions: 0.2416079342365265\n",
      "loss_observations: 0.03544744849205017\n",
      "_______________________________\n",
      "loss_goal_pred: 0.026089003309607506\n",
      "loss_actions: 0.06860804557800293\n",
      "loss_observations: 0.0030568591319024563\n",
      "_______________________________\n",
      "loss_goal_pred: 4.359491867944598e-05\n",
      "loss_actions: 0.00461193872615695\n",
      "loss_observations: 0.0004593618505168706\n",
      "_______________________________\n",
      "loss_goal_pred: 9.138700988842174e-06\n",
      "loss_actions: 0.002148514613509178\n",
      "loss_observations: 6.573241989826784e-05\n",
      "_______________________________\n",
      "loss_goal_pred: 1.8145840385841439e-10\n",
      "loss_actions: 0.001031401101499796\n",
      "loss_observations: 6.757899973308668e-05\n",
      "_______________________________\n",
      "loss_goal_pred: 1.7180255440507608e-07\n",
      "loss_actions: 0.0006839908310212195\n",
      "loss_observations: 4.107415952603333e-05\n",
      "_______________________________\n",
      "loss_goal_pred: 1.8049618688564806e-08\n",
      "loss_actions: 0.000482282048324123\n",
      "loss_observations: 3.173118966515176e-05\n",
      "_______________________________\n",
      "loss_goal_pred: 4.9467985263618175e-09\n",
      "loss_actions: 0.0003534217248670757\n",
      "loss_observations: 2.59285734500736e-05\n",
      "_______________________________\n",
      "loss_goal_pred: 7.51754214434186e-12\n",
      "loss_actions: 0.00026518586673773825\n",
      "loss_observations: 2.310508534719702e-05\n"
     ]
    }
   ],
   "source": [
    "step = 2\n",
    "for i in range(100):\n",
    "    loss_goal_pred = step_goal_prediction(observations=observations[:1], actions=actions[:0], goals=goals[:1], seq_len=seq_len, actor=actor, projector=projector, predictor=predictor)\n",
    "    loss_actions, loss_observations = step_prediction(observations=observations, actions=actions, goals=achieved_goals, seq_len=seq_len, actor=actor, projector=projector, predictor=predictor, step=step)\n",
    "    if i % 10 == 0:\n",
    "        print('_______________________________')\n",
    "        print(f'loss_goal_pred: {loss_goal_pred}')\n",
    "        print(f'loss_actions: {loss_actions}')\n",
    "        print(f'loss_observations: {loss_observations}')\n",
    "    "
   ]
  },
  {
   "cell_type": "code",
   "execution_count": 249,
   "metadata": {},
   "outputs": [],
   "source": [
    "outputs = build_seqence(observations=observations[:step+1], actions=actions[:step], goals=achieved_goals[:step+1], actor=actor, predictor=predictor, projector=projector, seq_len=seq_len)\n",
    "out_actions_copy, out_observations, out_goals = split_pred_output(outputs, action_dim=act_dim, observation_dim=obs_dim, goal_dim=goal_dim)"
   ]
  },
  {
   "cell_type": "code",
   "execution_count": 250,
   "metadata": {},
   "outputs": [
    {
     "data": {
      "text/plain": [
       "tensor([[[1.0000, 1.0000],\n",
       "         [1.0000, 1.0000],\n",
       "         [1.0000, 1.0000]],\n",
       "\n",
       "        [[0.9649, 0.9631],\n",
       "         [0.9649, 0.9631],\n",
       "         [0.9649, 0.9631]],\n",
       "\n",
       "        [[1.0258, 1.0228],\n",
       "         [1.0258, 1.0228],\n",
       "         [1.0258, 1.0228]],\n",
       "\n",
       "        [[1.0056, 1.0041],\n",
       "         [1.0056, 1.0041],\n",
       "         [1.0056, 1.0041]],\n",
       "\n",
       "        [[0.9929, 0.9951],\n",
       "         [0.9929, 0.9951],\n",
       "         [0.9929, 0.9951]],\n",
       "\n",
       "        [[0.9985, 0.9963],\n",
       "         [0.9985, 0.9963],\n",
       "         [0.9985, 0.9963]],\n",
       "\n",
       "        [[1.0040, 1.0098],\n",
       "         [1.0040, 1.0098],\n",
       "         [1.0040, 1.0098]],\n",
       "\n",
       "        [[0.9971, 1.0006],\n",
       "         [0.9971, 1.0006],\n",
       "         [0.9971, 1.0006]],\n",
       "\n",
       "        [[1.0066, 0.9994],\n",
       "         [1.0066, 0.9994],\n",
       "         [1.0066, 0.9994]],\n",
       "\n",
       "        [[0.9993, 1.0016],\n",
       "         [0.9993, 1.0016],\n",
       "         [0.9993, 1.0016]]], device='cuda:0', grad_fn=<SliceBackward0>)"
      ]
     },
     "execution_count": 250,
     "metadata": {},
     "output_type": "execute_result"
    }
   ],
   "source": [
    "out_actions_copy"
   ]
  },
  {
   "cell_type": "code",
   "execution_count": 246,
   "metadata": {},
   "outputs": [
    {
     "data": {
      "text/plain": [
       "tensor(2.0903e-05, device='cuda:0', grad_fn=<MeanBackward0>)"
      ]
     },
     "execution_count": 246,
     "metadata": {},
     "output_type": "execute_result"
    }
   ],
   "source": [
    "calcMSE(out_observations, out_goals)"
   ]
  },
  {
   "cell_type": "code",
   "execution_count": 247,
   "metadata": {},
   "outputs": [],
   "source": [
    "outputs = build_seqence(observations=observations[:1], actions=actions[:0], goals=goals[:1], actor=actor, predictor=predictor, projector=projector, seq_len=seq_len)\n",
    "out_actions, out_observations, out_goals = split_pred_output(outputs, action_dim=act_dim, observation_dim=obs_dim, goal_dim=goal_dim)"
   ]
  },
  {
   "cell_type": "code",
   "execution_count": 251,
   "metadata": {},
   "outputs": [
    {
     "data": {
      "text/plain": [
       "tensor([[[-0.0735,  0.0123],\n",
       "         [-0.0735,  0.0123],\n",
       "         [-0.0735,  0.0123]],\n",
       "\n",
       "        [[ 0.0575, -0.2760],\n",
       "         [ 0.0575, -0.2760],\n",
       "         [ 0.0575, -0.2760]],\n",
       "\n",
       "        [[ 0.1737, -0.2472],\n",
       "         [ 0.1737, -0.2472],\n",
       "         [ 0.1737, -0.2472]],\n",
       "\n",
       "        [[ 0.2110, -0.1459],\n",
       "         [ 0.2110, -0.1459],\n",
       "         [ 0.2110, -0.1459]],\n",
       "\n",
       "        [[ 0.2674, -0.0408],\n",
       "         [ 0.2674, -0.0408],\n",
       "         [ 0.2674, -0.0408]],\n",
       "\n",
       "        [[ 0.3151,  0.0707],\n",
       "         [ 0.3151,  0.0707],\n",
       "         [ 0.3151,  0.0707]],\n",
       "\n",
       "        [[ 0.3262,  0.1571],\n",
       "         [ 0.3262,  0.1571],\n",
       "         [ 0.3262,  0.1571]],\n",
       "\n",
       "        [[ 0.3051,  0.1798],\n",
       "         [ 0.3051,  0.1798],\n",
       "         [ 0.3051,  0.1798]],\n",
       "\n",
       "        [[ 0.2326,  0.0655],\n",
       "         [ 0.2326,  0.0655],\n",
       "         [ 0.2326,  0.0655]],\n",
       "\n",
       "        [[ 0.1769, -0.0340],\n",
       "         [ 0.1769, -0.0340],\n",
       "         [ 0.1769, -0.0340]]], device='cuda:0', grad_fn=<SliceBackward0>)"
      ]
     },
     "execution_count": 251,
     "metadata": {},
     "output_type": "execute_result"
    }
   ],
   "source": [
    "out_actions"
   ]
  },
  {
   "cell_type": "code",
   "execution_count": 248,
   "metadata": {},
   "outputs": [
    {
     "data": {
      "text/plain": [
       "tensor([[1.0000],\n",
       "        [1.0000],\n",
       "        [1.0000]], device='cuda:0', grad_fn=<SelectBackward0>)"
      ]
     },
     "execution_count": 248,
     "metadata": {},
     "output_type": "execute_result"
    }
   ],
   "source": [
    "out_observations[-1]"
   ]
  },
  {
   "cell_type": "code",
   "execution_count": 233,
   "metadata": {},
   "outputs": [
    {
     "data": {
      "text/plain": [
       "tensor([[1.0000],\n",
       "        [1.0000],\n",
       "        [1.0000]], device='cuda:0', grad_fn=<SelectBackward0>)"
      ]
     },
     "execution_count": 233,
     "metadata": {},
     "output_type": "execute_result"
    }
   ],
   "source": [
    "out_observations[-1]"
   ]
  },
  {
   "cell_type": "code",
   "execution_count": 225,
   "metadata": {},
   "outputs": [
    {
     "data": {
      "text/plain": [
       "tensor(0.0104, device='cuda:0', grad_fn=<MeanBackward0>)"
      ]
     },
     "execution_count": 225,
     "metadata": {},
     "output_type": "execute_result"
    }
   ],
   "source": [
    "calcMSE(out_observations[-1], out_goals)"
   ]
  },
  {
   "cell_type": "code",
   "execution_count": null,
   "metadata": {},
   "outputs": [],
   "source": [
    "out_observations[-1]"
   ]
  },
  {
   "cell_type": "code",
   "execution_count": null,
   "metadata": {},
   "outputs": [],
   "source": [
    "outputs = build_seqence(observations=observations[:1], actions=actions[:0], goals=achieved_goals[:1], actor=actor, predictor=predictor, projector=projector, seq_len=seq_len)\n",
    "out_actions, out_observations, out_goals = split_pred_output(outputs, action_dim=act_dim, observation_dim=obs_dim, goal_dim=goal_dim)\n"
   ]
  },
  {
   "cell_type": "code",
   "execution_count": null,
   "metadata": {},
   "outputs": [],
   "source": [
    "out_observations[-1]"
   ]
  },
  {
   "cell_type": "code",
   "execution_count": null,
   "metadata": {},
   "outputs": [],
   "source": [
    "out_goals"
   ]
  },
  {
   "cell_type": "code",
   "execution_count": null,
   "metadata": {},
   "outputs": [],
   "source": [
    "out_observations"
   ]
  },
  {
   "cell_type": "code",
   "execution_count": null,
   "metadata": {},
   "outputs": [],
   "source": []
  }
 ],
 "metadata": {
  "kernelspec": {
   "display_name": "Python 3.10.6 ('ac')",
   "language": "python",
   "name": "python3"
  },
  "language_info": {
   "codemirror_mode": {
    "name": "ipython",
    "version": 3
   },
   "file_extension": ".py",
   "mimetype": "text/x-python",
   "name": "python",
   "nbconvert_exporter": "python",
   "pygments_lexer": "ipython3",
   "version": "3.10.6"
  },
  "orig_nbformat": 4,
  "vscode": {
   "interpreter": {
    "hash": "c27e8fa6375f4d15af5a5f5541d8bb88746b588c9fe1102cfd8de011d36c10c2"
   }
  }
 },
 "nbformat": 4,
 "nbformat_minor": 2
}
