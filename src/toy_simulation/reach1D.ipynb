{
 "cells": [
  {
   "cell_type": "code",
   "execution_count": 1,
   "metadata": {},
   "outputs": [
    {
     "name": "stderr",
     "output_type": "stream",
     "text": [
      "/home/hendrik/miniconda3/envs/ac/lib/python3.10/site-packages/gym/spaces/box.py:73: UserWarning: \u001b[33mWARN: Box bound precision lowered by casting to float32\u001b[0m\n",
      "  logger.warn(\n"
     ]
    }
   ],
   "source": [
    "import gym\n",
    "import numpy as np\n",
    "from active_critic.utils.gym_utils import make_dummy_vec_env"
   ]
  },
  {
   "cell_type": "code",
   "execution_count": 2,
   "metadata": {},
   "outputs": [],
   "source": [
    "class Reach1D(gym.Env):\n",
    "    def __init__(self) -> None:\n",
    "        super().__init__()\n",
    "        self.action_space = gym.spaces.Box(np.array([-1]), np.array([1]))\n",
    "        self.observation_space = gym.spaces.Box(np.array([-1]), np.array([1]))\n",
    "        self._reset()\n",
    "\n",
    "    def _reset(self):\n",
    "        self.position = np.array([-0.5])\n",
    "        self.goal = np.array([0.5])\n",
    "\n",
    "    def step(self, action):\n",
    "        action = np.minimum(action, self.action_space.high)\n",
    "        action = np.maximum(action, self.action_space.low)\n",
    "        self.position = self.position + 0.1 * action\n",
    "        self.position = np.minimum(self.position, self.observation_space.high)\n",
    "        self.position = np.maximum(self.position, self.observation_space.low)\n",
    "\n",
    "        reward = 1 - (self.position - self.goal)**2\n",
    "        success = reward > 0.9\n",
    "        return self.position, reward, success, {}\n",
    "\n",
    "    def reset(self):\n",
    "        self._reset()\n",
    "        return self.position\n"
   ]
  },
  {
   "cell_type": "code",
   "execution_count": 3,
   "metadata": {},
   "outputs": [
    {
     "name": "stderr",
     "output_type": "stream",
     "text": [
      "/home/hendrik/miniconda3/envs/ac/lib/python3.10/site-packages/gym/spaces/box.py:73: UserWarning: \u001b[33mWARN: Box bound precision lowered by casting to float32\u001b[0m\n",
      "  logger.warn(\n"
     ]
    }
   ],
   "source": [
    "r1de = Reach1D()"
   ]
  },
  {
   "cell_type": "code",
   "execution_count": 4,
   "metadata": {},
   "outputs": [],
   "source": [
    "dr1d, _ = make_dummy_vec_env('test', seq_len=20, env=r1de)"
   ]
  },
  {
   "cell_type": "code",
   "execution_count": 5,
   "metadata": {},
   "outputs": [
    {
     "data": {
      "text/plain": [
       "array([[-0.5]], dtype=float32)"
      ]
     },
     "execution_count": 5,
     "metadata": {},
     "output_type": "execute_result"
    }
   ],
   "source": [
    "dr1d.reset()"
   ]
  },
  {
   "cell_type": "code",
   "execution_count": 6,
   "metadata": {},
   "outputs": [
    {
     "name": "stdout",
     "output_type": "stream",
     "text": [
      "(array([[-0.45]], dtype=float32), array([0.0975], dtype=float32), array([False]), [{}])\n",
      "(array([[-0.4]], dtype=float32), array([0.19], dtype=float32), array([False]), [{}])\n",
      "(array([[-0.35]], dtype=float32), array([0.2775], dtype=float32), array([False]), [{}])\n",
      "(array([[-0.3]], dtype=float32), array([0.36], dtype=float32), array([False]), [{}])\n",
      "(array([[-0.25]], dtype=float32), array([0.4375], dtype=float32), array([False]), [{}])\n",
      "(array([[-0.19999999]], dtype=float32), array([0.51], dtype=float32), array([False]), [{}])\n",
      "(array([[-0.14999999]], dtype=float32), array([0.5775], dtype=float32), array([False]), [{}])\n",
      "(array([[-0.09999999]], dtype=float32), array([0.64], dtype=float32), array([False]), [{}])\n",
      "(array([[-0.04999999]], dtype=float32), array([0.6975], dtype=float32), array([False]), [{}])\n",
      "(array([[7.450581e-09]], dtype=float32), array([0.75], dtype=float32), array([False]), [{}])\n",
      "(array([[0.05000001]], dtype=float32), array([0.7975], dtype=float32), array([False]), [{}])\n",
      "(array([[0.10000001]], dtype=float32), array([0.84000003], dtype=float32), array([False]), [{}])\n",
      "(array([[0.15]], dtype=float32), array([0.8775], dtype=float32), array([False]), [{}])\n",
      "(array([[-0.5]], dtype=float32), array([0.91], dtype=float32), array([ True]), [{'rollout': {'obs': array([[-5.00000000e-01],\n",
      "       [-4.49999999e-01],\n",
      "       [-3.99999999e-01],\n",
      "       [-3.49999998e-01],\n",
      "       [-2.99999997e-01],\n",
      "       [-2.49999996e-01],\n",
      "       [-1.99999996e-01],\n",
      "       [-1.49999995e-01],\n",
      "       [-9.99999940e-02],\n",
      "       [-4.99999933e-02],\n",
      "       [ 7.45058060e-09],\n",
      "       [ 5.00000082e-02],\n",
      "       [ 1.00000009e-01],\n",
      "       [ 1.50000010e-01],\n",
      "       [ 2.00000010e-01]]), 'rews': array([[0.0975    ],\n",
      "       [0.19      ],\n",
      "       [0.2775    ],\n",
      "       [0.36      ],\n",
      "       [0.43750001],\n",
      "       [0.51000001],\n",
      "       [0.57750001],\n",
      "       [0.64000001],\n",
      "       [0.69750001],\n",
      "       [0.75000001],\n",
      "       [0.79750001],\n",
      "       [0.84000001],\n",
      "       [0.87750001],\n",
      "       [0.91000001]])}, 'terminal_observation': array([0.20000001])}])\n",
      "(array([[-0.45]], dtype=float32), array([0.0975], dtype=float32), array([False]), [{}])\n",
      "(array([[-0.4]], dtype=float32), array([0.19], dtype=float32), array([False]), [{}])\n",
      "(array([[-0.35]], dtype=float32), array([0.2775], dtype=float32), array([False]), [{}])\n",
      "(array([[-0.3]], dtype=float32), array([0.36], dtype=float32), array([False]), [{}])\n",
      "(array([[-0.25]], dtype=float32), array([0.4375], dtype=float32), array([False]), [{}])\n",
      "(array([[-0.19999999]], dtype=float32), array([0.51], dtype=float32), array([False]), [{}])\n"
     ]
    }
   ],
   "source": [
    "for i in range(20):\n",
    "    print(dr1d.step(np.array([0.5])))"
   ]
  },
  {
   "cell_type": "code",
   "execution_count": null,
   "metadata": {},
   "outputs": [],
   "source": []
  },
  {
   "cell_type": "code",
   "execution_count": null,
   "metadata": {},
   "outputs": [],
   "source": []
  }
 ],
 "metadata": {
  "kernelspec": {
   "display_name": "Python 3.10.6 ('ac')",
   "language": "python",
   "name": "python3"
  },
  "language_info": {
   "codemirror_mode": {
    "name": "ipython",
    "version": 3
   },
   "file_extension": ".py",
   "mimetype": "text/x-python",
   "name": "python",
   "nbconvert_exporter": "python",
   "pygments_lexer": "ipython3",
   "version": "3.10.6"
  },
  "orig_nbformat": 4,
  "vscode": {
   "interpreter": {
    "hash": "55d3bc2b8c4272bbea65d85e1c1c189fa11db70743df9511061edc4d7dc4f3cd"
   }
  }
 },
 "nbformat": 4,
 "nbformat_minor": 2
}
